{
  "nbformat": 4,
  "nbformat_minor": 0,
  "metadata": {
    "colab": {
      "name": "LoanData_DL_Assignment.ipynb",
      "provenance": [],
      "collapsed_sections": [],
      "authorship_tag": "ABX9TyMeAtj//4cqsFHadq8ZqqYb",
      "include_colab_link": true
    },
    "kernelspec": {
      "name": "python3",
      "display_name": "Python 3"
    }
  },
  "cells": [
    {
      "cell_type": "markdown",
      "metadata": {
        "id": "view-in-github",
        "colab_type": "text"
      },
      "source": [
        "<a href=\"https://colab.research.google.com/github/jgamidi/Complete-Python-3-Bootcamp/blob/master/LoanData_DL_Assignment.ipynb\" target=\"_parent\"><img src=\"https://colab.research.google.com/assets/colab-badge.svg\" alt=\"Open In Colab\"/></a>"
      ]
    },
    {
      "cell_type": "code",
      "metadata": {
        "id": "qIfzR5KR4fCk"
      },
      "source": [
        "import pandas as pd\r\n",
        "import seaborn as sns\r\n",
        "import numpy as np\r\n",
        "import tensorflow as tf\r\n",
        "import matplotlib.pyplot as plt"
      ],
      "execution_count": null,
      "outputs": []
    },
    {
      "cell_type": "markdown",
      "metadata": {
        "id": "W1bCpXqcDVg8"
      },
      "source": [
        "Dataset columns and definition:\r\n",
        "\r\n",
        " \r\n",
        "\r\n",
        "credit.policy: 1 if the customer meets the credit underwriting criteria of LendingClub.com, and 0 otherwise.\r\n",
        "\r\n",
        "purpose: The purpose of the loan (takes values \"credit_card\", \"debt_consolidation\", \"educational\", \"major_purchase\", \"small_business\", and \"all_other\").\r\n",
        "\r\n",
        "int.rate: The interest rate of the loan, as a proportion (a rate of 11% would be stored as 0.11). Borrowers judged by LendingClub.com to be more risky are assigned higher interest rates.\r\n",
        "\r\n",
        "installment: The monthly installments owed by the borrower if the loan is funded.\r\n",
        "\r\n",
        "log.annual.inc: The natural log of the self-reported annual income of the borrower.\r\n",
        "\r\n",
        "dti: The debt-to-income ratio of the borrower (amount of debt divided by annual income).\r\n",
        "\r\n",
        "fico: The FICO credit score of the borrower.\r\n",
        "\r\n",
        "days.with.cr.line: The number of days the borrower has had a credit line.\r\n",
        "\r\n",
        "revol.bal: The borrower's revolving balance (amount unpaid at the end of the credit card billing cycle).\r\n",
        "\r\n",
        "revol.util: The borrower's revolving line utilization rate (the amount of the credit line used relative to total credit available).\r\n",
        "\r\n",
        "inq.last.6mths: The borrower's number of inquiries by creditors in the last 6 months.\r\n",
        "\r\n",
        "delinq.2yrs: The number of times the borrower had been 30+ days past due on a payment in the past 2 years.\r\n",
        "\r\n",
        "pub.rec: The borrower's number of derogatory public records (bankruptcy filings, tax liens, or judgments).\r\n",
        "\r\n",
        " \r\n",
        "\r\n",
        "Steps to perform:\r\n",
        "\r\n",
        "Perform exploratory data analysis and feature engineering and then apply feature engineering. Follow up with a deep learning model to predict whether or not the loan will be default using the historical data.\r\n",
        "\r\n",
        " \r\n",
        "\r\n",
        "Tasks:\r\n",
        "\r\n",
        "1.     Feature Transformation\r\n",
        "\r\n",
        "Transform categorical values into numerical values (discrete)\r\n",
        "\r\n",
        "2.     Exploratory data analysis of different factors of the dataset.\r\n",
        "\r\n",
        "3.     Additional Feature Engineering\r\n",
        "\r\n",
        "You will check the correlation between features and will drop those features which have a strong correlation\r\n",
        "\r\n",
        "This will help reduce the number of features and will leave you with the most relevant features\r\n",
        "\r\n",
        "4.     Modeling\r\n",
        "\r\n",
        "After applying EDA and feature engineering, you are now ready to build the predictive models\r\n",
        "\r\n",
        "In this part, you will create a deep learning model using Keras with Tensorflow backend"
      ]
    },
    {
      "cell_type": "code",
      "metadata": {
        "id": "iiAUjU3t5dS1"
      },
      "source": [
        "loanData = pd.read_csv('loan_data.csv')"
      ],
      "execution_count": null,
      "outputs": []
    },
    {
      "cell_type": "code",
      "metadata": {
        "colab": {
          "base_uri": "https://localhost:8080/"
        },
        "id": "Q3vTW76m5dka",
        "outputId": "c18d8e66-4425-4c84-acad-33eebfd725e9"
      },
      "source": [
        "loanData.info()"
      ],
      "execution_count": null,
      "outputs": [
        {
          "output_type": "stream",
          "text": [
            "<class 'pandas.core.frame.DataFrame'>\n",
            "RangeIndex: 9578 entries, 0 to 9577\n",
            "Data columns (total 14 columns):\n",
            " #   Column             Non-Null Count  Dtype  \n",
            "---  ------             --------------  -----  \n",
            " 0   credit.policy      9578 non-null   int64  \n",
            " 1   purpose            9578 non-null   object \n",
            " 2   int.rate           9578 non-null   float64\n",
            " 3   installment        9578 non-null   float64\n",
            " 4   log.annual.inc     9578 non-null   float64\n",
            " 5   dti                9578 non-null   float64\n",
            " 6   fico               9578 non-null   int64  \n",
            " 7   days.with.cr.line  9578 non-null   float64\n",
            " 8   revol.bal          9578 non-null   int64  \n",
            " 9   revol.util         9578 non-null   float64\n",
            " 10  inq.last.6mths     9578 non-null   int64  \n",
            " 11  delinq.2yrs        9578 non-null   int64  \n",
            " 12  pub.rec            9578 non-null   int64  \n",
            " 13  not.fully.paid     9578 non-null   int64  \n",
            "dtypes: float64(6), int64(7), object(1)\n",
            "memory usage: 1.0+ MB\n"
          ],
          "name": "stdout"
        }
      ]
    },
    {
      "cell_type": "markdown",
      "metadata": {
        "id": "2NO7VL3cCkEn"
      },
      "source": [
        "No missing values in the data."
      ]
    },
    {
      "cell_type": "code",
      "metadata": {
        "colab": {
          "base_uri": "https://localhost:8080/",
          "height": 224
        },
        "id": "TEyVGBIBCS1h",
        "outputId": "e76636ef-5742-4be1-ea66-41034a6b0493"
      },
      "source": [
        "loanData.head()"
      ],
      "execution_count": null,
      "outputs": [
        {
          "output_type": "execute_result",
          "data": {
            "text/html": [
              "<div>\n",
              "<style scoped>\n",
              "    .dataframe tbody tr th:only-of-type {\n",
              "        vertical-align: middle;\n",
              "    }\n",
              "\n",
              "    .dataframe tbody tr th {\n",
              "        vertical-align: top;\n",
              "    }\n",
              "\n",
              "    .dataframe thead th {\n",
              "        text-align: right;\n",
              "    }\n",
              "</style>\n",
              "<table border=\"1\" class=\"dataframe\">\n",
              "  <thead>\n",
              "    <tr style=\"text-align: right;\">\n",
              "      <th></th>\n",
              "      <th>credit.policy</th>\n",
              "      <th>purpose</th>\n",
              "      <th>int.rate</th>\n",
              "      <th>installment</th>\n",
              "      <th>log.annual.inc</th>\n",
              "      <th>dti</th>\n",
              "      <th>fico</th>\n",
              "      <th>days.with.cr.line</th>\n",
              "      <th>revol.bal</th>\n",
              "      <th>revol.util</th>\n",
              "      <th>inq.last.6mths</th>\n",
              "      <th>delinq.2yrs</th>\n",
              "      <th>pub.rec</th>\n",
              "      <th>not.fully.paid</th>\n",
              "    </tr>\n",
              "  </thead>\n",
              "  <tbody>\n",
              "    <tr>\n",
              "      <th>0</th>\n",
              "      <td>1</td>\n",
              "      <td>debt_consolidation</td>\n",
              "      <td>0.1189</td>\n",
              "      <td>829.10</td>\n",
              "      <td>11.350407</td>\n",
              "      <td>19.48</td>\n",
              "      <td>737</td>\n",
              "      <td>5639.958333</td>\n",
              "      <td>28854</td>\n",
              "      <td>52.1</td>\n",
              "      <td>0</td>\n",
              "      <td>0</td>\n",
              "      <td>0</td>\n",
              "      <td>0</td>\n",
              "    </tr>\n",
              "    <tr>\n",
              "      <th>1</th>\n",
              "      <td>1</td>\n",
              "      <td>credit_card</td>\n",
              "      <td>0.1071</td>\n",
              "      <td>228.22</td>\n",
              "      <td>11.082143</td>\n",
              "      <td>14.29</td>\n",
              "      <td>707</td>\n",
              "      <td>2760.000000</td>\n",
              "      <td>33623</td>\n",
              "      <td>76.7</td>\n",
              "      <td>0</td>\n",
              "      <td>0</td>\n",
              "      <td>0</td>\n",
              "      <td>0</td>\n",
              "    </tr>\n",
              "    <tr>\n",
              "      <th>2</th>\n",
              "      <td>1</td>\n",
              "      <td>debt_consolidation</td>\n",
              "      <td>0.1357</td>\n",
              "      <td>366.86</td>\n",
              "      <td>10.373491</td>\n",
              "      <td>11.63</td>\n",
              "      <td>682</td>\n",
              "      <td>4710.000000</td>\n",
              "      <td>3511</td>\n",
              "      <td>25.6</td>\n",
              "      <td>1</td>\n",
              "      <td>0</td>\n",
              "      <td>0</td>\n",
              "      <td>0</td>\n",
              "    </tr>\n",
              "    <tr>\n",
              "      <th>3</th>\n",
              "      <td>1</td>\n",
              "      <td>debt_consolidation</td>\n",
              "      <td>0.1008</td>\n",
              "      <td>162.34</td>\n",
              "      <td>11.350407</td>\n",
              "      <td>8.10</td>\n",
              "      <td>712</td>\n",
              "      <td>2699.958333</td>\n",
              "      <td>33667</td>\n",
              "      <td>73.2</td>\n",
              "      <td>1</td>\n",
              "      <td>0</td>\n",
              "      <td>0</td>\n",
              "      <td>0</td>\n",
              "    </tr>\n",
              "    <tr>\n",
              "      <th>4</th>\n",
              "      <td>1</td>\n",
              "      <td>credit_card</td>\n",
              "      <td>0.1426</td>\n",
              "      <td>102.92</td>\n",
              "      <td>11.299732</td>\n",
              "      <td>14.97</td>\n",
              "      <td>667</td>\n",
              "      <td>4066.000000</td>\n",
              "      <td>4740</td>\n",
              "      <td>39.5</td>\n",
              "      <td>0</td>\n",
              "      <td>1</td>\n",
              "      <td>0</td>\n",
              "      <td>0</td>\n",
              "    </tr>\n",
              "  </tbody>\n",
              "</table>\n",
              "</div>"
            ],
            "text/plain": [
              "   credit.policy             purpose  ...  pub.rec  not.fully.paid\n",
              "0              1  debt_consolidation  ...        0               0\n",
              "1              1         credit_card  ...        0               0\n",
              "2              1  debt_consolidation  ...        0               0\n",
              "3              1  debt_consolidation  ...        0               0\n",
              "4              1         credit_card  ...        0               0\n",
              "\n",
              "[5 rows x 14 columns]"
            ]
          },
          "metadata": {
            "tags": []
          },
          "execution_count": 4
        }
      ]
    },
    {
      "cell_type": "code",
      "metadata": {
        "colab": {
          "base_uri": "https://localhost:8080/"
        },
        "id": "GAaQ5w7nCS6h",
        "outputId": "e954f27d-6336-4ecf-e5d1-76d8ce19d755"
      },
      "source": [
        "loanData.purpose.value_counts()"
      ],
      "execution_count": null,
      "outputs": [
        {
          "output_type": "execute_result",
          "data": {
            "text/plain": [
              "debt_consolidation    3957\n",
              "all_other             2331\n",
              "credit_card           1262\n",
              "home_improvement       629\n",
              "small_business         619\n",
              "major_purchase         437\n",
              "educational            343\n",
              "Name: purpose, dtype: int64"
            ]
          },
          "metadata": {
            "tags": []
          },
          "execution_count": 5
        }
      ]
    },
    {
      "cell_type": "code",
      "metadata": {
        "colab": {
          "base_uri": "https://localhost:8080/",
          "height": 419
        },
        "id": "HSHdSFJME_Oq",
        "outputId": "4580930b-e266-474c-b0f6-340009111db2"
      },
      "source": [
        "(loanData[['purpose']])"
      ],
      "execution_count": null,
      "outputs": [
        {
          "output_type": "execute_result",
          "data": {
            "text/html": [
              "<div>\n",
              "<style scoped>\n",
              "    .dataframe tbody tr th:only-of-type {\n",
              "        vertical-align: middle;\n",
              "    }\n",
              "\n",
              "    .dataframe tbody tr th {\n",
              "        vertical-align: top;\n",
              "    }\n",
              "\n",
              "    .dataframe thead th {\n",
              "        text-align: right;\n",
              "    }\n",
              "</style>\n",
              "<table border=\"1\" class=\"dataframe\">\n",
              "  <thead>\n",
              "    <tr style=\"text-align: right;\">\n",
              "      <th></th>\n",
              "      <th>purpose</th>\n",
              "    </tr>\n",
              "  </thead>\n",
              "  <tbody>\n",
              "    <tr>\n",
              "      <th>0</th>\n",
              "      <td>debt_consolidation</td>\n",
              "    </tr>\n",
              "    <tr>\n",
              "      <th>1</th>\n",
              "      <td>credit_card</td>\n",
              "    </tr>\n",
              "    <tr>\n",
              "      <th>2</th>\n",
              "      <td>debt_consolidation</td>\n",
              "    </tr>\n",
              "    <tr>\n",
              "      <th>3</th>\n",
              "      <td>debt_consolidation</td>\n",
              "    </tr>\n",
              "    <tr>\n",
              "      <th>4</th>\n",
              "      <td>credit_card</td>\n",
              "    </tr>\n",
              "    <tr>\n",
              "      <th>...</th>\n",
              "      <td>...</td>\n",
              "    </tr>\n",
              "    <tr>\n",
              "      <th>9573</th>\n",
              "      <td>all_other</td>\n",
              "    </tr>\n",
              "    <tr>\n",
              "      <th>9574</th>\n",
              "      <td>all_other</td>\n",
              "    </tr>\n",
              "    <tr>\n",
              "      <th>9575</th>\n",
              "      <td>debt_consolidation</td>\n",
              "    </tr>\n",
              "    <tr>\n",
              "      <th>9576</th>\n",
              "      <td>home_improvement</td>\n",
              "    </tr>\n",
              "    <tr>\n",
              "      <th>9577</th>\n",
              "      <td>debt_consolidation</td>\n",
              "    </tr>\n",
              "  </tbody>\n",
              "</table>\n",
              "<p>9578 rows × 1 columns</p>\n",
              "</div>"
            ],
            "text/plain": [
              "                 purpose\n",
              "0     debt_consolidation\n",
              "1            credit_card\n",
              "2     debt_consolidation\n",
              "3     debt_consolidation\n",
              "4            credit_card\n",
              "...                  ...\n",
              "9573           all_other\n",
              "9574           all_other\n",
              "9575  debt_consolidation\n",
              "9576    home_improvement\n",
              "9577  debt_consolidation\n",
              "\n",
              "[9578 rows x 1 columns]"
            ]
          },
          "metadata": {
            "tags": []
          },
          "execution_count": 6
        }
      ]
    },
    {
      "cell_type": "code",
      "metadata": {
        "colab": {
          "base_uri": "https://localhost:8080/",
          "height": 467
        },
        "id": "BFNg82DRn5sK",
        "outputId": "fbba269a-66ba-48ca-f413-c5a67fc524d7"
      },
      "source": [
        "plt.figure(figsize=(12,6))\r\n",
        "sns.heatmap(loanData.corr(),annot=True)"
      ],
      "execution_count": null,
      "outputs": [
        {
          "output_type": "execute_result",
          "data": {
            "text/plain": [
              "<matplotlib.axes._subplots.AxesSubplot at 0x7fbafc453358>"
            ]
          },
          "metadata": {
            "tags": []
          },
          "execution_count": 7
        },
        {
          "output_type": "display_data",
          "data": {
            "image/png": "[encoded data removed]",
            "text/plain": [
              "<Figure size 864x432 with 2 Axes>"
            ]
          },
          "metadata": {
            "tags": [],
            "needs_background": "light"
          }
        }
      ]
    },
    {
      "cell_type": "markdown",
      "metadata": {
        "id": "eG2w0b3lp73U"
      },
      "source": [
        "*There is some multi-collinearlity between int.rate and fico, but its not very high, so not droppping any features based on collinearity*"
      ]
    },
    {
      "cell_type": "code",
      "metadata": {
        "colab": {
          "base_uri": "https://localhost:8080/",
          "height": 409
        },
        "id": "JvD5mxB68JVE",
        "outputId": "e135e66f-437f-465b-eb97-ac1d40c08733"
      },
      "source": [
        "#sns.barplot\r\n",
        "\r\n",
        "sns.set()\r\n",
        "loanData[['purpose','not.fully.paid']].set_index('purpose').T.plot(kind='bar', stacked=True)"
      ],
      "execution_count": null,
      "outputs": [
        {
          "output_type": "execute_result",
          "data": {
            "text/plain": [
              "<matplotlib.axes._subplots.AxesSubplot at 0x7fbac20db780>"
            ]
          },
          "metadata": {
            "tags": []
          },
          "execution_count": 8
        },
        {
          "output_type": "error",
          "ename": "ValueError",
          "evalue": "ignored",
          "traceback": [
            "\u001b[0;31m---------------------------------------------------------------------------\u001b[0m",
            "\u001b[0;31mValueError\u001b[0m                                Traceback (most recent call last)",
            "\u001b[0;32m/usr/local/lib/python3.6/dist-packages/IPython/core/formatters.py\u001b[0m in \u001b[0;36m__call__\u001b[0;34m(self, obj)\u001b[0m\n\u001b[1;32m    332\u001b[0m                 \u001b[0;32mpass\u001b[0m\u001b[0;34m\u001b[0m\u001b[0;34m\u001b[0m\u001b[0m\n\u001b[1;32m    333\u001b[0m             \u001b[0;32melse\u001b[0m\u001b[0;34m:\u001b[0m\u001b[0;34m\u001b[0m\u001b[0;34m\u001b[0m\u001b[0m\n\u001b[0;32m--> 334\u001b[0;31m                 \u001b[0;32mreturn\u001b[0m \u001b[0mprinter\u001b[0m\u001b[0;34m(\u001b[0m\u001b[0mobj\u001b[0m\u001b[0;34m)\u001b[0m\u001b[0;34m\u001b[0m\u001b[0;34m\u001b[0m\u001b[0m\n\u001b[0m\u001b[1;32m    335\u001b[0m             \u001b[0;31m# Finally look for special method names\u001b[0m\u001b[0;34m\u001b[0m\u001b[0;34m\u001b[0m\u001b[0;34m\u001b[0m\u001b[0m\n\u001b[1;32m    336\u001b[0m             \u001b[0mmethod\u001b[0m \u001b[0;34m=\u001b[0m \u001b[0mget_real_method\u001b[0m\u001b[0;34m(\u001b[0m\u001b[0mobj\u001b[0m\u001b[0;34m,\u001b[0m \u001b[0mself\u001b[0m\u001b[0;34m.\u001b[0m\u001b[0mprint_method\u001b[0m\u001b[0;34m)\u001b[0m\u001b[0;34m\u001b[0m\u001b[0;34m\u001b[0m\u001b[0m\n",
            "\u001b[0;32m/usr/local/lib/python3.6/dist-packages/IPython/core/pylabtools.py\u001b[0m in \u001b[0;36m<lambda>\u001b[0;34m(fig)\u001b[0m\n\u001b[1;32m    239\u001b[0m \u001b[0;34m\u001b[0m\u001b[0m\n\u001b[1;32m    240\u001b[0m     \u001b[0;32mif\u001b[0m \u001b[0;34m'png'\u001b[0m \u001b[0;32min\u001b[0m \u001b[0mformats\u001b[0m\u001b[0;34m:\u001b[0m\u001b[0;34m\u001b[0m\u001b[0;34m\u001b[0m\u001b[0m\n\u001b[0;32m--> 241\u001b[0;31m         \u001b[0mpng_formatter\u001b[0m\u001b[0;34m.\u001b[0m\u001b[0mfor_type\u001b[0m\u001b[0;34m(\u001b[0m\u001b[0mFigure\u001b[0m\u001b[0;34m,\u001b[0m \u001b[0;32mlambda\u001b[0m \u001b[0mfig\u001b[0m\u001b[0;34m:\u001b[0m \u001b[0mprint_figure\u001b[0m\u001b[0;34m(\u001b[0m\u001b[0mfig\u001b[0m\u001b[0;34m,\u001b[0m \u001b[0;34m'png'\u001b[0m\u001b[0;34m,\u001b[0m \u001b[0;34m**\u001b[0m\u001b[0mkwargs\u001b[0m\u001b[0;34m)\u001b[0m\u001b[0;34m)\u001b[0m\u001b[0;34m\u001b[0m\u001b[0;34m\u001b[0m\u001b[0m\n\u001b[0m\u001b[1;32m    242\u001b[0m     \u001b[0;32mif\u001b[0m \u001b[0;34m'retina'\u001b[0m \u001b[0;32min\u001b[0m \u001b[0mformats\u001b[0m \u001b[0;32mor\u001b[0m \u001b[0;34m'png2x'\u001b[0m \u001b[0;32min\u001b[0m \u001b[0mformats\u001b[0m\u001b[0;34m:\u001b[0m\u001b[0;34m\u001b[0m\u001b[0;34m\u001b[0m\u001b[0m\n\u001b[1;32m    243\u001b[0m         \u001b[0mpng_formatter\u001b[0m\u001b[0;34m.\u001b[0m\u001b[0mfor_type\u001b[0m\u001b[0;34m(\u001b[0m\u001b[0mFigure\u001b[0m\u001b[0;34m,\u001b[0m \u001b[0;32mlambda\u001b[0m \u001b[0mfig\u001b[0m\u001b[0;34m:\u001b[0m \u001b[0mretina_figure\u001b[0m\u001b[0;34m(\u001b[0m\u001b[0mfig\u001b[0m\u001b[0;34m,\u001b[0m \u001b[0;34m**\u001b[0m\u001b[0mkwargs\u001b[0m\u001b[0;34m)\u001b[0m\u001b[0;34m)\u001b[0m\u001b[0;34m\u001b[0m\u001b[0;34m\u001b[0m\u001b[0m\n",
            "\u001b[0;32m/usr/local/lib/python3.6/dist-packages/IPython/core/pylabtools.py\u001b[0m in \u001b[0;36mprint_figure\u001b[0;34m(fig, fmt, bbox_inches, **kwargs)\u001b[0m\n\u001b[1;32m    123\u001b[0m \u001b[0;34m\u001b[0m\u001b[0m\n\u001b[1;32m    124\u001b[0m     \u001b[0mbytes_io\u001b[0m \u001b[0;34m=\u001b[0m \u001b[0mBytesIO\u001b[0m\u001b[0;34m(\u001b[0m\u001b[0;34m)\u001b[0m\u001b[0;34m\u001b[0m\u001b[0;34m\u001b[0m\u001b[0m\n\u001b[0;32m--> 125\u001b[0;31m     \u001b[0mfig\u001b[0m\u001b[0;34m.\u001b[0m\u001b[0mcanvas\u001b[0m\u001b[0;34m.\u001b[0m\u001b[0mprint_figure\u001b[0m\u001b[0;34m(\u001b[0m\u001b[0mbytes_io\u001b[0m\u001b[0;34m,\u001b[0m \u001b[0;34m**\u001b[0m\u001b[0mkw\u001b[0m\u001b[0;34m)\u001b[0m\u001b[0;34m\u001b[0m\u001b[0;34m\u001b[0m\u001b[0m\n\u001b[0m\u001b[1;32m    126\u001b[0m     \u001b[0mdata\u001b[0m \u001b[0;34m=\u001b[0m \u001b[0mbytes_io\u001b[0m\u001b[0;34m.\u001b[0m\u001b[0mgetvalue\u001b[0m\u001b[0;34m(\u001b[0m\u001b[0;34m)\u001b[0m\u001b[0;34m\u001b[0m\u001b[0;34m\u001b[0m\u001b[0m\n\u001b[1;32m    127\u001b[0m     \u001b[0;32mif\u001b[0m \u001b[0mfmt\u001b[0m \u001b[0;34m==\u001b[0m \u001b[0;34m'svg'\u001b[0m\u001b[0;34m:\u001b[0m\u001b[0;34m\u001b[0m\u001b[0;34m\u001b[0m\u001b[0m\n",
            "\u001b[0;32m/usr/local/lib/python3.6/dist-packages/matplotlib/backend_bases.py\u001b[0m in \u001b[0;36mprint_figure\u001b[0;34m(self, filename, dpi, facecolor, edgecolor, orientation, format, bbox_inches, **kwargs)\u001b[0m\n\u001b[1;32m   2124\u001b[0m                     \u001b[0morientation\u001b[0m\u001b[0;34m=\u001b[0m\u001b[0morientation\u001b[0m\u001b[0;34m,\u001b[0m\u001b[0;34m\u001b[0m\u001b[0;34m\u001b[0m\u001b[0m\n\u001b[1;32m   2125\u001b[0m                     \u001b[0mbbox_inches_restore\u001b[0m\u001b[0;34m=\u001b[0m\u001b[0m_bbox_inches_restore\u001b[0m\u001b[0;34m,\u001b[0m\u001b[0;34m\u001b[0m\u001b[0;34m\u001b[0m\u001b[0m\n\u001b[0;32m-> 2126\u001b[0;31m                     **kwargs)\n\u001b[0m\u001b[1;32m   2127\u001b[0m             \u001b[0;32mfinally\u001b[0m\u001b[0;34m:\u001b[0m\u001b[0;34m\u001b[0m\u001b[0;34m\u001b[0m\u001b[0m\n\u001b[1;32m   2128\u001b[0m                 \u001b[0;32mif\u001b[0m \u001b[0mbbox_inches\u001b[0m \u001b[0;32mand\u001b[0m \u001b[0mrestore_bbox\u001b[0m\u001b[0;34m:\u001b[0m\u001b[0;34m\u001b[0m\u001b[0;34m\u001b[0m\u001b[0m\n",
            "\u001b[0;32m/usr/local/lib/python3.6/dist-packages/matplotlib/backends/backend_agg.py\u001b[0m in \u001b[0;36mprint_png\u001b[0;34m(self, filename_or_obj, metadata, pil_kwargs, *args, **kwargs)\u001b[0m\n\u001b[1;32m    512\u001b[0m         }\n\u001b[1;32m    513\u001b[0m \u001b[0;34m\u001b[0m\u001b[0m\n\u001b[0;32m--> 514\u001b[0;31m         \u001b[0mFigureCanvasAgg\u001b[0m\u001b[0;34m.\u001b[0m\u001b[0mdraw\u001b[0m\u001b[0;34m(\u001b[0m\u001b[0mself\u001b[0m\u001b[0;34m)\u001b[0m\u001b[0;34m\u001b[0m\u001b[0;34m\u001b[0m\u001b[0m\n\u001b[0m\u001b[1;32m    515\u001b[0m         \u001b[0;32mif\u001b[0m \u001b[0mpil_kwargs\u001b[0m \u001b[0;32mis\u001b[0m \u001b[0;32mnot\u001b[0m \u001b[0;32mNone\u001b[0m\u001b[0;34m:\u001b[0m\u001b[0;34m\u001b[0m\u001b[0;34m\u001b[0m\u001b[0m\n\u001b[1;32m    516\u001b[0m             \u001b[0;32mfrom\u001b[0m \u001b[0mPIL\u001b[0m \u001b[0;32mimport\u001b[0m \u001b[0mImage\u001b[0m\u001b[0;34m\u001b[0m\u001b[0;34m\u001b[0m\u001b[0m\n",
            "\u001b[0;32m/usr/local/lib/python3.6/dist-packages/matplotlib/backends/backend_agg.py\u001b[0m in \u001b[0;36mdraw\u001b[0;34m(self)\u001b[0m\n\u001b[1;32m    386\u001b[0m         \u001b[0mDraw\u001b[0m \u001b[0mthe\u001b[0m \u001b[0mfigure\u001b[0m \u001b[0musing\u001b[0m \u001b[0mthe\u001b[0m \u001b[0mrenderer\u001b[0m\u001b[0;34m.\u001b[0m\u001b[0;34m\u001b[0m\u001b[0;34m\u001b[0m\u001b[0m\n\u001b[1;32m    387\u001b[0m         \"\"\"\n\u001b[0;32m--> 388\u001b[0;31m         \u001b[0mself\u001b[0m\u001b[0;34m.\u001b[0m\u001b[0mrenderer\u001b[0m \u001b[0;34m=\u001b[0m \u001b[0mself\u001b[0m\u001b[0;34m.\u001b[0m\u001b[0mget_renderer\u001b[0m\u001b[0;34m(\u001b[0m\u001b[0mcleared\u001b[0m\u001b[0;34m=\u001b[0m\u001b[0;32mTrue\u001b[0m\u001b[0;34m)\u001b[0m\u001b[0;34m\u001b[0m\u001b[0;34m\u001b[0m\u001b[0m\n\u001b[0m\u001b[1;32m    389\u001b[0m         \u001b[0;31m# Acquire a lock on the shared font cache.\u001b[0m\u001b[0;34m\u001b[0m\u001b[0;34m\u001b[0m\u001b[0;34m\u001b[0m\u001b[0m\n\u001b[1;32m    390\u001b[0m         \u001b[0;32mwith\u001b[0m \u001b[0mRendererAgg\u001b[0m\u001b[0;34m.\u001b[0m\u001b[0mlock\u001b[0m\u001b[0;34m,\u001b[0m\u001b[0;31m \u001b[0m\u001b[0;31m\\\u001b[0m\u001b[0;34m\u001b[0m\u001b[0;34m\u001b[0m\u001b[0m\n",
            "\u001b[0;32m/usr/local/lib/python3.6/dist-packages/matplotlib/backends/backend_agg.py\u001b[0m in \u001b[0;36mget_renderer\u001b[0;34m(self, cleared)\u001b[0m\n\u001b[1;32m    402\u001b[0m                           and getattr(self, \"_lastKey\", None) == key)\n\u001b[1;32m    403\u001b[0m         \u001b[0;32mif\u001b[0m \u001b[0;32mnot\u001b[0m \u001b[0mreuse_renderer\u001b[0m\u001b[0;34m:\u001b[0m\u001b[0;34m\u001b[0m\u001b[0;34m\u001b[0m\u001b[0m\n\u001b[0;32m--> 404\u001b[0;31m             \u001b[0mself\u001b[0m\u001b[0;34m.\u001b[0m\u001b[0mrenderer\u001b[0m \u001b[0;34m=\u001b[0m \u001b[0mRendererAgg\u001b[0m\u001b[0;34m(\u001b[0m\u001b[0mw\u001b[0m\u001b[0;34m,\u001b[0m \u001b[0mh\u001b[0m\u001b[0;34m,\u001b[0m \u001b[0mself\u001b[0m\u001b[0;34m.\u001b[0m\u001b[0mfigure\u001b[0m\u001b[0;34m.\u001b[0m\u001b[0mdpi\u001b[0m\u001b[0;34m)\u001b[0m\u001b[0;34m\u001b[0m\u001b[0;34m\u001b[0m\u001b[0m\n\u001b[0m\u001b[1;32m    405\u001b[0m             \u001b[0mself\u001b[0m\u001b[0;34m.\u001b[0m\u001b[0m_lastKey\u001b[0m \u001b[0;34m=\u001b[0m \u001b[0mkey\u001b[0m\u001b[0;34m\u001b[0m\u001b[0;34m\u001b[0m\u001b[0m\n\u001b[1;32m    406\u001b[0m         \u001b[0;32melif\u001b[0m \u001b[0mcleared\u001b[0m\u001b[0;34m:\u001b[0m\u001b[0;34m\u001b[0m\u001b[0;34m\u001b[0m\u001b[0m\n",
            "\u001b[0;32m/usr/local/lib/python3.6/dist-packages/matplotlib/backends/backend_agg.py\u001b[0m in \u001b[0;36m__init__\u001b[0;34m(self, width, height, dpi)\u001b[0m\n\u001b[1;32m     90\u001b[0m         \u001b[0mself\u001b[0m\u001b[0;34m.\u001b[0m\u001b[0mwidth\u001b[0m \u001b[0;34m=\u001b[0m \u001b[0mwidth\u001b[0m\u001b[0;34m\u001b[0m\u001b[0;34m\u001b[0m\u001b[0m\n\u001b[1;32m     91\u001b[0m         \u001b[0mself\u001b[0m\u001b[0;34m.\u001b[0m\u001b[0mheight\u001b[0m \u001b[0;34m=\u001b[0m \u001b[0mheight\u001b[0m\u001b[0;34m\u001b[0m\u001b[0;34m\u001b[0m\u001b[0m\n\u001b[0;32m---> 92\u001b[0;31m         \u001b[0mself\u001b[0m\u001b[0;34m.\u001b[0m\u001b[0m_renderer\u001b[0m \u001b[0;34m=\u001b[0m \u001b[0m_RendererAgg\u001b[0m\u001b[0;34m(\u001b[0m\u001b[0mint\u001b[0m\u001b[0;34m(\u001b[0m\u001b[0mwidth\u001b[0m\u001b[0;34m)\u001b[0m\u001b[0;34m,\u001b[0m \u001b[0mint\u001b[0m\u001b[0;34m(\u001b[0m\u001b[0mheight\u001b[0m\u001b[0;34m)\u001b[0m\u001b[0;34m,\u001b[0m \u001b[0mdpi\u001b[0m\u001b[0;34m)\u001b[0m\u001b[0;34m\u001b[0m\u001b[0;34m\u001b[0m\u001b[0m\n\u001b[0m\u001b[1;32m     93\u001b[0m         \u001b[0mself\u001b[0m\u001b[0;34m.\u001b[0m\u001b[0m_filter_renderers\u001b[0m \u001b[0;34m=\u001b[0m \u001b[0;34m[\u001b[0m\u001b[0;34m]\u001b[0m\u001b[0;34m\u001b[0m\u001b[0;34m\u001b[0m\u001b[0m\n\u001b[1;32m     94\u001b[0m \u001b[0;34m\u001b[0m\u001b[0m\n",
            "\u001b[0;31mValueError\u001b[0m: Image size of 386x156950 pixels is too large. It must be less than 2^16 in each direction."
          ]
        },
        {
          "output_type": "display_data",
          "data": {
            "text/plain": [
              "<Figure size 432x288 with 1 Axes>"
            ]
          },
          "metadata": {
            "tags": []
          }
        }
      ]
    },
    {
      "cell_type": "code",
      "metadata": {
        "id": "Gr8rxN0ICS_h"
      },
      "source": [
        "from sklearn.preprocessing import OneHotEncoder"
      ],
      "execution_count": null,
      "outputs": []
    },
    {
      "cell_type": "code",
      "metadata": {
        "id": "i22mueUs5d0J"
      },
      "source": [
        "enc=OneHotEncoder(handle_unknown='ignore',sparse=False)"
      ],
      "execution_count": null,
      "outputs": []
    },
    {
      "cell_type": "code",
      "metadata": {
        "id": "c6yli9jZRrpi"
      },
      "source": [
        "purpose_enc=enc.fit_transform(loanData[['purpose']])"
      ],
      "execution_count": null,
      "outputs": []
    },
    {
      "cell_type": "code",
      "metadata": {
        "colab": {
          "base_uri": "https://localhost:8080/"
        },
        "id": "j5QmQIuLQpEA",
        "outputId": "17574eeb-232f-43f3-987c-cd3f4da64356"
      },
      "source": [
        "enc.get_feature_names(['purpose'])"
      ],
      "execution_count": null,
      "outputs": [
        {
          "output_type": "execute_result",
          "data": {
            "text/plain": [
              "array(['purpose_all_other', 'purpose_credit_card',\n",
              "       'purpose_debt_consolidation', 'purpose_educational',\n",
              "       'purpose_home_improvement', 'purpose_major_purchase',\n",
              "       'purpose_small_business'], dtype=object)"
            ]
          },
          "metadata": {
            "tags": []
          },
          "execution_count": 12
        }
      ]
    },
    {
      "cell_type": "code",
      "metadata": {
        "colab": {
          "base_uri": "https://localhost:8080/",
          "height": 439
        },
        "id": "h3K7XZZxRPPz",
        "outputId": "67fc3a73-6089-4e7a-e287-6d9e9666bfbe"
      },
      "source": [
        "pd.DataFrame(purpose_enc,columns=enc.get_feature_names(['purpose']))"
      ],
      "execution_count": null,
      "outputs": [
        {
          "output_type": "execute_result",
          "data": {
            "text/html": [
              "<div>\n",
              "<style scoped>\n",
              "    .dataframe tbody tr th:only-of-type {\n",
              "        vertical-align: middle;\n",
              "    }\n",
              "\n",
              "    .dataframe tbody tr th {\n",
              "        vertical-align: top;\n",
              "    }\n",
              "\n",
              "    .dataframe thead th {\n",
              "        text-align: right;\n",
              "    }\n",
              "</style>\n",
              "<table border=\"1\" class=\"dataframe\">\n",
              "  <thead>\n",
              "    <tr style=\"text-align: right;\">\n",
              "      <th></th>\n",
              "      <th>purpose_all_other</th>\n",
              "      <th>purpose_credit_card</th>\n",
              "      <th>purpose_debt_consolidation</th>\n",
              "      <th>purpose_educational</th>\n",
              "      <th>purpose_home_improvement</th>\n",
              "      <th>purpose_major_purchase</th>\n",
              "      <th>purpose_small_business</th>\n",
              "    </tr>\n",
              "  </thead>\n",
              "  <tbody>\n",
              "    <tr>\n",
              "      <th>0</th>\n",
              "      <td>0.0</td>\n",
              "      <td>0.0</td>\n",
              "      <td>1.0</td>\n",
              "      <td>0.0</td>\n",
              "      <td>0.0</td>\n",
              "      <td>0.0</td>\n",
              "      <td>0.0</td>\n",
              "    </tr>\n",
              "    <tr>\n",
              "      <th>1</th>\n",
              "      <td>0.0</td>\n",
              "      <td>1.0</td>\n",
              "      <td>0.0</td>\n",
              "      <td>0.0</td>\n",
              "      <td>0.0</td>\n",
              "      <td>0.0</td>\n",
              "      <td>0.0</td>\n",
              "    </tr>\n",
              "    <tr>\n",
              "      <th>2</th>\n",
              "      <td>0.0</td>\n",
              "      <td>0.0</td>\n",
              "      <td>1.0</td>\n",
              "      <td>0.0</td>\n",
              "      <td>0.0</td>\n",
              "      <td>0.0</td>\n",
              "      <td>0.0</td>\n",
              "    </tr>\n",
              "    <tr>\n",
              "      <th>3</th>\n",
              "      <td>0.0</td>\n",
              "      <td>0.0</td>\n",
              "      <td>1.0</td>\n",
              "      <td>0.0</td>\n",
              "      <td>0.0</td>\n",
              "      <td>0.0</td>\n",
              "      <td>0.0</td>\n",
              "    </tr>\n",
              "    <tr>\n",
              "      <th>4</th>\n",
              "      <td>0.0</td>\n",
              "      <td>1.0</td>\n",
              "      <td>0.0</td>\n",
              "      <td>0.0</td>\n",
              "      <td>0.0</td>\n",
              "      <td>0.0</td>\n",
              "      <td>0.0</td>\n",
              "    </tr>\n",
              "    <tr>\n",
              "      <th>...</th>\n",
              "      <td>...</td>\n",
              "      <td>...</td>\n",
              "      <td>...</td>\n",
              "      <td>...</td>\n",
              "      <td>...</td>\n",
              "      <td>...</td>\n",
              "      <td>...</td>\n",
              "    </tr>\n",
              "    <tr>\n",
              "      <th>9573</th>\n",
              "      <td>1.0</td>\n",
              "      <td>0.0</td>\n",
              "      <td>0.0</td>\n",
              "      <td>0.0</td>\n",
              "      <td>0.0</td>\n",
              "      <td>0.0</td>\n",
              "      <td>0.0</td>\n",
              "    </tr>\n",
              "    <tr>\n",
              "      <th>9574</th>\n",
              "      <td>1.0</td>\n",
              "      <td>0.0</td>\n",
              "      <td>0.0</td>\n",
              "      <td>0.0</td>\n",
              "      <td>0.0</td>\n",
              "      <td>0.0</td>\n",
              "      <td>0.0</td>\n",
              "    </tr>\n",
              "    <tr>\n",
              "      <th>9575</th>\n",
              "      <td>0.0</td>\n",
              "      <td>0.0</td>\n",
              "      <td>1.0</td>\n",
              "      <td>0.0</td>\n",
              "      <td>0.0</td>\n",
              "      <td>0.0</td>\n",
              "      <td>0.0</td>\n",
              "    </tr>\n",
              "    <tr>\n",
              "      <th>9576</th>\n",
              "      <td>0.0</td>\n",
              "      <td>0.0</td>\n",
              "      <td>0.0</td>\n",
              "      <td>0.0</td>\n",
              "      <td>1.0</td>\n",
              "      <td>0.0</td>\n",
              "      <td>0.0</td>\n",
              "    </tr>\n",
              "    <tr>\n",
              "      <th>9577</th>\n",
              "      <td>0.0</td>\n",
              "      <td>0.0</td>\n",
              "      <td>1.0</td>\n",
              "      <td>0.0</td>\n",
              "      <td>0.0</td>\n",
              "      <td>0.0</td>\n",
              "      <td>0.0</td>\n",
              "    </tr>\n",
              "  </tbody>\n",
              "</table>\n",
              "<p>9578 rows × 7 columns</p>\n",
              "</div>"
            ],
            "text/plain": [
              "      purpose_all_other  ...  purpose_small_business\n",
              "0                   0.0  ...                     0.0\n",
              "1                   0.0  ...                     0.0\n",
              "2                   0.0  ...                     0.0\n",
              "3                   0.0  ...                     0.0\n",
              "4                   0.0  ...                     0.0\n",
              "...                 ...  ...                     ...\n",
              "9573                1.0  ...                     0.0\n",
              "9574                1.0  ...                     0.0\n",
              "9575                0.0  ...                     0.0\n",
              "9576                0.0  ...                     0.0\n",
              "9577                0.0  ...                     0.0\n",
              "\n",
              "[9578 rows x 7 columns]"
            ]
          },
          "metadata": {
            "tags": []
          },
          "execution_count": 13
        }
      ]
    },
    {
      "cell_type": "code",
      "metadata": {
        "id": "ZZ_Ye-6aEuQ1"
      },
      "source": [
        "loanData=loanData.join(pd.DataFrame(purpose_enc,columns=enc.get_feature_names(['purpose'])))"
      ],
      "execution_count": null,
      "outputs": []
    },
    {
      "cell_type": "code",
      "metadata": {
        "colab": {
          "base_uri": "https://localhost:8080/",
          "height": 439
        },
        "id": "WVzC6IynEuUj",
        "outputId": "a9331bb0-2e9a-450c-b7b0-d8cd8eab0927"
      },
      "source": [
        "loanData"
      ],
      "execution_count": null,
      "outputs": [
        {
          "output_type": "execute_result",
          "data": {
            "text/html": [
              "<div>\n",
              "<style scoped>\n",
              "    .dataframe tbody tr th:only-of-type {\n",
              "        vertical-align: middle;\n",
              "    }\n",
              "\n",
              "    .dataframe tbody tr th {\n",
              "        vertical-align: top;\n",
              "    }\n",
              "\n",
              "    .dataframe thead th {\n",
              "        text-align: right;\n",
              "    }\n",
              "</style>\n",
              "<table border=\"1\" class=\"dataframe\">\n",
              "  <thead>\n",
              "    <tr style=\"text-align: right;\">\n",
              "      <th></th>\n",
              "      <th>credit.policy</th>\n",
              "      <th>purpose</th>\n",
              "      <th>int.rate</th>\n",
              "      <th>installment</th>\n",
              "      <th>log.annual.inc</th>\n",
              "      <th>dti</th>\n",
              "      <th>fico</th>\n",
              "      <th>days.with.cr.line</th>\n",
              "      <th>revol.bal</th>\n",
              "      <th>revol.util</th>\n",
              "      <th>inq.last.6mths</th>\n",
              "      <th>delinq.2yrs</th>\n",
              "      <th>pub.rec</th>\n",
              "      <th>not.fully.paid</th>\n",
              "      <th>purpose_all_other</th>\n",
              "      <th>purpose_credit_card</th>\n",
              "      <th>purpose_debt_consolidation</th>\n",
              "      <th>purpose_educational</th>\n",
              "      <th>purpose_home_improvement</th>\n",
              "      <th>purpose_major_purchase</th>\n",
              "      <th>purpose_small_business</th>\n",
              "    </tr>\n",
              "  </thead>\n",
              "  <tbody>\n",
              "    <tr>\n",
              "      <th>0</th>\n",
              "      <td>1</td>\n",
              "      <td>debt_consolidation</td>\n",
              "      <td>0.1189</td>\n",
              "      <td>829.10</td>\n",
              "      <td>11.350407</td>\n",
              "      <td>19.48</td>\n",
              "      <td>737</td>\n",
              "      <td>5639.958333</td>\n",
              "      <td>28854</td>\n",
              "      <td>52.1</td>\n",
              "      <td>0</td>\n",
              "      <td>0</td>\n",
              "      <td>0</td>\n",
              "      <td>0</td>\n",
              "      <td>0.0</td>\n",
              "      <td>0.0</td>\n",
              "      <td>1.0</td>\n",
              "      <td>0.0</td>\n",
              "      <td>0.0</td>\n",
              "      <td>0.0</td>\n",
              "      <td>0.0</td>\n",
              "    </tr>\n",
              "    <tr>\n",
              "      <th>1</th>\n",
              "      <td>1</td>\n",
              "      <td>credit_card</td>\n",
              "      <td>0.1071</td>\n",
              "      <td>228.22</td>\n",
              "      <td>11.082143</td>\n",
              "      <td>14.29</td>\n",
              "      <td>707</td>\n",
              "      <td>2760.000000</td>\n",
              "      <td>33623</td>\n",
              "      <td>76.7</td>\n",
              "      <td>0</td>\n",
              "      <td>0</td>\n",
              "      <td>0</td>\n",
              "      <td>0</td>\n",
              "      <td>0.0</td>\n",
              "      <td>1.0</td>\n",
              "      <td>0.0</td>\n",
              "      <td>0.0</td>\n",
              "      <td>0.0</td>\n",
              "      <td>0.0</td>\n",
              "      <td>0.0</td>\n",
              "    </tr>\n",
              "    <tr>\n",
              "      <th>2</th>\n",
              "      <td>1</td>\n",
              "      <td>debt_consolidation</td>\n",
              "      <td>0.1357</td>\n",
              "      <td>366.86</td>\n",
              "      <td>10.373491</td>\n",
              "      <td>11.63</td>\n",
              "      <td>682</td>\n",
              "      <td>4710.000000</td>\n",
              "      <td>3511</td>\n",
              "      <td>25.6</td>\n",
              "      <td>1</td>\n",
              "      <td>0</td>\n",
              "      <td>0</td>\n",
              "      <td>0</td>\n",
              "      <td>0.0</td>\n",
              "      <td>0.0</td>\n",
              "      <td>1.0</td>\n",
              "      <td>0.0</td>\n",
              "      <td>0.0</td>\n",
              "      <td>0.0</td>\n",
              "      <td>0.0</td>\n",
              "    </tr>\n",
              "    <tr>\n",
              "      <th>3</th>\n",
              "      <td>1</td>\n",
              "      <td>debt_consolidation</td>\n",
              "      <td>0.1008</td>\n",
              "      <td>162.34</td>\n",
              "      <td>11.350407</td>\n",
              "      <td>8.10</td>\n",
              "      <td>712</td>\n",
              "      <td>2699.958333</td>\n",
              "      <td>33667</td>\n",
              "      <td>73.2</td>\n",
              "      <td>1</td>\n",
              "      <td>0</td>\n",
              "      <td>0</td>\n",
              "      <td>0</td>\n",
              "      <td>0.0</td>\n",
              "      <td>0.0</td>\n",
              "      <td>1.0</td>\n",
              "      <td>0.0</td>\n",
              "      <td>0.0</td>\n",
              "      <td>0.0</td>\n",
              "      <td>0.0</td>\n",
              "    </tr>\n",
              "    <tr>\n",
              "      <th>4</th>\n",
              "      <td>1</td>\n",
              "      <td>credit_card</td>\n",
              "      <td>0.1426</td>\n",
              "      <td>102.92</td>\n",
              "      <td>11.299732</td>\n",
              "      <td>14.97</td>\n",
              "      <td>667</td>\n",
              "      <td>4066.000000</td>\n",
              "      <td>4740</td>\n",
              "      <td>39.5</td>\n",
              "      <td>0</td>\n",
              "      <td>1</td>\n",
              "      <td>0</td>\n",
              "      <td>0</td>\n",
              "      <td>0.0</td>\n",
              "      <td>1.0</td>\n",
              "      <td>0.0</td>\n",
              "      <td>0.0</td>\n",
              "      <td>0.0</td>\n",
              "      <td>0.0</td>\n",
              "      <td>0.0</td>\n",
              "    </tr>\n",
              "    <tr>\n",
              "      <th>...</th>\n",
              "      <td>...</td>\n",
              "      <td>...</td>\n",
              "      <td>...</td>\n",
              "      <td>...</td>\n",
              "      <td>...</td>\n",
              "      <td>...</td>\n",
              "      <td>...</td>\n",
              "      <td>...</td>\n",
              "      <td>...</td>\n",
              "      <td>...</td>\n",
              "      <td>...</td>\n",
              "      <td>...</td>\n",
              "      <td>...</td>\n",
              "      <td>...</td>\n",
              "      <td>...</td>\n",
              "      <td>...</td>\n",
              "      <td>...</td>\n",
              "      <td>...</td>\n",
              "      <td>...</td>\n",
              "      <td>...</td>\n",
              "      <td>...</td>\n",
              "    </tr>\n",
              "    <tr>\n",
              "      <th>9573</th>\n",
              "      <td>0</td>\n",
              "      <td>all_other</td>\n",
              "      <td>0.1461</td>\n",
              "      <td>344.76</td>\n",
              "      <td>12.180755</td>\n",
              "      <td>10.39</td>\n",
              "      <td>672</td>\n",
              "      <td>10474.000000</td>\n",
              "      <td>215372</td>\n",
              "      <td>82.1</td>\n",
              "      <td>2</td>\n",
              "      <td>0</td>\n",
              "      <td>0</td>\n",
              "      <td>1</td>\n",
              "      <td>1.0</td>\n",
              "      <td>0.0</td>\n",
              "      <td>0.0</td>\n",
              "      <td>0.0</td>\n",
              "      <td>0.0</td>\n",
              "      <td>0.0</td>\n",
              "      <td>0.0</td>\n",
              "    </tr>\n",
              "    <tr>\n",
              "      <th>9574</th>\n",
              "      <td>0</td>\n",
              "      <td>all_other</td>\n",
              "      <td>0.1253</td>\n",
              "      <td>257.70</td>\n",
              "      <td>11.141862</td>\n",
              "      <td>0.21</td>\n",
              "      <td>722</td>\n",
              "      <td>4380.000000</td>\n",
              "      <td>184</td>\n",
              "      <td>1.1</td>\n",
              "      <td>5</td>\n",
              "      <td>0</td>\n",
              "      <td>0</td>\n",
              "      <td>1</td>\n",
              "      <td>1.0</td>\n",
              "      <td>0.0</td>\n",
              "      <td>0.0</td>\n",
              "      <td>0.0</td>\n",
              "      <td>0.0</td>\n",
              "      <td>0.0</td>\n",
              "      <td>0.0</td>\n",
              "    </tr>\n",
              "    <tr>\n",
              "      <th>9575</th>\n",
              "      <td>0</td>\n",
              "      <td>debt_consolidation</td>\n",
              "      <td>0.1071</td>\n",
              "      <td>97.81</td>\n",
              "      <td>10.596635</td>\n",
              "      <td>13.09</td>\n",
              "      <td>687</td>\n",
              "      <td>3450.041667</td>\n",
              "      <td>10036</td>\n",
              "      <td>82.9</td>\n",
              "      <td>8</td>\n",
              "      <td>0</td>\n",
              "      <td>0</td>\n",
              "      <td>1</td>\n",
              "      <td>0.0</td>\n",
              "      <td>0.0</td>\n",
              "      <td>1.0</td>\n",
              "      <td>0.0</td>\n",
              "      <td>0.0</td>\n",
              "      <td>0.0</td>\n",
              "      <td>0.0</td>\n",
              "    </tr>\n",
              "    <tr>\n",
              "      <th>9576</th>\n",
              "      <td>0</td>\n",
              "      <td>home_improvement</td>\n",
              "      <td>0.1600</td>\n",
              "      <td>351.58</td>\n",
              "      <td>10.819778</td>\n",
              "      <td>19.18</td>\n",
              "      <td>692</td>\n",
              "      <td>1800.000000</td>\n",
              "      <td>0</td>\n",
              "      <td>3.2</td>\n",
              "      <td>5</td>\n",
              "      <td>0</td>\n",
              "      <td>0</td>\n",
              "      <td>1</td>\n",
              "      <td>0.0</td>\n",
              "      <td>0.0</td>\n",
              "      <td>0.0</td>\n",
              "      <td>0.0</td>\n",
              "      <td>1.0</td>\n",
              "      <td>0.0</td>\n",
              "      <td>0.0</td>\n",
              "    </tr>\n",
              "    <tr>\n",
              "      <th>9577</th>\n",
              "      <td>0</td>\n",
              "      <td>debt_consolidation</td>\n",
              "      <td>0.1392</td>\n",
              "      <td>853.43</td>\n",
              "      <td>11.264464</td>\n",
              "      <td>16.28</td>\n",
              "      <td>732</td>\n",
              "      <td>4740.000000</td>\n",
              "      <td>37879</td>\n",
              "      <td>57.0</td>\n",
              "      <td>6</td>\n",
              "      <td>0</td>\n",
              "      <td>0</td>\n",
              "      <td>1</td>\n",
              "      <td>0.0</td>\n",
              "      <td>0.0</td>\n",
              "      <td>1.0</td>\n",
              "      <td>0.0</td>\n",
              "      <td>0.0</td>\n",
              "      <td>0.0</td>\n",
              "      <td>0.0</td>\n",
              "    </tr>\n",
              "  </tbody>\n",
              "</table>\n",
              "<p>9578 rows × 21 columns</p>\n",
              "</div>"
            ],
            "text/plain": [
              "      credit.policy  ... purpose_small_business\n",
              "0                 1  ...                    0.0\n",
              "1                 1  ...                    0.0\n",
              "2                 1  ...                    0.0\n",
              "3                 1  ...                    0.0\n",
              "4                 1  ...                    0.0\n",
              "...             ...  ...                    ...\n",
              "9573              0  ...                    0.0\n",
              "9574              0  ...                    0.0\n",
              "9575              0  ...                    0.0\n",
              "9576              0  ...                    0.0\n",
              "9577              0  ...                    0.0\n",
              "\n",
              "[9578 rows x 21 columns]"
            ]
          },
          "metadata": {
            "tags": []
          },
          "execution_count": 15
        }
      ]
    },
    {
      "cell_type": "code",
      "metadata": {
        "id": "V68rorvKEuYS"
      },
      "source": [
        "loanData.drop(columns=['purpose'],inplace=True)"
      ],
      "execution_count": null,
      "outputs": []
    },
    {
      "cell_type": "code",
      "metadata": {
        "colab": {
          "base_uri": "https://localhost:8080/",
          "height": 382
        },
        "id": "5VGGHpTPUKdq",
        "outputId": "ca73b649-c5b1-4703-a5ac-667416f7d720"
      },
      "source": [
        "sns.displot(loanData['installment'])"
      ],
      "execution_count": null,
      "outputs": [
        {
          "output_type": "execute_result",
          "data": {
            "text/plain": [
              "<seaborn.axisgrid.FacetGrid at 0x7fbabdb13e80>"
            ]
          },
          "metadata": {
            "tags": []
          },
          "execution_count": 17
        },
        {
          "output_type": "display_data",
          "data": {
            "image/png": "[encoded data removed]",
            "text/plain": [
              "<Figure size 360x360 with 1 Axes>"
            ]
          },
          "metadata": {
            "tags": []
          }
        }
      ]
    },
    {
      "cell_type": "markdown",
      "metadata": {
        "id": "zQUCB2TpVi0J"
      },
      "source": [
        "*Installment data is right skewed, so trying transformations*"
      ]
    },
    {
      "cell_type": "code",
      "metadata": {
        "colab": {
          "base_uri": "https://localhost:8080/",
          "height": 382
        },
        "id": "dUC5IYGEUKyW",
        "outputId": "09f4f86c-9bf9-4481-8876-a28e7cf47a2b"
      },
      "source": [
        "sns.displot(np.sqrt(loanData['installment']))"
      ],
      "execution_count": null,
      "outputs": [
        {
          "output_type": "execute_result",
          "data": {
            "text/plain": [
              "<seaborn.axisgrid.FacetGrid at 0x7fbafc454eb8>"
            ]
          },
          "metadata": {
            "tags": []
          },
          "execution_count": 18
        },
        {
          "output_type": "display_data",
          "data": {
            "image/png": "[encoded data removed]",
            "text/plain": [
              "<Figure size 360x360 with 1 Axes>"
            ]
          },
          "metadata": {
            "tags": []
          }
        }
      ]
    },
    {
      "cell_type": "code",
      "metadata": {
        "id": "3zU276JZUK8d"
      },
      "source": [
        "loanData['installment_T']=np.sqrt(loanData['installment'])"
      ],
      "execution_count": null,
      "outputs": []
    },
    {
      "cell_type": "code",
      "metadata": {
        "id": "kObSuWqZc7Py"
      },
      "source": [
        "loanData.drop(columns=['installment'],inplace=True)"
      ],
      "execution_count": null,
      "outputs": []
    },
    {
      "cell_type": "code",
      "metadata": {
        "colab": {
          "base_uri": "https://localhost:8080/",
          "height": 382
        },
        "id": "7_SsNY0yX0AF",
        "outputId": "7b80aa30-d9ed-4ac9-9385-7519a1f6d979"
      },
      "source": [
        "sns.displot(loanData['fico'])"
      ],
      "execution_count": null,
      "outputs": [
        {
          "output_type": "execute_result",
          "data": {
            "text/plain": [
              "<seaborn.axisgrid.FacetGrid at 0x7fbabc0f2e80>"
            ]
          },
          "metadata": {
            "tags": []
          },
          "execution_count": 21
        },
        {
          "output_type": "display_data",
          "data": {
            "image/png": "[encoded data removed]",
            "text/plain": [
              "<Figure size 360x360 with 1 Axes>"
            ]
          },
          "metadata": {
            "tags": []
          }
        }
      ]
    },
    {
      "cell_type": "code",
      "metadata": {
        "colab": {
          "base_uri": "https://localhost:8080/",
          "height": 382
        },
        "id": "d7C2_F0T5eQo",
        "outputId": "68032c00-3ff3-4524-81a8-3066beea0026"
      },
      "source": [
        "sns.displot(1/loanData['fico'])"
      ],
      "execution_count": null,
      "outputs": [
        {
          "output_type": "execute_result",
          "data": {
            "text/plain": [
              "<seaborn.axisgrid.FacetGrid at 0x7fbaba994da0>"
            ]
          },
          "metadata": {
            "tags": []
          },
          "execution_count": 22
        },
        {
          "output_type": "display_data",
          "data": {
            "image/png": "[encoded data removed]",
            "text/plain": [
              "<Figure size 360x360 with 1 Axes>"
            ]
          },
          "metadata": {
            "tags": []
          }
        }
      ]
    },
    {
      "cell_type": "code",
      "metadata": {
        "id": "qvbqSpquYTDh"
      },
      "source": [
        "from scipy import stats"
      ],
      "execution_count": null,
      "outputs": []
    },
    {
      "cell_type": "code",
      "metadata": {
        "id": "OTERFz3sYTc9"
      },
      "source": [
        "fico_T,fico_lambda=stats.boxcox(loanData['fico'])"
      ],
      "execution_count": null,
      "outputs": []
    },
    {
      "cell_type": "code",
      "metadata": {
        "colab": {
          "base_uri": "https://localhost:8080/"
        },
        "id": "sG1NT13OYTtJ",
        "outputId": "90185408-4522-47b8-a3d6-4172b3ab575b"
      },
      "source": [
        "fico_lambda\r\n"
      ],
      "execution_count": null,
      "outputs": [
        {
          "output_type": "execute_result",
          "data": {
            "text/plain": [
              "-3.1221873174685357"
            ]
          },
          "metadata": {
            "tags": []
          },
          "execution_count": 25
        }
      ]
    },
    {
      "cell_type": "code",
      "metadata": {
        "colab": {
          "base_uri": "https://localhost:8080/",
          "height": 382
        },
        "id": "UU-qKZqPYT4E",
        "outputId": "25ba71cd-1597-4fd6-a55e-0b2ec7bbc854"
      },
      "source": [
        "sns.displot(fico_T)"
      ],
      "execution_count": null,
      "outputs": [
        {
          "output_type": "execute_result",
          "data": {
            "text/plain": [
              "<seaborn.axisgrid.FacetGrid at 0x7fbab20fd208>"
            ]
          },
          "metadata": {
            "tags": []
          },
          "execution_count": 26
        },
        {
          "output_type": "display_data",
          "data": {
            "image/png": "[encoded data removed]",
            "text/plain": [
              "<Figure size 360x360 with 1 Axes>"
            ]
          },
          "metadata": {
            "tags": []
          }
        }
      ]
    },
    {
      "cell_type": "markdown",
      "metadata": {
        "id": "HZNNkRmgaKw8"
      },
      "source": [
        "boxcox Transformation on fico shows some anamolies, so not going with any transformations"
      ]
    },
    {
      "cell_type": "code",
      "metadata": {
        "colab": {
          "base_uri": "https://localhost:8080/",
          "height": 382
        },
        "id": "E0zOtL1dYU2E",
        "outputId": "922049b1-2c8e-4663-b7fc-8af3425c6afd"
      },
      "source": [
        "sns.displot(loanData['days.with.cr.line'])"
      ],
      "execution_count": null,
      "outputs": [
        {
          "output_type": "execute_result",
          "data": {
            "text/plain": [
              "<seaborn.axisgrid.FacetGrid at 0x7fbab2116320>"
            ]
          },
          "metadata": {
            "tags": []
          },
          "execution_count": 27
        },
        {
          "output_type": "display_data",
          "data": {
            "image/png": "[encoded data removed]",
            "text/plain": [
              "<Figure size 360x360 with 1 Axes>"
            ]
          },
          "metadata": {
            "tags": []
          }
        }
      ]
    },
    {
      "cell_type": "code",
      "metadata": {
        "colab": {
          "base_uri": "https://localhost:8080/",
          "height": 382
        },
        "id": "xUuuLKMLaotR",
        "outputId": "662bd018-d5a0-4ba9-f40e-7e18b6f26ab4"
      },
      "source": [
        "sns.displot(np.sqrt(loanData['days.with.cr.line']))"
      ],
      "execution_count": null,
      "outputs": [
        {
          "output_type": "execute_result",
          "data": {
            "text/plain": [
              "<seaborn.axisgrid.FacetGrid at 0x7fbab2116630>"
            ]
          },
          "metadata": {
            "tags": []
          },
          "execution_count": 28
        },
        {
          "output_type": "display_data",
          "data": {
            "image/png": "[encoded data removed]",
            "text/plain": [
              "<Figure size 360x360 with 1 Axes>"
            ]
          },
          "metadata": {
            "tags": []
          }
        }
      ]
    },
    {
      "cell_type": "markdown",
      "metadata": {
        "id": "1Z5dV9E5cHMp"
      },
      "source": [
        "sqrt on 'days.with.cr.line', is making data more normal, so applying this transformation on the data"
      ]
    },
    {
      "cell_type": "code",
      "metadata": {
        "id": "CTn1HTcaapAs"
      },
      "source": [
        "loanData['days.with.cr.line_T']=np.sqrt(loanData['days.with.cr.line'])"
      ],
      "execution_count": null,
      "outputs": []
    },
    {
      "cell_type": "code",
      "metadata": {
        "id": "cHMfiKXfapO7"
      },
      "source": [
        "loanData.drop(columns=['days.with.cr.line'],inplace=True)"
      ],
      "execution_count": null,
      "outputs": []
    },
    {
      "cell_type": "code",
      "metadata": {
        "colab": {
          "base_uri": "https://localhost:8080/",
          "height": 382
        },
        "id": "dKulmACSapZc",
        "outputId": "6531e2c8-a055-45ee-bec9-b79f02d27bdc"
      },
      "source": [
        "sns.displot(loanData['revol.bal'])"
      ],
      "execution_count": null,
      "outputs": [
        {
          "output_type": "execute_result",
          "data": {
            "text/plain": [
              "<seaborn.axisgrid.FacetGrid at 0x7fbabcfa24a8>"
            ]
          },
          "metadata": {
            "tags": []
          },
          "execution_count": 33
        },
        {
          "output_type": "display_data",
          "data": {
            "image/png": "[encoded data removed]",
            "text/plain": [
              "<Figure size 360x360 with 1 Axes>"
            ]
          },
          "metadata": {
            "tags": []
          }
        }
      ]
    },
    {
      "cell_type": "code",
      "metadata": {
        "colab": {
          "base_uri": "https://localhost:8080/",
          "height": 283
        },
        "id": "0IIDum83aqR-",
        "outputId": "ee2aea8c-3bfd-411b-8943-ff920455e73c"
      },
      "source": [
        "revolBal_T,revolBal_lambda=stats.boxcox(loanData['revol.bal'])"
      ],
      "execution_count": null,
      "outputs": [
        {
          "output_type": "error",
          "ename": "ValueError",
          "evalue": "ignored",
          "traceback": [
            "\u001b[0;31m---------------------------------------------------------------------------\u001b[0m",
            "\u001b[0;31mValueError\u001b[0m                                Traceback (most recent call last)",
            "\u001b[0;32m<ipython-input-34-bb357230b3de>\u001b[0m in \u001b[0;36m<module>\u001b[0;34m()\u001b[0m\n\u001b[0;32m----> 1\u001b[0;31m \u001b[0mrevolBal_T\u001b[0m\u001b[0;34m,\u001b[0m\u001b[0mrevolBal_lambda\u001b[0m\u001b[0;34m=\u001b[0m\u001b[0mstats\u001b[0m\u001b[0;34m.\u001b[0m\u001b[0mboxcox\u001b[0m\u001b[0;34m(\u001b[0m\u001b[0mloanData\u001b[0m\u001b[0;34m[\u001b[0m\u001b[0;34m'revol.bal'\u001b[0m\u001b[0;34m]\u001b[0m\u001b[0;34m)\u001b[0m\u001b[0;34m\u001b[0m\u001b[0;34m\u001b[0m\u001b[0m\n\u001b[0m",
            "\u001b[0;32m/usr/local/lib/python3.6/dist-packages/scipy/stats/morestats.py\u001b[0m in \u001b[0;36mboxcox\u001b[0;34m(x, lmbda, alpha)\u001b[0m\n\u001b[1;32m   1043\u001b[0m \u001b[0;34m\u001b[0m\u001b[0m\n\u001b[1;32m   1044\u001b[0m     \u001b[0;32mif\u001b[0m \u001b[0many\u001b[0m\u001b[0;34m(\u001b[0m\u001b[0mx\u001b[0m \u001b[0;34m<=\u001b[0m \u001b[0;36m0\u001b[0m\u001b[0;34m)\u001b[0m\u001b[0;34m:\u001b[0m\u001b[0;34m\u001b[0m\u001b[0;34m\u001b[0m\u001b[0m\n\u001b[0;32m-> 1045\u001b[0;31m         \u001b[0;32mraise\u001b[0m \u001b[0mValueError\u001b[0m\u001b[0;34m(\u001b[0m\u001b[0;34m\"Data must be positive.\"\u001b[0m\u001b[0;34m)\u001b[0m\u001b[0;34m\u001b[0m\u001b[0;34m\u001b[0m\u001b[0m\n\u001b[0m\u001b[1;32m   1046\u001b[0m \u001b[0;34m\u001b[0m\u001b[0m\n\u001b[1;32m   1047\u001b[0m     \u001b[0;32mif\u001b[0m \u001b[0mlmbda\u001b[0m \u001b[0;32mis\u001b[0m \u001b[0;32mnot\u001b[0m \u001b[0;32mNone\u001b[0m\u001b[0;34m:\u001b[0m  \u001b[0;31m# single transformation\u001b[0m\u001b[0;34m\u001b[0m\u001b[0;34m\u001b[0m\u001b[0m\n",
            "\u001b[0;31mValueError\u001b[0m: Data must be positive."
          ]
        }
      ]
    },
    {
      "cell_type": "code",
      "metadata": {
        "colab": {
          "base_uri": "https://localhost:8080/",
          "height": 439
        },
        "id": "MUfQB4GGaqn9",
        "outputId": "a6fa01e1-80a6-4b50-cb08-b79442c827dd"
      },
      "source": [
        "loanData[loanData['revol.bal']==0]"
      ],
      "execution_count": null,
      "outputs": [
        {
          "output_type": "execute_result",
          "data": {
            "text/html": [
              "<div>\n",
              "<style scoped>\n",
              "    .dataframe tbody tr th:only-of-type {\n",
              "        vertical-align: middle;\n",
              "    }\n",
              "\n",
              "    .dataframe tbody tr th {\n",
              "        vertical-align: top;\n",
              "    }\n",
              "\n",
              "    .dataframe thead th {\n",
              "        text-align: right;\n",
              "    }\n",
              "</style>\n",
              "<table border=\"1\" class=\"dataframe\">\n",
              "  <thead>\n",
              "    <tr style=\"text-align: right;\">\n",
              "      <th></th>\n",
              "      <th>credit.policy</th>\n",
              "      <th>int.rate</th>\n",
              "      <th>log.annual.inc</th>\n",
              "      <th>dti</th>\n",
              "      <th>fico</th>\n",
              "      <th>revol.bal</th>\n",
              "      <th>revol.util</th>\n",
              "      <th>inq.last.6mths</th>\n",
              "      <th>delinq.2yrs</th>\n",
              "      <th>pub.rec</th>\n",
              "      <th>not.fully.paid</th>\n",
              "      <th>purpose_all_other</th>\n",
              "      <th>purpose_credit_card</th>\n",
              "      <th>purpose_debt_consolidation</th>\n",
              "      <th>purpose_educational</th>\n",
              "      <th>purpose_home_improvement</th>\n",
              "      <th>purpose_major_purchase</th>\n",
              "      <th>purpose_small_business</th>\n",
              "      <th>installment_T</th>\n",
              "      <th>days.with.cr.line_T</th>\n",
              "    </tr>\n",
              "  </thead>\n",
              "  <tbody>\n",
              "    <tr>\n",
              "      <th>43</th>\n",
              "      <td>1</td>\n",
              "      <td>0.1028</td>\n",
              "      <td>12.206073</td>\n",
              "      <td>0.00</td>\n",
              "      <td>677</td>\n",
              "      <td>0</td>\n",
              "      <td>0.0</td>\n",
              "      <td>0</td>\n",
              "      <td>1</td>\n",
              "      <td>0</td>\n",
              "      <td>0</td>\n",
              "      <td>0.0</td>\n",
              "      <td>0.0</td>\n",
              "      <td>0.0</td>\n",
              "      <td>0.0</td>\n",
              "      <td>1.0</td>\n",
              "      <td>0.0</td>\n",
              "      <td>0.0</td>\n",
              "      <td>9.859006</td>\n",
              "      <td>61.481366</td>\n",
              "    </tr>\n",
              "    <tr>\n",
              "      <th>112</th>\n",
              "      <td>1</td>\n",
              "      <td>0.0743</td>\n",
              "      <td>11.695247</td>\n",
              "      <td>0.00</td>\n",
              "      <td>772</td>\n",
              "      <td>0</td>\n",
              "      <td>0.0</td>\n",
              "      <td>1</td>\n",
              "      <td>0</td>\n",
              "      <td>0</td>\n",
              "      <td>0</td>\n",
              "      <td>1.0</td>\n",
              "      <td>0.0</td>\n",
              "      <td>0.0</td>\n",
              "      <td>0.0</td>\n",
              "      <td>0.0</td>\n",
              "      <td>0.0</td>\n",
              "      <td>0.0</td>\n",
              "      <td>10.830974</td>\n",
              "      <td>62.689380</td>\n",
              "    </tr>\n",
              "    <tr>\n",
              "      <th>126</th>\n",
              "      <td>1</td>\n",
              "      <td>0.1122</td>\n",
              "      <td>10.308953</td>\n",
              "      <td>20.40</td>\n",
              "      <td>742</td>\n",
              "      <td>0</td>\n",
              "      <td>0.0</td>\n",
              "      <td>3</td>\n",
              "      <td>0</td>\n",
              "      <td>0</td>\n",
              "      <td>0</td>\n",
              "      <td>1.0</td>\n",
              "      <td>0.0</td>\n",
              "      <td>0.0</td>\n",
              "      <td>0.0</td>\n",
              "      <td>0.0</td>\n",
              "      <td>0.0</td>\n",
              "      <td>0.0</td>\n",
              "      <td>18.122638</td>\n",
              "      <td>57.183914</td>\n",
              "    </tr>\n",
              "    <tr>\n",
              "      <th>152</th>\n",
              "      <td>1</td>\n",
              "      <td>0.1059</td>\n",
              "      <td>9.615805</td>\n",
              "      <td>24.40</td>\n",
              "      <td>737</td>\n",
              "      <td>0</td>\n",
              "      <td>0.0</td>\n",
              "      <td>3</td>\n",
              "      <td>0</td>\n",
              "      <td>0</td>\n",
              "      <td>0</td>\n",
              "      <td>1.0</td>\n",
              "      <td>0.0</td>\n",
              "      <td>0.0</td>\n",
              "      <td>0.0</td>\n",
              "      <td>0.0</td>\n",
              "      <td>0.0</td>\n",
              "      <td>0.0</td>\n",
              "      <td>12.756567</td>\n",
              "      <td>56.656494</td>\n",
              "    </tr>\n",
              "    <tr>\n",
              "      <th>197</th>\n",
              "      <td>1</td>\n",
              "      <td>0.0807</td>\n",
              "      <td>9.798127</td>\n",
              "      <td>4.27</td>\n",
              "      <td>722</td>\n",
              "      <td>0</td>\n",
              "      <td>0.0</td>\n",
              "      <td>0</td>\n",
              "      <td>0</td>\n",
              "      <td>0</td>\n",
              "      <td>0</td>\n",
              "      <td>1.0</td>\n",
              "      <td>0.0</td>\n",
              "      <td>0.0</td>\n",
              "      <td>0.0</td>\n",
              "      <td>0.0</td>\n",
              "      <td>0.0</td>\n",
              "      <td>0.0</td>\n",
              "      <td>3.961060</td>\n",
              "      <td>38.340579</td>\n",
              "    </tr>\n",
              "    <tr>\n",
              "      <th>...</th>\n",
              "      <td>...</td>\n",
              "      <td>...</td>\n",
              "      <td>...</td>\n",
              "      <td>...</td>\n",
              "      <td>...</td>\n",
              "      <td>...</td>\n",
              "      <td>...</td>\n",
              "      <td>...</td>\n",
              "      <td>...</td>\n",
              "      <td>...</td>\n",
              "      <td>...</td>\n",
              "      <td>...</td>\n",
              "      <td>...</td>\n",
              "      <td>...</td>\n",
              "      <td>...</td>\n",
              "      <td>...</td>\n",
              "      <td>...</td>\n",
              "      <td>...</td>\n",
              "      <td>...</td>\n",
              "      <td>...</td>\n",
              "    </tr>\n",
              "    <tr>\n",
              "      <th>9364</th>\n",
              "      <td>0</td>\n",
              "      <td>0.1774</td>\n",
              "      <td>9.546813</td>\n",
              "      <td>9.51</td>\n",
              "      <td>692</td>\n",
              "      <td>0</td>\n",
              "      <td>71.1</td>\n",
              "      <td>4</td>\n",
              "      <td>0</td>\n",
              "      <td>0</td>\n",
              "      <td>0</td>\n",
              "      <td>0.0</td>\n",
              "      <td>0.0</td>\n",
              "      <td>1.0</td>\n",
              "      <td>0.0</td>\n",
              "      <td>0.0</td>\n",
              "      <td>0.0</td>\n",
              "      <td>0.0</td>\n",
              "      <td>13.149525</td>\n",
              "      <td>39.115747</td>\n",
              "    </tr>\n",
              "    <tr>\n",
              "      <th>9437</th>\n",
              "      <td>0</td>\n",
              "      <td>0.1461</td>\n",
              "      <td>10.239960</td>\n",
              "      <td>0.00</td>\n",
              "      <td>692</td>\n",
              "      <td>0</td>\n",
              "      <td>0.0</td>\n",
              "      <td>6</td>\n",
              "      <td>0</td>\n",
              "      <td>0</td>\n",
              "      <td>0</td>\n",
              "      <td>0.0</td>\n",
              "      <td>0.0</td>\n",
              "      <td>0.0</td>\n",
              "      <td>0.0</td>\n",
              "      <td>0.0</td>\n",
              "      <td>1.0</td>\n",
              "      <td>0.0</td>\n",
              "      <td>11.140916</td>\n",
              "      <td>39.115747</td>\n",
              "    </tr>\n",
              "    <tr>\n",
              "      <th>9459</th>\n",
              "      <td>0</td>\n",
              "      <td>0.2052</td>\n",
              "      <td>11.736069</td>\n",
              "      <td>16.62</td>\n",
              "      <td>762</td>\n",
              "      <td>0</td>\n",
              "      <td>0.0</td>\n",
              "      <td>9</td>\n",
              "      <td>0</td>\n",
              "      <td>0</td>\n",
              "      <td>0</td>\n",
              "      <td>0.0</td>\n",
              "      <td>0.0</td>\n",
              "      <td>0.0</td>\n",
              "      <td>0.0</td>\n",
              "      <td>0.0</td>\n",
              "      <td>0.0</td>\n",
              "      <td>1.0</td>\n",
              "      <td>29.971153</td>\n",
              "      <td>65.046458</td>\n",
              "    </tr>\n",
              "    <tr>\n",
              "      <th>9492</th>\n",
              "      <td>0</td>\n",
              "      <td>0.1843</td>\n",
              "      <td>10.373491</td>\n",
              "      <td>0.00</td>\n",
              "      <td>667</td>\n",
              "      <td>0</td>\n",
              "      <td>0.0</td>\n",
              "      <td>6</td>\n",
              "      <td>0</td>\n",
              "      <td>0</td>\n",
              "      <td>1</td>\n",
              "      <td>0.0</td>\n",
              "      <td>0.0</td>\n",
              "      <td>0.0</td>\n",
              "      <td>0.0</td>\n",
              "      <td>1.0</td>\n",
              "      <td>0.0</td>\n",
              "      <td>0.0</td>\n",
              "      <td>20.891146</td>\n",
              "      <td>83.096330</td>\n",
              "    </tr>\n",
              "    <tr>\n",
              "      <th>9576</th>\n",
              "      <td>0</td>\n",
              "      <td>0.1600</td>\n",
              "      <td>10.819778</td>\n",
              "      <td>19.18</td>\n",
              "      <td>692</td>\n",
              "      <td>0</td>\n",
              "      <td>3.2</td>\n",
              "      <td>5</td>\n",
              "      <td>0</td>\n",
              "      <td>0</td>\n",
              "      <td>1</td>\n",
              "      <td>0.0</td>\n",
              "      <td>0.0</td>\n",
              "      <td>0.0</td>\n",
              "      <td>0.0</td>\n",
              "      <td>1.0</td>\n",
              "      <td>0.0</td>\n",
              "      <td>0.0</td>\n",
              "      <td>18.750467</td>\n",
              "      <td>42.426407</td>\n",
              "    </tr>\n",
              "  </tbody>\n",
              "</table>\n",
              "<p>321 rows × 20 columns</p>\n",
              "</div>"
            ],
            "text/plain": [
              "      credit.policy  int.rate  ...  installment_T  days.with.cr.line_T\n",
              "43                1    0.1028  ...       9.859006            61.481366\n",
              "112               1    0.0743  ...      10.830974            62.689380\n",
              "126               1    0.1122  ...      18.122638            57.183914\n",
              "152               1    0.1059  ...      12.756567            56.656494\n",
              "197               1    0.0807  ...       3.961060            38.340579\n",
              "...             ...       ...  ...            ...                  ...\n",
              "9364              0    0.1774  ...      13.149525            39.115747\n",
              "9437              0    0.1461  ...      11.140916            39.115747\n",
              "9459              0    0.2052  ...      29.971153            65.046458\n",
              "9492              0    0.1843  ...      20.891146            83.096330\n",
              "9576              0    0.1600  ...      18.750467            42.426407\n",
              "\n",
              "[321 rows x 20 columns]"
            ]
          },
          "metadata": {
            "tags": []
          },
          "execution_count": 35
        }
      ]
    },
    {
      "cell_type": "code",
      "metadata": {
        "colab": {
          "base_uri": "https://localhost:8080/",
          "height": 305
        },
        "id": "yAD0fvrcaq3_",
        "outputId": "b1c6a598-df08-45f5-bf81-c76a3bc8706d"
      },
      "source": [
        "sns.barplot(x=loanData['not.fully.paid'],y=loanData['revol.bal'])"
      ],
      "execution_count": null,
      "outputs": [
        {
          "output_type": "execute_result",
          "data": {
            "text/plain": [
              "<matplotlib.axes._subplots.AxesSubplot at 0x7fbaae7f6400>"
            ]
          },
          "metadata": {
            "tags": []
          },
          "execution_count": 36
        },
        {
          "output_type": "display_data",
          "data": {
            "image/png": "[encoded data removed]",
            "text/plain": [
              "<Figure size 432x288 with 1 Axes>"
            ]
          },
          "metadata": {
            "tags": []
          }
        }
      ]
    },
    {
      "cell_type": "code",
      "metadata": {
        "id": "Vdt1GyHBfdsF",
        "colab": {
          "base_uri": "https://localhost:8080/",
          "height": 382
        },
        "outputId": "bfbd4138-7e9c-434d-f2f5-44cc74905865"
      },
      "source": [
        "sns.displot(loanData['revol.bal']**(1/3))"
      ],
      "execution_count": null,
      "outputs": [
        {
          "output_type": "execute_result",
          "data": {
            "text/plain": [
              "<seaborn.axisgrid.FacetGrid at 0x7fbaae8024e0>"
            ]
          },
          "metadata": {
            "tags": []
          },
          "execution_count": 37
        },
        {
          "output_type": "display_data",
          "data": {
            "image/png": "[encoded data removed]",
            "text/plain": [
              "<Figure size 360x360 with 1 Axes>"
            ]
          },
          "metadata": {
            "tags": []
          }
        }
      ]
    },
    {
      "cell_type": "markdown",
      "metadata": {
        "id": "Asn7_klEhtir"
      },
      "source": [
        "Cube root of revol.bal shows better distribution of the data, so transforming the column cube root of revol.bal"
      ]
    },
    {
      "cell_type": "code",
      "metadata": {
        "id": "1HJJx8QTfebJ"
      },
      "source": [
        "loanData['revol.bal_T']=loanData['revol.bal']**(1/3)"
      ],
      "execution_count": null,
      "outputs": []
    },
    {
      "cell_type": "code",
      "metadata": {
        "id": "K-oCC-c4fesJ"
      },
      "source": [
        "loanData.drop(columns=['revol.bal'],inplace=True)"
      ],
      "execution_count": null,
      "outputs": []
    },
    {
      "cell_type": "code",
      "metadata": {
        "id": "ib74EWWrfe4_",
        "colab": {
          "base_uri": "https://localhost:8080/",
          "height": 224
        },
        "outputId": "7007a635-fb81-4080-c3fa-073113c866bc"
      },
      "source": [
        "loanData.head()"
      ],
      "execution_count": null,
      "outputs": [
        {
          "output_type": "execute_result",
          "data": {
            "text/html": [
              "<div>\n",
              "<style scoped>\n",
              "    .dataframe tbody tr th:only-of-type {\n",
              "        vertical-align: middle;\n",
              "    }\n",
              "\n",
              "    .dataframe tbody tr th {\n",
              "        vertical-align: top;\n",
              "    }\n",
              "\n",
              "    .dataframe thead th {\n",
              "        text-align: right;\n",
              "    }\n",
              "</style>\n",
              "<table border=\"1\" class=\"dataframe\">\n",
              "  <thead>\n",
              "    <tr style=\"text-align: right;\">\n",
              "      <th></th>\n",
              "      <th>credit.policy</th>\n",
              "      <th>int.rate</th>\n",
              "      <th>log.annual.inc</th>\n",
              "      <th>dti</th>\n",
              "      <th>fico</th>\n",
              "      <th>revol.util</th>\n",
              "      <th>inq.last.6mths</th>\n",
              "      <th>delinq.2yrs</th>\n",
              "      <th>pub.rec</th>\n",
              "      <th>not.fully.paid</th>\n",
              "      <th>purpose_all_other</th>\n",
              "      <th>purpose_credit_card</th>\n",
              "      <th>purpose_debt_consolidation</th>\n",
              "      <th>purpose_educational</th>\n",
              "      <th>purpose_home_improvement</th>\n",
              "      <th>purpose_major_purchase</th>\n",
              "      <th>purpose_small_business</th>\n",
              "      <th>installment_T</th>\n",
              "      <th>days.with.cr.line_T</th>\n",
              "      <th>revol.bal_T</th>\n",
              "    </tr>\n",
              "  </thead>\n",
              "  <tbody>\n",
              "    <tr>\n",
              "      <th>0</th>\n",
              "      <td>1</td>\n",
              "      <td>0.1189</td>\n",
              "      <td>11.350407</td>\n",
              "      <td>19.48</td>\n",
              "      <td>737</td>\n",
              "      <td>52.1</td>\n",
              "      <td>0</td>\n",
              "      <td>0</td>\n",
              "      <td>0</td>\n",
              "      <td>0</td>\n",
              "      <td>0.0</td>\n",
              "      <td>0.0</td>\n",
              "      <td>1.0</td>\n",
              "      <td>0.0</td>\n",
              "      <td>0.0</td>\n",
              "      <td>0.0</td>\n",
              "      <td>0.0</td>\n",
              "      <td>28.794097</td>\n",
              "      <td>75.099656</td>\n",
              "      <td>30.671523</td>\n",
              "    </tr>\n",
              "    <tr>\n",
              "      <th>1</th>\n",
              "      <td>1</td>\n",
              "      <td>0.1071</td>\n",
              "      <td>11.082143</td>\n",
              "      <td>14.29</td>\n",
              "      <td>707</td>\n",
              "      <td>76.7</td>\n",
              "      <td>0</td>\n",
              "      <td>0</td>\n",
              "      <td>0</td>\n",
              "      <td>0</td>\n",
              "      <td>0.0</td>\n",
              "      <td>1.0</td>\n",
              "      <td>0.0</td>\n",
              "      <td>0.0</td>\n",
              "      <td>0.0</td>\n",
              "      <td>0.0</td>\n",
              "      <td>0.0</td>\n",
              "      <td>15.106952</td>\n",
              "      <td>52.535702</td>\n",
              "      <td>32.275934</td>\n",
              "    </tr>\n",
              "    <tr>\n",
              "      <th>2</th>\n",
              "      <td>1</td>\n",
              "      <td>0.1357</td>\n",
              "      <td>10.373491</td>\n",
              "      <td>11.63</td>\n",
              "      <td>682</td>\n",
              "      <td>25.6</td>\n",
              "      <td>1</td>\n",
              "      <td>0</td>\n",
              "      <td>0</td>\n",
              "      <td>0</td>\n",
              "      <td>0.0</td>\n",
              "      <td>0.0</td>\n",
              "      <td>1.0</td>\n",
              "      <td>0.0</td>\n",
              "      <td>0.0</td>\n",
              "      <td>0.0</td>\n",
              "      <td>0.0</td>\n",
              "      <td>19.153590</td>\n",
              "      <td>68.629440</td>\n",
              "      <td>15.198834</td>\n",
              "    </tr>\n",
              "    <tr>\n",
              "      <th>3</th>\n",
              "      <td>1</td>\n",
              "      <td>0.1008</td>\n",
              "      <td>11.350407</td>\n",
              "      <td>8.10</td>\n",
              "      <td>712</td>\n",
              "      <td>73.2</td>\n",
              "      <td>1</td>\n",
              "      <td>0</td>\n",
              "      <td>0</td>\n",
              "      <td>0</td>\n",
              "      <td>0.0</td>\n",
              "      <td>0.0</td>\n",
              "      <td>1.0</td>\n",
              "      <td>0.0</td>\n",
              "      <td>0.0</td>\n",
              "      <td>0.0</td>\n",
              "      <td>0.0</td>\n",
              "      <td>12.741272</td>\n",
              "      <td>51.961123</td>\n",
              "      <td>32.290007</td>\n",
              "    </tr>\n",
              "    <tr>\n",
              "      <th>4</th>\n",
              "      <td>1</td>\n",
              "      <td>0.1426</td>\n",
              "      <td>11.299732</td>\n",
              "      <td>14.97</td>\n",
              "      <td>667</td>\n",
              "      <td>39.5</td>\n",
              "      <td>0</td>\n",
              "      <td>1</td>\n",
              "      <td>0</td>\n",
              "      <td>0</td>\n",
              "      <td>0.0</td>\n",
              "      <td>1.0</td>\n",
              "      <td>0.0</td>\n",
              "      <td>0.0</td>\n",
              "      <td>0.0</td>\n",
              "      <td>0.0</td>\n",
              "      <td>0.0</td>\n",
              "      <td>10.144949</td>\n",
              "      <td>63.765194</td>\n",
              "      <td>16.798072</td>\n",
              "    </tr>\n",
              "  </tbody>\n",
              "</table>\n",
              "</div>"
            ],
            "text/plain": [
              "   credit.policy  int.rate  ...  days.with.cr.line_T  revol.bal_T\n",
              "0              1    0.1189  ...            75.099656    30.671523\n",
              "1              1    0.1071  ...            52.535702    32.275934\n",
              "2              1    0.1357  ...            68.629440    15.198834\n",
              "3              1    0.1008  ...            51.961123    32.290007\n",
              "4              1    0.1426  ...            63.765194    16.798072\n",
              "\n",
              "[5 rows x 20 columns]"
            ]
          },
          "metadata": {
            "tags": []
          },
          "execution_count": 40
        }
      ]
    },
    {
      "cell_type": "code",
      "metadata": {
        "id": "f0W8CcVRffE-",
        "colab": {
          "base_uri": "https://localhost:8080/",
          "height": 142
        },
        "outputId": "8ca5e355-9b50-4598-d3c9-1e11ceb3f063"
      },
      "source": [
        "loanData[['installment_T','days.with.cr.line_T','revol.bal_T']].corr()"
      ],
      "execution_count": null,
      "outputs": [
        {
          "output_type": "execute_result",
          "data": {
            "text/html": [
              "<div>\n",
              "<style scoped>\n",
              "    .dataframe tbody tr th:only-of-type {\n",
              "        vertical-align: middle;\n",
              "    }\n",
              "\n",
              "    .dataframe tbody tr th {\n",
              "        vertical-align: top;\n",
              "    }\n",
              "\n",
              "    .dataframe thead th {\n",
              "        text-align: right;\n",
              "    }\n",
              "</style>\n",
              "<table border=\"1\" class=\"dataframe\">\n",
              "  <thead>\n",
              "    <tr style=\"text-align: right;\">\n",
              "      <th></th>\n",
              "      <th>installment_T</th>\n",
              "      <th>days.with.cr.line_T</th>\n",
              "      <th>revol.bal_T</th>\n",
              "    </tr>\n",
              "  </thead>\n",
              "  <tbody>\n",
              "    <tr>\n",
              "      <th>installment_T</th>\n",
              "      <td>1.000000</td>\n",
              "      <td>0.205538</td>\n",
              "      <td>0.324531</td>\n",
              "    </tr>\n",
              "    <tr>\n",
              "      <th>days.with.cr.line_T</th>\n",
              "      <td>0.205538</td>\n",
              "      <td>1.000000</td>\n",
              "      <td>0.318978</td>\n",
              "    </tr>\n",
              "    <tr>\n",
              "      <th>revol.bal_T</th>\n",
              "      <td>0.324531</td>\n",
              "      <td>0.318978</td>\n",
              "      <td>1.000000</td>\n",
              "    </tr>\n",
              "  </tbody>\n",
              "</table>\n",
              "</div>"
            ],
            "text/plain": [
              "                     installment_T  days.with.cr.line_T  revol.bal_T\n",
              "installment_T             1.000000             0.205538     0.324531\n",
              "days.with.cr.line_T       0.205538             1.000000     0.318978\n",
              "revol.bal_T               0.324531             0.318978     1.000000"
            ]
          },
          "metadata": {
            "tags": []
          },
          "execution_count": 41
        }
      ]
    },
    {
      "cell_type": "code",
      "metadata": {
        "id": "2Z6kB4FIffSi",
        "colab": {
          "base_uri": "https://localhost:8080/"
        },
        "outputId": "08b0312a-9629-45c3-9f87-84f98235766c"
      },
      "source": [
        "loanData['inq.last.6mths'].value_counts()"
      ],
      "execution_count": null,
      "outputs": [
        {
          "output_type": "execute_result",
          "data": {
            "text/plain": [
              "0     3637\n",
              "1     2462\n",
              "2     1384\n",
              "3      864\n",
              "4      475\n",
              "5      278\n",
              "6      165\n",
              "7      100\n",
              "8       72\n",
              "9       47\n",
              "10      23\n",
              "11      15\n",
              "12      15\n",
              "15       9\n",
              "13       6\n",
              "14       6\n",
              "18       4\n",
              "16       3\n",
              "24       2\n",
              "19       2\n",
              "17       2\n",
              "27       1\n",
              "28       1\n",
              "25       1\n",
              "32       1\n",
              "20       1\n",
              "33       1\n",
              "31       1\n",
              "Name: inq.last.6mths, dtype: int64"
            ]
          },
          "metadata": {
            "tags": []
          },
          "execution_count": 42
        }
      ]
    },
    {
      "cell_type": "code",
      "metadata": {
        "id": "CDb1EiwQarD2",
        "colab": {
          "base_uri": "https://localhost:8080/",
          "height": 382
        },
        "outputId": "e1cc7eed-f849-474f-bfd1-8f008ab0ec87"
      },
      "source": [
        "sns.displot(loanData[loanData['not.fully.paid']==0]['inq.last.6mths'])"
      ],
      "execution_count": null,
      "outputs": [
        {
          "output_type": "execute_result",
          "data": {
            "text/plain": [
              "<seaborn.axisgrid.FacetGrid at 0x7fbaae63b1d0>"
            ]
          },
          "metadata": {
            "tags": []
          },
          "execution_count": 43
        },
        {
          "output_type": "display_data",
          "data": {
            "image/png": "[encoded data removed]",
            "text/plain": [
              "<Figure size 360x360 with 1 Axes>"
            ]
          },
          "metadata": {
            "tags": []
          }
        }
      ]
    },
    {
      "cell_type": "code",
      "metadata": {
        "id": "aDLhFrIAYVRW",
        "colab": {
          "base_uri": "https://localhost:8080/",
          "height": 382
        },
        "outputId": "371a35ed-c314-48ec-ae57-a69dd35f02f7"
      },
      "source": [
        "sns.displot(loanData[loanData['not.fully.paid']==1]['inq.last.6mths'])"
      ],
      "execution_count": null,
      "outputs": [
        {
          "output_type": "execute_result",
          "data": {
            "text/plain": [
              "<seaborn.axisgrid.FacetGrid at 0x7fbaae3e5ba8>"
            ]
          },
          "metadata": {
            "tags": []
          },
          "execution_count": 44
        },
        {
          "output_type": "display_data",
          "data": {
            "image/png": "[encoded data removed]",
            "text/plain": [
              "<Figure size 360x360 with 1 Axes>"
            ]
          },
          "metadata": {
            "tags": []
          }
        }
      ]
    },
    {
      "cell_type": "markdown",
      "metadata": {
        "id": "MDN5wfR80bUI"
      },
      "source": [
        "Looking at the above distribution plots for both 0 & 1 values of outcome, inq.last.6mths does not seem to make much impact on 'not.fully.paid', so dropping this feature."
      ]
    },
    {
      "cell_type": "code",
      "metadata": {
        "id": "FaeQTkzh0NrP"
      },
      "source": [
        "loanData.drop(columns=['inq.last.6mths'],inplace=True)"
      ],
      "execution_count": null,
      "outputs": []
    },
    {
      "cell_type": "code",
      "metadata": {
        "colab": {
          "base_uri": "https://localhost:8080/"
        },
        "id": "iSgyvPPl0ODi",
        "outputId": "1590224b-1508-4fff-a807-c18ff8d7f97a"
      },
      "source": [
        "loanData['delinq.2yrs'].value_counts()"
      ],
      "execution_count": null,
      "outputs": [
        {
          "output_type": "execute_result",
          "data": {
            "text/plain": [
              "0     8458\n",
              "1      832\n",
              "2      192\n",
              "3       65\n",
              "4       19\n",
              "5        6\n",
              "6        2\n",
              "7        1\n",
              "13       1\n",
              "11       1\n",
              "8        1\n",
              "Name: delinq.2yrs, dtype: int64"
            ]
          },
          "metadata": {
            "tags": []
          },
          "execution_count": 46
        }
      ]
    },
    {
      "cell_type": "code",
      "metadata": {
        "colab": {
          "base_uri": "https://localhost:8080/",
          "height": 416
        },
        "id": "UWHDTa5t0OTd",
        "outputId": "42c6baba-0995-48a5-e0f3-0178e48e44c9"
      },
      "source": [
        "sns.displot(data=loanData[loanData['not.fully.paid']==0][loanData['delinq.2yrs']!=0]['delinq.2yrs'])"
      ],
      "execution_count": null,
      "outputs": [
        {
          "output_type": "stream",
          "text": [
            "/usr/local/lib/python3.6/dist-packages/ipykernel_launcher.py:1: UserWarning: Boolean Series key will be reindexed to match DataFrame index.\n",
            "  \"\"\"Entry point for launching an IPython kernel.\n"
          ],
          "name": "stderr"
        },
        {
          "output_type": "execute_result",
          "data": {
            "text/plain": [
              "<seaborn.axisgrid.FacetGrid at 0x7fbaae26f550>"
            ]
          },
          "metadata": {
            "tags": []
          },
          "execution_count": 47
        },
        {
          "output_type": "display_data",
          "data": {
            "image/png": "[encoded data removed]",
            "text/plain": [
              "<Figure size 360x360 with 1 Axes>"
            ]
          },
          "metadata": {
            "tags": []
          }
        }
      ]
    },
    {
      "cell_type": "code",
      "metadata": {
        "colab": {
          "base_uri": "https://localhost:8080/",
          "height": 416
        },
        "id": "scsID2zC0Oey",
        "outputId": "c14cc3b7-8c23-4069-ca28-49a3847aa236"
      },
      "source": [
        "sns.displot(loanData[loanData['not.fully.paid']==1][loanData['delinq.2yrs']!=0]['delinq.2yrs'])"
      ],
      "execution_count": null,
      "outputs": [
        {
          "output_type": "stream",
          "text": [
            "/usr/local/lib/python3.6/dist-packages/ipykernel_launcher.py:1: UserWarning: Boolean Series key will be reindexed to match DataFrame index.\n",
            "  \"\"\"Entry point for launching an IPython kernel.\n"
          ],
          "name": "stderr"
        },
        {
          "output_type": "execute_result",
          "data": {
            "text/plain": [
              "<seaborn.axisgrid.FacetGrid at 0x7fbaae171b00>"
            ]
          },
          "metadata": {
            "tags": []
          },
          "execution_count": 48
        },
        {
          "output_type": "display_data",
          "data": {
            "image/png": "[encoded data removed]",
            "text/plain": [
              "<Figure size 360x360 with 1 Axes>"
            ]
          },
          "metadata": {
            "tags": []
          }
        }
      ]
    },
    {
      "cell_type": "code",
      "metadata": {
        "id": "PT05KbLp0OqI",
        "colab": {
          "base_uri": "https://localhost:8080/",
          "height": 356
        },
        "outputId": "baaf3458-b429-4e02-d967-42aa1d1ace4c"
      },
      "source": [
        "sns.barplot(loanData['not.fully.paid'],loanData['delinq.2yrs'])"
      ],
      "execution_count": null,
      "outputs": [
        {
          "output_type": "stream",
          "text": [
            "/usr/local/lib/python3.6/dist-packages/seaborn/_decorators.py:43: FutureWarning: Pass the following variables as keyword args: x, y. From version 0.12, the only valid positional argument will be `data`, and passing other arguments without an explicit keyword will result in an error or misinterpretation.\n",
            "  FutureWarning\n"
          ],
          "name": "stderr"
        },
        {
          "output_type": "execute_result",
          "data": {
            "text/plain": [
              "<matplotlib.axes._subplots.AxesSubplot at 0x7fbaae157358>"
            ]
          },
          "metadata": {
            "tags": []
          },
          "execution_count": 49
        },
        {
          "output_type": "display_data",
          "data": {
            "image/png": "[encoded data removed]",
            "text/plain": [
              "<Figure size 432x288 with 1 Axes>"
            ]
          },
          "metadata": {
            "tags": []
          }
        }
      ]
    },
    {
      "cell_type": "markdown",
      "metadata": {
        "id": "i9-IZ_4S4-QP"
      },
      "source": [
        "delin.2yrs does not seem to be making much impact on outcome, observed distribution of delin.2yrs with respect to not.fully.paid, not dropping this feature for now."
      ]
    },
    {
      "cell_type": "code",
      "metadata": {
        "id": "EB_oBypG0O2h",
        "colab": {
          "base_uri": "https://localhost:8080/"
        },
        "outputId": "f8813b3b-7908-4271-833e-1d34e664798a"
      },
      "source": [
        "loanData['pub.rec'].value_counts()"
      ],
      "execution_count": null,
      "outputs": [
        {
          "output_type": "execute_result",
          "data": {
            "text/plain": [
              "0    9019\n",
              "1     533\n",
              "2      19\n",
              "3       5\n",
              "5       1\n",
              "4       1\n",
              "Name: pub.rec, dtype: int64"
            ]
          },
          "metadata": {
            "tags": []
          },
          "execution_count": 50
        }
      ]
    },
    {
      "cell_type": "code",
      "metadata": {
        "id": "950ojf4N0PBX",
        "colab": {
          "base_uri": "https://localhost:8080/",
          "height": 416
        },
        "outputId": "889b9196-0dd2-43e8-991a-3953084b362a"
      },
      "source": [
        "sns.displot(loanData[loanData['not.fully.paid']==1][loanData['pub.rec']!=0]['pub.rec'])"
      ],
      "execution_count": null,
      "outputs": [
        {
          "output_type": "stream",
          "text": [
            "/usr/local/lib/python3.6/dist-packages/ipykernel_launcher.py:1: UserWarning: Boolean Series key will be reindexed to match DataFrame index.\n",
            "  \"\"\"Entry point for launching an IPython kernel.\n"
          ],
          "name": "stderr"
        },
        {
          "output_type": "execute_result",
          "data": {
            "text/plain": [
              "<seaborn.axisgrid.FacetGrid at 0x7fbaae0ac6d8>"
            ]
          },
          "metadata": {
            "tags": []
          },
          "execution_count": 51
        },
        {
          "output_type": "display_data",
          "data": {
            "image/png": "[encoded data removed]",
            "text/plain": [
              "<Figure size 360x360 with 1 Axes>"
            ]
          },
          "metadata": {
            "tags": []
          }
        }
      ]
    },
    {
      "cell_type": "code",
      "metadata": {
        "id": "0BhfsT5l0PQp",
        "colab": {
          "base_uri": "https://localhost:8080/",
          "height": 416
        },
        "outputId": "14108fed-d071-4e60-9597-c7b46b00e3c1"
      },
      "source": [
        "sns.displot(loanData[loanData['not.fully.paid']==0][loanData['pub.rec']!=0]['pub.rec'])"
      ],
      "execution_count": null,
      "outputs": [
        {
          "output_type": "stream",
          "text": [
            "/usr/local/lib/python3.6/dist-packages/ipykernel_launcher.py:1: UserWarning: Boolean Series key will be reindexed to match DataFrame index.\n",
            "  \"\"\"Entry point for launching an IPython kernel.\n"
          ],
          "name": "stderr"
        },
        {
          "output_type": "execute_result",
          "data": {
            "text/plain": [
              "<seaborn.axisgrid.FacetGrid at 0x7fbaae098dd8>"
            ]
          },
          "metadata": {
            "tags": []
          },
          "execution_count": 52
        },
        {
          "output_type": "display_data",
          "data": {
            "image/png": "[encoded data removed]",
            "text/plain": [
              "<Figure size 360x360 with 1 Axes>"
            ]
          },
          "metadata": {
            "tags": []
          }
        }
      ]
    },
    {
      "cell_type": "markdown",
      "metadata": {
        "id": "WnBDQkio7CKF"
      },
      "source": [
        "Dropping pub.rec, as majority of them are zeros, also for non-zero values, distribution does not change w.r.t not.fully.paid."
      ]
    },
    {
      "cell_type": "code",
      "metadata": {
        "id": "hAmjB1xz6rRN"
      },
      "source": [
        "loanData.drop(columns=['pub.rec'],inplace=True)"
      ],
      "execution_count": null,
      "outputs": []
    },
    {
      "cell_type": "code",
      "metadata": {
        "colab": {
          "base_uri": "https://localhost:8080/",
          "height": 224
        },
        "id": "QhF_0baS6reT",
        "outputId": "7e954258-8193-4ad8-c76c-4b1d898c87eb"
      },
      "source": [
        "loanData.head()"
      ],
      "execution_count": null,
      "outputs": [
        {
          "output_type": "execute_result",
          "data": {
            "text/html": [
              "<div>\n",
              "<style scoped>\n",
              "    .dataframe tbody tr th:only-of-type {\n",
              "        vertical-align: middle;\n",
              "    }\n",
              "\n",
              "    .dataframe tbody tr th {\n",
              "        vertical-align: top;\n",
              "    }\n",
              "\n",
              "    .dataframe thead th {\n",
              "        text-align: right;\n",
              "    }\n",
              "</style>\n",
              "<table border=\"1\" class=\"dataframe\">\n",
              "  <thead>\n",
              "    <tr style=\"text-align: right;\">\n",
              "      <th></th>\n",
              "      <th>credit.policy</th>\n",
              "      <th>int.rate</th>\n",
              "      <th>log.annual.inc</th>\n",
              "      <th>dti</th>\n",
              "      <th>fico</th>\n",
              "      <th>revol.util</th>\n",
              "      <th>delinq.2yrs</th>\n",
              "      <th>not.fully.paid</th>\n",
              "      <th>purpose_all_other</th>\n",
              "      <th>purpose_credit_card</th>\n",
              "      <th>purpose_debt_consolidation</th>\n",
              "      <th>purpose_educational</th>\n",
              "      <th>purpose_home_improvement</th>\n",
              "      <th>purpose_major_purchase</th>\n",
              "      <th>purpose_small_business</th>\n",
              "      <th>installment_T</th>\n",
              "      <th>days.with.cr.line_T</th>\n",
              "      <th>revol.bal_T</th>\n",
              "    </tr>\n",
              "  </thead>\n",
              "  <tbody>\n",
              "    <tr>\n",
              "      <th>0</th>\n",
              "      <td>1</td>\n",
              "      <td>0.1189</td>\n",
              "      <td>11.350407</td>\n",
              "      <td>19.48</td>\n",
              "      <td>737</td>\n",
              "      <td>52.1</td>\n",
              "      <td>0</td>\n",
              "      <td>0</td>\n",
              "      <td>0.0</td>\n",
              "      <td>0.0</td>\n",
              "      <td>1.0</td>\n",
              "      <td>0.0</td>\n",
              "      <td>0.0</td>\n",
              "      <td>0.0</td>\n",
              "      <td>0.0</td>\n",
              "      <td>28.794097</td>\n",
              "      <td>75.099656</td>\n",
              "      <td>30.671523</td>\n",
              "    </tr>\n",
              "    <tr>\n",
              "      <th>1</th>\n",
              "      <td>1</td>\n",
              "      <td>0.1071</td>\n",
              "      <td>11.082143</td>\n",
              "      <td>14.29</td>\n",
              "      <td>707</td>\n",
              "      <td>76.7</td>\n",
              "      <td>0</td>\n",
              "      <td>0</td>\n",
              "      <td>0.0</td>\n",
              "      <td>1.0</td>\n",
              "      <td>0.0</td>\n",
              "      <td>0.0</td>\n",
              "      <td>0.0</td>\n",
              "      <td>0.0</td>\n",
              "      <td>0.0</td>\n",
              "      <td>15.106952</td>\n",
              "      <td>52.535702</td>\n",
              "      <td>32.275934</td>\n",
              "    </tr>\n",
              "    <tr>\n",
              "      <th>2</th>\n",
              "      <td>1</td>\n",
              "      <td>0.1357</td>\n",
              "      <td>10.373491</td>\n",
              "      <td>11.63</td>\n",
              "      <td>682</td>\n",
              "      <td>25.6</td>\n",
              "      <td>0</td>\n",
              "      <td>0</td>\n",
              "      <td>0.0</td>\n",
              "      <td>0.0</td>\n",
              "      <td>1.0</td>\n",
              "      <td>0.0</td>\n",
              "      <td>0.0</td>\n",
              "      <td>0.0</td>\n",
              "      <td>0.0</td>\n",
              "      <td>19.153590</td>\n",
              "      <td>68.629440</td>\n",
              "      <td>15.198834</td>\n",
              "    </tr>\n",
              "    <tr>\n",
              "      <th>3</th>\n",
              "      <td>1</td>\n",
              "      <td>0.1008</td>\n",
              "      <td>11.350407</td>\n",
              "      <td>8.10</td>\n",
              "      <td>712</td>\n",
              "      <td>73.2</td>\n",
              "      <td>0</td>\n",
              "      <td>0</td>\n",
              "      <td>0.0</td>\n",
              "      <td>0.0</td>\n",
              "      <td>1.0</td>\n",
              "      <td>0.0</td>\n",
              "      <td>0.0</td>\n",
              "      <td>0.0</td>\n",
              "      <td>0.0</td>\n",
              "      <td>12.741272</td>\n",
              "      <td>51.961123</td>\n",
              "      <td>32.290007</td>\n",
              "    </tr>\n",
              "    <tr>\n",
              "      <th>4</th>\n",
              "      <td>1</td>\n",
              "      <td>0.1426</td>\n",
              "      <td>11.299732</td>\n",
              "      <td>14.97</td>\n",
              "      <td>667</td>\n",
              "      <td>39.5</td>\n",
              "      <td>1</td>\n",
              "      <td>0</td>\n",
              "      <td>0.0</td>\n",
              "      <td>1.0</td>\n",
              "      <td>0.0</td>\n",
              "      <td>0.0</td>\n",
              "      <td>0.0</td>\n",
              "      <td>0.0</td>\n",
              "      <td>0.0</td>\n",
              "      <td>10.144949</td>\n",
              "      <td>63.765194</td>\n",
              "      <td>16.798072</td>\n",
              "    </tr>\n",
              "  </tbody>\n",
              "</table>\n",
              "</div>"
            ],
            "text/plain": [
              "   credit.policy  int.rate  ...  days.with.cr.line_T  revol.bal_T\n",
              "0              1    0.1189  ...            75.099656    30.671523\n",
              "1              1    0.1071  ...            52.535702    32.275934\n",
              "2              1    0.1357  ...            68.629440    15.198834\n",
              "3              1    0.1008  ...            51.961123    32.290007\n",
              "4              1    0.1426  ...            63.765194    16.798072\n",
              "\n",
              "[5 rows x 18 columns]"
            ]
          },
          "metadata": {
            "tags": []
          },
          "execution_count": 54
        }
      ]
    },
    {
      "cell_type": "code",
      "metadata": {
        "id": "Xsi-d9muPZio",
        "colab": {
          "base_uri": "https://localhost:8080/"
        },
        "outputId": "5137011e-5f93-43a2-f736-28245e46cb75"
      },
      "source": [
        "loanData['not.fully.paid'].value_counts()"
      ],
      "execution_count": null,
      "outputs": [
        {
          "output_type": "execute_result",
          "data": {
            "text/plain": [
              "0    8045\n",
              "1    1533\n",
              "Name: not.fully.paid, dtype: int64"
            ]
          },
          "metadata": {
            "tags": []
          },
          "execution_count": 95
        }
      ]
    },
    {
      "cell_type": "code",
      "metadata": {
        "id": "6ZUHs-6cRCc2"
      },
      "source": [
        "features=loanData.drop(columns=['credit.policy','not.fully.paid']).values\r\n",
        "label=loanData[['not.fully.paid']].values"
      ],
      "execution_count": null,
      "outputs": []
    },
    {
      "cell_type": "markdown",
      "metadata": {
        "id": "azmUh3pEPt2L"
      },
      "source": [
        "**Data is highly imbalanced, so we need to balance the data**"
      ]
    },
    {
      "cell_type": "code",
      "metadata": {
        "id": "1AbDtTEoPrZm"
      },
      "source": [
        "from imblearn.over_sampling import SMOTE"
      ],
      "execution_count": null,
      "outputs": []
    },
    {
      "cell_type": "code",
      "metadata": {
        "id": "8TTtYiruQUu0"
      },
      "source": [
        "smote=SMOTE(k_neighbors=2,random_state=10)"
      ],
      "execution_count": null,
      "outputs": []
    },
    {
      "cell_type": "code",
      "metadata": {
        "colab": {
          "base_uri": "https://localhost:8080/"
        },
        "id": "1LxqtA_cQVqV",
        "outputId": "e558a328-9c5a-49bc-fea8-676bf7465776"
      },
      "source": [
        "features,label=smote.fit_resample(features,label)"
      ],
      "execution_count": null,
      "outputs": [
        {
          "output_type": "stream",
          "text": [
            "/usr/local/lib/python3.6/dist-packages/sklearn/utils/validation.py:760: DataConversionWarning: A column-vector y was passed when a 1d array was expected. Please change the shape of y to (n_samples, ), for example using ravel().\n",
            "  y = column_or_1d(y, warn=True)\n",
            "/usr/local/lib/python3.6/dist-packages/sklearn/utils/deprecation.py:87: FutureWarning: Function safe_indexing is deprecated; safe_indexing is deprecated in version 0.22 and will be removed in version 0.24.\n",
            "  warnings.warn(msg, category=FutureWarning)\n"
          ],
          "name": "stderr"
        }
      ]
    },
    {
      "cell_type": "code",
      "metadata": {
        "id": "REF9aDcbQWxc"
      },
      "source": [
        ""
      ],
      "execution_count": null,
      "outputs": []
    },
    {
      "cell_type": "code",
      "metadata": {
        "id": "b8sZVvr56r10"
      },
      "source": [
        ""
      ],
      "execution_count": null,
      "outputs": []
    },
    {
      "cell_type": "code",
      "metadata": {
        "id": "sHKPA9Jo6sBO",
        "colab": {
          "base_uri": "https://localhost:8080/"
        },
        "outputId": "edb6f541-c361-4771-db01-a1e623d7b5d0"
      },
      "source": [
        "print(features.shape)\r\n",
        "print(label[label==0].shape)\r\n",
        "print(label[label==1].shape)"
      ],
      "execution_count": null,
      "outputs": [
        {
          "output_type": "stream",
          "text": [
            "(16090, 16)\n",
            "(8045,)\n",
            "(8045,)\n"
          ],
          "name": "stdout"
        }
      ]
    },
    {
      "cell_type": "code",
      "metadata": {
        "id": "Ir_mN6DB6shJ"
      },
      "source": [
        "from sklearn.preprocessing import StandardScaler"
      ],
      "execution_count": null,
      "outputs": []
    },
    {
      "cell_type": "code",
      "metadata": {
        "id": "eYb6-htv6swV"
      },
      "source": [
        "stdSclr=StandardScaler()"
      ],
      "execution_count": null,
      "outputs": []
    },
    {
      "cell_type": "code",
      "metadata": {
        "id": "a78DFrXEK4j_"
      },
      "source": [
        "stdFeatures=stdSclr.fit_transform(features)"
      ],
      "execution_count": null,
      "outputs": []
    },
    {
      "cell_type": "code",
      "metadata": {
        "id": "l9E0-MZ9K4Ka"
      },
      "source": [
        "from sklearn.model_selection import train_test_split"
      ],
      "execution_count": null,
      "outputs": []
    },
    {
      "cell_type": "code",
      "metadata": {
        "id": "jpVv57UgK3xb"
      },
      "source": [
        "x_train,x_test,y_train,y_test=train_test_split(stdFeatures,label,train_size=0.8,random_state=10)"
      ],
      "execution_count": null,
      "outputs": []
    },
    {
      "cell_type": "code",
      "metadata": {
        "id": "oJvaxfrgK3VT"
      },
      "source": [
        "import tensorflow as tf"
      ],
      "execution_count": null,
      "outputs": []
    },
    {
      "cell_type": "code",
      "metadata": {
        "id": "a09iJt51L1YO"
      },
      "source": [
        "loanANNModel = tf.keras.models.Sequential()"
      ],
      "execution_count": null,
      "outputs": []
    },
    {
      "cell_type": "markdown",
      "metadata": {
        "id": "FWAclRCIOjYD"
      },
      "source": [
        "Input layer with 16 features.\r\n",
        "Input & Hidden layers with relu activation function\r\n",
        "label is a binary classification outcome, so using activation as sigmoid with 2 neurons"
      ]
    },
    {
      "cell_type": "code",
      "metadata": {
        "id": "nyxjwlcnL0yA"
      },
      "source": [
        "loanANNModel.add(tf.keras.layers.Dense(units=100,activation='relu',input_shape=(16,)))\r\n",
        "loanANNModel.add(tf.keras.layers.Dense(units=100,activation='relu'))\r\n",
        "loanANNModel.add(tf.keras.layers.Dense(units=100,activation='relu'))\r\n",
        "loanANNModel.add(tf.keras.layers.Dense(units=100,activation='relu'))\r\n",
        "loanANNModel.add(tf.keras.layers.Dense(units=1,activation='sigmoid'))"
      ],
      "execution_count": null,
      "outputs": []
    },
    {
      "cell_type": "code",
      "metadata": {
        "id": "RlKEMg0wL0IE"
      },
      "source": [
        "loanANNModel.compile(optimizer='sgd',loss='binary_crossentropy',metrics='accuracy')"
      ],
      "execution_count": null,
      "outputs": []
    },
    {
      "cell_type": "code",
      "metadata": {
        "id": "VGraX9mLLzS1",
        "colab": {
          "base_uri": "https://localhost:8080/"
        },
        "outputId": "a1b38cd8-8a3c-4196-8fb3-86da2b456af9"
      },
      "source": [
        "loanANNModel.fit(x_train,y_train,epochs=1000,validation_data=(x_test,y_test))"
      ],
      "execution_count": null,
      "outputs": [
        {
          "output_type": "stream",
          "text": [
            "Epoch 1/1000\n",
            "403/403 [==============================] - 2s 3ms/step - loss: 0.6927 - accuracy: 0.5116 - val_loss: 0.6930 - val_accuracy: 0.5047\n",
            "Epoch 2/1000\n",
            "403/403 [==============================] - 1s 2ms/step - loss: 0.6931 - accuracy: 0.5019 - val_loss: 0.6930 - val_accuracy: 0.5208\n",
            "Epoch 3/1000\n",
            "403/403 [==============================] - 1s 2ms/step - loss: 0.6929 - accuracy: 0.5119 - val_loss: 0.6931 - val_accuracy: 0.4953\n",
            "Epoch 4/1000\n",
            "403/403 [==============================] - 1s 2ms/step - loss: 0.6930 - accuracy: 0.5098 - val_loss: 0.6932 - val_accuracy: 0.4953\n",
            "Epoch 5/1000\n",
            "403/403 [==============================] - 1s 2ms/step - loss: 0.6931 - accuracy: 0.5017 - val_loss: 0.6929 - val_accuracy: 0.5373\n",
            "Epoch 6/1000\n",
            "403/403 [==============================] - 1s 2ms/step - loss: 0.6929 - accuracy: 0.5031 - val_loss: 0.6929 - val_accuracy: 0.5059\n",
            "Epoch 7/1000\n",
            "403/403 [==============================] - 1s 2ms/step - loss: 0.6928 - accuracy: 0.5147 - val_loss: 0.6927 - val_accuracy: 0.5047\n",
            "Epoch 8/1000\n",
            "403/403 [==============================] - 1s 2ms/step - loss: 0.6929 - accuracy: 0.5188 - val_loss: 0.6926 - val_accuracy: 0.5385\n",
            "Epoch 9/1000\n",
            "403/403 [==============================] - 1s 2ms/step - loss: 0.6924 - accuracy: 0.5281 - val_loss: 0.6924 - val_accuracy: 0.5320\n",
            "Epoch 10/1000\n",
            "403/403 [==============================] - 1s 2ms/step - loss: 0.6923 - accuracy: 0.5391 - val_loss: 0.6919 - val_accuracy: 0.5569\n",
            "Epoch 11/1000\n",
            "403/403 [==============================] - 1s 2ms/step - loss: 0.6918 - accuracy: 0.5554 - val_loss: 0.6913 - val_accuracy: 0.5556\n",
            "Epoch 12/1000\n",
            "403/403 [==============================] - 1s 2ms/step - loss: 0.6915 - accuracy: 0.5481 - val_loss: 0.6905 - val_accuracy: 0.5740\n",
            "Epoch 13/1000\n",
            "403/403 [==============================] - 1s 2ms/step - loss: 0.6906 - accuracy: 0.5659 - val_loss: 0.6894 - val_accuracy: 0.5873\n",
            "Epoch 14/1000\n",
            "403/403 [==============================] - 1s 2ms/step - loss: 0.6893 - accuracy: 0.5760 - val_loss: 0.6875 - val_accuracy: 0.5938\n",
            "Epoch 15/1000\n",
            "403/403 [==============================] - 1s 2ms/step - loss: 0.6873 - accuracy: 0.5826 - val_loss: 0.6847 - val_accuracy: 0.5926\n",
            "Epoch 16/1000\n",
            "403/403 [==============================] - 1s 2ms/step - loss: 0.6836 - accuracy: 0.5964 - val_loss: 0.6790 - val_accuracy: 0.6050\n",
            "Epoch 17/1000\n",
            "403/403 [==============================] - 1s 2ms/step - loss: 0.6782 - accuracy: 0.5991 - val_loss: 0.6710 - val_accuracy: 0.6150\n",
            "Epoch 18/1000\n",
            "403/403 [==============================] - 1s 2ms/step - loss: 0.6695 - accuracy: 0.6065 - val_loss: 0.6595 - val_accuracy: 0.6237\n",
            "Epoch 19/1000\n",
            "403/403 [==============================] - 1s 2ms/step - loss: 0.6565 - accuracy: 0.6260 - val_loss: 0.6447 - val_accuracy: 0.6380\n",
            "Epoch 20/1000\n",
            "403/403 [==============================] - 1s 2ms/step - loss: 0.6410 - accuracy: 0.6415 - val_loss: 0.6263 - val_accuracy: 0.6597\n",
            "Epoch 21/1000\n",
            "403/403 [==============================] - 1s 2ms/step - loss: 0.6207 - accuracy: 0.6574 - val_loss: 0.5989 - val_accuracy: 0.6933\n",
            "Epoch 22/1000\n",
            "403/403 [==============================] - 1s 2ms/step - loss: 0.5901 - accuracy: 0.6916 - val_loss: 0.5602 - val_accuracy: 0.7110\n",
            "Epoch 23/1000\n",
            "403/403 [==============================] - 1s 2ms/step - loss: 0.5470 - accuracy: 0.7225 - val_loss: 0.5402 - val_accuracy: 0.7247\n",
            "Epoch 24/1000\n",
            "403/403 [==============================] - 1s 2ms/step - loss: 0.5076 - accuracy: 0.7431 - val_loss: 0.5259 - val_accuracy: 0.7209\n",
            "Epoch 25/1000\n",
            "403/403 [==============================] - 1s 2ms/step - loss: 0.4835 - accuracy: 0.7528 - val_loss: 0.6606 - val_accuracy: 0.6172\n",
            "Epoch 26/1000\n",
            "403/403 [==============================] - 1s 2ms/step - loss: 0.4775 - accuracy: 0.7548 - val_loss: 0.4857 - val_accuracy: 0.7458\n",
            "Epoch 27/1000\n",
            "403/403 [==============================] - 1s 2ms/step - loss: 0.4515 - accuracy: 0.7674 - val_loss: 0.5242 - val_accuracy: 0.7275\n",
            "Epoch 28/1000\n",
            "403/403 [==============================] - 1s 2ms/step - loss: 0.4435 - accuracy: 0.7733 - val_loss: 0.5480 - val_accuracy: 0.7352\n",
            "Epoch 29/1000\n",
            "403/403 [==============================] - 1s 2ms/step - loss: 0.4471 - accuracy: 0.7743 - val_loss: 0.5022 - val_accuracy: 0.7455\n",
            "Epoch 30/1000\n",
            "403/403 [==============================] - 1s 2ms/step - loss: 0.4390 - accuracy: 0.7822 - val_loss: 0.5042 - val_accuracy: 0.7455\n",
            "Epoch 31/1000\n",
            "403/403 [==============================] - 1s 2ms/step - loss: 0.4233 - accuracy: 0.7927 - val_loss: 0.4506 - val_accuracy: 0.7710\n",
            "Epoch 32/1000\n",
            "403/403 [==============================] - 1s 2ms/step - loss: 0.4225 - accuracy: 0.7894 - val_loss: 0.4871 - val_accuracy: 0.7526\n",
            "Epoch 33/1000\n",
            "403/403 [==============================] - 1s 2ms/step - loss: 0.4209 - accuracy: 0.7897 - val_loss: 0.4636 - val_accuracy: 0.7725\n",
            "Epoch 34/1000\n",
            "403/403 [==============================] - 1s 2ms/step - loss: 0.4120 - accuracy: 0.7950 - val_loss: 0.7032 - val_accuracy: 0.7020\n",
            "Epoch 35/1000\n",
            "403/403 [==============================] - 1s 2ms/step - loss: 0.4167 - accuracy: 0.7935 - val_loss: 0.6494 - val_accuracy: 0.6846\n",
            "Epoch 36/1000\n",
            "403/403 [==============================] - 1s 2ms/step - loss: 0.4067 - accuracy: 0.8039 - val_loss: 0.4403 - val_accuracy: 0.7679\n",
            "Epoch 37/1000\n",
            "403/403 [==============================] - 1s 2ms/step - loss: 0.4009 - accuracy: 0.8022 - val_loss: 0.4322 - val_accuracy: 0.7862\n",
            "Epoch 38/1000\n",
            "403/403 [==============================] - 1s 2ms/step - loss: 0.3914 - accuracy: 0.8053 - val_loss: 0.5006 - val_accuracy: 0.7514\n",
            "Epoch 39/1000\n",
            "403/403 [==============================] - 1s 2ms/step - loss: 0.3833 - accuracy: 0.8139 - val_loss: 0.4314 - val_accuracy: 0.7856\n",
            "Epoch 40/1000\n",
            "403/403 [==============================] - 1s 2ms/step - loss: 0.3888 - accuracy: 0.8105 - val_loss: 0.4414 - val_accuracy: 0.7763\n",
            "Epoch 41/1000\n",
            "403/403 [==============================] - 1s 2ms/step - loss: 0.3798 - accuracy: 0.8168 - val_loss: 0.4645 - val_accuracy: 0.7570\n",
            "Epoch 42/1000\n",
            "403/403 [==============================] - 1s 2ms/step - loss: 0.3768 - accuracy: 0.8178 - val_loss: 0.4767 - val_accuracy: 0.7700\n",
            "Epoch 43/1000\n",
            "403/403 [==============================] - 1s 2ms/step - loss: 0.3805 - accuracy: 0.8154 - val_loss: 0.4634 - val_accuracy: 0.7688\n",
            "Epoch 44/1000\n",
            "403/403 [==============================] - 1s 2ms/step - loss: 0.3838 - accuracy: 0.8135 - val_loss: 0.4840 - val_accuracy: 0.7542\n",
            "Epoch 45/1000\n",
            "403/403 [==============================] - 1s 2ms/step - loss: 0.3674 - accuracy: 0.8260 - val_loss: 0.4735 - val_accuracy: 0.7722\n",
            "Epoch 46/1000\n",
            "403/403 [==============================] - 1s 2ms/step - loss: 0.3613 - accuracy: 0.8265 - val_loss: 0.8659 - val_accuracy: 0.6973\n",
            "Epoch 47/1000\n",
            "403/403 [==============================] - 1s 2ms/step - loss: 0.3688 - accuracy: 0.8270 - val_loss: 0.4915 - val_accuracy: 0.7430\n",
            "Epoch 48/1000\n",
            "403/403 [==============================] - 1s 2ms/step - loss: 0.3503 - accuracy: 0.8305 - val_loss: 0.4096 - val_accuracy: 0.8033\n",
            "Epoch 49/1000\n",
            "403/403 [==============================] - 1s 2ms/step - loss: 0.3584 - accuracy: 0.8329 - val_loss: 0.5219 - val_accuracy: 0.7390\n",
            "Epoch 50/1000\n",
            "403/403 [==============================] - 1s 2ms/step - loss: 0.3520 - accuracy: 0.8308 - val_loss: 0.5318 - val_accuracy: 0.7393\n",
            "Epoch 51/1000\n",
            "403/403 [==============================] - 1s 2ms/step - loss: 0.3581 - accuracy: 0.8294 - val_loss: 0.6566 - val_accuracy: 0.6992\n",
            "Epoch 52/1000\n",
            "403/403 [==============================] - 1s 2ms/step - loss: 0.3574 - accuracy: 0.8327 - val_loss: 0.5512 - val_accuracy: 0.7405\n",
            "Epoch 53/1000\n",
            "403/403 [==============================] - 1s 2ms/step - loss: 0.3526 - accuracy: 0.8357 - val_loss: 0.5478 - val_accuracy: 0.7452\n",
            "Epoch 54/1000\n",
            "403/403 [==============================] - 1s 2ms/step - loss: 0.3551 - accuracy: 0.8313 - val_loss: 0.4291 - val_accuracy: 0.7927\n",
            "Epoch 55/1000\n",
            "403/403 [==============================] - 1s 2ms/step - loss: 0.3283 - accuracy: 0.8467 - val_loss: 0.7534 - val_accuracy: 0.7135\n",
            "Epoch 56/1000\n",
            "403/403 [==============================] - 1s 2ms/step - loss: 0.3510 - accuracy: 0.8376 - val_loss: 0.5369 - val_accuracy: 0.7660\n",
            "Epoch 57/1000\n",
            "403/403 [==============================] - 1s 2ms/step - loss: 0.3406 - accuracy: 0.8389 - val_loss: 0.4517 - val_accuracy: 0.7909\n",
            "Epoch 58/1000\n",
            "403/403 [==============================] - 1s 2ms/step - loss: 0.3318 - accuracy: 0.8485 - val_loss: 0.4653 - val_accuracy: 0.7831\n",
            "Epoch 59/1000\n",
            "403/403 [==============================] - 1s 2ms/step - loss: 0.3332 - accuracy: 0.8465 - val_loss: 0.4591 - val_accuracy: 0.7791\n",
            "Epoch 60/1000\n",
            "403/403 [==============================] - 1s 2ms/step - loss: 0.3321 - accuracy: 0.8453 - val_loss: 0.4593 - val_accuracy: 0.7977\n",
            "Epoch 61/1000\n",
            "403/403 [==============================] - 1s 2ms/step - loss: 0.3263 - accuracy: 0.8488 - val_loss: 0.6491 - val_accuracy: 0.6998\n",
            "Epoch 62/1000\n",
            "403/403 [==============================] - 1s 2ms/step - loss: 0.3173 - accuracy: 0.8509 - val_loss: 0.5040 - val_accuracy: 0.7688\n",
            "Epoch 63/1000\n",
            "403/403 [==============================] - 1s 2ms/step - loss: 0.3196 - accuracy: 0.8507 - val_loss: 0.4161 - val_accuracy: 0.8017\n",
            "Epoch 64/1000\n",
            "403/403 [==============================] - 1s 2ms/step - loss: 0.3106 - accuracy: 0.8592 - val_loss: 0.4406 - val_accuracy: 0.7955\n",
            "Epoch 65/1000\n",
            "403/403 [==============================] - 1s 2ms/step - loss: 0.3069 - accuracy: 0.8629 - val_loss: 0.4529 - val_accuracy: 0.7961\n",
            "Epoch 66/1000\n",
            "403/403 [==============================] - 1s 2ms/step - loss: 0.3074 - accuracy: 0.8605 - val_loss: 0.5009 - val_accuracy: 0.7809\n",
            "Epoch 67/1000\n",
            "403/403 [==============================] - 1s 2ms/step - loss: 0.3025 - accuracy: 0.8591 - val_loss: 0.4734 - val_accuracy: 0.7884\n",
            "Epoch 68/1000\n",
            "403/403 [==============================] - 1s 2ms/step - loss: 0.3051 - accuracy: 0.8588 - val_loss: 0.5284 - val_accuracy: 0.7834\n",
            "Epoch 69/1000\n",
            "403/403 [==============================] - 1s 2ms/step - loss: 0.2967 - accuracy: 0.8609 - val_loss: 0.4964 - val_accuracy: 0.7859\n",
            "Epoch 70/1000\n",
            "403/403 [==============================] - 1s 2ms/step - loss: 0.3034 - accuracy: 0.8607 - val_loss: 0.5924 - val_accuracy: 0.7685\n",
            "Epoch 71/1000\n",
            "403/403 [==============================] - 1s 2ms/step - loss: 0.2952 - accuracy: 0.8676 - val_loss: 0.7344 - val_accuracy: 0.7371\n",
            "Epoch 72/1000\n",
            "403/403 [==============================] - 1s 2ms/step - loss: 0.2955 - accuracy: 0.8686 - val_loss: 0.4344 - val_accuracy: 0.8145\n",
            "Epoch 73/1000\n",
            "403/403 [==============================] - 1s 2ms/step - loss: 0.2792 - accuracy: 0.8767 - val_loss: 0.4662 - val_accuracy: 0.7921\n",
            "Epoch 74/1000\n",
            "403/403 [==============================] - 1s 2ms/step - loss: 0.2854 - accuracy: 0.8746 - val_loss: 0.4661 - val_accuracy: 0.8008\n",
            "Epoch 75/1000\n",
            "403/403 [==============================] - 1s 2ms/step - loss: 0.2811 - accuracy: 0.8744 - val_loss: 0.5756 - val_accuracy: 0.7511\n",
            "Epoch 76/1000\n",
            "403/403 [==============================] - 1s 2ms/step - loss: 0.2918 - accuracy: 0.8696 - val_loss: 0.4399 - val_accuracy: 0.8163\n",
            "Epoch 77/1000\n",
            "403/403 [==============================] - 1s 2ms/step - loss: 0.2755 - accuracy: 0.8800 - val_loss: 0.5038 - val_accuracy: 0.7843\n",
            "Epoch 78/1000\n",
            "403/403 [==============================] - 1s 2ms/step - loss: 0.2720 - accuracy: 0.8810 - val_loss: 0.4159 - val_accuracy: 0.8139\n",
            "Epoch 79/1000\n",
            "403/403 [==============================] - 1s 2ms/step - loss: 0.2627 - accuracy: 0.8835 - val_loss: 0.4208 - val_accuracy: 0.8173\n",
            "Epoch 80/1000\n",
            "403/403 [==============================] - 2s 4ms/step - loss: 0.2555 - accuracy: 0.8912 - val_loss: 0.4293 - val_accuracy: 0.8135\n",
            "Epoch 81/1000\n",
            "403/403 [==============================] - 1s 2ms/step - loss: 0.2565 - accuracy: 0.8853 - val_loss: 0.5315 - val_accuracy: 0.7859\n",
            "Epoch 82/1000\n",
            "403/403 [==============================] - 1s 2ms/step - loss: 0.2649 - accuracy: 0.8844 - val_loss: 0.5305 - val_accuracy: 0.7890\n",
            "Epoch 83/1000\n",
            "403/403 [==============================] - 1s 2ms/step - loss: 0.2723 - accuracy: 0.8802 - val_loss: 0.4231 - val_accuracy: 0.8145\n",
            "Epoch 84/1000\n",
            "403/403 [==============================] - 1s 2ms/step - loss: 0.2645 - accuracy: 0.8847 - val_loss: 0.4363 - val_accuracy: 0.8123\n",
            "Epoch 85/1000\n",
            "403/403 [==============================] - 1s 2ms/step - loss: 0.2376 - accuracy: 0.8939 - val_loss: 0.3943 - val_accuracy: 0.8341\n",
            "Epoch 86/1000\n",
            "403/403 [==============================] - 1s 2ms/step - loss: 0.2488 - accuracy: 0.8891 - val_loss: 0.4410 - val_accuracy: 0.8244\n",
            "Epoch 87/1000\n",
            "403/403 [==============================] - 1s 2ms/step - loss: 0.2533 - accuracy: 0.8905 - val_loss: 0.5017 - val_accuracy: 0.8045\n",
            "Epoch 88/1000\n",
            "403/403 [==============================] - 1s 2ms/step - loss: 0.2523 - accuracy: 0.8914 - val_loss: 0.5010 - val_accuracy: 0.7915\n",
            "Epoch 89/1000\n",
            "403/403 [==============================] - 1s 2ms/step - loss: 0.2327 - accuracy: 0.8972 - val_loss: 0.4357 - val_accuracy: 0.8167\n",
            "Epoch 90/1000\n",
            "403/403 [==============================] - 1s 2ms/step - loss: 0.2302 - accuracy: 0.9039 - val_loss: 0.4943 - val_accuracy: 0.7971\n",
            "Epoch 91/1000\n",
            "403/403 [==============================] - 1s 2ms/step - loss: 0.2393 - accuracy: 0.8947 - val_loss: 0.6155 - val_accuracy: 0.7822\n",
            "Epoch 92/1000\n",
            "403/403 [==============================] - 1s 2ms/step - loss: 0.2310 - accuracy: 0.9094 - val_loss: 0.4324 - val_accuracy: 0.8188\n",
            "Epoch 93/1000\n",
            "403/403 [==============================] - 1s 2ms/step - loss: 0.2209 - accuracy: 0.9058 - val_loss: 0.4397 - val_accuracy: 0.8188\n",
            "Epoch 94/1000\n",
            "403/403 [==============================] - 1s 2ms/step - loss: 0.2175 - accuracy: 0.9087 - val_loss: 0.5875 - val_accuracy: 0.7732\n",
            "Epoch 95/1000\n",
            "403/403 [==============================] - 1s 2ms/step - loss: 0.2183 - accuracy: 0.9099 - val_loss: 0.4989 - val_accuracy: 0.8086\n",
            "Epoch 96/1000\n",
            "403/403 [==============================] - 1s 2ms/step - loss: 0.2150 - accuracy: 0.9077 - val_loss: 0.4614 - val_accuracy: 0.8154\n",
            "Epoch 97/1000\n",
            "403/403 [==============================] - 1s 2ms/step - loss: 0.2100 - accuracy: 0.9108 - val_loss: 0.5099 - val_accuracy: 0.8042\n",
            "Epoch 98/1000\n",
            "403/403 [==============================] - 1s 2ms/step - loss: 0.2184 - accuracy: 0.9126 - val_loss: 0.4541 - val_accuracy: 0.8182\n",
            "Epoch 99/1000\n",
            "403/403 [==============================] - 1s 2ms/step - loss: 0.2033 - accuracy: 0.9140 - val_loss: 0.7072 - val_accuracy: 0.7492\n",
            "Epoch 100/1000\n",
            "403/403 [==============================] - 1s 2ms/step - loss: 0.2163 - accuracy: 0.9092 - val_loss: 0.6251 - val_accuracy: 0.7890\n",
            "Epoch 101/1000\n",
            "403/403 [==============================] - 1s 2ms/step - loss: 0.2183 - accuracy: 0.9052 - val_loss: 0.4354 - val_accuracy: 0.8350\n",
            "Epoch 102/1000\n",
            "403/403 [==============================] - 1s 2ms/step - loss: 0.1972 - accuracy: 0.9186 - val_loss: 0.5117 - val_accuracy: 0.7971\n",
            "Epoch 103/1000\n",
            "403/403 [==============================] - 1s 2ms/step - loss: 0.2114 - accuracy: 0.9132 - val_loss: 0.6835 - val_accuracy: 0.7663\n",
            "Epoch 104/1000\n",
            "403/403 [==============================] - 1s 2ms/step - loss: 0.1948 - accuracy: 0.9177 - val_loss: 0.4810 - val_accuracy: 0.8170\n",
            "Epoch 105/1000\n",
            "403/403 [==============================] - 1s 2ms/step - loss: 0.2079 - accuracy: 0.9108 - val_loss: 0.4752 - val_accuracy: 0.8176\n",
            "Epoch 106/1000\n",
            "403/403 [==============================] - 1s 2ms/step - loss: 0.1735 - accuracy: 0.9270 - val_loss: 0.7803 - val_accuracy: 0.7433\n",
            "Epoch 107/1000\n",
            "403/403 [==============================] - 1s 2ms/step - loss: 0.1967 - accuracy: 0.9167 - val_loss: 0.4338 - val_accuracy: 0.8403\n",
            "Epoch 108/1000\n",
            "403/403 [==============================] - 1s 2ms/step - loss: 0.1902 - accuracy: 0.9206 - val_loss: 0.4316 - val_accuracy: 0.8341\n",
            "Epoch 109/1000\n",
            "403/403 [==============================] - 1s 2ms/step - loss: 0.1702 - accuracy: 0.9328 - val_loss: 0.4864 - val_accuracy: 0.8247\n",
            "Epoch 110/1000\n",
            "403/403 [==============================] - 1s 2ms/step - loss: 0.1914 - accuracy: 0.9207 - val_loss: 0.4601 - val_accuracy: 0.8306\n",
            "Epoch 111/1000\n",
            "403/403 [==============================] - 1s 2ms/step - loss: 0.1819 - accuracy: 0.9309 - val_loss: 0.4430 - val_accuracy: 0.8334\n",
            "Epoch 112/1000\n",
            "403/403 [==============================] - 1s 2ms/step - loss: 0.1685 - accuracy: 0.9342 - val_loss: 0.4430 - val_accuracy: 0.8397\n",
            "Epoch 113/1000\n",
            "403/403 [==============================] - 1s 2ms/step - loss: 0.1761 - accuracy: 0.9255 - val_loss: 0.5644 - val_accuracy: 0.8095\n",
            "Epoch 114/1000\n",
            "403/403 [==============================] - 1s 2ms/step - loss: 0.1695 - accuracy: 0.9305 - val_loss: 0.8482 - val_accuracy: 0.7505\n",
            "Epoch 115/1000\n",
            "403/403 [==============================] - 1s 2ms/step - loss: 0.1888 - accuracy: 0.9211 - val_loss: 0.4433 - val_accuracy: 0.8397\n",
            "Epoch 116/1000\n",
            "403/403 [==============================] - 1s 2ms/step - loss: 0.1611 - accuracy: 0.9343 - val_loss: 0.4264 - val_accuracy: 0.8452\n",
            "Epoch 117/1000\n",
            "403/403 [==============================] - 1s 2ms/step - loss: 0.1729 - accuracy: 0.9307 - val_loss: 0.4412 - val_accuracy: 0.8400\n",
            "Epoch 118/1000\n",
            "403/403 [==============================] - 1s 2ms/step - loss: 0.1681 - accuracy: 0.9312 - val_loss: 0.4855 - val_accuracy: 0.8278\n",
            "Epoch 119/1000\n",
            "403/403 [==============================] - 1s 2ms/step - loss: 0.1490 - accuracy: 0.9425 - val_loss: 0.4185 - val_accuracy: 0.8487\n",
            "Epoch 120/1000\n",
            "403/403 [==============================] - 1s 2ms/step - loss: 0.1481 - accuracy: 0.9421 - val_loss: 0.4404 - val_accuracy: 0.8403\n",
            "Epoch 121/1000\n",
            "403/403 [==============================] - 1s 2ms/step - loss: 0.1700 - accuracy: 0.9294 - val_loss: 0.4714 - val_accuracy: 0.8415\n",
            "Epoch 122/1000\n",
            "403/403 [==============================] - 1s 2ms/step - loss: 0.1572 - accuracy: 0.9345 - val_loss: 0.4970 - val_accuracy: 0.8337\n",
            "Epoch 123/1000\n",
            "403/403 [==============================] - 1s 2ms/step - loss: 0.1445 - accuracy: 0.9441 - val_loss: 0.4462 - val_accuracy: 0.8406\n",
            "Epoch 124/1000\n",
            "403/403 [==============================] - 1s 2ms/step - loss: 0.1454 - accuracy: 0.9411 - val_loss: 1.3720 - val_accuracy: 0.6718\n",
            "Epoch 125/1000\n",
            "403/403 [==============================] - 1s 2ms/step - loss: 0.1676 - accuracy: 0.9340 - val_loss: 0.6739 - val_accuracy: 0.7921\n",
            "Epoch 126/1000\n",
            "403/403 [==============================] - 1s 2ms/step - loss: 0.1562 - accuracy: 0.9387 - val_loss: 0.6445 - val_accuracy: 0.7937\n",
            "Epoch 127/1000\n",
            "403/403 [==============================] - 1s 2ms/step - loss: 0.1374 - accuracy: 0.9480 - val_loss: 0.4791 - val_accuracy: 0.8397\n",
            "Epoch 128/1000\n",
            "403/403 [==============================] - 1s 2ms/step - loss: 0.1396 - accuracy: 0.9456 - val_loss: 0.4932 - val_accuracy: 0.8412\n",
            "Epoch 129/1000\n",
            "403/403 [==============================] - 1s 2ms/step - loss: 0.1409 - accuracy: 0.9435 - val_loss: 0.5168 - val_accuracy: 0.8359\n",
            "Epoch 130/1000\n",
            "403/403 [==============================] - 1s 2ms/step - loss: 0.1435 - accuracy: 0.9470 - val_loss: 0.7506 - val_accuracy: 0.7704\n",
            "Epoch 131/1000\n",
            "403/403 [==============================] - 1s 2ms/step - loss: 0.1400 - accuracy: 0.9455 - val_loss: 0.7782 - val_accuracy: 0.7797\n",
            "Epoch 132/1000\n",
            "403/403 [==============================] - 1s 2ms/step - loss: 0.1302 - accuracy: 0.9501 - val_loss: 0.6453 - val_accuracy: 0.7989\n",
            "Epoch 133/1000\n",
            "403/403 [==============================] - 1s 2ms/step - loss: 0.1517 - accuracy: 0.9425 - val_loss: 0.4856 - val_accuracy: 0.8449\n",
            "Epoch 134/1000\n",
            "403/403 [==============================] - 1s 2ms/step - loss: 0.1187 - accuracy: 0.9551 - val_loss: 0.5613 - val_accuracy: 0.8232\n",
            "Epoch 135/1000\n",
            "403/403 [==============================] - 1s 2ms/step - loss: 0.1256 - accuracy: 0.9545 - val_loss: 0.4375 - val_accuracy: 0.8639\n",
            "Epoch 136/1000\n",
            "403/403 [==============================] - 1s 2ms/step - loss: 0.1262 - accuracy: 0.9522 - val_loss: 0.4723 - val_accuracy: 0.8583\n",
            "Epoch 137/1000\n",
            "403/403 [==============================] - 1s 2ms/step - loss: 0.1192 - accuracy: 0.9540 - val_loss: 0.8237 - val_accuracy: 0.7756\n",
            "Epoch 138/1000\n",
            "403/403 [==============================] - 1s 2ms/step - loss: 0.1208 - accuracy: 0.9536 - val_loss: 0.4560 - val_accuracy: 0.8564\n",
            "Epoch 139/1000\n",
            "403/403 [==============================] - 1s 2ms/step - loss: 0.1249 - accuracy: 0.9537 - val_loss: 0.5528 - val_accuracy: 0.8341\n",
            "Epoch 140/1000\n",
            "403/403 [==============================] - 1s 2ms/step - loss: 0.1452 - accuracy: 0.9415 - val_loss: 0.7108 - val_accuracy: 0.7958\n",
            "Epoch 141/1000\n",
            "403/403 [==============================] - 1s 2ms/step - loss: 0.1303 - accuracy: 0.9496 - val_loss: 0.5278 - val_accuracy: 0.8474\n",
            "Epoch 142/1000\n",
            "403/403 [==============================] - 1s 2ms/step - loss: 0.1054 - accuracy: 0.9610 - val_loss: 0.4374 - val_accuracy: 0.8620\n",
            "Epoch 143/1000\n",
            "403/403 [==============================] - 1s 2ms/step - loss: 0.0954 - accuracy: 0.9643 - val_loss: 0.5323 - val_accuracy: 0.8384\n",
            "Epoch 144/1000\n",
            "403/403 [==============================] - 1s 2ms/step - loss: 0.1048 - accuracy: 0.9592 - val_loss: 0.4760 - val_accuracy: 0.8583\n",
            "Epoch 145/1000\n",
            "403/403 [==============================] - 1s 2ms/step - loss: 0.1056 - accuracy: 0.9613 - val_loss: 0.5521 - val_accuracy: 0.8331\n",
            "Epoch 146/1000\n",
            "403/403 [==============================] - 1s 2ms/step - loss: 0.1067 - accuracy: 0.9577 - val_loss: 0.5720 - val_accuracy: 0.8272\n",
            "Epoch 147/1000\n",
            "403/403 [==============================] - 1s 2ms/step - loss: 0.1181 - accuracy: 0.9555 - val_loss: 0.9385 - val_accuracy: 0.7732\n",
            "Epoch 148/1000\n",
            "403/403 [==============================] - 1s 2ms/step - loss: 0.1158 - accuracy: 0.9593 - val_loss: 0.8177 - val_accuracy: 0.7732\n",
            "Epoch 149/1000\n",
            "403/403 [==============================] - 1s 2ms/step - loss: 0.1335 - accuracy: 0.9523 - val_loss: 0.5051 - val_accuracy: 0.8459\n",
            "Epoch 150/1000\n",
            "403/403 [==============================] - 1s 2ms/step - loss: 0.0914 - accuracy: 0.9658 - val_loss: 0.4943 - val_accuracy: 0.8577\n",
            "Epoch 151/1000\n",
            "403/403 [==============================] - 1s 2ms/step - loss: 0.0968 - accuracy: 0.9643 - val_loss: 0.5843 - val_accuracy: 0.8179\n",
            "Epoch 152/1000\n",
            "403/403 [==============================] - 1s 2ms/step - loss: 0.0901 - accuracy: 0.9671 - val_loss: 0.6948 - val_accuracy: 0.8067\n",
            "Epoch 153/1000\n",
            "403/403 [==============================] - 1s 2ms/step - loss: 0.1125 - accuracy: 0.9569 - val_loss: 0.5323 - val_accuracy: 0.8403\n",
            "Epoch 154/1000\n",
            "403/403 [==============================] - 1s 2ms/step - loss: 0.1049 - accuracy: 0.9617 - val_loss: 0.5181 - val_accuracy: 0.8515\n",
            "Epoch 155/1000\n",
            "403/403 [==============================] - 1s 2ms/step - loss: 0.0833 - accuracy: 0.9685 - val_loss: 0.4941 - val_accuracy: 0.8561\n",
            "Epoch 156/1000\n",
            "403/403 [==============================] - 1s 2ms/step - loss: 0.0853 - accuracy: 0.9666 - val_loss: 0.5867 - val_accuracy: 0.8365\n",
            "Epoch 157/1000\n",
            "403/403 [==============================] - 1s 2ms/step - loss: 0.0872 - accuracy: 0.9677 - val_loss: 0.7209 - val_accuracy: 0.8142\n",
            "Epoch 158/1000\n",
            "403/403 [==============================] - 1s 2ms/step - loss: 0.0875 - accuracy: 0.9726 - val_loss: 0.9307 - val_accuracy: 0.7728\n",
            "Epoch 159/1000\n",
            "403/403 [==============================] - 1s 2ms/step - loss: 0.0999 - accuracy: 0.9620 - val_loss: 0.5704 - val_accuracy: 0.8431\n",
            "Epoch 160/1000\n",
            "403/403 [==============================] - 1s 2ms/step - loss: 0.0861 - accuracy: 0.9673 - val_loss: 0.6258 - val_accuracy: 0.8250\n",
            "Epoch 161/1000\n",
            "403/403 [==============================] - 1s 2ms/step - loss: 0.1115 - accuracy: 0.9604 - val_loss: 0.7548 - val_accuracy: 0.7940\n",
            "Epoch 162/1000\n",
            "403/403 [==============================] - 1s 2ms/step - loss: 0.0822 - accuracy: 0.9697 - val_loss: 0.4846 - val_accuracy: 0.8595\n",
            "Epoch 163/1000\n",
            "403/403 [==============================] - 1s 2ms/step - loss: 0.0962 - accuracy: 0.9647 - val_loss: 0.5117 - val_accuracy: 0.8499\n",
            "Epoch 164/1000\n",
            "403/403 [==============================] - 1s 2ms/step - loss: 0.0779 - accuracy: 0.9746 - val_loss: 0.5517 - val_accuracy: 0.8424\n",
            "Epoch 165/1000\n",
            "403/403 [==============================] - 1s 2ms/step - loss: 0.0770 - accuracy: 0.9710 - val_loss: 0.4810 - val_accuracy: 0.8667\n",
            "Epoch 166/1000\n",
            "403/403 [==============================] - 1s 2ms/step - loss: 0.0648 - accuracy: 0.9775 - val_loss: 0.5214 - val_accuracy: 0.8558\n",
            "Epoch 167/1000\n",
            "403/403 [==============================] - 1s 2ms/step - loss: 0.0787 - accuracy: 0.9719 - val_loss: 0.7185 - val_accuracy: 0.8160\n",
            "Epoch 168/1000\n",
            "403/403 [==============================] - 1s 2ms/step - loss: 0.0910 - accuracy: 0.9694 - val_loss: 0.5478 - val_accuracy: 0.8567\n",
            "Epoch 169/1000\n",
            "403/403 [==============================] - 1s 2ms/step - loss: 0.0772 - accuracy: 0.9745 - val_loss: 0.5356 - val_accuracy: 0.8518\n",
            "Epoch 170/1000\n",
            "403/403 [==============================] - 1s 2ms/step - loss: 0.0599 - accuracy: 0.9786 - val_loss: 0.4916 - val_accuracy: 0.8654\n",
            "Epoch 171/1000\n",
            "403/403 [==============================] - 1s 2ms/step - loss: 0.0839 - accuracy: 0.9684 - val_loss: 1.2565 - val_accuracy: 0.7035\n",
            "Epoch 172/1000\n",
            "403/403 [==============================] - 1s 2ms/step - loss: 0.1184 - accuracy: 0.9603 - val_loss: 0.4938 - val_accuracy: 0.8670\n",
            "Epoch 173/1000\n",
            "403/403 [==============================] - 1s 2ms/step - loss: 0.0562 - accuracy: 0.9812 - val_loss: 0.5684 - val_accuracy: 0.8571\n",
            "Epoch 174/1000\n",
            "403/403 [==============================] - 1s 2ms/step - loss: 0.0630 - accuracy: 0.9781 - val_loss: 0.6004 - val_accuracy: 0.8412\n",
            "Epoch 175/1000\n",
            "403/403 [==============================] - 1s 2ms/step - loss: 0.0764 - accuracy: 0.9708 - val_loss: 0.5023 - val_accuracy: 0.8648\n",
            "Epoch 176/1000\n",
            "403/403 [==============================] - 1s 2ms/step - loss: 0.0719 - accuracy: 0.9740 - val_loss: 0.5255 - val_accuracy: 0.8617\n",
            "Epoch 177/1000\n",
            "403/403 [==============================] - 1s 2ms/step - loss: 0.0645 - accuracy: 0.9772 - val_loss: 0.5021 - val_accuracy: 0.8720\n",
            "Epoch 178/1000\n",
            "403/403 [==============================] - 1s 2ms/step - loss: 0.0463 - accuracy: 0.9843 - val_loss: 0.5493 - val_accuracy: 0.8639\n",
            "Epoch 179/1000\n",
            "403/403 [==============================] - 1s 2ms/step - loss: 0.0629 - accuracy: 0.9770 - val_loss: 0.5742 - val_accuracy: 0.8546\n",
            "Epoch 180/1000\n",
            "403/403 [==============================] - 1s 2ms/step - loss: 0.0708 - accuracy: 0.9730 - val_loss: 0.4840 - val_accuracy: 0.8661\n",
            "Epoch 181/1000\n",
            "403/403 [==============================] - 1s 2ms/step - loss: 0.0474 - accuracy: 0.9848 - val_loss: 0.6782 - val_accuracy: 0.8409\n",
            "Epoch 182/1000\n",
            "403/403 [==============================] - 1s 2ms/step - loss: 0.0533 - accuracy: 0.9818 - val_loss: 0.9400 - val_accuracy: 0.8064\n",
            "Epoch 183/1000\n",
            "403/403 [==============================] - 1s 2ms/step - loss: 0.1039 - accuracy: 0.9639 - val_loss: 0.4799 - val_accuracy: 0.8676\n",
            "Epoch 184/1000\n",
            "403/403 [==============================] - 1s 2ms/step - loss: 0.0672 - accuracy: 0.9750 - val_loss: 0.5745 - val_accuracy: 0.8496\n",
            "Epoch 185/1000\n",
            "403/403 [==============================] - 1s 2ms/step - loss: 0.0576 - accuracy: 0.9810 - val_loss: 0.6059 - val_accuracy: 0.8477\n",
            "Epoch 186/1000\n",
            "403/403 [==============================] - 1s 2ms/step - loss: 0.0628 - accuracy: 0.9784 - val_loss: 0.5737 - val_accuracy: 0.8561\n",
            "Epoch 187/1000\n",
            "403/403 [==============================] - 1s 2ms/step - loss: 0.0570 - accuracy: 0.9808 - val_loss: 0.5116 - val_accuracy: 0.8707\n",
            "Epoch 188/1000\n",
            "403/403 [==============================] - 1s 2ms/step - loss: 0.0489 - accuracy: 0.9838 - val_loss: 0.5509 - val_accuracy: 0.8614\n",
            "Epoch 189/1000\n",
            "403/403 [==============================] - 1s 2ms/step - loss: 0.0757 - accuracy: 0.9726 - val_loss: 0.5178 - val_accuracy: 0.8595\n",
            "Epoch 190/1000\n",
            "403/403 [==============================] - 1s 2ms/step - loss: 0.0389 - accuracy: 0.9872 - val_loss: 0.5307 - val_accuracy: 0.8679\n",
            "Epoch 191/1000\n",
            "403/403 [==============================] - 1s 2ms/step - loss: 0.0453 - accuracy: 0.9856 - val_loss: 0.5040 - val_accuracy: 0.8769\n",
            "Epoch 192/1000\n",
            "403/403 [==============================] - 1s 2ms/step - loss: 0.0463 - accuracy: 0.9837 - val_loss: 0.5107 - val_accuracy: 0.8636\n",
            "Epoch 193/1000\n",
            "403/403 [==============================] - 1s 2ms/step - loss: 0.0384 - accuracy: 0.9882 - val_loss: 0.5505 - val_accuracy: 0.8633\n",
            "Epoch 194/1000\n",
            "403/403 [==============================] - 1s 2ms/step - loss: 0.0362 - accuracy: 0.9882 - val_loss: 0.7195 - val_accuracy: 0.8263\n",
            "Epoch 195/1000\n",
            "403/403 [==============================] - 1s 2ms/step - loss: 0.0866 - accuracy: 0.9712 - val_loss: 0.6323 - val_accuracy: 0.8378\n",
            "Epoch 196/1000\n",
            "403/403 [==============================] - 1s 2ms/step - loss: 0.0646 - accuracy: 0.9774 - val_loss: 0.5248 - val_accuracy: 0.8754\n",
            "Epoch 197/1000\n",
            "403/403 [==============================] - 1s 2ms/step - loss: 0.0355 - accuracy: 0.9896 - val_loss: 0.5559 - val_accuracy: 0.8599\n",
            "Epoch 198/1000\n",
            "403/403 [==============================] - 1s 2ms/step - loss: 0.0561 - accuracy: 0.9797 - val_loss: 0.5563 - val_accuracy: 0.8602\n",
            "Epoch 199/1000\n",
            "403/403 [==============================] - 1s 2ms/step - loss: 0.0693 - accuracy: 0.9763 - val_loss: 0.5383 - val_accuracy: 0.8679\n",
            "Epoch 200/1000\n",
            "403/403 [==============================] - 1s 2ms/step - loss: 0.0310 - accuracy: 0.9897 - val_loss: 0.6059 - val_accuracy: 0.8602\n",
            "Epoch 201/1000\n",
            "403/403 [==============================] - 1s 2ms/step - loss: 0.0292 - accuracy: 0.9907 - val_loss: 0.6652 - val_accuracy: 0.8372\n",
            "Epoch 202/1000\n",
            "403/403 [==============================] - 1s 2ms/step - loss: 0.0707 - accuracy: 0.9732 - val_loss: 0.4997 - val_accuracy: 0.8751\n",
            "Epoch 203/1000\n",
            "403/403 [==============================] - 1s 2ms/step - loss: 0.0414 - accuracy: 0.9864 - val_loss: 0.6026 - val_accuracy: 0.8546\n",
            "Epoch 204/1000\n",
            "403/403 [==============================] - 1s 2ms/step - loss: 0.0456 - accuracy: 0.9812 - val_loss: 0.5832 - val_accuracy: 0.8614\n",
            "Epoch 205/1000\n",
            "403/403 [==============================] - 1s 3ms/step - loss: 0.0364 - accuracy: 0.9864 - val_loss: 0.5965 - val_accuracy: 0.8667\n",
            "Epoch 206/1000\n",
            "403/403 [==============================] - 1s 2ms/step - loss: 0.0407 - accuracy: 0.9867 - val_loss: 0.5560 - val_accuracy: 0.8636\n",
            "Epoch 207/1000\n",
            "403/403 [==============================] - 1s 2ms/step - loss: 0.0622 - accuracy: 0.9794 - val_loss: 0.5269 - val_accuracy: 0.8695\n",
            "Epoch 208/1000\n",
            "403/403 [==============================] - 1s 2ms/step - loss: 0.0368 - accuracy: 0.9879 - val_loss: 0.5922 - val_accuracy: 0.8704\n",
            "Epoch 209/1000\n",
            "403/403 [==============================] - 1s 2ms/step - loss: 0.0266 - accuracy: 0.9918 - val_loss: 0.5882 - val_accuracy: 0.8611\n",
            "Epoch 210/1000\n",
            "403/403 [==============================] - 1s 2ms/step - loss: 0.0588 - accuracy: 0.9810 - val_loss: 0.5811 - val_accuracy: 0.8527\n",
            "Epoch 211/1000\n",
            "403/403 [==============================] - 1s 2ms/step - loss: 0.0472 - accuracy: 0.9825 - val_loss: 0.6441 - val_accuracy: 0.8505\n",
            "Epoch 212/1000\n",
            "403/403 [==============================] - 1s 2ms/step - loss: 0.0454 - accuracy: 0.9852 - val_loss: 0.5708 - val_accuracy: 0.8689\n",
            "Epoch 213/1000\n",
            "403/403 [==============================] - 1s 2ms/step - loss: 0.0350 - accuracy: 0.9882 - val_loss: 0.5468 - val_accuracy: 0.8648\n",
            "Epoch 214/1000\n",
            "403/403 [==============================] - 1s 2ms/step - loss: 0.0424 - accuracy: 0.9849 - val_loss: 0.5756 - val_accuracy: 0.8633\n",
            "Epoch 215/1000\n",
            "403/403 [==============================] - 1s 3ms/step - loss: 0.0297 - accuracy: 0.9921 - val_loss: 0.5687 - val_accuracy: 0.8611\n",
            "Epoch 216/1000\n",
            "403/403 [==============================] - 1s 2ms/step - loss: 0.0401 - accuracy: 0.9884 - val_loss: 0.6606 - val_accuracy: 0.8484\n",
            "Epoch 217/1000\n",
            "403/403 [==============================] - 1s 2ms/step - loss: 0.0528 - accuracy: 0.9814 - val_loss: 0.6696 - val_accuracy: 0.8477\n",
            "Epoch 218/1000\n",
            "403/403 [==============================] - 1s 2ms/step - loss: 0.0253 - accuracy: 0.9924 - val_loss: 0.5907 - val_accuracy: 0.8664\n",
            "Epoch 219/1000\n",
            "403/403 [==============================] - 1s 2ms/step - loss: 0.0457 - accuracy: 0.9854 - val_loss: 0.5850 - val_accuracy: 0.8689\n",
            "Epoch 220/1000\n",
            "403/403 [==============================] - 1s 2ms/step - loss: 0.0418 - accuracy: 0.9849 - val_loss: 0.9878 - val_accuracy: 0.7965\n",
            "Epoch 221/1000\n",
            "403/403 [==============================] - 1s 2ms/step - loss: 0.0676 - accuracy: 0.9769 - val_loss: 0.6145 - val_accuracy: 0.8558\n",
            "Epoch 222/1000\n",
            "403/403 [==============================] - 1s 2ms/step - loss: 0.0431 - accuracy: 0.9859 - val_loss: 0.5538 - val_accuracy: 0.8717\n",
            "Epoch 223/1000\n",
            "403/403 [==============================] - 1s 2ms/step - loss: 0.0332 - accuracy: 0.9881 - val_loss: 0.5416 - val_accuracy: 0.8676\n",
            "Epoch 224/1000\n",
            "403/403 [==============================] - 1s 2ms/step - loss: 0.0167 - accuracy: 0.9953 - val_loss: 0.5047 - val_accuracy: 0.8825\n",
            "Epoch 225/1000\n",
            "403/403 [==============================] - 1s 2ms/step - loss: 0.0106 - accuracy: 0.9971 - val_loss: 0.5687 - val_accuracy: 0.8788\n",
            "Epoch 226/1000\n",
            "403/403 [==============================] - 1s 2ms/step - loss: 0.0049 - accuracy: 0.9995 - val_loss: 0.5901 - val_accuracy: 0.8794\n",
            "Epoch 227/1000\n",
            "403/403 [==============================] - 1s 2ms/step - loss: 0.0084 - accuracy: 0.9984 - val_loss: 0.6270 - val_accuracy: 0.8726\n",
            "Epoch 228/1000\n",
            "403/403 [==============================] - 1s 2ms/step - loss: 0.0032 - accuracy: 0.9998 - val_loss: 0.6388 - val_accuracy: 0.8735\n",
            "Epoch 229/1000\n",
            "403/403 [==============================] - 1s 2ms/step - loss: 0.0036 - accuracy: 0.9997 - val_loss: 0.6116 - val_accuracy: 0.8822\n",
            "Epoch 230/1000\n",
            "403/403 [==============================] - 1s 2ms/step - loss: 0.0013 - accuracy: 1.0000 - val_loss: 0.6329 - val_accuracy: 0.8797\n",
            "Epoch 231/1000\n",
            "403/403 [==============================] - 1s 2ms/step - loss: 0.0017 - accuracy: 0.9999 - val_loss: 0.6507 - val_accuracy: 0.8791\n",
            "Epoch 232/1000\n",
            "403/403 [==============================] - 1s 2ms/step - loss: 0.0012 - accuracy: 0.9999 - val_loss: 0.6673 - val_accuracy: 0.8763\n",
            "Epoch 233/1000\n",
            "403/403 [==============================] - 1s 2ms/step - loss: 0.0017 - accuracy: 0.9999 - val_loss: 0.6659 - val_accuracy: 0.8782\n",
            "Epoch 234/1000\n",
            "403/403 [==============================] - 1s 2ms/step - loss: 0.0012 - accuracy: 0.9999 - val_loss: 0.6805 - val_accuracy: 0.8766\n",
            "Epoch 235/1000\n",
            "403/403 [==============================] - 1s 2ms/step - loss: 0.0020 - accuracy: 0.9998 - val_loss: 0.6842 - val_accuracy: 0.8769\n",
            "Epoch 236/1000\n",
            "403/403 [==============================] - 1s 2ms/step - loss: 6.2007e-04 - accuracy: 1.0000 - val_loss: 0.6797 - val_accuracy: 0.8776\n",
            "Epoch 237/1000\n",
            "403/403 [==============================] - 1s 2ms/step - loss: 5.7860e-04 - accuracy: 1.0000 - val_loss: 0.6782 - val_accuracy: 0.8807\n",
            "Epoch 238/1000\n",
            "403/403 [==============================] - 1s 2ms/step - loss: 9.5498e-04 - accuracy: 0.9999 - val_loss: 0.6905 - val_accuracy: 0.8791\n",
            "Epoch 239/1000\n",
            "403/403 [==============================] - 1s 2ms/step - loss: 4.7406e-04 - accuracy: 1.0000 - val_loss: 0.6751 - val_accuracy: 0.8807\n",
            "Epoch 240/1000\n",
            "403/403 [==============================] - 2s 4ms/step - loss: 0.1022 - accuracy: 0.9731 - val_loss: 0.5356 - val_accuracy: 0.8695\n",
            "Epoch 241/1000\n",
            "403/403 [==============================] - 1s 2ms/step - loss: 0.0291 - accuracy: 0.9913 - val_loss: 0.5257 - val_accuracy: 0.8698\n",
            "Epoch 242/1000\n",
            "403/403 [==============================] - 1s 2ms/step - loss: 0.0328 - accuracy: 0.9902 - val_loss: 0.5677 - val_accuracy: 0.8707\n",
            "Epoch 243/1000\n",
            "403/403 [==============================] - 1s 2ms/step - loss: 0.0183 - accuracy: 0.9950 - val_loss: 0.6008 - val_accuracy: 0.8686\n",
            "Epoch 244/1000\n",
            "403/403 [==============================] - 1s 2ms/step - loss: 0.0519 - accuracy: 0.9836 - val_loss: 0.6296 - val_accuracy: 0.8505\n",
            "Epoch 245/1000\n",
            "403/403 [==============================] - 1s 2ms/step - loss: 0.0442 - accuracy: 0.9873 - val_loss: 0.7072 - val_accuracy: 0.8397\n",
            "Epoch 246/1000\n",
            "403/403 [==============================] - 1s 2ms/step - loss: 0.0235 - accuracy: 0.9926 - val_loss: 0.5563 - val_accuracy: 0.8804\n",
            "Epoch 247/1000\n",
            "403/403 [==============================] - 1s 2ms/step - loss: 0.0231 - accuracy: 0.9938 - val_loss: 0.6080 - val_accuracy: 0.8717\n",
            "Epoch 248/1000\n",
            "403/403 [==============================] - 1s 2ms/step - loss: 0.0312 - accuracy: 0.9910 - val_loss: 0.5740 - val_accuracy: 0.8664\n",
            "Epoch 249/1000\n",
            "403/403 [==============================] - 1s 2ms/step - loss: 0.0522 - accuracy: 0.9827 - val_loss: 0.8862 - val_accuracy: 0.8170\n",
            "Epoch 250/1000\n",
            "403/403 [==============================] - 1s 2ms/step - loss: 0.0434 - accuracy: 0.9874 - val_loss: 0.6383 - val_accuracy: 0.8617\n",
            "Epoch 251/1000\n",
            "403/403 [==============================] - 1s 2ms/step - loss: 0.0404 - accuracy: 0.9882 - val_loss: 0.5864 - val_accuracy: 0.8599\n",
            "Epoch 252/1000\n",
            "403/403 [==============================] - 1s 2ms/step - loss: 0.0419 - accuracy: 0.9882 - val_loss: 1.3191 - val_accuracy: 0.7520\n",
            "Epoch 253/1000\n",
            "403/403 [==============================] - 1s 2ms/step - loss: 0.0466 - accuracy: 0.9869 - val_loss: 0.5464 - val_accuracy: 0.8788\n",
            "Epoch 254/1000\n",
            "403/403 [==============================] - 1s 2ms/step - loss: 0.0072 - accuracy: 0.9988 - val_loss: 0.5496 - val_accuracy: 0.8832\n",
            "Epoch 255/1000\n",
            "403/403 [==============================] - 1s 2ms/step - loss: 0.0037 - accuracy: 0.9995 - val_loss: 0.5702 - val_accuracy: 0.8844\n",
            "Epoch 256/1000\n",
            "403/403 [==============================] - 1s 2ms/step - loss: 0.0035 - accuracy: 0.9994 - val_loss: 0.6644 - val_accuracy: 0.8701\n",
            "Epoch 257/1000\n",
            "403/403 [==============================] - 1s 2ms/step - loss: 0.0307 - accuracy: 0.9921 - val_loss: 0.6370 - val_accuracy: 0.8645\n",
            "Epoch 258/1000\n",
            "403/403 [==============================] - 1s 2ms/step - loss: 0.0369 - accuracy: 0.9876 - val_loss: 0.6169 - val_accuracy: 0.8682\n",
            "Epoch 259/1000\n",
            "403/403 [==============================] - 1s 2ms/step - loss: 0.0228 - accuracy: 0.9930 - val_loss: 0.5790 - val_accuracy: 0.8748\n",
            "Epoch 260/1000\n",
            "403/403 [==============================] - 1s 2ms/step - loss: 0.0217 - accuracy: 0.9934 - val_loss: 0.5671 - val_accuracy: 0.8785\n",
            "Epoch 261/1000\n",
            "403/403 [==============================] - 1s 2ms/step - loss: 0.0234 - accuracy: 0.9926 - val_loss: 1.3089 - val_accuracy: 0.7732\n",
            "Epoch 262/1000\n",
            "403/403 [==============================] - 1s 2ms/step - loss: 0.0792 - accuracy: 0.9767 - val_loss: 0.5564 - val_accuracy: 0.8695\n",
            "Epoch 263/1000\n",
            "403/403 [==============================] - 1s 2ms/step - loss: 0.0222 - accuracy: 0.9929 - val_loss: 0.5901 - val_accuracy: 0.8726\n",
            "Epoch 264/1000\n",
            "403/403 [==============================] - 1s 2ms/step - loss: 0.0234 - accuracy: 0.9914 - val_loss: 0.6415 - val_accuracy: 0.8620\n",
            "Epoch 265/1000\n",
            "403/403 [==============================] - 1s 2ms/step - loss: 0.0156 - accuracy: 0.9954 - val_loss: 0.5825 - val_accuracy: 0.8773\n",
            "Epoch 266/1000\n",
            "403/403 [==============================] - 1s 2ms/step - loss: 0.0387 - accuracy: 0.9873 - val_loss: 0.5306 - val_accuracy: 0.8779\n",
            "Epoch 267/1000\n",
            "403/403 [==============================] - 1s 2ms/step - loss: 0.0315 - accuracy: 0.9894 - val_loss: 0.5490 - val_accuracy: 0.8807\n",
            "Epoch 268/1000\n",
            "403/403 [==============================] - 1s 2ms/step - loss: 0.0130 - accuracy: 0.9964 - val_loss: 0.5686 - val_accuracy: 0.8704\n",
            "Epoch 269/1000\n",
            "403/403 [==============================] - 1s 2ms/step - loss: 0.0300 - accuracy: 0.9893 - val_loss: 0.5756 - val_accuracy: 0.8717\n",
            "Epoch 270/1000\n",
            "403/403 [==============================] - 1s 2ms/step - loss: 0.0327 - accuracy: 0.9895 - val_loss: 0.5810 - val_accuracy: 0.8673\n",
            "Epoch 271/1000\n",
            "403/403 [==============================] - 1s 2ms/step - loss: 0.0296 - accuracy: 0.9904 - val_loss: 0.5679 - val_accuracy: 0.8760\n",
            "Epoch 272/1000\n",
            "403/403 [==============================] - 1s 2ms/step - loss: 0.0136 - accuracy: 0.9963 - val_loss: 0.6036 - val_accuracy: 0.8732\n",
            "Epoch 273/1000\n",
            "403/403 [==============================] - 1s 2ms/step - loss: 0.0020 - accuracy: 1.0000 - val_loss: 0.5962 - val_accuracy: 0.8819\n",
            "Epoch 274/1000\n",
            "403/403 [==============================] - 1s 2ms/step - loss: 0.0023 - accuracy: 0.9999 - val_loss: 0.6465 - val_accuracy: 0.8751\n",
            "Epoch 275/1000\n",
            "403/403 [==============================] - 1s 2ms/step - loss: 9.1258e-04 - accuracy: 1.0000 - val_loss: 0.6399 - val_accuracy: 0.8760\n",
            "Epoch 276/1000\n",
            "403/403 [==============================] - 1s 2ms/step - loss: 7.9863e-04 - accuracy: 1.0000 - val_loss: 0.6514 - val_accuracy: 0.8779\n",
            "Epoch 277/1000\n",
            "403/403 [==============================] - 1s 2ms/step - loss: 0.0015 - accuracy: 0.9998 - val_loss: 0.6682 - val_accuracy: 0.8776\n",
            "Epoch 278/1000\n",
            "403/403 [==============================] - 1s 2ms/step - loss: 0.0012 - accuracy: 0.9999 - val_loss: 0.6624 - val_accuracy: 0.8800\n",
            "Epoch 279/1000\n",
            "403/403 [==============================] - 1s 2ms/step - loss: 5.5641e-04 - accuracy: 1.0000 - val_loss: 0.6779 - val_accuracy: 0.8776\n",
            "Epoch 280/1000\n",
            "403/403 [==============================] - 1s 2ms/step - loss: 4.3146e-04 - accuracy: 1.0000 - val_loss: 0.6556 - val_accuracy: 0.8863\n",
            "Epoch 281/1000\n",
            "403/403 [==============================] - 1s 2ms/step - loss: 0.0017 - accuracy: 0.9998 - val_loss: 0.6835 - val_accuracy: 0.8804\n",
            "Epoch 282/1000\n",
            "403/403 [==============================] - 1s 2ms/step - loss: 3.8062e-04 - accuracy: 1.0000 - val_loss: 0.6947 - val_accuracy: 0.8791\n",
            "Epoch 283/1000\n",
            "403/403 [==============================] - 1s 2ms/step - loss: 3.3510e-04 - accuracy: 1.0000 - val_loss: 0.6935 - val_accuracy: 0.8828\n",
            "Epoch 284/1000\n",
            "403/403 [==============================] - 1s 2ms/step - loss: 3.4246e-04 - accuracy: 1.0000 - val_loss: 0.7043 - val_accuracy: 0.8822\n",
            "Epoch 285/1000\n",
            "403/403 [==============================] - 1s 2ms/step - loss: 2.8743e-04 - accuracy: 1.0000 - val_loss: 0.7040 - val_accuracy: 0.8819\n",
            "Epoch 286/1000\n",
            "403/403 [==============================] - 1s 2ms/step - loss: 2.6831e-04 - accuracy: 1.0000 - val_loss: 0.7061 - val_accuracy: 0.8825\n",
            "Epoch 287/1000\n",
            "403/403 [==============================] - 1s 2ms/step - loss: 2.5313e-04 - accuracy: 1.0000 - val_loss: 0.7136 - val_accuracy: 0.8822\n",
            "Epoch 288/1000\n",
            "403/403 [==============================] - 1s 2ms/step - loss: 2.4386e-04 - accuracy: 1.0000 - val_loss: 0.7220 - val_accuracy: 0.8825\n",
            "Epoch 289/1000\n",
            "403/403 [==============================] - 1s 2ms/step - loss: 2.3255e-04 - accuracy: 1.0000 - val_loss: 0.7225 - val_accuracy: 0.8832\n",
            "Epoch 290/1000\n",
            "403/403 [==============================] - 1s 2ms/step - loss: 2.2389e-04 - accuracy: 1.0000 - val_loss: 0.7245 - val_accuracy: 0.8828\n",
            "Epoch 291/1000\n",
            "403/403 [==============================] - 1s 2ms/step - loss: 2.0183e-04 - accuracy: 1.0000 - val_loss: 0.7276 - val_accuracy: 0.8841\n",
            "Epoch 292/1000\n",
            "403/403 [==============================] - 1s 2ms/step - loss: 1.8899e-04 - accuracy: 1.0000 - val_loss: 0.7322 - val_accuracy: 0.8838\n",
            "Epoch 293/1000\n",
            "403/403 [==============================] - 1s 2ms/step - loss: 1.9160e-04 - accuracy: 1.0000 - val_loss: 0.7364 - val_accuracy: 0.8832\n",
            "Epoch 294/1000\n",
            "403/403 [==============================] - 1s 2ms/step - loss: 1.7031e-04 - accuracy: 1.0000 - val_loss: 0.7428 - val_accuracy: 0.8828\n",
            "Epoch 295/1000\n",
            "403/403 [==============================] - 1s 2ms/step - loss: 1.6031e-04 - accuracy: 1.0000 - val_loss: 0.7494 - val_accuracy: 0.8825\n",
            "Epoch 296/1000\n",
            "403/403 [==============================] - 1s 2ms/step - loss: 1.6001e-04 - accuracy: 1.0000 - val_loss: 0.7452 - val_accuracy: 0.8838\n",
            "Epoch 297/1000\n",
            "403/403 [==============================] - 1s 2ms/step - loss: 1.6121e-04 - accuracy: 1.0000 - val_loss: 0.7487 - val_accuracy: 0.8838\n",
            "Epoch 298/1000\n",
            "403/403 [==============================] - 1s 2ms/step - loss: 1.4923e-04 - accuracy: 1.0000 - val_loss: 0.7567 - val_accuracy: 0.8835\n",
            "Epoch 299/1000\n",
            "403/403 [==============================] - 1s 2ms/step - loss: 1.4086e-04 - accuracy: 1.0000 - val_loss: 0.7559 - val_accuracy: 0.8838\n",
            "Epoch 300/1000\n",
            "403/403 [==============================] - 1s 2ms/step - loss: 1.3423e-04 - accuracy: 1.0000 - val_loss: 0.7566 - val_accuracy: 0.8841\n",
            "Epoch 301/1000\n",
            "403/403 [==============================] - 1s 2ms/step - loss: 1.2954e-04 - accuracy: 1.0000 - val_loss: 0.7651 - val_accuracy: 0.8838\n",
            "Epoch 302/1000\n",
            "403/403 [==============================] - 1s 2ms/step - loss: 1.3586e-04 - accuracy: 1.0000 - val_loss: 0.7610 - val_accuracy: 0.8841\n",
            "Epoch 303/1000\n",
            "403/403 [==============================] - 1s 2ms/step - loss: 1.3621e-04 - accuracy: 1.0000 - val_loss: 0.7647 - val_accuracy: 0.8838\n",
            "Epoch 304/1000\n",
            "403/403 [==============================] - 1s 2ms/step - loss: 1.2847e-04 - accuracy: 1.0000 - val_loss: 0.7692 - val_accuracy: 0.8841\n",
            "Epoch 305/1000\n",
            "403/403 [==============================] - 1s 2ms/step - loss: 1.1440e-04 - accuracy: 1.0000 - val_loss: 0.7698 - val_accuracy: 0.8844\n",
            "Epoch 306/1000\n",
            "403/403 [==============================] - 1s 2ms/step - loss: 1.1530e-04 - accuracy: 1.0000 - val_loss: 0.7725 - val_accuracy: 0.8844\n",
            "Epoch 307/1000\n",
            "403/403 [==============================] - 1s 2ms/step - loss: 1.0615e-04 - accuracy: 1.0000 - val_loss: 0.7728 - val_accuracy: 0.8850\n",
            "Epoch 308/1000\n",
            "403/403 [==============================] - 1s 2ms/step - loss: 1.0771e-04 - accuracy: 1.0000 - val_loss: 0.7747 - val_accuracy: 0.8850\n",
            "Epoch 309/1000\n",
            "403/403 [==============================] - 1s 2ms/step - loss: 1.0644e-04 - accuracy: 1.0000 - val_loss: 0.7779 - val_accuracy: 0.8850\n",
            "Epoch 310/1000\n",
            "403/403 [==============================] - 1s 2ms/step - loss: 1.0166e-04 - accuracy: 1.0000 - val_loss: 0.7810 - val_accuracy: 0.8847\n",
            "Epoch 311/1000\n",
            "403/403 [==============================] - 1s 2ms/step - loss: 9.7708e-05 - accuracy: 1.0000 - val_loss: 0.7856 - val_accuracy: 0.8844\n",
            "Epoch 312/1000\n",
            "403/403 [==============================] - 1s 2ms/step - loss: 9.3862e-05 - accuracy: 1.0000 - val_loss: 0.7879 - val_accuracy: 0.8841\n",
            "Epoch 313/1000\n",
            "403/403 [==============================] - 1s 2ms/step - loss: 9.5338e-05 - accuracy: 1.0000 - val_loss: 0.7863 - val_accuracy: 0.8850\n",
            "Epoch 314/1000\n",
            "403/403 [==============================] - 1s 2ms/step - loss: 8.8527e-05 - accuracy: 1.0000 - val_loss: 0.7914 - val_accuracy: 0.8841\n",
            "Epoch 315/1000\n",
            "403/403 [==============================] - 1s 2ms/step - loss: 8.5725e-05 - accuracy: 1.0000 - val_loss: 0.7939 - val_accuracy: 0.8844\n",
            "Epoch 316/1000\n",
            "403/403 [==============================] - 1s 2ms/step - loss: 8.8416e-05 - accuracy: 1.0000 - val_loss: 0.7946 - val_accuracy: 0.8844\n",
            "Epoch 317/1000\n",
            "403/403 [==============================] - 1s 2ms/step - loss: 8.9998e-05 - accuracy: 1.0000 - val_loss: 0.7995 - val_accuracy: 0.8841\n",
            "Epoch 318/1000\n",
            "403/403 [==============================] - 1s 2ms/step - loss: 8.6627e-05 - accuracy: 1.0000 - val_loss: 0.7981 - val_accuracy: 0.8844\n",
            "Epoch 319/1000\n",
            "403/403 [==============================] - 1s 2ms/step - loss: 8.5566e-05 - accuracy: 1.0000 - val_loss: 0.7991 - val_accuracy: 0.8844\n",
            "Epoch 320/1000\n",
            "403/403 [==============================] - 1s 2ms/step - loss: 7.9894e-05 - accuracy: 1.0000 - val_loss: 0.8025 - val_accuracy: 0.8844\n",
            "Epoch 321/1000\n",
            "403/403 [==============================] - 1s 2ms/step - loss: 7.9623e-05 - accuracy: 1.0000 - val_loss: 0.8048 - val_accuracy: 0.8844\n",
            "Epoch 322/1000\n",
            "403/403 [==============================] - 1s 2ms/step - loss: 7.6055e-05 - accuracy: 1.0000 - val_loss: 0.8042 - val_accuracy: 0.8847\n",
            "Epoch 323/1000\n",
            "403/403 [==============================] - 1s 2ms/step - loss: 7.4941e-05 - accuracy: 1.0000 - val_loss: 0.8048 - val_accuracy: 0.8847\n",
            "Epoch 324/1000\n",
            "403/403 [==============================] - 1s 2ms/step - loss: 7.6275e-05 - accuracy: 1.0000 - val_loss: 0.8083 - val_accuracy: 0.8844\n",
            "Epoch 325/1000\n",
            "403/403 [==============================] - 1s 2ms/step - loss: 7.1982e-05 - accuracy: 1.0000 - val_loss: 0.8123 - val_accuracy: 0.8841\n",
            "Epoch 326/1000\n",
            "403/403 [==============================] - 1s 2ms/step - loss: 7.1672e-05 - accuracy: 1.0000 - val_loss: 0.8114 - val_accuracy: 0.8844\n",
            "Epoch 327/1000\n",
            "403/403 [==============================] - 1s 2ms/step - loss: 6.7293e-05 - accuracy: 1.0000 - val_loss: 0.8115 - val_accuracy: 0.8847\n",
            "Epoch 328/1000\n",
            "403/403 [==============================] - 1s 2ms/step - loss: 7.4235e-05 - accuracy: 1.0000 - val_loss: 0.8137 - val_accuracy: 0.8844\n",
            "Epoch 329/1000\n",
            "403/403 [==============================] - 1s 2ms/step - loss: 6.5547e-05 - accuracy: 1.0000 - val_loss: 0.8165 - val_accuracy: 0.8844\n",
            "Epoch 330/1000\n",
            "403/403 [==============================] - 1s 2ms/step - loss: 7.2184e-05 - accuracy: 1.0000 - val_loss: 0.8178 - val_accuracy: 0.8844\n",
            "Epoch 331/1000\n",
            "403/403 [==============================] - 1s 2ms/step - loss: 6.4500e-05 - accuracy: 1.0000 - val_loss: 0.8217 - val_accuracy: 0.8841\n",
            "Epoch 332/1000\n",
            "403/403 [==============================] - 1s 2ms/step - loss: 6.1622e-05 - accuracy: 1.0000 - val_loss: 0.8209 - val_accuracy: 0.8847\n",
            "Epoch 333/1000\n",
            "403/403 [==============================] - 1s 2ms/step - loss: 6.2854e-05 - accuracy: 1.0000 - val_loss: 0.8223 - val_accuracy: 0.8844\n",
            "Epoch 334/1000\n",
            "403/403 [==============================] - 1s 2ms/step - loss: 6.1136e-05 - accuracy: 1.0000 - val_loss: 0.8239 - val_accuracy: 0.8844\n",
            "Epoch 335/1000\n",
            "403/403 [==============================] - 1s 2ms/step - loss: 6.1699e-05 - accuracy: 1.0000 - val_loss: 0.8252 - val_accuracy: 0.8844\n",
            "Epoch 336/1000\n",
            "403/403 [==============================] - 1s 2ms/step - loss: 6.1284e-05 - accuracy: 1.0000 - val_loss: 0.8250 - val_accuracy: 0.8847\n",
            "Epoch 337/1000\n",
            "403/403 [==============================] - 1s 2ms/step - loss: 5.8797e-05 - accuracy: 1.0000 - val_loss: 0.8275 - val_accuracy: 0.8847\n",
            "Epoch 338/1000\n",
            "403/403 [==============================] - 1s 2ms/step - loss: 5.6487e-05 - accuracy: 1.0000 - val_loss: 0.8291 - val_accuracy: 0.8847\n",
            "Epoch 339/1000\n",
            "403/403 [==============================] - 1s 2ms/step - loss: 5.4827e-05 - accuracy: 1.0000 - val_loss: 0.8293 - val_accuracy: 0.8847\n",
            "Epoch 340/1000\n",
            "403/403 [==============================] - 1s 2ms/step - loss: 5.5402e-05 - accuracy: 1.0000 - val_loss: 0.8315 - val_accuracy: 0.8847\n",
            "Epoch 341/1000\n",
            "403/403 [==============================] - 1s 2ms/step - loss: 5.7344e-05 - accuracy: 1.0000 - val_loss: 0.8338 - val_accuracy: 0.8844\n",
            "Epoch 342/1000\n",
            "403/403 [==============================] - 1s 2ms/step - loss: 5.2282e-05 - accuracy: 1.0000 - val_loss: 0.8352 - val_accuracy: 0.8847\n",
            "Epoch 343/1000\n",
            "403/403 [==============================] - 1s 2ms/step - loss: 5.2599e-05 - accuracy: 1.0000 - val_loss: 0.8380 - val_accuracy: 0.8841\n",
            "Epoch 344/1000\n",
            "403/403 [==============================] - 1s 2ms/step - loss: 5.4782e-05 - accuracy: 1.0000 - val_loss: 0.8348 - val_accuracy: 0.8847\n",
            "Epoch 345/1000\n",
            "403/403 [==============================] - 1s 2ms/step - loss: 5.0544e-05 - accuracy: 1.0000 - val_loss: 0.8355 - val_accuracy: 0.8847\n",
            "Epoch 346/1000\n",
            "403/403 [==============================] - 1s 2ms/step - loss: 4.9834e-05 - accuracy: 1.0000 - val_loss: 0.8367 - val_accuracy: 0.8847\n",
            "Epoch 347/1000\n",
            "403/403 [==============================] - 1s 2ms/step - loss: 5.0462e-05 - accuracy: 1.0000 - val_loss: 0.8408 - val_accuracy: 0.8844\n",
            "Epoch 348/1000\n",
            "403/403 [==============================] - 1s 2ms/step - loss: 4.8716e-05 - accuracy: 1.0000 - val_loss: 0.8400 - val_accuracy: 0.8847\n",
            "Epoch 349/1000\n",
            "403/403 [==============================] - 1s 2ms/step - loss: 4.8445e-05 - accuracy: 1.0000 - val_loss: 0.8417 - val_accuracy: 0.8847\n",
            "Epoch 350/1000\n",
            "403/403 [==============================] - 1s 2ms/step - loss: 4.6488e-05 - accuracy: 1.0000 - val_loss: 0.8456 - val_accuracy: 0.8841\n",
            "Epoch 351/1000\n",
            "403/403 [==============================] - 1s 2ms/step - loss: 4.5546e-05 - accuracy: 1.0000 - val_loss: 0.8455 - val_accuracy: 0.8847\n",
            "Epoch 352/1000\n",
            "403/403 [==============================] - 1s 2ms/step - loss: 4.8677e-05 - accuracy: 1.0000 - val_loss: 0.8462 - val_accuracy: 0.8847\n",
            "Epoch 353/1000\n",
            "403/403 [==============================] - 1s 2ms/step - loss: 4.5326e-05 - accuracy: 1.0000 - val_loss: 0.8474 - val_accuracy: 0.8847\n",
            "Epoch 354/1000\n",
            "403/403 [==============================] - 1s 2ms/step - loss: 4.5808e-05 - accuracy: 1.0000 - val_loss: 0.8474 - val_accuracy: 0.8847\n",
            "Epoch 355/1000\n",
            "403/403 [==============================] - 1s 2ms/step - loss: 4.6004e-05 - accuracy: 1.0000 - val_loss: 0.8489 - val_accuracy: 0.8847\n",
            "Epoch 356/1000\n",
            "403/403 [==============================] - 1s 2ms/step - loss: 4.5583e-05 - accuracy: 1.0000 - val_loss: 0.8484 - val_accuracy: 0.8847\n",
            "Epoch 357/1000\n",
            "403/403 [==============================] - 1s 2ms/step - loss: 4.4427e-05 - accuracy: 1.0000 - val_loss: 0.8504 - val_accuracy: 0.8847\n",
            "Epoch 358/1000\n",
            "403/403 [==============================] - 1s 2ms/step - loss: 4.3587e-05 - accuracy: 1.0000 - val_loss: 0.8526 - val_accuracy: 0.8847\n",
            "Epoch 359/1000\n",
            "403/403 [==============================] - 1s 2ms/step - loss: 4.5397e-05 - accuracy: 1.0000 - val_loss: 0.8531 - val_accuracy: 0.8847\n",
            "Epoch 360/1000\n",
            "403/403 [==============================] - 1s 2ms/step - loss: 4.3305e-05 - accuracy: 1.0000 - val_loss: 0.8530 - val_accuracy: 0.8847\n",
            "Epoch 361/1000\n",
            "403/403 [==============================] - 1s 2ms/step - loss: 4.1072e-05 - accuracy: 1.0000 - val_loss: 0.8553 - val_accuracy: 0.8847\n",
            "Epoch 362/1000\n",
            "403/403 [==============================] - 1s 2ms/step - loss: 4.0507e-05 - accuracy: 1.0000 - val_loss: 0.8543 - val_accuracy: 0.8847\n",
            "Epoch 363/1000\n",
            "403/403 [==============================] - 1s 2ms/step - loss: 4.2076e-05 - accuracy: 1.0000 - val_loss: 0.8566 - val_accuracy: 0.8847\n",
            "Epoch 364/1000\n",
            "403/403 [==============================] - 1s 2ms/step - loss: 4.1884e-05 - accuracy: 1.0000 - val_loss: 0.8575 - val_accuracy: 0.8847\n",
            "Epoch 365/1000\n",
            "403/403 [==============================] - 1s 2ms/step - loss: 4.2112e-05 - accuracy: 1.0000 - val_loss: 0.8593 - val_accuracy: 0.8847\n",
            "Epoch 366/1000\n",
            "403/403 [==============================] - 1s 2ms/step - loss: 3.8651e-05 - accuracy: 1.0000 - val_loss: 0.8592 - val_accuracy: 0.8850\n",
            "Epoch 367/1000\n",
            "403/403 [==============================] - 1s 2ms/step - loss: 3.9414e-05 - accuracy: 1.0000 - val_loss: 0.8606 - val_accuracy: 0.8850\n",
            "Epoch 368/1000\n",
            "403/403 [==============================] - 1s 2ms/step - loss: 3.9074e-05 - accuracy: 1.0000 - val_loss: 0.8605 - val_accuracy: 0.8850\n",
            "Epoch 369/1000\n",
            "403/403 [==============================] - 1s 2ms/step - loss: 3.9357e-05 - accuracy: 1.0000 - val_loss: 0.8620 - val_accuracy: 0.8850\n",
            "Epoch 370/1000\n",
            "403/403 [==============================] - 1s 2ms/step - loss: 3.8804e-05 - accuracy: 1.0000 - val_loss: 0.8638 - val_accuracy: 0.8850\n",
            "Epoch 371/1000\n",
            "403/403 [==============================] - 1s 2ms/step - loss: 3.9041e-05 - accuracy: 1.0000 - val_loss: 0.8631 - val_accuracy: 0.8850\n",
            "Epoch 372/1000\n",
            "403/403 [==============================] - 1s 2ms/step - loss: 3.7375e-05 - accuracy: 1.0000 - val_loss: 0.8643 - val_accuracy: 0.8850\n",
            "Epoch 373/1000\n",
            "403/403 [==============================] - 1s 2ms/step - loss: 3.5892e-05 - accuracy: 1.0000 - val_loss: 0.8670 - val_accuracy: 0.8850\n",
            "Epoch 374/1000\n",
            "403/403 [==============================] - 1s 2ms/step - loss: 3.4997e-05 - accuracy: 1.0000 - val_loss: 0.8681 - val_accuracy: 0.8850\n",
            "Epoch 375/1000\n",
            "403/403 [==============================] - 1s 2ms/step - loss: 3.4927e-05 - accuracy: 1.0000 - val_loss: 0.8676 - val_accuracy: 0.8850\n",
            "Epoch 376/1000\n",
            "403/403 [==============================] - 1s 2ms/step - loss: 3.5245e-05 - accuracy: 1.0000 - val_loss: 0.8678 - val_accuracy: 0.8850\n",
            "Epoch 377/1000\n",
            "403/403 [==============================] - 1s 2ms/step - loss: 3.4945e-05 - accuracy: 1.0000 - val_loss: 0.8699 - val_accuracy: 0.8850\n",
            "Epoch 378/1000\n",
            "403/403 [==============================] - 1s 2ms/step - loss: 3.4305e-05 - accuracy: 1.0000 - val_loss: 0.8712 - val_accuracy: 0.8850\n",
            "Epoch 379/1000\n",
            "403/403 [==============================] - 1s 2ms/step - loss: 3.4929e-05 - accuracy: 1.0000 - val_loss: 0.8713 - val_accuracy: 0.8850\n",
            "Epoch 380/1000\n",
            "403/403 [==============================] - 1s 2ms/step - loss: 3.3763e-05 - accuracy: 1.0000 - val_loss: 0.8721 - val_accuracy: 0.8850\n",
            "Epoch 381/1000\n",
            "403/403 [==============================] - 1s 2ms/step - loss: 3.2758e-05 - accuracy: 1.0000 - val_loss: 0.8731 - val_accuracy: 0.8850\n",
            "Epoch 382/1000\n",
            "403/403 [==============================] - 1s 2ms/step - loss: 3.4757e-05 - accuracy: 1.0000 - val_loss: 0.8757 - val_accuracy: 0.8850\n",
            "Epoch 383/1000\n",
            "403/403 [==============================] - 1s 2ms/step - loss: 3.0740e-05 - accuracy: 1.0000 - val_loss: 0.8744 - val_accuracy: 0.8850\n",
            "Epoch 384/1000\n",
            "403/403 [==============================] - 1s 2ms/step - loss: 3.1979e-05 - accuracy: 1.0000 - val_loss: 0.8762 - val_accuracy: 0.8850\n",
            "Epoch 385/1000\n",
            "403/403 [==============================] - 1s 2ms/step - loss: 3.3896e-05 - accuracy: 1.0000 - val_loss: 0.8779 - val_accuracy: 0.8850\n",
            "Epoch 386/1000\n",
            "403/403 [==============================] - 1s 2ms/step - loss: 3.2407e-05 - accuracy: 1.0000 - val_loss: 0.8767 - val_accuracy: 0.8850\n",
            "Epoch 387/1000\n",
            "403/403 [==============================] - 1s 2ms/step - loss: 3.2011e-05 - accuracy: 1.0000 - val_loss: 0.8777 - val_accuracy: 0.8850\n",
            "Epoch 388/1000\n",
            "403/403 [==============================] - 1s 2ms/step - loss: 3.2282e-05 - accuracy: 1.0000 - val_loss: 0.8790 - val_accuracy: 0.8850\n",
            "Epoch 389/1000\n",
            "403/403 [==============================] - 1s 2ms/step - loss: 3.1426e-05 - accuracy: 1.0000 - val_loss: 0.8794 - val_accuracy: 0.8850\n",
            "Epoch 390/1000\n",
            "403/403 [==============================] - 1s 2ms/step - loss: 3.1416e-05 - accuracy: 1.0000 - val_loss: 0.8799 - val_accuracy: 0.8850\n",
            "Epoch 391/1000\n",
            "403/403 [==============================] - 1s 2ms/step - loss: 3.1100e-05 - accuracy: 1.0000 - val_loss: 0.8809 - val_accuracy: 0.8850\n",
            "Epoch 392/1000\n",
            "403/403 [==============================] - 1s 2ms/step - loss: 3.1312e-05 - accuracy: 1.0000 - val_loss: 0.8830 - val_accuracy: 0.8850\n",
            "Epoch 393/1000\n",
            "403/403 [==============================] - 1s 2ms/step - loss: 3.3345e-05 - accuracy: 1.0000 - val_loss: 0.8834 - val_accuracy: 0.8850\n",
            "Epoch 394/1000\n",
            "403/403 [==============================] - 1s 2ms/step - loss: 2.9637e-05 - accuracy: 1.0000 - val_loss: 0.8837 - val_accuracy: 0.8850\n",
            "Epoch 395/1000\n",
            "403/403 [==============================] - 1s 2ms/step - loss: 2.8005e-05 - accuracy: 1.0000 - val_loss: 0.8845 - val_accuracy: 0.8850\n",
            "Epoch 396/1000\n",
            "403/403 [==============================] - 1s 2ms/step - loss: 2.7295e-05 - accuracy: 1.0000 - val_loss: 0.8845 - val_accuracy: 0.8850\n",
            "Epoch 397/1000\n",
            "403/403 [==============================] - 1s 2ms/step - loss: 2.9080e-05 - accuracy: 1.0000 - val_loss: 0.8860 - val_accuracy: 0.8850\n",
            "Epoch 398/1000\n",
            "403/403 [==============================] - 1s 2ms/step - loss: 2.8989e-05 - accuracy: 1.0000 - val_loss: 0.8868 - val_accuracy: 0.8850\n",
            "Epoch 399/1000\n",
            "403/403 [==============================] - 1s 2ms/step - loss: 2.8190e-05 - accuracy: 1.0000 - val_loss: 0.8878 - val_accuracy: 0.8850\n",
            "Epoch 400/1000\n",
            "403/403 [==============================] - 1s 2ms/step - loss: 2.8164e-05 - accuracy: 1.0000 - val_loss: 0.8879 - val_accuracy: 0.8850\n",
            "Epoch 401/1000\n",
            "403/403 [==============================] - 1s 2ms/step - loss: 2.8463e-05 - accuracy: 1.0000 - val_loss: 0.8885 - val_accuracy: 0.8850\n",
            "Epoch 402/1000\n",
            "403/403 [==============================] - 1s 2ms/step - loss: 2.6939e-05 - accuracy: 1.0000 - val_loss: 0.8895 - val_accuracy: 0.8850\n",
            "Epoch 403/1000\n",
            "403/403 [==============================] - 1s 2ms/step - loss: 2.6920e-05 - accuracy: 1.0000 - val_loss: 0.8913 - val_accuracy: 0.8850\n",
            "Epoch 404/1000\n",
            "403/403 [==============================] - 1s 2ms/step - loss: 2.7171e-05 - accuracy: 1.0000 - val_loss: 0.8904 - val_accuracy: 0.8850\n",
            "Epoch 405/1000\n",
            "403/403 [==============================] - 1s 2ms/step - loss: 2.6391e-05 - accuracy: 1.0000 - val_loss: 0.8918 - val_accuracy: 0.8850\n",
            "Epoch 406/1000\n",
            "403/403 [==============================] - 1s 2ms/step - loss: 2.5989e-05 - accuracy: 1.0000 - val_loss: 0.8914 - val_accuracy: 0.8847\n",
            "Epoch 407/1000\n",
            "403/403 [==============================] - 1s 2ms/step - loss: 2.7702e-05 - accuracy: 1.0000 - val_loss: 0.8910 - val_accuracy: 0.8847\n",
            "Epoch 408/1000\n",
            "403/403 [==============================] - 1s 2ms/step - loss: 2.4962e-05 - accuracy: 1.0000 - val_loss: 0.8934 - val_accuracy: 0.8850\n",
            "Epoch 409/1000\n",
            "403/403 [==============================] - 1s 2ms/step - loss: 2.6839e-05 - accuracy: 1.0000 - val_loss: 0.8946 - val_accuracy: 0.8850\n",
            "Epoch 410/1000\n",
            "403/403 [==============================] - 1s 2ms/step - loss: 2.7017e-05 - accuracy: 1.0000 - val_loss: 0.8936 - val_accuracy: 0.8847\n",
            "Epoch 411/1000\n",
            "403/403 [==============================] - 1s 2ms/step - loss: 2.5926e-05 - accuracy: 1.0000 - val_loss: 0.8951 - val_accuracy: 0.8847\n",
            "Epoch 412/1000\n",
            "403/403 [==============================] - 1s 2ms/step - loss: 2.5049e-05 - accuracy: 1.0000 - val_loss: 0.8954 - val_accuracy: 0.8847\n",
            "Epoch 413/1000\n",
            "403/403 [==============================] - 1s 2ms/step - loss: 2.6192e-05 - accuracy: 1.0000 - val_loss: 0.8956 - val_accuracy: 0.8847\n",
            "Epoch 414/1000\n",
            "403/403 [==============================] - 1s 2ms/step - loss: 2.5555e-05 - accuracy: 1.0000 - val_loss: 0.8973 - val_accuracy: 0.8847\n",
            "Epoch 415/1000\n",
            "403/403 [==============================] - 1s 2ms/step - loss: 2.5365e-05 - accuracy: 1.0000 - val_loss: 0.8980 - val_accuracy: 0.8847\n",
            "Epoch 416/1000\n",
            "403/403 [==============================] - 1s 2ms/step - loss: 2.5252e-05 - accuracy: 1.0000 - val_loss: 0.8980 - val_accuracy: 0.8847\n",
            "Epoch 417/1000\n",
            "403/403 [==============================] - 1s 2ms/step - loss: 2.3175e-05 - accuracy: 1.0000 - val_loss: 0.8993 - val_accuracy: 0.8847\n",
            "Epoch 418/1000\n",
            "403/403 [==============================] - 1s 2ms/step - loss: 2.3722e-05 - accuracy: 1.0000 - val_loss: 0.8993 - val_accuracy: 0.8847\n",
            "Epoch 419/1000\n",
            "403/403 [==============================] - 1s 3ms/step - loss: 2.3135e-05 - accuracy: 1.0000 - val_loss: 0.9007 - val_accuracy: 0.8847\n",
            "Epoch 420/1000\n",
            "403/403 [==============================] - 1s 2ms/step - loss: 2.2540e-05 - accuracy: 1.0000 - val_loss: 0.9004 - val_accuracy: 0.8847\n",
            "Epoch 421/1000\n",
            "403/403 [==============================] - 1s 2ms/step - loss: 2.3632e-05 - accuracy: 1.0000 - val_loss: 0.9010 - val_accuracy: 0.8847\n",
            "Epoch 422/1000\n",
            "403/403 [==============================] - 1s 2ms/step - loss: 2.3078e-05 - accuracy: 1.0000 - val_loss: 0.9022 - val_accuracy: 0.8847\n",
            "Epoch 423/1000\n",
            "403/403 [==============================] - 1s 2ms/step - loss: 2.4254e-05 - accuracy: 1.0000 - val_loss: 0.9017 - val_accuracy: 0.8847\n",
            "Epoch 424/1000\n",
            "403/403 [==============================] - 1s 2ms/step - loss: 2.3116e-05 - accuracy: 1.0000 - val_loss: 0.9019 - val_accuracy: 0.8847\n",
            "Epoch 425/1000\n",
            "403/403 [==============================] - 1s 2ms/step - loss: 2.3456e-05 - accuracy: 1.0000 - val_loss: 0.9030 - val_accuracy: 0.8847\n",
            "Epoch 426/1000\n",
            "403/403 [==============================] - 1s 2ms/step - loss: 2.2310e-05 - accuracy: 1.0000 - val_loss: 0.9041 - val_accuracy: 0.8847\n",
            "Epoch 427/1000\n",
            "403/403 [==============================] - 1s 2ms/step - loss: 2.3200e-05 - accuracy: 1.0000 - val_loss: 0.9050 - val_accuracy: 0.8847\n",
            "Epoch 428/1000\n",
            "403/403 [==============================] - 1s 2ms/step - loss: 2.1497e-05 - accuracy: 1.0000 - val_loss: 0.9056 - val_accuracy: 0.8847\n",
            "Epoch 429/1000\n",
            "403/403 [==============================] - 1s 2ms/step - loss: 2.1861e-05 - accuracy: 1.0000 - val_loss: 0.9061 - val_accuracy: 0.8847\n",
            "Epoch 430/1000\n",
            "403/403 [==============================] - 1s 2ms/step - loss: 2.2936e-05 - accuracy: 1.0000 - val_loss: 0.9067 - val_accuracy: 0.8847\n",
            "Epoch 431/1000\n",
            "403/403 [==============================] - 1s 2ms/step - loss: 2.1716e-05 - accuracy: 1.0000 - val_loss: 0.9072 - val_accuracy: 0.8847\n",
            "Epoch 432/1000\n",
            "403/403 [==============================] - 2s 4ms/step - loss: 2.0579e-05 - accuracy: 1.0000 - val_loss: 0.9081 - val_accuracy: 0.8847\n",
            "Epoch 433/1000\n",
            "403/403 [==============================] - 1s 2ms/step - loss: 2.0618e-05 - accuracy: 1.0000 - val_loss: 0.9081 - val_accuracy: 0.8847\n",
            "Epoch 434/1000\n",
            "403/403 [==============================] - 1s 2ms/step - loss: 2.2516e-05 - accuracy: 1.0000 - val_loss: 0.9092 - val_accuracy: 0.8847\n",
            "Epoch 435/1000\n",
            "403/403 [==============================] - 1s 2ms/step - loss: 2.2716e-05 - accuracy: 1.0000 - val_loss: 0.9090 - val_accuracy: 0.8847\n",
            "Epoch 436/1000\n",
            "403/403 [==============================] - 1s 2ms/step - loss: 2.0535e-05 - accuracy: 1.0000 - val_loss: 0.9102 - val_accuracy: 0.8847\n",
            "Epoch 437/1000\n",
            "403/403 [==============================] - 1s 2ms/step - loss: 2.3012e-05 - accuracy: 1.0000 - val_loss: 0.9111 - val_accuracy: 0.8847\n",
            "Epoch 438/1000\n",
            "403/403 [==============================] - 1s 2ms/step - loss: 2.0621e-05 - accuracy: 1.0000 - val_loss: 0.9111 - val_accuracy: 0.8847\n",
            "Epoch 439/1000\n",
            "403/403 [==============================] - 1s 2ms/step - loss: 2.1275e-05 - accuracy: 1.0000 - val_loss: 0.9118 - val_accuracy: 0.8847\n",
            "Epoch 440/1000\n",
            "403/403 [==============================] - 1s 2ms/step - loss: 2.0415e-05 - accuracy: 1.0000 - val_loss: 0.9120 - val_accuracy: 0.8847\n",
            "Epoch 441/1000\n",
            "403/403 [==============================] - 1s 2ms/step - loss: 2.0334e-05 - accuracy: 1.0000 - val_loss: 0.9129 - val_accuracy: 0.8847\n",
            "Epoch 442/1000\n",
            "403/403 [==============================] - 1s 2ms/step - loss: 2.0621e-05 - accuracy: 1.0000 - val_loss: 0.9149 - val_accuracy: 0.8847\n",
            "Epoch 443/1000\n",
            "403/403 [==============================] - 1s 2ms/step - loss: 2.0012e-05 - accuracy: 1.0000 - val_loss: 0.9142 - val_accuracy: 0.8847\n",
            "Epoch 444/1000\n",
            "403/403 [==============================] - 1s 2ms/step - loss: 2.2934e-05 - accuracy: 1.0000 - val_loss: 0.9150 - val_accuracy: 0.8847\n",
            "Epoch 445/1000\n",
            "403/403 [==============================] - 1s 2ms/step - loss: 1.9789e-05 - accuracy: 1.0000 - val_loss: 0.9149 - val_accuracy: 0.8847\n",
            "Epoch 446/1000\n",
            "403/403 [==============================] - 1s 2ms/step - loss: 1.9179e-05 - accuracy: 1.0000 - val_loss: 0.9165 - val_accuracy: 0.8847\n",
            "Epoch 447/1000\n",
            "403/403 [==============================] - 1s 2ms/step - loss: 1.8797e-05 - accuracy: 1.0000 - val_loss: 0.9159 - val_accuracy: 0.8847\n",
            "Epoch 448/1000\n",
            "403/403 [==============================] - 1s 2ms/step - loss: 1.8649e-05 - accuracy: 1.0000 - val_loss: 0.9165 - val_accuracy: 0.8847\n",
            "Epoch 449/1000\n",
            "403/403 [==============================] - 1s 2ms/step - loss: 1.9431e-05 - accuracy: 1.0000 - val_loss: 0.9178 - val_accuracy: 0.8847\n",
            "Epoch 450/1000\n",
            "403/403 [==============================] - 1s 3ms/step - loss: 2.1583e-05 - accuracy: 1.0000 - val_loss: 0.9188 - val_accuracy: 0.8847\n",
            "Epoch 451/1000\n",
            "403/403 [==============================] - 1s 2ms/step - loss: 1.9723e-05 - accuracy: 1.0000 - val_loss: 0.9191 - val_accuracy: 0.8847\n",
            "Epoch 452/1000\n",
            "403/403 [==============================] - 1s 2ms/step - loss: 1.9580e-05 - accuracy: 1.0000 - val_loss: 0.9195 - val_accuracy: 0.8847\n",
            "Epoch 453/1000\n",
            "403/403 [==============================] - 1s 2ms/step - loss: 2.0726e-05 - accuracy: 1.0000 - val_loss: 0.9205 - val_accuracy: 0.8847\n",
            "Epoch 454/1000\n",
            "403/403 [==============================] - 1s 2ms/step - loss: 2.0697e-05 - accuracy: 1.0000 - val_loss: 0.9206 - val_accuracy: 0.8847\n",
            "Epoch 455/1000\n",
            "403/403 [==============================] - 1s 2ms/step - loss: 1.8021e-05 - accuracy: 1.0000 - val_loss: 0.9201 - val_accuracy: 0.8847\n",
            "Epoch 456/1000\n",
            "403/403 [==============================] - 1s 2ms/step - loss: 1.9718e-05 - accuracy: 1.0000 - val_loss: 0.9216 - val_accuracy: 0.8847\n",
            "Epoch 457/1000\n",
            "403/403 [==============================] - 1s 2ms/step - loss: 1.8774e-05 - accuracy: 1.0000 - val_loss: 0.9220 - val_accuracy: 0.8847\n",
            "Epoch 458/1000\n",
            "403/403 [==============================] - 1s 2ms/step - loss: 1.8950e-05 - accuracy: 1.0000 - val_loss: 0.9215 - val_accuracy: 0.8847\n",
            "Epoch 459/1000\n",
            "403/403 [==============================] - 1s 2ms/step - loss: 1.7210e-05 - accuracy: 1.0000 - val_loss: 0.9225 - val_accuracy: 0.8847\n",
            "Epoch 460/1000\n",
            "403/403 [==============================] - 1s 2ms/step - loss: 1.7633e-05 - accuracy: 1.0000 - val_loss: 0.9230 - val_accuracy: 0.8847\n",
            "Epoch 461/1000\n",
            "403/403 [==============================] - 1s 2ms/step - loss: 1.8292e-05 - accuracy: 1.0000 - val_loss: 0.9232 - val_accuracy: 0.8847\n",
            "Epoch 462/1000\n",
            "403/403 [==============================] - 1s 2ms/step - loss: 1.7464e-05 - accuracy: 1.0000 - val_loss: 0.9235 - val_accuracy: 0.8847\n",
            "Epoch 463/1000\n",
            "403/403 [==============================] - 1s 3ms/step - loss: 1.8223e-05 - accuracy: 1.0000 - val_loss: 0.9244 - val_accuracy: 0.8847\n",
            "Epoch 464/1000\n",
            "403/403 [==============================] - 1s 2ms/step - loss: 1.7593e-05 - accuracy: 1.0000 - val_loss: 0.9252 - val_accuracy: 0.8847\n",
            "Epoch 465/1000\n",
            "403/403 [==============================] - 1s 2ms/step - loss: 1.9273e-05 - accuracy: 1.0000 - val_loss: 0.9261 - val_accuracy: 0.8847\n",
            "Epoch 466/1000\n",
            "403/403 [==============================] - 1s 2ms/step - loss: 1.7819e-05 - accuracy: 1.0000 - val_loss: 0.9259 - val_accuracy: 0.8847\n",
            "Epoch 467/1000\n",
            "403/403 [==============================] - 1s 2ms/step - loss: 1.7656e-05 - accuracy: 1.0000 - val_loss: 0.9259 - val_accuracy: 0.8844\n",
            "Epoch 468/1000\n",
            "403/403 [==============================] - 1s 2ms/step - loss: 1.7344e-05 - accuracy: 1.0000 - val_loss: 0.9270 - val_accuracy: 0.8844\n",
            "Epoch 469/1000\n",
            "403/403 [==============================] - 1s 2ms/step - loss: 1.6959e-05 - accuracy: 1.0000 - val_loss: 0.9272 - val_accuracy: 0.8844\n",
            "Epoch 470/1000\n",
            "403/403 [==============================] - 1s 2ms/step - loss: 1.7849e-05 - accuracy: 1.0000 - val_loss: 0.9282 - val_accuracy: 0.8844\n",
            "Epoch 471/1000\n",
            "403/403 [==============================] - 1s 2ms/step - loss: 1.6481e-05 - accuracy: 1.0000 - val_loss: 0.9286 - val_accuracy: 0.8844\n",
            "Epoch 472/1000\n",
            "403/403 [==============================] - 1s 2ms/step - loss: 1.7703e-05 - accuracy: 1.0000 - val_loss: 0.9287 - val_accuracy: 0.8844\n",
            "Epoch 473/1000\n",
            "403/403 [==============================] - 1s 2ms/step - loss: 1.6920e-05 - accuracy: 1.0000 - val_loss: 0.9294 - val_accuracy: 0.8844\n",
            "Epoch 474/1000\n",
            "403/403 [==============================] - 1s 2ms/step - loss: 1.7291e-05 - accuracy: 1.0000 - val_loss: 0.9303 - val_accuracy: 0.8844\n",
            "Epoch 475/1000\n",
            "403/403 [==============================] - 1s 2ms/step - loss: 1.6500e-05 - accuracy: 1.0000 - val_loss: 0.9300 - val_accuracy: 0.8844\n",
            "Epoch 476/1000\n",
            "403/403 [==============================] - 1s 2ms/step - loss: 1.7633e-05 - accuracy: 1.0000 - val_loss: 0.9305 - val_accuracy: 0.8844\n",
            "Epoch 477/1000\n",
            "403/403 [==============================] - 1s 2ms/step - loss: 1.6387e-05 - accuracy: 1.0000 - val_loss: 0.9305 - val_accuracy: 0.8844\n",
            "Epoch 478/1000\n",
            "403/403 [==============================] - 1s 2ms/step - loss: 1.7028e-05 - accuracy: 1.0000 - val_loss: 0.9316 - val_accuracy: 0.8844\n",
            "Epoch 479/1000\n",
            "403/403 [==============================] - 1s 2ms/step - loss: 1.7893e-05 - accuracy: 1.0000 - val_loss: 0.9325 - val_accuracy: 0.8844\n",
            "Epoch 480/1000\n",
            "403/403 [==============================] - 1s 2ms/step - loss: 1.6068e-05 - accuracy: 1.0000 - val_loss: 0.9332 - val_accuracy: 0.8844\n",
            "Epoch 481/1000\n",
            "403/403 [==============================] - 1s 2ms/step - loss: 1.5838e-05 - accuracy: 1.0000 - val_loss: 0.9325 - val_accuracy: 0.8844\n",
            "Epoch 482/1000\n",
            "403/403 [==============================] - 1s 2ms/step - loss: 1.6183e-05 - accuracy: 1.0000 - val_loss: 0.9328 - val_accuracy: 0.8844\n",
            "Epoch 483/1000\n",
            "403/403 [==============================] - 1s 2ms/step - loss: 1.6365e-05 - accuracy: 1.0000 - val_loss: 0.9330 - val_accuracy: 0.8844\n",
            "Epoch 484/1000\n",
            "403/403 [==============================] - 1s 2ms/step - loss: 1.5896e-05 - accuracy: 1.0000 - val_loss: 0.9338 - val_accuracy: 0.8844\n",
            "Epoch 485/1000\n",
            "403/403 [==============================] - 1s 2ms/step - loss: 1.4863e-05 - accuracy: 1.0000 - val_loss: 0.9346 - val_accuracy: 0.8844\n",
            "Epoch 486/1000\n",
            "403/403 [==============================] - 1s 2ms/step - loss: 1.5573e-05 - accuracy: 1.0000 - val_loss: 0.9351 - val_accuracy: 0.8844\n",
            "Epoch 487/1000\n",
            "403/403 [==============================] - 1s 2ms/step - loss: 1.5739e-05 - accuracy: 1.0000 - val_loss: 0.9353 - val_accuracy: 0.8844\n",
            "Epoch 488/1000\n",
            "403/403 [==============================] - 1s 2ms/step - loss: 1.5869e-05 - accuracy: 1.0000 - val_loss: 0.9355 - val_accuracy: 0.8844\n",
            "Epoch 489/1000\n",
            "403/403 [==============================] - 1s 2ms/step - loss: 1.5646e-05 - accuracy: 1.0000 - val_loss: 0.9358 - val_accuracy: 0.8844\n",
            "Epoch 490/1000\n",
            "403/403 [==============================] - 1s 2ms/step - loss: 1.5221e-05 - accuracy: 1.0000 - val_loss: 0.9373 - val_accuracy: 0.8844\n",
            "Epoch 491/1000\n",
            "403/403 [==============================] - 1s 2ms/step - loss: 1.6171e-05 - accuracy: 1.0000 - val_loss: 0.9373 - val_accuracy: 0.8844\n",
            "Epoch 492/1000\n",
            "403/403 [==============================] - 1s 2ms/step - loss: 1.5075e-05 - accuracy: 1.0000 - val_loss: 0.9377 - val_accuracy: 0.8844\n",
            "Epoch 493/1000\n",
            "403/403 [==============================] - 1s 2ms/step - loss: 1.6173e-05 - accuracy: 1.0000 - val_loss: 0.9385 - val_accuracy: 0.8844\n",
            "Epoch 494/1000\n",
            "403/403 [==============================] - 1s 2ms/step - loss: 1.5164e-05 - accuracy: 1.0000 - val_loss: 0.9390 - val_accuracy: 0.8844\n",
            "Epoch 495/1000\n",
            "403/403 [==============================] - 1s 2ms/step - loss: 1.5249e-05 - accuracy: 1.0000 - val_loss: 0.9387 - val_accuracy: 0.8844\n",
            "Epoch 496/1000\n",
            "403/403 [==============================] - 1s 3ms/step - loss: 1.5377e-05 - accuracy: 1.0000 - val_loss: 0.9395 - val_accuracy: 0.8844\n",
            "Epoch 497/1000\n",
            "403/403 [==============================] - 1s 2ms/step - loss: 1.4653e-05 - accuracy: 1.0000 - val_loss: 0.9399 - val_accuracy: 0.8844\n",
            "Epoch 498/1000\n",
            "403/403 [==============================] - 1s 2ms/step - loss: 1.5624e-05 - accuracy: 1.0000 - val_loss: 0.9402 - val_accuracy: 0.8844\n",
            "Epoch 499/1000\n",
            "403/403 [==============================] - 1s 2ms/step - loss: 1.5668e-05 - accuracy: 1.0000 - val_loss: 0.9404 - val_accuracy: 0.8844\n",
            "Epoch 500/1000\n",
            "403/403 [==============================] - 1s 2ms/step - loss: 1.4452e-05 - accuracy: 1.0000 - val_loss: 0.9409 - val_accuracy: 0.8844\n",
            "Epoch 501/1000\n",
            "403/403 [==============================] - 1s 2ms/step - loss: 1.4513e-05 - accuracy: 1.0000 - val_loss: 0.9409 - val_accuracy: 0.8844\n",
            "Epoch 502/1000\n",
            "403/403 [==============================] - 1s 2ms/step - loss: 1.4723e-05 - accuracy: 1.0000 - val_loss: 0.9415 - val_accuracy: 0.8844\n",
            "Epoch 503/1000\n",
            "403/403 [==============================] - 1s 2ms/step - loss: 1.4966e-05 - accuracy: 1.0000 - val_loss: 0.9429 - val_accuracy: 0.8844\n",
            "Epoch 504/1000\n",
            "403/403 [==============================] - 1s 2ms/step - loss: 1.4873e-05 - accuracy: 1.0000 - val_loss: 0.9429 - val_accuracy: 0.8844\n",
            "Epoch 505/1000\n",
            "403/403 [==============================] - 1s 2ms/step - loss: 1.4627e-05 - accuracy: 1.0000 - val_loss: 0.9434 - val_accuracy: 0.8844\n",
            "Epoch 506/1000\n",
            "403/403 [==============================] - 1s 2ms/step - loss: 1.4128e-05 - accuracy: 1.0000 - val_loss: 0.9439 - val_accuracy: 0.8844\n",
            "Epoch 507/1000\n",
            "403/403 [==============================] - 1s 2ms/step - loss: 1.4694e-05 - accuracy: 1.0000 - val_loss: 0.9445 - val_accuracy: 0.8844\n",
            "Epoch 508/1000\n",
            "403/403 [==============================] - 1s 2ms/step - loss: 1.3864e-05 - accuracy: 1.0000 - val_loss: 0.9439 - val_accuracy: 0.8844\n",
            "Epoch 509/1000\n",
            "403/403 [==============================] - 1s 2ms/step - loss: 1.3792e-05 - accuracy: 1.0000 - val_loss: 0.9445 - val_accuracy: 0.8844\n",
            "Epoch 510/1000\n",
            "403/403 [==============================] - 1s 2ms/step - loss: 1.3549e-05 - accuracy: 1.0000 - val_loss: 0.9455 - val_accuracy: 0.8844\n",
            "Epoch 511/1000\n",
            "403/403 [==============================] - 1s 2ms/step - loss: 1.3541e-05 - accuracy: 1.0000 - val_loss: 0.9455 - val_accuracy: 0.8844\n",
            "Epoch 512/1000\n",
            "403/403 [==============================] - 1s 2ms/step - loss: 1.3956e-05 - accuracy: 1.0000 - val_loss: 0.9457 - val_accuracy: 0.8844\n",
            "Epoch 513/1000\n",
            "403/403 [==============================] - 1s 2ms/step - loss: 1.4748e-05 - accuracy: 1.0000 - val_loss: 0.9466 - val_accuracy: 0.8844\n",
            "Epoch 514/1000\n",
            "403/403 [==============================] - 1s 2ms/step - loss: 1.3741e-05 - accuracy: 1.0000 - val_loss: 0.9467 - val_accuracy: 0.8844\n",
            "Epoch 515/1000\n",
            "403/403 [==============================] - 1s 2ms/step - loss: 1.4072e-05 - accuracy: 1.0000 - val_loss: 0.9467 - val_accuracy: 0.8844\n",
            "Epoch 516/1000\n",
            "403/403 [==============================] - 1s 2ms/step - loss: 1.2999e-05 - accuracy: 1.0000 - val_loss: 0.9469 - val_accuracy: 0.8844\n",
            "Epoch 517/1000\n",
            "403/403 [==============================] - 1s 2ms/step - loss: 1.3956e-05 - accuracy: 1.0000 - val_loss: 0.9469 - val_accuracy: 0.8844\n",
            "Epoch 518/1000\n",
            "403/403 [==============================] - 1s 2ms/step - loss: 1.3533e-05 - accuracy: 1.0000 - val_loss: 0.9475 - val_accuracy: 0.8844\n",
            "Epoch 519/1000\n",
            "403/403 [==============================] - 1s 2ms/step - loss: 1.3712e-05 - accuracy: 1.0000 - val_loss: 0.9488 - val_accuracy: 0.8841\n",
            "Epoch 520/1000\n",
            "403/403 [==============================] - 1s 2ms/step - loss: 1.2816e-05 - accuracy: 1.0000 - val_loss: 0.9489 - val_accuracy: 0.8844\n",
            "Epoch 521/1000\n",
            "403/403 [==============================] - 1s 2ms/step - loss: 1.3365e-05 - accuracy: 1.0000 - val_loss: 0.9491 - val_accuracy: 0.8844\n",
            "Epoch 522/1000\n",
            "403/403 [==============================] - 1s 3ms/step - loss: 1.3874e-05 - accuracy: 1.0000 - val_loss: 0.9500 - val_accuracy: 0.8841\n",
            "Epoch 523/1000\n",
            "403/403 [==============================] - 1s 3ms/step - loss: 1.3389e-05 - accuracy: 1.0000 - val_loss: 0.9500 - val_accuracy: 0.8841\n",
            "Epoch 524/1000\n",
            "403/403 [==============================] - 1s 3ms/step - loss: 1.2416e-05 - accuracy: 1.0000 - val_loss: 0.9503 - val_accuracy: 0.8841\n",
            "Epoch 525/1000\n",
            "403/403 [==============================] - 1s 3ms/step - loss: 1.3289e-05 - accuracy: 1.0000 - val_loss: 0.9505 - val_accuracy: 0.8841\n",
            "Epoch 526/1000\n",
            "403/403 [==============================] - 1s 3ms/step - loss: 1.3313e-05 - accuracy: 1.0000 - val_loss: 0.9513 - val_accuracy: 0.8841\n",
            "Epoch 527/1000\n",
            "403/403 [==============================] - 1s 3ms/step - loss: 1.2840e-05 - accuracy: 1.0000 - val_loss: 0.9514 - val_accuracy: 0.8841\n",
            "Epoch 528/1000\n",
            "403/403 [==============================] - 1s 3ms/step - loss: 1.2807e-05 - accuracy: 1.0000 - val_loss: 0.9518 - val_accuracy: 0.8841\n",
            "Epoch 529/1000\n",
            "403/403 [==============================] - 1s 3ms/step - loss: 1.3045e-05 - accuracy: 1.0000 - val_loss: 0.9523 - val_accuracy: 0.8841\n",
            "Epoch 530/1000\n",
            "403/403 [==============================] - 1s 3ms/step - loss: 1.4356e-05 - accuracy: 1.0000 - val_loss: 0.9526 - val_accuracy: 0.8841\n",
            "Epoch 531/1000\n",
            "403/403 [==============================] - 1s 3ms/step - loss: 1.2395e-05 - accuracy: 1.0000 - val_loss: 0.9532 - val_accuracy: 0.8841\n",
            "Epoch 532/1000\n",
            "403/403 [==============================] - 1s 3ms/step - loss: 1.3863e-05 - accuracy: 1.0000 - val_loss: 0.9529 - val_accuracy: 0.8841\n",
            "Epoch 533/1000\n",
            "403/403 [==============================] - 1s 3ms/step - loss: 1.2958e-05 - accuracy: 1.0000 - val_loss: 0.9538 - val_accuracy: 0.8841\n",
            "Epoch 534/1000\n",
            "403/403 [==============================] - 1s 3ms/step - loss: 1.1515e-05 - accuracy: 1.0000 - val_loss: 0.9544 - val_accuracy: 0.8841\n",
            "Epoch 535/1000\n",
            "403/403 [==============================] - 1s 3ms/step - loss: 1.1929e-05 - accuracy: 1.0000 - val_loss: 0.9545 - val_accuracy: 0.8841\n",
            "Epoch 536/1000\n",
            "403/403 [==============================] - 1s 3ms/step - loss: 1.2655e-05 - accuracy: 1.0000 - val_loss: 0.9551 - val_accuracy: 0.8841\n",
            "Epoch 537/1000\n",
            "403/403 [==============================] - 1s 3ms/step - loss: 1.2854e-05 - accuracy: 1.0000 - val_loss: 0.9555 - val_accuracy: 0.8841\n",
            "Epoch 538/1000\n",
            "403/403 [==============================] - 1s 2ms/step - loss: 1.2976e-05 - accuracy: 1.0000 - val_loss: 0.9556 - val_accuracy: 0.8841\n",
            "Epoch 539/1000\n",
            "403/403 [==============================] - 1s 2ms/step - loss: 1.2405e-05 - accuracy: 1.0000 - val_loss: 0.9559 - val_accuracy: 0.8841\n",
            "Epoch 540/1000\n",
            "403/403 [==============================] - 1s 2ms/step - loss: 1.2676e-05 - accuracy: 1.0000 - val_loss: 0.9560 - val_accuracy: 0.8841\n",
            "Epoch 541/1000\n",
            "403/403 [==============================] - 1s 2ms/step - loss: 1.2694e-05 - accuracy: 1.0000 - val_loss: 0.9556 - val_accuracy: 0.8844\n",
            "Epoch 542/1000\n",
            "403/403 [==============================] - 1s 2ms/step - loss: 1.2240e-05 - accuracy: 1.0000 - val_loss: 0.9569 - val_accuracy: 0.8841\n",
            "Epoch 543/1000\n",
            "403/403 [==============================] - 1s 3ms/step - loss: 1.1871e-05 - accuracy: 1.0000 - val_loss: 0.9575 - val_accuracy: 0.8841\n",
            "Epoch 544/1000\n",
            "403/403 [==============================] - 1s 2ms/step - loss: 1.2085e-05 - accuracy: 1.0000 - val_loss: 0.9580 - val_accuracy: 0.8841\n",
            "Epoch 545/1000\n",
            "403/403 [==============================] - 1s 2ms/step - loss: 1.2102e-05 - accuracy: 1.0000 - val_loss: 0.9582 - val_accuracy: 0.8841\n",
            "Epoch 546/1000\n",
            "403/403 [==============================] - 1s 2ms/step - loss: 1.2213e-05 - accuracy: 1.0000 - val_loss: 0.9584 - val_accuracy: 0.8841\n",
            "Epoch 547/1000\n",
            "403/403 [==============================] - 1s 2ms/step - loss: 1.2137e-05 - accuracy: 1.0000 - val_loss: 0.9591 - val_accuracy: 0.8841\n",
            "Epoch 548/1000\n",
            "403/403 [==============================] - 1s 2ms/step - loss: 1.2280e-05 - accuracy: 1.0000 - val_loss: 0.9589 - val_accuracy: 0.8841\n",
            "Epoch 549/1000\n",
            "403/403 [==============================] - 1s 2ms/step - loss: 1.1863e-05 - accuracy: 1.0000 - val_loss: 0.9604 - val_accuracy: 0.8838\n",
            "Epoch 550/1000\n",
            "403/403 [==============================] - 1s 2ms/step - loss: 1.1497e-05 - accuracy: 1.0000 - val_loss: 0.9602 - val_accuracy: 0.8841\n",
            "Epoch 551/1000\n",
            "403/403 [==============================] - 1s 2ms/step - loss: 1.1830e-05 - accuracy: 1.0000 - val_loss: 0.9604 - val_accuracy: 0.8841\n",
            "Epoch 552/1000\n",
            "403/403 [==============================] - 1s 2ms/step - loss: 1.1767e-05 - accuracy: 1.0000 - val_loss: 0.9605 - val_accuracy: 0.8841\n",
            "Epoch 553/1000\n",
            "403/403 [==============================] - 1s 2ms/step - loss: 1.1024e-05 - accuracy: 1.0000 - val_loss: 0.9602 - val_accuracy: 0.8844\n",
            "Epoch 554/1000\n",
            "403/403 [==============================] - 1s 2ms/step - loss: 1.2498e-05 - accuracy: 1.0000 - val_loss: 0.9614 - val_accuracy: 0.8841\n",
            "Epoch 555/1000\n",
            "403/403 [==============================] - 1s 2ms/step - loss: 1.1532e-05 - accuracy: 1.0000 - val_loss: 0.9612 - val_accuracy: 0.8841\n",
            "Epoch 556/1000\n",
            "403/403 [==============================] - 1s 2ms/step - loss: 1.1729e-05 - accuracy: 1.0000 - val_loss: 0.9627 - val_accuracy: 0.8838\n",
            "Epoch 557/1000\n",
            "403/403 [==============================] - 1s 2ms/step - loss: 1.1300e-05 - accuracy: 1.0000 - val_loss: 0.9621 - val_accuracy: 0.8841\n",
            "Epoch 558/1000\n",
            "403/403 [==============================] - 1s 2ms/step - loss: 1.1617e-05 - accuracy: 1.0000 - val_loss: 0.9629 - val_accuracy: 0.8838\n",
            "Epoch 559/1000\n",
            "403/403 [==============================] - 1s 2ms/step - loss: 1.2022e-05 - accuracy: 1.0000 - val_loss: 0.9630 - val_accuracy: 0.8838\n",
            "Epoch 560/1000\n",
            "403/403 [==============================] - 1s 2ms/step - loss: 1.1114e-05 - accuracy: 1.0000 - val_loss: 0.9630 - val_accuracy: 0.8841\n",
            "Epoch 561/1000\n",
            "403/403 [==============================] - 1s 2ms/step - loss: 1.1400e-05 - accuracy: 1.0000 - val_loss: 0.9636 - val_accuracy: 0.8838\n",
            "Epoch 562/1000\n",
            "403/403 [==============================] - 1s 3ms/step - loss: 1.1555e-05 - accuracy: 1.0000 - val_loss: 0.9640 - val_accuracy: 0.8838\n",
            "Epoch 563/1000\n",
            "403/403 [==============================] - 1s 3ms/step - loss: 1.1323e-05 - accuracy: 1.0000 - val_loss: 0.9644 - val_accuracy: 0.8838\n",
            "Epoch 564/1000\n",
            "403/403 [==============================] - 1s 2ms/step - loss: 1.0630e-05 - accuracy: 1.0000 - val_loss: 0.9648 - val_accuracy: 0.8838\n",
            "Epoch 565/1000\n",
            "403/403 [==============================] - 1s 2ms/step - loss: 1.1417e-05 - accuracy: 1.0000 - val_loss: 0.9652 - val_accuracy: 0.8838\n",
            "Epoch 566/1000\n",
            "403/403 [==============================] - 1s 2ms/step - loss: 1.1569e-05 - accuracy: 1.0000 - val_loss: 0.9654 - val_accuracy: 0.8838\n",
            "Epoch 567/1000\n",
            "403/403 [==============================] - 1s 2ms/step - loss: 1.0289e-05 - accuracy: 1.0000 - val_loss: 0.9653 - val_accuracy: 0.8838\n",
            "Epoch 568/1000\n",
            "403/403 [==============================] - 1s 2ms/step - loss: 1.1131e-05 - accuracy: 1.0000 - val_loss: 0.9655 - val_accuracy: 0.8838\n",
            "Epoch 569/1000\n",
            "403/403 [==============================] - 1s 2ms/step - loss: 1.1477e-05 - accuracy: 1.0000 - val_loss: 0.9660 - val_accuracy: 0.8838\n",
            "Epoch 570/1000\n",
            "403/403 [==============================] - 1s 2ms/step - loss: 1.0576e-05 - accuracy: 1.0000 - val_loss: 0.9672 - val_accuracy: 0.8838\n",
            "Epoch 571/1000\n",
            "403/403 [==============================] - 1s 3ms/step - loss: 1.0608e-05 - accuracy: 1.0000 - val_loss: 0.9672 - val_accuracy: 0.8838\n",
            "Epoch 572/1000\n",
            "403/403 [==============================] - 1s 2ms/step - loss: 1.0792e-05 - accuracy: 1.0000 - val_loss: 0.9675 - val_accuracy: 0.8838\n",
            "Epoch 573/1000\n",
            "403/403 [==============================] - 1s 2ms/step - loss: 1.1093e-05 - accuracy: 1.0000 - val_loss: 0.9672 - val_accuracy: 0.8838\n",
            "Epoch 574/1000\n",
            "403/403 [==============================] - 1s 2ms/step - loss: 1.0682e-05 - accuracy: 1.0000 - val_loss: 0.9679 - val_accuracy: 0.8838\n",
            "Epoch 575/1000\n",
            "403/403 [==============================] - 1s 2ms/step - loss: 1.1001e-05 - accuracy: 1.0000 - val_loss: 0.9681 - val_accuracy: 0.8838\n",
            "Epoch 576/1000\n",
            "403/403 [==============================] - 1s 3ms/step - loss: 1.1421e-05 - accuracy: 1.0000 - val_loss: 0.9684 - val_accuracy: 0.8838\n",
            "Epoch 577/1000\n",
            "403/403 [==============================] - 1s 2ms/step - loss: 1.0439e-05 - accuracy: 1.0000 - val_loss: 0.9684 - val_accuracy: 0.8841\n",
            "Epoch 578/1000\n",
            "403/403 [==============================] - 1s 3ms/step - loss: 9.8764e-06 - accuracy: 1.0000 - val_loss: 0.9677 - val_accuracy: 0.8841\n",
            "Epoch 579/1000\n",
            "403/403 [==============================] - 1s 2ms/step - loss: 1.0710e-05 - accuracy: 1.0000 - val_loss: 0.9684 - val_accuracy: 0.8841\n",
            "Epoch 580/1000\n",
            "403/403 [==============================] - 1s 2ms/step - loss: 1.0228e-05 - accuracy: 1.0000 - val_loss: 0.9694 - val_accuracy: 0.8841\n",
            "Epoch 581/1000\n",
            "403/403 [==============================] - 1s 2ms/step - loss: 1.0620e-05 - accuracy: 1.0000 - val_loss: 0.9700 - val_accuracy: 0.8841\n",
            "Epoch 582/1000\n",
            "403/403 [==============================] - 1s 2ms/step - loss: 9.9500e-06 - accuracy: 1.0000 - val_loss: 0.9702 - val_accuracy: 0.8841\n",
            "Epoch 583/1000\n",
            "403/403 [==============================] - 1s 2ms/step - loss: 1.0374e-05 - accuracy: 1.0000 - val_loss: 0.9707 - val_accuracy: 0.8841\n",
            "Epoch 584/1000\n",
            "403/403 [==============================] - 1s 2ms/step - loss: 1.0582e-05 - accuracy: 1.0000 - val_loss: 0.9710 - val_accuracy: 0.8841\n",
            "Epoch 585/1000\n",
            "403/403 [==============================] - 1s 2ms/step - loss: 9.7112e-06 - accuracy: 1.0000 - val_loss: 0.9711 - val_accuracy: 0.8841\n",
            "Epoch 586/1000\n",
            "403/403 [==============================] - 1s 2ms/step - loss: 1.0101e-05 - accuracy: 1.0000 - val_loss: 0.9714 - val_accuracy: 0.8841\n",
            "Epoch 587/1000\n",
            "403/403 [==============================] - 1s 2ms/step - loss: 1.0092e-05 - accuracy: 1.0000 - val_loss: 0.9715 - val_accuracy: 0.8841\n",
            "Epoch 588/1000\n",
            "403/403 [==============================] - 1s 2ms/step - loss: 1.0219e-05 - accuracy: 1.0000 - val_loss: 0.9720 - val_accuracy: 0.8841\n",
            "Epoch 589/1000\n",
            "403/403 [==============================] - 1s 3ms/step - loss: 9.8391e-06 - accuracy: 1.0000 - val_loss: 0.9723 - val_accuracy: 0.8841\n",
            "Epoch 590/1000\n",
            "403/403 [==============================] - 1s 3ms/step - loss: 9.6948e-06 - accuracy: 1.0000 - val_loss: 0.9722 - val_accuracy: 0.8841\n",
            "Epoch 591/1000\n",
            "403/403 [==============================] - 1s 2ms/step - loss: 9.7081e-06 - accuracy: 1.0000 - val_loss: 0.9732 - val_accuracy: 0.8838\n",
            "Epoch 592/1000\n",
            "403/403 [==============================] - 1s 2ms/step - loss: 1.0332e-05 - accuracy: 1.0000 - val_loss: 0.9733 - val_accuracy: 0.8841\n",
            "Epoch 593/1000\n",
            "403/403 [==============================] - 1s 2ms/step - loss: 1.1039e-05 - accuracy: 1.0000 - val_loss: 0.9735 - val_accuracy: 0.8841\n",
            "Epoch 594/1000\n",
            "403/403 [==============================] - 1s 2ms/step - loss: 1.0382e-05 - accuracy: 1.0000 - val_loss: 0.9738 - val_accuracy: 0.8841\n",
            "Epoch 595/1000\n",
            "403/403 [==============================] - 1s 2ms/step - loss: 9.6284e-06 - accuracy: 1.0000 - val_loss: 0.9739 - val_accuracy: 0.8841\n",
            "Epoch 596/1000\n",
            "403/403 [==============================] - 1s 2ms/step - loss: 9.6922e-06 - accuracy: 1.0000 - val_loss: 0.9742 - val_accuracy: 0.8841\n",
            "Epoch 597/1000\n",
            "403/403 [==============================] - 1s 2ms/step - loss: 1.0089e-05 - accuracy: 1.0000 - val_loss: 0.9744 - val_accuracy: 0.8841\n",
            "Epoch 598/1000\n",
            "403/403 [==============================] - 1s 2ms/step - loss: 1.0863e-05 - accuracy: 1.0000 - val_loss: 0.9749 - val_accuracy: 0.8841\n",
            "Epoch 599/1000\n",
            "403/403 [==============================] - 1s 3ms/step - loss: 1.0163e-05 - accuracy: 1.0000 - val_loss: 0.9752 - val_accuracy: 0.8841\n",
            "Epoch 600/1000\n",
            "403/403 [==============================] - 1s 2ms/step - loss: 9.8894e-06 - accuracy: 1.0000 - val_loss: 0.9759 - val_accuracy: 0.8838\n",
            "Epoch 601/1000\n",
            "403/403 [==============================] - 1s 2ms/step - loss: 9.7233e-06 - accuracy: 1.0000 - val_loss: 0.9756 - val_accuracy: 0.8841\n",
            "Epoch 602/1000\n",
            "403/403 [==============================] - 1s 2ms/step - loss: 9.4900e-06 - accuracy: 1.0000 - val_loss: 0.9762 - val_accuracy: 0.8841\n",
            "Epoch 603/1000\n",
            "403/403 [==============================] - 1s 2ms/step - loss: 9.1713e-06 - accuracy: 1.0000 - val_loss: 0.9763 - val_accuracy: 0.8841\n",
            "Epoch 604/1000\n",
            "403/403 [==============================] - 1s 2ms/step - loss: 1.0094e-05 - accuracy: 1.0000 - val_loss: 0.9772 - val_accuracy: 0.8838\n",
            "Epoch 605/1000\n",
            "403/403 [==============================] - 1s 2ms/step - loss: 9.2737e-06 - accuracy: 1.0000 - val_loss: 0.9772 - val_accuracy: 0.8841\n",
            "Epoch 606/1000\n",
            "403/403 [==============================] - 1s 2ms/step - loss: 9.9835e-06 - accuracy: 1.0000 - val_loss: 0.9776 - val_accuracy: 0.8841\n",
            "Epoch 607/1000\n",
            "403/403 [==============================] - 1s 2ms/step - loss: 9.9151e-06 - accuracy: 1.0000 - val_loss: 0.9773 - val_accuracy: 0.8841\n",
            "Epoch 608/1000\n",
            "403/403 [==============================] - 1s 2ms/step - loss: 9.3574e-06 - accuracy: 1.0000 - val_loss: 0.9776 - val_accuracy: 0.8841\n",
            "Epoch 609/1000\n",
            "403/403 [==============================] - 1s 2ms/step - loss: 9.6684e-06 - accuracy: 1.0000 - val_loss: 0.9780 - val_accuracy: 0.8841\n",
            "Epoch 610/1000\n",
            "403/403 [==============================] - 1s 2ms/step - loss: 9.2129e-06 - accuracy: 1.0000 - val_loss: 0.9781 - val_accuracy: 0.8841\n",
            "Epoch 611/1000\n",
            "403/403 [==============================] - 1s 3ms/step - loss: 8.9552e-06 - accuracy: 1.0000 - val_loss: 0.9787 - val_accuracy: 0.8841\n",
            "Epoch 612/1000\n",
            "403/403 [==============================] - 1s 3ms/step - loss: 9.1106e-06 - accuracy: 1.0000 - val_loss: 0.9792 - val_accuracy: 0.8841\n",
            "Epoch 613/1000\n",
            "403/403 [==============================] - 1s 2ms/step - loss: 1.0614e-05 - accuracy: 1.0000 - val_loss: 0.9796 - val_accuracy: 0.8841\n",
            "Epoch 614/1000\n",
            "403/403 [==============================] - 1s 3ms/step - loss: 1.0100e-05 - accuracy: 1.0000 - val_loss: 0.9795 - val_accuracy: 0.8841\n",
            "Epoch 615/1000\n",
            "403/403 [==============================] - 1s 2ms/step - loss: 9.2899e-06 - accuracy: 1.0000 - val_loss: 0.9797 - val_accuracy: 0.8841\n",
            "Epoch 616/1000\n",
            "403/403 [==============================] - 1s 2ms/step - loss: 1.0173e-05 - accuracy: 1.0000 - val_loss: 0.9801 - val_accuracy: 0.8841\n",
            "Epoch 617/1000\n",
            "403/403 [==============================] - 1s 2ms/step - loss: 9.5417e-06 - accuracy: 1.0000 - val_loss: 0.9804 - val_accuracy: 0.8841\n",
            "Epoch 618/1000\n",
            "403/403 [==============================] - 1s 2ms/step - loss: 9.1727e-06 - accuracy: 1.0000 - val_loss: 0.9806 - val_accuracy: 0.8841\n",
            "Epoch 619/1000\n",
            "403/403 [==============================] - 1s 2ms/step - loss: 9.1518e-06 - accuracy: 1.0000 - val_loss: 0.9809 - val_accuracy: 0.8841\n",
            "Epoch 620/1000\n",
            "403/403 [==============================] - 1s 2ms/step - loss: 8.9406e-06 - accuracy: 1.0000 - val_loss: 0.9809 - val_accuracy: 0.8841\n",
            "Epoch 621/1000\n",
            "403/403 [==============================] - 1s 3ms/step - loss: 9.2056e-06 - accuracy: 1.0000 - val_loss: 0.9815 - val_accuracy: 0.8841\n",
            "Epoch 622/1000\n",
            "403/403 [==============================] - 1s 3ms/step - loss: 8.7516e-06 - accuracy: 1.0000 - val_loss: 0.9820 - val_accuracy: 0.8841\n",
            "Epoch 623/1000\n",
            "403/403 [==============================] - 1s 3ms/step - loss: 9.0208e-06 - accuracy: 1.0000 - val_loss: 0.9819 - val_accuracy: 0.8841\n",
            "Epoch 624/1000\n",
            "403/403 [==============================] - 1s 2ms/step - loss: 1.0123e-05 - accuracy: 1.0000 - val_loss: 0.9821 - val_accuracy: 0.8841\n",
            "Epoch 625/1000\n",
            "403/403 [==============================] - 1s 2ms/step - loss: 8.7450e-06 - accuracy: 1.0000 - val_loss: 0.9826 - val_accuracy: 0.8841\n",
            "Epoch 626/1000\n",
            "403/403 [==============================] - 1s 2ms/step - loss: 9.4072e-06 - accuracy: 1.0000 - val_loss: 0.9827 - val_accuracy: 0.8841\n",
            "Epoch 627/1000\n",
            "403/403 [==============================] - 1s 2ms/step - loss: 8.7398e-06 - accuracy: 1.0000 - val_loss: 0.9830 - val_accuracy: 0.8841\n",
            "Epoch 628/1000\n",
            "403/403 [==============================] - 1s 2ms/step - loss: 8.9476e-06 - accuracy: 1.0000 - val_loss: 0.9833 - val_accuracy: 0.8841\n",
            "Epoch 629/1000\n",
            "403/403 [==============================] - 1s 2ms/step - loss: 8.8005e-06 - accuracy: 1.0000 - val_loss: 0.9815 - val_accuracy: 0.8841\n",
            "Epoch 630/1000\n",
            "403/403 [==============================] - 1s 2ms/step - loss: 8.9164e-06 - accuracy: 1.0000 - val_loss: 0.9829 - val_accuracy: 0.8841\n",
            "Epoch 631/1000\n",
            "403/403 [==============================] - 1s 3ms/step - loss: 9.0532e-06 - accuracy: 1.0000 - val_loss: 0.9836 - val_accuracy: 0.8841\n",
            "Epoch 632/1000\n",
            "403/403 [==============================] - 1s 2ms/step - loss: 8.5058e-06 - accuracy: 1.0000 - val_loss: 0.9842 - val_accuracy: 0.8841\n",
            "Epoch 633/1000\n",
            "403/403 [==============================] - 1s 2ms/step - loss: 8.6555e-06 - accuracy: 1.0000 - val_loss: 0.9846 - val_accuracy: 0.8841\n",
            "Epoch 634/1000\n",
            "403/403 [==============================] - 1s 3ms/step - loss: 9.0326e-06 - accuracy: 1.0000 - val_loss: 0.9852 - val_accuracy: 0.8841\n",
            "Epoch 635/1000\n",
            "403/403 [==============================] - 1s 2ms/step - loss: 9.4384e-06 - accuracy: 1.0000 - val_loss: 0.9851 - val_accuracy: 0.8841\n",
            "Epoch 636/1000\n",
            "403/403 [==============================] - 1s 2ms/step - loss: 8.6183e-06 - accuracy: 1.0000 - val_loss: 0.9856 - val_accuracy: 0.8841\n",
            "Epoch 637/1000\n",
            "403/403 [==============================] - 1s 2ms/step - loss: 8.6268e-06 - accuracy: 1.0000 - val_loss: 0.9859 - val_accuracy: 0.8841\n",
            "Epoch 638/1000\n",
            "403/403 [==============================] - 1s 3ms/step - loss: 8.6873e-06 - accuracy: 1.0000 - val_loss: 0.9858 - val_accuracy: 0.8841\n",
            "Epoch 639/1000\n",
            "403/403 [==============================] - 1s 2ms/step - loss: 9.1275e-06 - accuracy: 1.0000 - val_loss: 0.9861 - val_accuracy: 0.8841\n",
            "Epoch 640/1000\n",
            "403/403 [==============================] - 1s 2ms/step - loss: 8.4608e-06 - accuracy: 1.0000 - val_loss: 0.9862 - val_accuracy: 0.8841\n",
            "Epoch 641/1000\n",
            "403/403 [==============================] - 1s 2ms/step - loss: 9.0190e-06 - accuracy: 1.0000 - val_loss: 0.9866 - val_accuracy: 0.8841\n",
            "Epoch 642/1000\n",
            "403/403 [==============================] - 1s 2ms/step - loss: 8.6563e-06 - accuracy: 1.0000 - val_loss: 0.9869 - val_accuracy: 0.8841\n",
            "Epoch 643/1000\n",
            "403/403 [==============================] - 1s 3ms/step - loss: 8.9709e-06 - accuracy: 1.0000 - val_loss: 0.9876 - val_accuracy: 0.8841\n",
            "Epoch 644/1000\n",
            "403/403 [==============================] - 1s 3ms/step - loss: 8.6838e-06 - accuracy: 1.0000 - val_loss: 0.9876 - val_accuracy: 0.8841\n",
            "Epoch 645/1000\n",
            "403/403 [==============================] - 1s 3ms/step - loss: 8.4786e-06 - accuracy: 1.0000 - val_loss: 0.9876 - val_accuracy: 0.8841\n",
            "Epoch 646/1000\n",
            "403/403 [==============================] - 1s 2ms/step - loss: 7.8824e-06 - accuracy: 1.0000 - val_loss: 0.9879 - val_accuracy: 0.8841\n",
            "Epoch 647/1000\n",
            "403/403 [==============================] - 1s 2ms/step - loss: 8.3671e-06 - accuracy: 1.0000 - val_loss: 0.9883 - val_accuracy: 0.8841\n",
            "Epoch 648/1000\n",
            "403/403 [==============================] - 1s 3ms/step - loss: 8.4269e-06 - accuracy: 1.0000 - val_loss: 0.9885 - val_accuracy: 0.8841\n",
            "Epoch 649/1000\n",
            "403/403 [==============================] - 1s 3ms/step - loss: 8.3094e-06 - accuracy: 1.0000 - val_loss: 0.9885 - val_accuracy: 0.8841\n",
            "Epoch 650/1000\n",
            "403/403 [==============================] - 1s 3ms/step - loss: 8.8516e-06 - accuracy: 1.0000 - val_loss: 0.9888 - val_accuracy: 0.8841\n",
            "Epoch 651/1000\n",
            "403/403 [==============================] - 1s 2ms/step - loss: 8.4516e-06 - accuracy: 1.0000 - val_loss: 0.9892 - val_accuracy: 0.8841\n",
            "Epoch 652/1000\n",
            "403/403 [==============================] - 1s 3ms/step - loss: 7.9955e-06 - accuracy: 1.0000 - val_loss: 0.9893 - val_accuracy: 0.8841\n",
            "Epoch 653/1000\n",
            "403/403 [==============================] - 1s 2ms/step - loss: 8.0979e-06 - accuracy: 1.0000 - val_loss: 0.9895 - val_accuracy: 0.8841\n",
            "Epoch 654/1000\n",
            "403/403 [==============================] - 1s 2ms/step - loss: 7.9105e-06 - accuracy: 1.0000 - val_loss: 0.9898 - val_accuracy: 0.8841\n",
            "Epoch 655/1000\n",
            "403/403 [==============================] - 1s 2ms/step - loss: 8.3825e-06 - accuracy: 1.0000 - val_loss: 0.9903 - val_accuracy: 0.8841\n",
            "Epoch 656/1000\n",
            "403/403 [==============================] - 1s 3ms/step - loss: 8.9108e-06 - accuracy: 1.0000 - val_loss: 0.9905 - val_accuracy: 0.8841\n",
            "Epoch 657/1000\n",
            "403/403 [==============================] - 1s 2ms/step - loss: 7.9875e-06 - accuracy: 1.0000 - val_loss: 0.9908 - val_accuracy: 0.8841\n",
            "Epoch 658/1000\n",
            "403/403 [==============================] - 1s 2ms/step - loss: 8.6159e-06 - accuracy: 1.0000 - val_loss: 0.9911 - val_accuracy: 0.8841\n",
            "Epoch 659/1000\n",
            "403/403 [==============================] - 1s 2ms/step - loss: 7.9489e-06 - accuracy: 1.0000 - val_loss: 0.9914 - val_accuracy: 0.8841\n",
            "Epoch 660/1000\n",
            "403/403 [==============================] - 1s 2ms/step - loss: 8.7770e-06 - accuracy: 1.0000 - val_loss: 0.9913 - val_accuracy: 0.8841\n",
            "Epoch 661/1000\n",
            "403/403 [==============================] - 1s 2ms/step - loss: 8.3083e-06 - accuracy: 1.0000 - val_loss: 0.9913 - val_accuracy: 0.8841\n",
            "Epoch 662/1000\n",
            "403/403 [==============================] - 1s 2ms/step - loss: 7.8565e-06 - accuracy: 1.0000 - val_loss: 0.9914 - val_accuracy: 0.8841\n",
            "Epoch 663/1000\n",
            "403/403 [==============================] - 1s 2ms/step - loss: 8.1512e-06 - accuracy: 1.0000 - val_loss: 0.9921 - val_accuracy: 0.8841\n",
            "Epoch 664/1000\n",
            "403/403 [==============================] - 1s 2ms/step - loss: 8.0311e-06 - accuracy: 1.0000 - val_loss: 0.9925 - val_accuracy: 0.8841\n",
            "Epoch 665/1000\n",
            "403/403 [==============================] - 1s 2ms/step - loss: 7.9218e-06 - accuracy: 1.0000 - val_loss: 0.9928 - val_accuracy: 0.8841\n",
            "Epoch 666/1000\n",
            "403/403 [==============================] - 1s 3ms/step - loss: 7.7424e-06 - accuracy: 1.0000 - val_loss: 0.9928 - val_accuracy: 0.8841\n",
            "Epoch 667/1000\n",
            "403/403 [==============================] - 1s 2ms/step - loss: 8.1251e-06 - accuracy: 1.0000 - val_loss: 0.9931 - val_accuracy: 0.8841\n",
            "Epoch 668/1000\n",
            "403/403 [==============================] - 1s 2ms/step - loss: 7.8082e-06 - accuracy: 1.0000 - val_loss: 0.9935 - val_accuracy: 0.8841\n",
            "Epoch 669/1000\n",
            "403/403 [==============================] - 1s 2ms/step - loss: 7.8122e-06 - accuracy: 1.0000 - val_loss: 0.9934 - val_accuracy: 0.8841\n",
            "Epoch 670/1000\n",
            "403/403 [==============================] - 1s 2ms/step - loss: 7.5191e-06 - accuracy: 1.0000 - val_loss: 0.9936 - val_accuracy: 0.8841\n",
            "Epoch 671/1000\n",
            "403/403 [==============================] - 1s 3ms/step - loss: 7.9278e-06 - accuracy: 1.0000 - val_loss: 0.9939 - val_accuracy: 0.8841\n",
            "Epoch 672/1000\n",
            "403/403 [==============================] - 2s 5ms/step - loss: 8.0660e-06 - accuracy: 1.0000 - val_loss: 0.9944 - val_accuracy: 0.8841\n",
            "Epoch 673/1000\n",
            "403/403 [==============================] - 1s 3ms/step - loss: 8.1389e-06 - accuracy: 1.0000 - val_loss: 0.9948 - val_accuracy: 0.8838\n",
            "Epoch 674/1000\n",
            "403/403 [==============================] - 1s 3ms/step - loss: 7.5865e-06 - accuracy: 1.0000 - val_loss: 0.9946 - val_accuracy: 0.8841\n",
            "Epoch 675/1000\n",
            "403/403 [==============================] - 1s 2ms/step - loss: 7.6884e-06 - accuracy: 1.0000 - val_loss: 0.9947 - val_accuracy: 0.8841\n",
            "Epoch 676/1000\n",
            "403/403 [==============================] - 1s 2ms/step - loss: 7.6632e-06 - accuracy: 1.0000 - val_loss: 0.9954 - val_accuracy: 0.8838\n",
            "Epoch 677/1000\n",
            "403/403 [==============================] - 1s 2ms/step - loss: 8.4067e-06 - accuracy: 1.0000 - val_loss: 0.9957 - val_accuracy: 0.8838\n",
            "Epoch 678/1000\n",
            "403/403 [==============================] - 1s 2ms/step - loss: 8.5827e-06 - accuracy: 1.0000 - val_loss: 0.9956 - val_accuracy: 0.8838\n",
            "Epoch 679/1000\n",
            "403/403 [==============================] - 1s 3ms/step - loss: 7.8706e-06 - accuracy: 1.0000 - val_loss: 0.9960 - val_accuracy: 0.8838\n",
            "Epoch 680/1000\n",
            "403/403 [==============================] - 1s 3ms/step - loss: 7.3948e-06 - accuracy: 1.0000 - val_loss: 0.9964 - val_accuracy: 0.8838\n",
            "Epoch 681/1000\n",
            "403/403 [==============================] - 1s 3ms/step - loss: 7.6230e-06 - accuracy: 1.0000 - val_loss: 0.9965 - val_accuracy: 0.8838\n",
            "Epoch 682/1000\n",
            "403/403 [==============================] - 1s 3ms/step - loss: 8.1945e-06 - accuracy: 1.0000 - val_loss: 0.9967 - val_accuracy: 0.8838\n",
            "Epoch 683/1000\n",
            "403/403 [==============================] - 1s 2ms/step - loss: 7.1574e-06 - accuracy: 1.0000 - val_loss: 0.9968 - val_accuracy: 0.8838\n",
            "Epoch 684/1000\n",
            "403/403 [==============================] - 1s 2ms/step - loss: 7.8007e-06 - accuracy: 1.0000 - val_loss: 0.9972 - val_accuracy: 0.8838\n",
            "Epoch 685/1000\n",
            "403/403 [==============================] - 1s 2ms/step - loss: 7.1647e-06 - accuracy: 1.0000 - val_loss: 0.9974 - val_accuracy: 0.8838\n",
            "Epoch 686/1000\n",
            "403/403 [==============================] - 1s 3ms/step - loss: 7.3417e-06 - accuracy: 1.0000 - val_loss: 0.9975 - val_accuracy: 0.8838\n",
            "Epoch 687/1000\n",
            "403/403 [==============================] - 1s 2ms/step - loss: 7.8194e-06 - accuracy: 1.0000 - val_loss: 0.9977 - val_accuracy: 0.8838\n",
            "Epoch 688/1000\n",
            "403/403 [==============================] - 1s 3ms/step - loss: 7.8981e-06 - accuracy: 1.0000 - val_loss: 0.9982 - val_accuracy: 0.8838\n",
            "Epoch 689/1000\n",
            "403/403 [==============================] - 1s 2ms/step - loss: 7.8213e-06 - accuracy: 1.0000 - val_loss: 0.9983 - val_accuracy: 0.8838\n",
            "Epoch 690/1000\n",
            "403/403 [==============================] - 1s 3ms/step - loss: 7.0252e-06 - accuracy: 1.0000 - val_loss: 0.9985 - val_accuracy: 0.8838\n",
            "Epoch 691/1000\n",
            "403/403 [==============================] - 1s 3ms/step - loss: 7.6770e-06 - accuracy: 1.0000 - val_loss: 0.9987 - val_accuracy: 0.8838\n",
            "Epoch 692/1000\n",
            "403/403 [==============================] - 1s 2ms/step - loss: 7.4648e-06 - accuracy: 1.0000 - val_loss: 0.9991 - val_accuracy: 0.8838\n",
            "Epoch 693/1000\n",
            "403/403 [==============================] - 1s 2ms/step - loss: 7.6873e-06 - accuracy: 1.0000 - val_loss: 0.9995 - val_accuracy: 0.8838\n",
            "Epoch 694/1000\n",
            "403/403 [==============================] - 1s 2ms/step - loss: 7.2131e-06 - accuracy: 1.0000 - val_loss: 0.9994 - val_accuracy: 0.8841\n",
            "Epoch 695/1000\n",
            "403/403 [==============================] - 1s 3ms/step - loss: 7.9907e-06 - accuracy: 1.0000 - val_loss: 0.9996 - val_accuracy: 0.8841\n",
            "Epoch 696/1000\n",
            "403/403 [==============================] - 1s 2ms/step - loss: 7.5850e-06 - accuracy: 1.0000 - val_loss: 1.0000 - val_accuracy: 0.8838\n",
            "Epoch 697/1000\n",
            "403/403 [==============================] - 1s 3ms/step - loss: 7.7222e-06 - accuracy: 1.0000 - val_loss: 1.0001 - val_accuracy: 0.8841\n",
            "Epoch 698/1000\n",
            "403/403 [==============================] - 1s 3ms/step - loss: 7.8341e-06 - accuracy: 1.0000 - val_loss: 1.0003 - val_accuracy: 0.8841\n",
            "Epoch 699/1000\n",
            "403/403 [==============================] - 1s 2ms/step - loss: 7.9940e-06 - accuracy: 1.0000 - val_loss: 1.0004 - val_accuracy: 0.8841\n",
            "Epoch 700/1000\n",
            "403/403 [==============================] - 1s 3ms/step - loss: 7.1264e-06 - accuracy: 1.0000 - val_loss: 1.0008 - val_accuracy: 0.8841\n",
            "Epoch 701/1000\n",
            "403/403 [==============================] - 1s 2ms/step - loss: 6.8159e-06 - accuracy: 1.0000 - val_loss: 1.0010 - val_accuracy: 0.8841\n",
            "Epoch 702/1000\n",
            "403/403 [==============================] - 1s 3ms/step - loss: 7.5112e-06 - accuracy: 1.0000 - val_loss: 1.0015 - val_accuracy: 0.8841\n",
            "Epoch 703/1000\n",
            "403/403 [==============================] - 1s 3ms/step - loss: 7.6024e-06 - accuracy: 1.0000 - val_loss: 1.0017 - val_accuracy: 0.8841\n",
            "Epoch 704/1000\n",
            "403/403 [==============================] - 1s 3ms/step - loss: 7.1930e-06 - accuracy: 1.0000 - val_loss: 1.0016 - val_accuracy: 0.8841\n",
            "Epoch 705/1000\n",
            "403/403 [==============================] - 1s 3ms/step - loss: 7.2130e-06 - accuracy: 1.0000 - val_loss: 1.0016 - val_accuracy: 0.8841\n",
            "Epoch 706/1000\n",
            "403/403 [==============================] - 1s 2ms/step - loss: 7.3383e-06 - accuracy: 1.0000 - val_loss: 1.0020 - val_accuracy: 0.8841\n",
            "Epoch 707/1000\n",
            "403/403 [==============================] - 1s 2ms/step - loss: 6.6072e-06 - accuracy: 1.0000 - val_loss: 1.0021 - val_accuracy: 0.8841\n",
            "Epoch 708/1000\n",
            "403/403 [==============================] - 1s 3ms/step - loss: 7.2136e-06 - accuracy: 1.0000 - val_loss: 1.0025 - val_accuracy: 0.8841\n",
            "Epoch 709/1000\n",
            "403/403 [==============================] - 1s 3ms/step - loss: 6.9271e-06 - accuracy: 1.0000 - val_loss: 1.0028 - val_accuracy: 0.8841\n",
            "Epoch 710/1000\n",
            "403/403 [==============================] - 1s 3ms/step - loss: 6.9189e-06 - accuracy: 1.0000 - val_loss: 1.0029 - val_accuracy: 0.8841\n",
            "Epoch 711/1000\n",
            "403/403 [==============================] - 1s 3ms/step - loss: 7.2213e-06 - accuracy: 1.0000 - val_loss: 1.0031 - val_accuracy: 0.8841\n",
            "Epoch 712/1000\n",
            "403/403 [==============================] - 1s 2ms/step - loss: 7.5400e-06 - accuracy: 1.0000 - val_loss: 1.0033 - val_accuracy: 0.8841\n",
            "Epoch 713/1000\n",
            "403/403 [==============================] - 1s 2ms/step - loss: 7.2367e-06 - accuracy: 1.0000 - val_loss: 1.0036 - val_accuracy: 0.8841\n",
            "Epoch 714/1000\n",
            "403/403 [==============================] - 1s 2ms/step - loss: 6.7888e-06 - accuracy: 1.0000 - val_loss: 1.0036 - val_accuracy: 0.8841\n",
            "Epoch 715/1000\n",
            "403/403 [==============================] - 1s 3ms/step - loss: 6.6469e-06 - accuracy: 1.0000 - val_loss: 1.0037 - val_accuracy: 0.8841\n",
            "Epoch 716/1000\n",
            "403/403 [==============================] - 1s 3ms/step - loss: 7.2986e-06 - accuracy: 1.0000 - val_loss: 1.0041 - val_accuracy: 0.8841\n",
            "Epoch 717/1000\n",
            "403/403 [==============================] - 1s 3ms/step - loss: 6.6849e-06 - accuracy: 1.0000 - val_loss: 1.0045 - val_accuracy: 0.8841\n",
            "Epoch 718/1000\n",
            "403/403 [==============================] - 1s 3ms/step - loss: 6.8930e-06 - accuracy: 1.0000 - val_loss: 1.0049 - val_accuracy: 0.8841\n",
            "Epoch 719/1000\n",
            "403/403 [==============================] - 1s 2ms/step - loss: 7.2242e-06 - accuracy: 1.0000 - val_loss: 1.0052 - val_accuracy: 0.8841\n",
            "Epoch 720/1000\n",
            "403/403 [==============================] - 1s 2ms/step - loss: 7.2108e-06 - accuracy: 1.0000 - val_loss: 1.0052 - val_accuracy: 0.8841\n",
            "Epoch 721/1000\n",
            "403/403 [==============================] - 1s 3ms/step - loss: 7.2423e-06 - accuracy: 1.0000 - val_loss: 1.0058 - val_accuracy: 0.8838\n",
            "Epoch 722/1000\n",
            "403/403 [==============================] - 1s 2ms/step - loss: 6.8332e-06 - accuracy: 1.0000 - val_loss: 1.0058 - val_accuracy: 0.8841\n",
            "Epoch 723/1000\n",
            "403/403 [==============================] - 1s 2ms/step - loss: 6.8440e-06 - accuracy: 1.0000 - val_loss: 1.0060 - val_accuracy: 0.8841\n",
            "Epoch 724/1000\n",
            "403/403 [==============================] - 1s 3ms/step - loss: 6.3402e-06 - accuracy: 1.0000 - val_loss: 1.0063 - val_accuracy: 0.8841\n",
            "Epoch 725/1000\n",
            "403/403 [==============================] - 1s 2ms/step - loss: 7.5506e-06 - accuracy: 1.0000 - val_loss: 1.0064 - val_accuracy: 0.8844\n",
            "Epoch 726/1000\n",
            "403/403 [==============================] - 1s 3ms/step - loss: 6.9750e-06 - accuracy: 1.0000 - val_loss: 1.0064 - val_accuracy: 0.8844\n",
            "Epoch 727/1000\n",
            "403/403 [==============================] - 1s 3ms/step - loss: 6.9977e-06 - accuracy: 1.0000 - val_loss: 1.0067 - val_accuracy: 0.8844\n",
            "Epoch 728/1000\n",
            "403/403 [==============================] - 1s 2ms/step - loss: 6.6692e-06 - accuracy: 1.0000 - val_loss: 1.0066 - val_accuracy: 0.8844\n",
            "Epoch 729/1000\n",
            "403/403 [==============================] - 1s 3ms/step - loss: 6.8366e-06 - accuracy: 1.0000 - val_loss: 1.0071 - val_accuracy: 0.8844\n",
            "Epoch 730/1000\n",
            "403/403 [==============================] - 1s 2ms/step - loss: 6.3568e-06 - accuracy: 1.0000 - val_loss: 1.0072 - val_accuracy: 0.8844\n",
            "Epoch 731/1000\n",
            "403/403 [==============================] - 1s 3ms/step - loss: 6.4401e-06 - accuracy: 1.0000 - val_loss: 1.0072 - val_accuracy: 0.8844\n",
            "Epoch 732/1000\n",
            "185/403 [============>.................] - ETA: 0s - loss: 8.5356e-06 - accuracy: 1.0000"
          ],
          "name": "stdout"
        }
      ]
    },
    {
      "cell_type": "code",
      "metadata": {
        "id": "xW67Gr2VK28F"
      },
      "source": [
        ""
      ],
      "execution_count": null,
      "outputs": []
    },
    {
      "cell_type": "code",
      "metadata": {
        "id": "FCCSRkQSK2PW"
      },
      "source": [
        ""
      ],
      "execution_count": null,
      "outputs": []
    },
    {
      "cell_type": "code",
      "metadata": {
        "id": "5bbsZtPN0Pi5"
      },
      "source": [
        ""
      ],
      "execution_count": null,
      "outputs": []
    },
    {
      "cell_type": "markdown",
      "metadata": {
        "id": "BH86ZqfV0XzK"
      },
      "source": [
        ""
      ]
    },
    {
      "cell_type": "markdown",
      "metadata": {
        "id": "FUN0FBWW0Z0z"
      },
      "source": [
        ""
      ]
    }
  ]
}