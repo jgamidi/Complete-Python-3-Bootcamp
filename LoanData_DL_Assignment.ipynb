{
  "nbformat": 4,
  "nbformat_minor": 0,
  "metadata": {
    "accelerator": "GPU",
    "colab": {
      "name": "LoanData_DL_Assignment.ipynb",
      "provenance": [],
      "collapsed_sections": [],
      "authorship_tag": "ABX9TyO/OCTik2sx1UW0HTglT4nG",
      "include_colab_link": true
    },
    "kernelspec": {
      "display_name": "Python 3",
      "name": "python3"
    }
  },
  "cells": [
    {
      "cell_type": "markdown",
      "metadata": {
        "id": "view-in-github",
        "colab_type": "text"
      },
      "source": [
        "<a href=\"https://colab.research.google.com/github/jgamidi/Complete-Python-3-Bootcamp/blob/master/LoanData_DL_Assignment.ipynb\" target=\"_parent\"><img src=\"https://colab.research.google.com/assets/colab-badge.svg\" alt=\"Open In Colab\"/></a>"
      ]
    },
    {
      "cell_type": "code",
      "metadata": {
        "id": "qIfzR5KR4fCk"
      },
      "source": [
        "import pandas as pd\r\n",
        "import seaborn as sns\r\n",
        "import numpy as np\r\n",
        "import tensorflow as tf\r\n",
        "import matplotlib.pyplot as plt\r\n",
        "from imblearn.over_sampling import SMOTE"
      ],
      "execution_count": 4,
      "outputs": []
    },
    {
      "cell_type": "markdown",
      "metadata": {
        "id": "W1bCpXqcDVg8"
      },
      "source": [
        "Dataset columns and definition:\r\n",
        "\r\n",
        " \r\n",
        "\r\n",
        "credit.policy: 1 if the customer meets the credit underwriting criteria of LendingClub.com, and 0 otherwise.\r\n",
        "\r\n",
        "purpose: The purpose of the loan (takes values \"credit_card\", \"debt_consolidation\", \"educational\", \"major_purchase\", \"small_business\", and \"all_other\").\r\n",
        "\r\n",
        "int.rate: The interest rate of the loan, as a proportion (a rate of 11% would be stored as 0.11). Borrowers judged by LendingClub.com to be more risky are assigned higher interest rates.\r\n",
        "\r\n",
        "installment: The monthly installments owed by the borrower if the loan is funded.\r\n",
        "\r\n",
        "log.annual.inc: The natural log of the self-reported annual income of the borrower.\r\n",
        "\r\n",
        "dti: The debt-to-income ratio of the borrower (amount of debt divided by annual income).\r\n",
        "\r\n",
        "fico: The FICO credit score of the borrower.\r\n",
        "\r\n",
        "days.with.cr.line: The number of days the borrower has had a credit line.\r\n",
        "\r\n",
        "revol.bal: The borrower's revolving balance (amount unpaid at the end of the credit card billing cycle).\r\n",
        "\r\n",
        "revol.util: The borrower's revolving line utilization rate (the amount of the credit line used relative to total credit available).\r\n",
        "\r\n",
        "inq.last.6mths: The borrower's number of inquiries by creditors in the last 6 months.\r\n",
        "\r\n",
        "delinq.2yrs: The number of times the borrower had been 30+ days past due on a payment in the past 2 years.\r\n",
        "\r\n",
        "pub.rec: The borrower's number of derogatory public records (bankruptcy filings, tax liens, or judgments).\r\n",
        "\r\n",
        " \r\n",
        "\r\n",
        "Steps to perform:\r\n",
        "\r\n",
        "Perform exploratory data analysis and feature engineering and then apply feature engineering. Follow up with a deep learning model to predict whether or not the loan will be default using the historical data.\r\n",
        "\r\n",
        " \r\n",
        "\r\n",
        "Tasks:\r\n",
        "\r\n",
        "1.     Feature Transformation\r\n",
        "\r\n",
        "Transform categorical values into numerical values (discrete)\r\n",
        "\r\n",
        "2.     Exploratory data analysis of different factors of the dataset.\r\n",
        "\r\n",
        "3.     Additional Feature Engineering\r\n",
        "\r\n",
        "You will check the correlation between features and will drop those features which have a strong correlation\r\n",
        "\r\n",
        "This will help reduce the number of features and will leave you with the most relevant features\r\n",
        "\r\n",
        "4.     Modeling\r\n",
        "\r\n",
        "After applying EDA and feature engineering, you are now ready to build the predictive models\r\n",
        "\r\n",
        "In this part, you will create a deep learning model using Keras with Tensorflow backend"
      ]
    },
    {
      "cell_type": "code",
      "metadata": {
        "id": "iiAUjU3t5dS1"
      },
      "source": [
        "loanData = pd.read_csv('loan_data.csv')"
      ],
      "execution_count": 5,
      "outputs": []
    },
    {
      "cell_type": "code",
      "metadata": {
        "colab": {
          "base_uri": "https://localhost:8080/",
          "height": 0
        },
        "id": "Q3vTW76m5dka",
        "outputId": "d528fe8a-f243-4e21-92d5-5e20b731e00a"
      },
      "source": [
        "loanData.info()"
      ],
      "execution_count": 6,
      "outputs": [
        {
          "output_type": "stream",
          "text": [
            "<class 'pandas.core.frame.DataFrame'>\n",
            "RangeIndex: 9578 entries, 0 to 9577\n",
            "Data columns (total 14 columns):\n",
            " #   Column             Non-Null Count  Dtype  \n",
            "---  ------             --------------  -----  \n",
            " 0   credit.policy      9578 non-null   int64  \n",
            " 1   purpose            9578 non-null   object \n",
            " 2   int.rate           9578 non-null   float64\n",
            " 3   installment        9578 non-null   float64\n",
            " 4   log.annual.inc     9578 non-null   float64\n",
            " 5   dti                9578 non-null   float64\n",
            " 6   fico               9578 non-null   int64  \n",
            " 7   days.with.cr.line  9578 non-null   float64\n",
            " 8   revol.bal          9578 non-null   int64  \n",
            " 9   revol.util         9578 non-null   float64\n",
            " 10  inq.last.6mths     9578 non-null   int64  \n",
            " 11  delinq.2yrs        9578 non-null   int64  \n",
            " 12  pub.rec            9578 non-null   int64  \n",
            " 13  not.fully.paid     9578 non-null   int64  \n",
            "dtypes: float64(6), int64(7), object(1)\n",
            "memory usage: 1.0+ MB\n"
          ],
          "name": "stdout"
        }
      ]
    },
    {
      "cell_type": "markdown",
      "metadata": {
        "id": "2NO7VL3cCkEn"
      },
      "source": [
        "No missing values in the data."
      ]
    },
    {
      "cell_type": "code",
      "metadata": {
        "colab": {
          "base_uri": "https://localhost:8080/",
          "height": 224
        },
        "id": "TEyVGBIBCS1h",
        "outputId": "837d0021-743c-4425-d364-3276cac76949"
      },
      "source": [
        "loanData.head()"
      ],
      "execution_count": 7,
      "outputs": [
        {
          "output_type": "execute_result",
          "data": {
            "text/html": [
              "<div>\n",
              "<style scoped>\n",
              "    .dataframe tbody tr th:only-of-type {\n",
              "        vertical-align: middle;\n",
              "    }\n",
              "\n",
              "    .dataframe tbody tr th {\n",
              "        vertical-align: top;\n",
              "    }\n",
              "\n",
              "    .dataframe thead th {\n",
              "        text-align: right;\n",
              "    }\n",
              "</style>\n",
              "<table border=\"1\" class=\"dataframe\">\n",
              "  <thead>\n",
              "    <tr style=\"text-align: right;\">\n",
              "      <th></th>\n",
              "      <th>credit.policy</th>\n",
              "      <th>purpose</th>\n",
              "      <th>int.rate</th>\n",
              "      <th>installment</th>\n",
              "      <th>log.annual.inc</th>\n",
              "      <th>dti</th>\n",
              "      <th>fico</th>\n",
              "      <th>days.with.cr.line</th>\n",
              "      <th>revol.bal</th>\n",
              "      <th>revol.util</th>\n",
              "      <th>inq.last.6mths</th>\n",
              "      <th>delinq.2yrs</th>\n",
              "      <th>pub.rec</th>\n",
              "      <th>not.fully.paid</th>\n",
              "    </tr>\n",
              "  </thead>\n",
              "  <tbody>\n",
              "    <tr>\n",
              "      <th>0</th>\n",
              "      <td>1</td>\n",
              "      <td>debt_consolidation</td>\n",
              "      <td>0.1189</td>\n",
              "      <td>829.10</td>\n",
              "      <td>11.350407</td>\n",
              "      <td>19.48</td>\n",
              "      <td>737</td>\n",
              "      <td>5639.958333</td>\n",
              "      <td>28854</td>\n",
              "      <td>52.1</td>\n",
              "      <td>0</td>\n",
              "      <td>0</td>\n",
              "      <td>0</td>\n",
              "      <td>0</td>\n",
              "    </tr>\n",
              "    <tr>\n",
              "      <th>1</th>\n",
              "      <td>1</td>\n",
              "      <td>credit_card</td>\n",
              "      <td>0.1071</td>\n",
              "      <td>228.22</td>\n",
              "      <td>11.082143</td>\n",
              "      <td>14.29</td>\n",
              "      <td>707</td>\n",
              "      <td>2760.000000</td>\n",
              "      <td>33623</td>\n",
              "      <td>76.7</td>\n",
              "      <td>0</td>\n",
              "      <td>0</td>\n",
              "      <td>0</td>\n",
              "      <td>0</td>\n",
              "    </tr>\n",
              "    <tr>\n",
              "      <th>2</th>\n",
              "      <td>1</td>\n",
              "      <td>debt_consolidation</td>\n",
              "      <td>0.1357</td>\n",
              "      <td>366.86</td>\n",
              "      <td>10.373491</td>\n",
              "      <td>11.63</td>\n",
              "      <td>682</td>\n",
              "      <td>4710.000000</td>\n",
              "      <td>3511</td>\n",
              "      <td>25.6</td>\n",
              "      <td>1</td>\n",
              "      <td>0</td>\n",
              "      <td>0</td>\n",
              "      <td>0</td>\n",
              "    </tr>\n",
              "    <tr>\n",
              "      <th>3</th>\n",
              "      <td>1</td>\n",
              "      <td>debt_consolidation</td>\n",
              "      <td>0.1008</td>\n",
              "      <td>162.34</td>\n",
              "      <td>11.350407</td>\n",
              "      <td>8.10</td>\n",
              "      <td>712</td>\n",
              "      <td>2699.958333</td>\n",
              "      <td>33667</td>\n",
              "      <td>73.2</td>\n",
              "      <td>1</td>\n",
              "      <td>0</td>\n",
              "      <td>0</td>\n",
              "      <td>0</td>\n",
              "    </tr>\n",
              "    <tr>\n",
              "      <th>4</th>\n",
              "      <td>1</td>\n",
              "      <td>credit_card</td>\n",
              "      <td>0.1426</td>\n",
              "      <td>102.92</td>\n",
              "      <td>11.299732</td>\n",
              "      <td>14.97</td>\n",
              "      <td>667</td>\n",
              "      <td>4066.000000</td>\n",
              "      <td>4740</td>\n",
              "      <td>39.5</td>\n",
              "      <td>0</td>\n",
              "      <td>1</td>\n",
              "      <td>0</td>\n",
              "      <td>0</td>\n",
              "    </tr>\n",
              "  </tbody>\n",
              "</table>\n",
              "</div>"
            ],
            "text/plain": [
              "   credit.policy             purpose  ...  pub.rec  not.fully.paid\n",
              "0              1  debt_consolidation  ...        0               0\n",
              "1              1         credit_card  ...        0               0\n",
              "2              1  debt_consolidation  ...        0               0\n",
              "3              1  debt_consolidation  ...        0               0\n",
              "4              1         credit_card  ...        0               0\n",
              "\n",
              "[5 rows x 14 columns]"
            ]
          },
          "metadata": {
            "tags": []
          },
          "execution_count": 7
        }
      ]
    },
    {
      "cell_type": "code",
      "metadata": {
        "colab": {
          "base_uri": "https://localhost:8080/",
          "height": 0
        },
        "id": "GAaQ5w7nCS6h",
        "outputId": "7a7ba2be-e314-4b67-b282-880a133cc5cb"
      },
      "source": [
        "loanData.purpose.value_counts()"
      ],
      "execution_count": 8,
      "outputs": [
        {
          "output_type": "execute_result",
          "data": {
            "text/plain": [
              "debt_consolidation    3957\n",
              "all_other             2331\n",
              "credit_card           1262\n",
              "home_improvement       629\n",
              "small_business         619\n",
              "major_purchase         437\n",
              "educational            343\n",
              "Name: purpose, dtype: int64"
            ]
          },
          "metadata": {
            "tags": []
          },
          "execution_count": 8
        }
      ]
    },
    {
      "cell_type": "code",
      "metadata": {
        "colab": {
          "base_uri": "https://localhost:8080/",
          "height": 419
        },
        "id": "HSHdSFJME_Oq",
        "outputId": "5ceb3839-4da1-4719-9132-b6cdd04607d2"
      },
      "source": [
        "(loanData[['purpose']])"
      ],
      "execution_count": 9,
      "outputs": [
        {
          "output_type": "execute_result",
          "data": {
            "text/html": [
              "<div>\n",
              "<style scoped>\n",
              "    .dataframe tbody tr th:only-of-type {\n",
              "        vertical-align: middle;\n",
              "    }\n",
              "\n",
              "    .dataframe tbody tr th {\n",
              "        vertical-align: top;\n",
              "    }\n",
              "\n",
              "    .dataframe thead th {\n",
              "        text-align: right;\n",
              "    }\n",
              "</style>\n",
              "<table border=\"1\" class=\"dataframe\">\n",
              "  <thead>\n",
              "    <tr style=\"text-align: right;\">\n",
              "      <th></th>\n",
              "      <th>purpose</th>\n",
              "    </tr>\n",
              "  </thead>\n",
              "  <tbody>\n",
              "    <tr>\n",
              "      <th>0</th>\n",
              "      <td>debt_consolidation</td>\n",
              "    </tr>\n",
              "    <tr>\n",
              "      <th>1</th>\n",
              "      <td>credit_card</td>\n",
              "    </tr>\n",
              "    <tr>\n",
              "      <th>2</th>\n",
              "      <td>debt_consolidation</td>\n",
              "    </tr>\n",
              "    <tr>\n",
              "      <th>3</th>\n",
              "      <td>debt_consolidation</td>\n",
              "    </tr>\n",
              "    <tr>\n",
              "      <th>4</th>\n",
              "      <td>credit_card</td>\n",
              "    </tr>\n",
              "    <tr>\n",
              "      <th>...</th>\n",
              "      <td>...</td>\n",
              "    </tr>\n",
              "    <tr>\n",
              "      <th>9573</th>\n",
              "      <td>all_other</td>\n",
              "    </tr>\n",
              "    <tr>\n",
              "      <th>9574</th>\n",
              "      <td>all_other</td>\n",
              "    </tr>\n",
              "    <tr>\n",
              "      <th>9575</th>\n",
              "      <td>debt_consolidation</td>\n",
              "    </tr>\n",
              "    <tr>\n",
              "      <th>9576</th>\n",
              "      <td>home_improvement</td>\n",
              "    </tr>\n",
              "    <tr>\n",
              "      <th>9577</th>\n",
              "      <td>debt_consolidation</td>\n",
              "    </tr>\n",
              "  </tbody>\n",
              "</table>\n",
              "<p>9578 rows × 1 columns</p>\n",
              "</div>"
            ],
            "text/plain": [
              "                 purpose\n",
              "0     debt_consolidation\n",
              "1            credit_card\n",
              "2     debt_consolidation\n",
              "3     debt_consolidation\n",
              "4            credit_card\n",
              "...                  ...\n",
              "9573           all_other\n",
              "9574           all_other\n",
              "9575  debt_consolidation\n",
              "9576    home_improvement\n",
              "9577  debt_consolidation\n",
              "\n",
              "[9578 rows x 1 columns]"
            ]
          },
          "metadata": {
            "tags": []
          },
          "execution_count": 9
        }
      ]
    },
    {
      "cell_type": "code",
      "metadata": {
        "colab": {
          "base_uri": "https://localhost:8080/",
          "height": 467
        },
        "id": "BFNg82DRn5sK",
        "outputId": "d86f1782-ad1c-4822-fecc-f2375d2e0d05"
      },
      "source": [
        "plt.figure(figsize=(12,6))\r\n",
        "sns.heatmap(loanData.corr(),annot=True)"
      ],
      "execution_count": 10,
      "outputs": [
        {
          "output_type": "execute_result",
          "data": {
            "text/plain": [
              "<matplotlib.axes._subplots.AxesSubplot at 0x7fac159e6748>"
            ]
          },
          "metadata": {
            "tags": []
          },
          "execution_count": 10
        },
        {
          "output_type": "display_data",
          "data": {
            "image/png": "[encoded data removed]",
            "text/plain": [
              "<Figure size 864x432 with 2 Axes>"
            ]
          },
          "metadata": {
            "tags": [],
            "needs_background": "light"
          }
        }
      ]
    },
    {
      "cell_type": "markdown",
      "metadata": {
        "id": "eG2w0b3lp73U"
      },
      "source": [
        "*There is some multi-collinearlity between int.rate and fico, but its not very high, so not droppping any features based on collinearity*"
      ]
    },
    {
      "cell_type": "code",
      "metadata": {
        "colab": {
          "base_uri": "https://localhost:8080/",
          "height": 462
        },
        "id": "JvD5mxB68JVE",
        "outputId": "adb718a3-5db7-4511-f7c6-13936d07fc1b"
      },
      "source": [
        "#sns.countplot\r\n",
        "plt.figure(figsize=(11,7))\r\n",
        "sns.countplot(x='purpose',hue='not.fully.paid',data=loanData)"
      ],
      "execution_count": 11,
      "outputs": [
        {
          "output_type": "execute_result",
          "data": {
            "text/plain": [
              "<matplotlib.axes._subplots.AxesSubplot at 0x7fac7acb6940>"
            ]
          },
          "metadata": {
            "tags": []
          },
          "execution_count": 11
        },
        {
          "output_type": "display_data",
          "data": {
            "image/png": "[encoded data removed]",
            "text/plain": [
              "<Figure size 792x504 with 1 Axes>"
            ]
          },
          "metadata": {
            "tags": [],
            "needs_background": "light"
          }
        }
      ]
    },
    {
      "cell_type": "code",
      "metadata": {
        "id": "Gr8rxN0ICS_h"
      },
      "source": [
        "from sklearn.preprocessing import OneHotEncoder"
      ],
      "execution_count": 12,
      "outputs": []
    },
    {
      "cell_type": "code",
      "metadata": {
        "id": "i22mueUs5d0J"
      },
      "source": [
        "enc=OneHotEncoder(handle_unknown='ignore',sparse=False)"
      ],
      "execution_count": 13,
      "outputs": []
    },
    {
      "cell_type": "code",
      "metadata": {
        "id": "c6yli9jZRrpi"
      },
      "source": [
        "purpose_enc=enc.fit_transform(loanData[['purpose']])"
      ],
      "execution_count": 14,
      "outputs": []
    },
    {
      "cell_type": "code",
      "metadata": {
        "colab": {
          "base_uri": "https://localhost:8080/",
          "height": 0
        },
        "id": "j5QmQIuLQpEA",
        "outputId": "f1bd3633-b647-46d7-c0ea-72c13698a647"
      },
      "source": [
        "enc.get_feature_names(['purpose'])"
      ],
      "execution_count": 15,
      "outputs": [
        {
          "output_type": "execute_result",
          "data": {
            "text/plain": [
              "array(['purpose_all_other', 'purpose_credit_card',\n",
              "       'purpose_debt_consolidation', 'purpose_educational',\n",
              "       'purpose_home_improvement', 'purpose_major_purchase',\n",
              "       'purpose_small_business'], dtype=object)"
            ]
          },
          "metadata": {
            "tags": []
          },
          "execution_count": 15
        }
      ]
    },
    {
      "cell_type": "code",
      "metadata": {
        "colab": {
          "base_uri": "https://localhost:8080/",
          "height": 439
        },
        "id": "h3K7XZZxRPPz",
        "outputId": "294d3049-9c68-4b2d-a62f-cec68c696820"
      },
      "source": [
        "pd.DataFrame(purpose_enc,columns=enc.get_feature_names(['purpose']))"
      ],
      "execution_count": 16,
      "outputs": [
        {
          "output_type": "execute_result",
          "data": {
            "text/html": [
              "<div>\n",
              "<style scoped>\n",
              "    .dataframe tbody tr th:only-of-type {\n",
              "        vertical-align: middle;\n",
              "    }\n",
              "\n",
              "    .dataframe tbody tr th {\n",
              "        vertical-align: top;\n",
              "    }\n",
              "\n",
              "    .dataframe thead th {\n",
              "        text-align: right;\n",
              "    }\n",
              "</style>\n",
              "<table border=\"1\" class=\"dataframe\">\n",
              "  <thead>\n",
              "    <tr style=\"text-align: right;\">\n",
              "      <th></th>\n",
              "      <th>purpose_all_other</th>\n",
              "      <th>purpose_credit_card</th>\n",
              "      <th>purpose_debt_consolidation</th>\n",
              "      <th>purpose_educational</th>\n",
              "      <th>purpose_home_improvement</th>\n",
              "      <th>purpose_major_purchase</th>\n",
              "      <th>purpose_small_business</th>\n",
              "    </tr>\n",
              "  </thead>\n",
              "  <tbody>\n",
              "    <tr>\n",
              "      <th>0</th>\n",
              "      <td>0.0</td>\n",
              "      <td>0.0</td>\n",
              "      <td>1.0</td>\n",
              "      <td>0.0</td>\n",
              "      <td>0.0</td>\n",
              "      <td>0.0</td>\n",
              "      <td>0.0</td>\n",
              "    </tr>\n",
              "    <tr>\n",
              "      <th>1</th>\n",
              "      <td>0.0</td>\n",
              "      <td>1.0</td>\n",
              "      <td>0.0</td>\n",
              "      <td>0.0</td>\n",
              "      <td>0.0</td>\n",
              "      <td>0.0</td>\n",
              "      <td>0.0</td>\n",
              "    </tr>\n",
              "    <tr>\n",
              "      <th>2</th>\n",
              "      <td>0.0</td>\n",
              "      <td>0.0</td>\n",
              "      <td>1.0</td>\n",
              "      <td>0.0</td>\n",
              "      <td>0.0</td>\n",
              "      <td>0.0</td>\n",
              "      <td>0.0</td>\n",
              "    </tr>\n",
              "    <tr>\n",
              "      <th>3</th>\n",
              "      <td>0.0</td>\n",
              "      <td>0.0</td>\n",
              "      <td>1.0</td>\n",
              "      <td>0.0</td>\n",
              "      <td>0.0</td>\n",
              "      <td>0.0</td>\n",
              "      <td>0.0</td>\n",
              "    </tr>\n",
              "    <tr>\n",
              "      <th>4</th>\n",
              "      <td>0.0</td>\n",
              "      <td>1.0</td>\n",
              "      <td>0.0</td>\n",
              "      <td>0.0</td>\n",
              "      <td>0.0</td>\n",
              "      <td>0.0</td>\n",
              "      <td>0.0</td>\n",
              "    </tr>\n",
              "    <tr>\n",
              "      <th>...</th>\n",
              "      <td>...</td>\n",
              "      <td>...</td>\n",
              "      <td>...</td>\n",
              "      <td>...</td>\n",
              "      <td>...</td>\n",
              "      <td>...</td>\n",
              "      <td>...</td>\n",
              "    </tr>\n",
              "    <tr>\n",
              "      <th>9573</th>\n",
              "      <td>1.0</td>\n",
              "      <td>0.0</td>\n",
              "      <td>0.0</td>\n",
              "      <td>0.0</td>\n",
              "      <td>0.0</td>\n",
              "      <td>0.0</td>\n",
              "      <td>0.0</td>\n",
              "    </tr>\n",
              "    <tr>\n",
              "      <th>9574</th>\n",
              "      <td>1.0</td>\n",
              "      <td>0.0</td>\n",
              "      <td>0.0</td>\n",
              "      <td>0.0</td>\n",
              "      <td>0.0</td>\n",
              "      <td>0.0</td>\n",
              "      <td>0.0</td>\n",
              "    </tr>\n",
              "    <tr>\n",
              "      <th>9575</th>\n",
              "      <td>0.0</td>\n",
              "      <td>0.0</td>\n",
              "      <td>1.0</td>\n",
              "      <td>0.0</td>\n",
              "      <td>0.0</td>\n",
              "      <td>0.0</td>\n",
              "      <td>0.0</td>\n",
              "    </tr>\n",
              "    <tr>\n",
              "      <th>9576</th>\n",
              "      <td>0.0</td>\n",
              "      <td>0.0</td>\n",
              "      <td>0.0</td>\n",
              "      <td>0.0</td>\n",
              "      <td>1.0</td>\n",
              "      <td>0.0</td>\n",
              "      <td>0.0</td>\n",
              "    </tr>\n",
              "    <tr>\n",
              "      <th>9577</th>\n",
              "      <td>0.0</td>\n",
              "      <td>0.0</td>\n",
              "      <td>1.0</td>\n",
              "      <td>0.0</td>\n",
              "      <td>0.0</td>\n",
              "      <td>0.0</td>\n",
              "      <td>0.0</td>\n",
              "    </tr>\n",
              "  </tbody>\n",
              "</table>\n",
              "<p>9578 rows × 7 columns</p>\n",
              "</div>"
            ],
            "text/plain": [
              "      purpose_all_other  ...  purpose_small_business\n",
              "0                   0.0  ...                     0.0\n",
              "1                   0.0  ...                     0.0\n",
              "2                   0.0  ...                     0.0\n",
              "3                   0.0  ...                     0.0\n",
              "4                   0.0  ...                     0.0\n",
              "...                 ...  ...                     ...\n",
              "9573                1.0  ...                     0.0\n",
              "9574                1.0  ...                     0.0\n",
              "9575                0.0  ...                     0.0\n",
              "9576                0.0  ...                     0.0\n",
              "9577                0.0  ...                     0.0\n",
              "\n",
              "[9578 rows x 7 columns]"
            ]
          },
          "metadata": {
            "tags": []
          },
          "execution_count": 16
        }
      ]
    },
    {
      "cell_type": "code",
      "metadata": {
        "id": "ZZ_Ye-6aEuQ1"
      },
      "source": [
        "loanData=loanData.join(pd.DataFrame(purpose_enc,columns=enc.get_feature_names(['purpose'])))"
      ],
      "execution_count": 17,
      "outputs": []
    },
    {
      "cell_type": "code",
      "metadata": {
        "colab": {
          "base_uri": "https://localhost:8080/",
          "height": 439
        },
        "id": "WVzC6IynEuUj",
        "outputId": "2b331fb0-5b9a-4bb7-f990-ac7ce8c032f6"
      },
      "source": [
        "loanData"
      ],
      "execution_count": 18,
      "outputs": [
        {
          "output_type": "execute_result",
          "data": {
            "text/html": [
              "<div>\n",
              "<style scoped>\n",
              "    .dataframe tbody tr th:only-of-type {\n",
              "        vertical-align: middle;\n",
              "    }\n",
              "\n",
              "    .dataframe tbody tr th {\n",
              "        vertical-align: top;\n",
              "    }\n",
              "\n",
              "    .dataframe thead th {\n",
              "        text-align: right;\n",
              "    }\n",
              "</style>\n",
              "<table border=\"1\" class=\"dataframe\">\n",
              "  <thead>\n",
              "    <tr style=\"text-align: right;\">\n",
              "      <th></th>\n",
              "      <th>credit.policy</th>\n",
              "      <th>purpose</th>\n",
              "      <th>int.rate</th>\n",
              "      <th>installment</th>\n",
              "      <th>log.annual.inc</th>\n",
              "      <th>dti</th>\n",
              "      <th>fico</th>\n",
              "      <th>days.with.cr.line</th>\n",
              "      <th>revol.bal</th>\n",
              "      <th>revol.util</th>\n",
              "      <th>inq.last.6mths</th>\n",
              "      <th>delinq.2yrs</th>\n",
              "      <th>pub.rec</th>\n",
              "      <th>not.fully.paid</th>\n",
              "      <th>purpose_all_other</th>\n",
              "      <th>purpose_credit_card</th>\n",
              "      <th>purpose_debt_consolidation</th>\n",
              "      <th>purpose_educational</th>\n",
              "      <th>purpose_home_improvement</th>\n",
              "      <th>purpose_major_purchase</th>\n",
              "      <th>purpose_small_business</th>\n",
              "    </tr>\n",
              "  </thead>\n",
              "  <tbody>\n",
              "    <tr>\n",
              "      <th>0</th>\n",
              "      <td>1</td>\n",
              "      <td>debt_consolidation</td>\n",
              "      <td>0.1189</td>\n",
              "      <td>829.10</td>\n",
              "      <td>11.350407</td>\n",
              "      <td>19.48</td>\n",
              "      <td>737</td>\n",
              "      <td>5639.958333</td>\n",
              "      <td>28854</td>\n",
              "      <td>52.1</td>\n",
              "      <td>0</td>\n",
              "      <td>0</td>\n",
              "      <td>0</td>\n",
              "      <td>0</td>\n",
              "      <td>0.0</td>\n",
              "      <td>0.0</td>\n",
              "      <td>1.0</td>\n",
              "      <td>0.0</td>\n",
              "      <td>0.0</td>\n",
              "      <td>0.0</td>\n",
              "      <td>0.0</td>\n",
              "    </tr>\n",
              "    <tr>\n",
              "      <th>1</th>\n",
              "      <td>1</td>\n",
              "      <td>credit_card</td>\n",
              "      <td>0.1071</td>\n",
              "      <td>228.22</td>\n",
              "      <td>11.082143</td>\n",
              "      <td>14.29</td>\n",
              "      <td>707</td>\n",
              "      <td>2760.000000</td>\n",
              "      <td>33623</td>\n",
              "      <td>76.7</td>\n",
              "      <td>0</td>\n",
              "      <td>0</td>\n",
              "      <td>0</td>\n",
              "      <td>0</td>\n",
              "      <td>0.0</td>\n",
              "      <td>1.0</td>\n",
              "      <td>0.0</td>\n",
              "      <td>0.0</td>\n",
              "      <td>0.0</td>\n",
              "      <td>0.0</td>\n",
              "      <td>0.0</td>\n",
              "    </tr>\n",
              "    <tr>\n",
              "      <th>2</th>\n",
              "      <td>1</td>\n",
              "      <td>debt_consolidation</td>\n",
              "      <td>0.1357</td>\n",
              "      <td>366.86</td>\n",
              "      <td>10.373491</td>\n",
              "      <td>11.63</td>\n",
              "      <td>682</td>\n",
              "      <td>4710.000000</td>\n",
              "      <td>3511</td>\n",
              "      <td>25.6</td>\n",
              "      <td>1</td>\n",
              "      <td>0</td>\n",
              "      <td>0</td>\n",
              "      <td>0</td>\n",
              "      <td>0.0</td>\n",
              "      <td>0.0</td>\n",
              "      <td>1.0</td>\n",
              "      <td>0.0</td>\n",
              "      <td>0.0</td>\n",
              "      <td>0.0</td>\n",
              "      <td>0.0</td>\n",
              "    </tr>\n",
              "    <tr>\n",
              "      <th>3</th>\n",
              "      <td>1</td>\n",
              "      <td>debt_consolidation</td>\n",
              "      <td>0.1008</td>\n",
              "      <td>162.34</td>\n",
              "      <td>11.350407</td>\n",
              "      <td>8.10</td>\n",
              "      <td>712</td>\n",
              "      <td>2699.958333</td>\n",
              "      <td>33667</td>\n",
              "      <td>73.2</td>\n",
              "      <td>1</td>\n",
              "      <td>0</td>\n",
              "      <td>0</td>\n",
              "      <td>0</td>\n",
              "      <td>0.0</td>\n",
              "      <td>0.0</td>\n",
              "      <td>1.0</td>\n",
              "      <td>0.0</td>\n",
              "      <td>0.0</td>\n",
              "      <td>0.0</td>\n",
              "      <td>0.0</td>\n",
              "    </tr>\n",
              "    <tr>\n",
              "      <th>4</th>\n",
              "      <td>1</td>\n",
              "      <td>credit_card</td>\n",
              "      <td>0.1426</td>\n",
              "      <td>102.92</td>\n",
              "      <td>11.299732</td>\n",
              "      <td>14.97</td>\n",
              "      <td>667</td>\n",
              "      <td>4066.000000</td>\n",
              "      <td>4740</td>\n",
              "      <td>39.5</td>\n",
              "      <td>0</td>\n",
              "      <td>1</td>\n",
              "      <td>0</td>\n",
              "      <td>0</td>\n",
              "      <td>0.0</td>\n",
              "      <td>1.0</td>\n",
              "      <td>0.0</td>\n",
              "      <td>0.0</td>\n",
              "      <td>0.0</td>\n",
              "      <td>0.0</td>\n",
              "      <td>0.0</td>\n",
              "    </tr>\n",
              "    <tr>\n",
              "      <th>...</th>\n",
              "      <td>...</td>\n",
              "      <td>...</td>\n",
              "      <td>...</td>\n",
              "      <td>...</td>\n",
              "      <td>...</td>\n",
              "      <td>...</td>\n",
              "      <td>...</td>\n",
              "      <td>...</td>\n",
              "      <td>...</td>\n",
              "      <td>...</td>\n",
              "      <td>...</td>\n",
              "      <td>...</td>\n",
              "      <td>...</td>\n",
              "      <td>...</td>\n",
              "      <td>...</td>\n",
              "      <td>...</td>\n",
              "      <td>...</td>\n",
              "      <td>...</td>\n",
              "      <td>...</td>\n",
              "      <td>...</td>\n",
              "      <td>...</td>\n",
              "    </tr>\n",
              "    <tr>\n",
              "      <th>9573</th>\n",
              "      <td>0</td>\n",
              "      <td>all_other</td>\n",
              "      <td>0.1461</td>\n",
              "      <td>344.76</td>\n",
              "      <td>12.180755</td>\n",
              "      <td>10.39</td>\n",
              "      <td>672</td>\n",
              "      <td>10474.000000</td>\n",
              "      <td>215372</td>\n",
              "      <td>82.1</td>\n",
              "      <td>2</td>\n",
              "      <td>0</td>\n",
              "      <td>0</td>\n",
              "      <td>1</td>\n",
              "      <td>1.0</td>\n",
              "      <td>0.0</td>\n",
              "      <td>0.0</td>\n",
              "      <td>0.0</td>\n",
              "      <td>0.0</td>\n",
              "      <td>0.0</td>\n",
              "      <td>0.0</td>\n",
              "    </tr>\n",
              "    <tr>\n",
              "      <th>9574</th>\n",
              "      <td>0</td>\n",
              "      <td>all_other</td>\n",
              "      <td>0.1253</td>\n",
              "      <td>257.70</td>\n",
              "      <td>11.141862</td>\n",
              "      <td>0.21</td>\n",
              "      <td>722</td>\n",
              "      <td>4380.000000</td>\n",
              "      <td>184</td>\n",
              "      <td>1.1</td>\n",
              "      <td>5</td>\n",
              "      <td>0</td>\n",
              "      <td>0</td>\n",
              "      <td>1</td>\n",
              "      <td>1.0</td>\n",
              "      <td>0.0</td>\n",
              "      <td>0.0</td>\n",
              "      <td>0.0</td>\n",
              "      <td>0.0</td>\n",
              "      <td>0.0</td>\n",
              "      <td>0.0</td>\n",
              "    </tr>\n",
              "    <tr>\n",
              "      <th>9575</th>\n",
              "      <td>0</td>\n",
              "      <td>debt_consolidation</td>\n",
              "      <td>0.1071</td>\n",
              "      <td>97.81</td>\n",
              "      <td>10.596635</td>\n",
              "      <td>13.09</td>\n",
              "      <td>687</td>\n",
              "      <td>3450.041667</td>\n",
              "      <td>10036</td>\n",
              "      <td>82.9</td>\n",
              "      <td>8</td>\n",
              "      <td>0</td>\n",
              "      <td>0</td>\n",
              "      <td>1</td>\n",
              "      <td>0.0</td>\n",
              "      <td>0.0</td>\n",
              "      <td>1.0</td>\n",
              "      <td>0.0</td>\n",
              "      <td>0.0</td>\n",
              "      <td>0.0</td>\n",
              "      <td>0.0</td>\n",
              "    </tr>\n",
              "    <tr>\n",
              "      <th>9576</th>\n",
              "      <td>0</td>\n",
              "      <td>home_improvement</td>\n",
              "      <td>0.1600</td>\n",
              "      <td>351.58</td>\n",
              "      <td>10.819778</td>\n",
              "      <td>19.18</td>\n",
              "      <td>692</td>\n",
              "      <td>1800.000000</td>\n",
              "      <td>0</td>\n",
              "      <td>3.2</td>\n",
              "      <td>5</td>\n",
              "      <td>0</td>\n",
              "      <td>0</td>\n",
              "      <td>1</td>\n",
              "      <td>0.0</td>\n",
              "      <td>0.0</td>\n",
              "      <td>0.0</td>\n",
              "      <td>0.0</td>\n",
              "      <td>1.0</td>\n",
              "      <td>0.0</td>\n",
              "      <td>0.0</td>\n",
              "    </tr>\n",
              "    <tr>\n",
              "      <th>9577</th>\n",
              "      <td>0</td>\n",
              "      <td>debt_consolidation</td>\n",
              "      <td>0.1392</td>\n",
              "      <td>853.43</td>\n",
              "      <td>11.264464</td>\n",
              "      <td>16.28</td>\n",
              "      <td>732</td>\n",
              "      <td>4740.000000</td>\n",
              "      <td>37879</td>\n",
              "      <td>57.0</td>\n",
              "      <td>6</td>\n",
              "      <td>0</td>\n",
              "      <td>0</td>\n",
              "      <td>1</td>\n",
              "      <td>0.0</td>\n",
              "      <td>0.0</td>\n",
              "      <td>1.0</td>\n",
              "      <td>0.0</td>\n",
              "      <td>0.0</td>\n",
              "      <td>0.0</td>\n",
              "      <td>0.0</td>\n",
              "    </tr>\n",
              "  </tbody>\n",
              "</table>\n",
              "<p>9578 rows × 21 columns</p>\n",
              "</div>"
            ],
            "text/plain": [
              "      credit.policy  ... purpose_small_business\n",
              "0                 1  ...                    0.0\n",
              "1                 1  ...                    0.0\n",
              "2                 1  ...                    0.0\n",
              "3                 1  ...                    0.0\n",
              "4                 1  ...                    0.0\n",
              "...             ...  ...                    ...\n",
              "9573              0  ...                    0.0\n",
              "9574              0  ...                    0.0\n",
              "9575              0  ...                    0.0\n",
              "9576              0  ...                    0.0\n",
              "9577              0  ...                    0.0\n",
              "\n",
              "[9578 rows x 21 columns]"
            ]
          },
          "metadata": {
            "tags": []
          },
          "execution_count": 18
        }
      ]
    },
    {
      "cell_type": "code",
      "metadata": {
        "id": "V68rorvKEuYS"
      },
      "source": [
        "loanData.drop(columns=['purpose'],inplace=True)"
      ],
      "execution_count": 19,
      "outputs": []
    },
    {
      "cell_type": "code",
      "metadata": {
        "colab": {
          "base_uri": "https://localhost:8080/",
          "height": 386
        },
        "id": "5VGGHpTPUKdq",
        "outputId": "8e859021-34ca-4953-ab17-53ded179cc34"
      },
      "source": [
        "sns.displot(loanData['installment'])"
      ],
      "execution_count": 20,
      "outputs": [
        {
          "output_type": "execute_result",
          "data": {
            "text/plain": [
              "<seaborn.axisgrid.FacetGrid at 0x7fac0a7efc88>"
            ]
          },
          "metadata": {
            "tags": []
          },
          "execution_count": 20
        },
        {
          "output_type": "display_data",
          "data": {
            "image/png": "[encoded data removed]",
            "text/plain": [
              "<Figure size 360x360 with 1 Axes>"
            ]
          },
          "metadata": {
            "tags": [],
            "needs_background": "light"
          }
        }
      ]
    },
    {
      "cell_type": "markdown",
      "metadata": {
        "id": "zQUCB2TpVi0J"
      },
      "source": [
        "*Installment data is right skewed, so trying transformations*"
      ]
    },
    {
      "cell_type": "code",
      "metadata": {
        "colab": {
          "base_uri": "https://localhost:8080/",
          "height": 386
        },
        "id": "dUC5IYGEUKyW",
        "outputId": "1e5f516a-043a-4bbe-b4c9-4922af699e0f"
      },
      "source": [
        "sns.displot(np.sqrt(loanData['installment']))"
      ],
      "execution_count": 21,
      "outputs": [
        {
          "output_type": "execute_result",
          "data": {
            "text/plain": [
              "<seaborn.axisgrid.FacetGrid at 0x7fac0a7ef5f8>"
            ]
          },
          "metadata": {
            "tags": []
          },
          "execution_count": 21
        },
        {
          "output_type": "display_data",
          "data": {
            "image/png": "[encoded data removed]",
            "text/plain": [
              "<Figure size 360x360 with 1 Axes>"
            ]
          },
          "metadata": {
            "tags": [],
            "needs_background": "light"
          }
        }
      ]
    },
    {
      "cell_type": "code",
      "metadata": {
        "id": "3zU276JZUK8d"
      },
      "source": [
        "loanData['installment_T']=np.sqrt(loanData['installment'])"
      ],
      "execution_count": 22,
      "outputs": []
    },
    {
      "cell_type": "code",
      "metadata": {
        "id": "kObSuWqZc7Py"
      },
      "source": [
        "loanData.drop(columns=['installment'],inplace=True)"
      ],
      "execution_count": 23,
      "outputs": []
    },
    {
      "cell_type": "code",
      "metadata": {
        "colab": {
          "base_uri": "https://localhost:8080/",
          "height": 386
        },
        "id": "7_SsNY0yX0AF",
        "outputId": "754574f0-22be-4ca1-898c-fe6e7e6ed572"
      },
      "source": [
        "sns.displot(loanData['fico'])"
      ],
      "execution_count": 24,
      "outputs": [
        {
          "output_type": "execute_result",
          "data": {
            "text/plain": [
              "<seaborn.axisgrid.FacetGrid at 0x7fac0a65f780>"
            ]
          },
          "metadata": {
            "tags": []
          },
          "execution_count": 24
        },
        {
          "output_type": "display_data",
          "data": {
            "image/png": "[encoded data removed]",
            "text/plain": [
              "<Figure size 360x360 with 1 Axes>"
            ]
          },
          "metadata": {
            "tags": [],
            "needs_background": "light"
          }
        }
      ]
    },
    {
      "cell_type": "code",
      "metadata": {
        "colab": {
          "base_uri": "https://localhost:8080/",
          "height": 386
        },
        "id": "d7C2_F0T5eQo",
        "outputId": "e7673f24-5a75-4b8b-b6c7-95ace6a533d1"
      },
      "source": [
        "sns.displot(1/loanData['fico'])"
      ],
      "execution_count": 25,
      "outputs": [
        {
          "output_type": "execute_result",
          "data": {
            "text/plain": [
              "<seaborn.axisgrid.FacetGrid at 0x7fac0a631630>"
            ]
          },
          "metadata": {
            "tags": []
          },
          "execution_count": 25
        },
        {
          "output_type": "display_data",
          "data": {
            "image/png": "[encoded data removed]",
            "text/plain": [
              "<Figure size 360x360 with 1 Axes>"
            ]
          },
          "metadata": {
            "tags": [],
            "needs_background": "light"
          }
        }
      ]
    },
    {
      "cell_type": "code",
      "metadata": {
        "id": "qvbqSpquYTDh"
      },
      "source": [
        "from scipy import stats"
      ],
      "execution_count": 26,
      "outputs": []
    },
    {
      "cell_type": "code",
      "metadata": {
        "id": "OTERFz3sYTc9"
      },
      "source": [
        "fico_T,fico_lambda=stats.boxcox(loanData['fico'])"
      ],
      "execution_count": 27,
      "outputs": []
    },
    {
      "cell_type": "code",
      "metadata": {
        "colab": {
          "base_uri": "https://localhost:8080/",
          "height": 0
        },
        "id": "sG1NT13OYTtJ",
        "outputId": "d81227a7-c10d-47ec-93b8-aa31bc3c157f"
      },
      "source": [
        "fico_lambda\r\n"
      ],
      "execution_count": 28,
      "outputs": [
        {
          "output_type": "execute_result",
          "data": {
            "text/plain": [
              "-3.1221873174685357"
            ]
          },
          "metadata": {
            "tags": []
          },
          "execution_count": 28
        }
      ]
    },
    {
      "cell_type": "code",
      "metadata": {
        "colab": {
          "base_uri": "https://localhost:8080/",
          "height": 386
        },
        "id": "UU-qKZqPYT4E",
        "outputId": "b9a06a5d-c1ce-4a59-8835-fe1b8c73017b"
      },
      "source": [
        "sns.displot(fico_T)"
      ],
      "execution_count": 29,
      "outputs": [
        {
          "output_type": "execute_result",
          "data": {
            "text/plain": [
              "<seaborn.axisgrid.FacetGrid at 0x7fac0d8adb70>"
            ]
          },
          "metadata": {
            "tags": []
          },
          "execution_count": 29
        },
        {
          "output_type": "display_data",
          "data": {
            "image/png": "[encoded data removed]",
            "text/plain": [
              "<Figure size 360x360 with 1 Axes>"
            ]
          },
          "metadata": {
            "tags": [],
            "needs_background": "light"
          }
        }
      ]
    },
    {
      "cell_type": "markdown",
      "metadata": {
        "id": "HZNNkRmgaKw8"
      },
      "source": [
        "boxcox Transformation on fico shows some anamolies, so not going with any transformations"
      ]
    },
    {
      "cell_type": "code",
      "metadata": {
        "colab": {
          "base_uri": "https://localhost:8080/",
          "height": 386
        },
        "id": "E0zOtL1dYU2E",
        "outputId": "e6f93beb-b3da-495f-89ba-0c77ea3491e5"
      },
      "source": [
        "sns.displot(loanData['days.with.cr.line'])"
      ],
      "execution_count": 30,
      "outputs": [
        {
          "output_type": "execute_result",
          "data": {
            "text/plain": [
              "<seaborn.axisgrid.FacetGrid at 0x7fac0a3dc7b8>"
            ]
          },
          "metadata": {
            "tags": []
          },
          "execution_count": 30
        },
        {
          "output_type": "display_data",
          "data": {
            "image/png": "[encoded data removed]",
            "text/plain": [
              "<Figure size 360x360 with 1 Axes>"
            ]
          },
          "metadata": {
            "tags": [],
            "needs_background": "light"
          }
        }
      ]
    },
    {
      "cell_type": "code",
      "metadata": {
        "colab": {
          "base_uri": "https://localhost:8080/",
          "height": 386
        },
        "id": "xUuuLKMLaotR",
        "outputId": "3e946078-eae4-4a8a-cd24-67f7a9677865"
      },
      "source": [
        "sns.displot(np.sqrt(loanData['days.with.cr.line']))"
      ],
      "execution_count": 31,
      "outputs": [
        {
          "output_type": "execute_result",
          "data": {
            "text/plain": [
              "<seaborn.axisgrid.FacetGrid at 0x7fac0a2ebe48>"
            ]
          },
          "metadata": {
            "tags": []
          },
          "execution_count": 31
        },
        {
          "output_type": "display_data",
          "data": {
            "image/png": "[encoded data removed]",
            "text/plain": [
              "<Figure size 360x360 with 1 Axes>"
            ]
          },
          "metadata": {
            "tags": [],
            "needs_background": "light"
          }
        }
      ]
    },
    {
      "cell_type": "markdown",
      "metadata": {
        "id": "1Z5dV9E5cHMp"
      },
      "source": [
        "sqrt on 'days.with.cr.line', is making data more normal, so applying this transformation on the data"
      ]
    },
    {
      "cell_type": "code",
      "metadata": {
        "id": "CTn1HTcaapAs"
      },
      "source": [
        "loanData['days.with.cr.line_T']=np.sqrt(loanData['days.with.cr.line'])"
      ],
      "execution_count": 32,
      "outputs": []
    },
    {
      "cell_type": "code",
      "metadata": {
        "id": "cHMfiKXfapO7"
      },
      "source": [
        "loanData.drop(columns=['days.with.cr.line'],inplace=True)"
      ],
      "execution_count": 33,
      "outputs": []
    },
    {
      "cell_type": "code",
      "metadata": {
        "colab": {
          "base_uri": "https://localhost:8080/",
          "height": 386
        },
        "id": "dKulmACSapZc",
        "outputId": "43da0f96-4f54-4542-f742-eff0bb200b54"
      },
      "source": [
        "sns.displot(loanData['revol.bal'])"
      ],
      "execution_count": 34,
      "outputs": [
        {
          "output_type": "execute_result",
          "data": {
            "text/plain": [
              "<seaborn.axisgrid.FacetGrid at 0x7fac0a267390>"
            ]
          },
          "metadata": {
            "tags": []
          },
          "execution_count": 34
        },
        {
          "output_type": "display_data",
          "data": {
            "image/png": "[encoded data removed]",
            "text/plain": [
              "<Figure size 360x360 with 1 Axes>"
            ]
          },
          "metadata": {
            "tags": [],
            "needs_background": "light"
          }
        }
      ]
    },
    {
      "cell_type": "code",
      "metadata": {
        "id": "0IIDum83aqR-"
      },
      "source": [
        "#revolBal_T,revolBal_lambda=stats.boxcox(loanData['revol.bal'])"
      ],
      "execution_count": 35,
      "outputs": []
    },
    {
      "cell_type": "code",
      "metadata": {
        "colab": {
          "base_uri": "https://localhost:8080/",
          "height": 439
        },
        "id": "MUfQB4GGaqn9",
        "outputId": "4f8d3a5d-4dfe-4a1e-bf0b-b0af54a3cc43"
      },
      "source": [
        "loanData[loanData['revol.bal']==0]"
      ],
      "execution_count": 36,
      "outputs": [
        {
          "output_type": "execute_result",
          "data": {
            "text/html": [
              "<div>\n",
              "<style scoped>\n",
              "    .dataframe tbody tr th:only-of-type {\n",
              "        vertical-align: middle;\n",
              "    }\n",
              "\n",
              "    .dataframe tbody tr th {\n",
              "        vertical-align: top;\n",
              "    }\n",
              "\n",
              "    .dataframe thead th {\n",
              "        text-align: right;\n",
              "    }\n",
              "</style>\n",
              "<table border=\"1\" class=\"dataframe\">\n",
              "  <thead>\n",
              "    <tr style=\"text-align: right;\">\n",
              "      <th></th>\n",
              "      <th>credit.policy</th>\n",
              "      <th>int.rate</th>\n",
              "      <th>log.annual.inc</th>\n",
              "      <th>dti</th>\n",
              "      <th>fico</th>\n",
              "      <th>revol.bal</th>\n",
              "      <th>revol.util</th>\n",
              "      <th>inq.last.6mths</th>\n",
              "      <th>delinq.2yrs</th>\n",
              "      <th>pub.rec</th>\n",
              "      <th>not.fully.paid</th>\n",
              "      <th>purpose_all_other</th>\n",
              "      <th>purpose_credit_card</th>\n",
              "      <th>purpose_debt_consolidation</th>\n",
              "      <th>purpose_educational</th>\n",
              "      <th>purpose_home_improvement</th>\n",
              "      <th>purpose_major_purchase</th>\n",
              "      <th>purpose_small_business</th>\n",
              "      <th>installment_T</th>\n",
              "      <th>days.with.cr.line_T</th>\n",
              "    </tr>\n",
              "  </thead>\n",
              "  <tbody>\n",
              "    <tr>\n",
              "      <th>43</th>\n",
              "      <td>1</td>\n",
              "      <td>0.1028</td>\n",
              "      <td>12.206073</td>\n",
              "      <td>0.00</td>\n",
              "      <td>677</td>\n",
              "      <td>0</td>\n",
              "      <td>0.0</td>\n",
              "      <td>0</td>\n",
              "      <td>1</td>\n",
              "      <td>0</td>\n",
              "      <td>0</td>\n",
              "      <td>0.0</td>\n",
              "      <td>0.0</td>\n",
              "      <td>0.0</td>\n",
              "      <td>0.0</td>\n",
              "      <td>1.0</td>\n",
              "      <td>0.0</td>\n",
              "      <td>0.0</td>\n",
              "      <td>9.859006</td>\n",
              "      <td>61.481366</td>\n",
              "    </tr>\n",
              "    <tr>\n",
              "      <th>112</th>\n",
              "      <td>1</td>\n",
              "      <td>0.0743</td>\n",
              "      <td>11.695247</td>\n",
              "      <td>0.00</td>\n",
              "      <td>772</td>\n",
              "      <td>0</td>\n",
              "      <td>0.0</td>\n",
              "      <td>1</td>\n",
              "      <td>0</td>\n",
              "      <td>0</td>\n",
              "      <td>0</td>\n",
              "      <td>1.0</td>\n",
              "      <td>0.0</td>\n",
              "      <td>0.0</td>\n",
              "      <td>0.0</td>\n",
              "      <td>0.0</td>\n",
              "      <td>0.0</td>\n",
              "      <td>0.0</td>\n",
              "      <td>10.830974</td>\n",
              "      <td>62.689380</td>\n",
              "    </tr>\n",
              "    <tr>\n",
              "      <th>126</th>\n",
              "      <td>1</td>\n",
              "      <td>0.1122</td>\n",
              "      <td>10.308953</td>\n",
              "      <td>20.40</td>\n",
              "      <td>742</td>\n",
              "      <td>0</td>\n",
              "      <td>0.0</td>\n",
              "      <td>3</td>\n",
              "      <td>0</td>\n",
              "      <td>0</td>\n",
              "      <td>0</td>\n",
              "      <td>1.0</td>\n",
              "      <td>0.0</td>\n",
              "      <td>0.0</td>\n",
              "      <td>0.0</td>\n",
              "      <td>0.0</td>\n",
              "      <td>0.0</td>\n",
              "      <td>0.0</td>\n",
              "      <td>18.122638</td>\n",
              "      <td>57.183914</td>\n",
              "    </tr>\n",
              "    <tr>\n",
              "      <th>152</th>\n",
              "      <td>1</td>\n",
              "      <td>0.1059</td>\n",
              "      <td>9.615805</td>\n",
              "      <td>24.40</td>\n",
              "      <td>737</td>\n",
              "      <td>0</td>\n",
              "      <td>0.0</td>\n",
              "      <td>3</td>\n",
              "      <td>0</td>\n",
              "      <td>0</td>\n",
              "      <td>0</td>\n",
              "      <td>1.0</td>\n",
              "      <td>0.0</td>\n",
              "      <td>0.0</td>\n",
              "      <td>0.0</td>\n",
              "      <td>0.0</td>\n",
              "      <td>0.0</td>\n",
              "      <td>0.0</td>\n",
              "      <td>12.756567</td>\n",
              "      <td>56.656494</td>\n",
              "    </tr>\n",
              "    <tr>\n",
              "      <th>197</th>\n",
              "      <td>1</td>\n",
              "      <td>0.0807</td>\n",
              "      <td>9.798127</td>\n",
              "      <td>4.27</td>\n",
              "      <td>722</td>\n",
              "      <td>0</td>\n",
              "      <td>0.0</td>\n",
              "      <td>0</td>\n",
              "      <td>0</td>\n",
              "      <td>0</td>\n",
              "      <td>0</td>\n",
              "      <td>1.0</td>\n",
              "      <td>0.0</td>\n",
              "      <td>0.0</td>\n",
              "      <td>0.0</td>\n",
              "      <td>0.0</td>\n",
              "      <td>0.0</td>\n",
              "      <td>0.0</td>\n",
              "      <td>3.961060</td>\n",
              "      <td>38.340579</td>\n",
              "    </tr>\n",
              "    <tr>\n",
              "      <th>...</th>\n",
              "      <td>...</td>\n",
              "      <td>...</td>\n",
              "      <td>...</td>\n",
              "      <td>...</td>\n",
              "      <td>...</td>\n",
              "      <td>...</td>\n",
              "      <td>...</td>\n",
              "      <td>...</td>\n",
              "      <td>...</td>\n",
              "      <td>...</td>\n",
              "      <td>...</td>\n",
              "      <td>...</td>\n",
              "      <td>...</td>\n",
              "      <td>...</td>\n",
              "      <td>...</td>\n",
              "      <td>...</td>\n",
              "      <td>...</td>\n",
              "      <td>...</td>\n",
              "      <td>...</td>\n",
              "      <td>...</td>\n",
              "    </tr>\n",
              "    <tr>\n",
              "      <th>9364</th>\n",
              "      <td>0</td>\n",
              "      <td>0.1774</td>\n",
              "      <td>9.546813</td>\n",
              "      <td>9.51</td>\n",
              "      <td>692</td>\n",
              "      <td>0</td>\n",
              "      <td>71.1</td>\n",
              "      <td>4</td>\n",
              "      <td>0</td>\n",
              "      <td>0</td>\n",
              "      <td>0</td>\n",
              "      <td>0.0</td>\n",
              "      <td>0.0</td>\n",
              "      <td>1.0</td>\n",
              "      <td>0.0</td>\n",
              "      <td>0.0</td>\n",
              "      <td>0.0</td>\n",
              "      <td>0.0</td>\n",
              "      <td>13.149525</td>\n",
              "      <td>39.115747</td>\n",
              "    </tr>\n",
              "    <tr>\n",
              "      <th>9437</th>\n",
              "      <td>0</td>\n",
              "      <td>0.1461</td>\n",
              "      <td>10.239960</td>\n",
              "      <td>0.00</td>\n",
              "      <td>692</td>\n",
              "      <td>0</td>\n",
              "      <td>0.0</td>\n",
              "      <td>6</td>\n",
              "      <td>0</td>\n",
              "      <td>0</td>\n",
              "      <td>0</td>\n",
              "      <td>0.0</td>\n",
              "      <td>0.0</td>\n",
              "      <td>0.0</td>\n",
              "      <td>0.0</td>\n",
              "      <td>0.0</td>\n",
              "      <td>1.0</td>\n",
              "      <td>0.0</td>\n",
              "      <td>11.140916</td>\n",
              "      <td>39.115747</td>\n",
              "    </tr>\n",
              "    <tr>\n",
              "      <th>9459</th>\n",
              "      <td>0</td>\n",
              "      <td>0.2052</td>\n",
              "      <td>11.736069</td>\n",
              "      <td>16.62</td>\n",
              "      <td>762</td>\n",
              "      <td>0</td>\n",
              "      <td>0.0</td>\n",
              "      <td>9</td>\n",
              "      <td>0</td>\n",
              "      <td>0</td>\n",
              "      <td>0</td>\n",
              "      <td>0.0</td>\n",
              "      <td>0.0</td>\n",
              "      <td>0.0</td>\n",
              "      <td>0.0</td>\n",
              "      <td>0.0</td>\n",
              "      <td>0.0</td>\n",
              "      <td>1.0</td>\n",
              "      <td>29.971153</td>\n",
              "      <td>65.046458</td>\n",
              "    </tr>\n",
              "    <tr>\n",
              "      <th>9492</th>\n",
              "      <td>0</td>\n",
              "      <td>0.1843</td>\n",
              "      <td>10.373491</td>\n",
              "      <td>0.00</td>\n",
              "      <td>667</td>\n",
              "      <td>0</td>\n",
              "      <td>0.0</td>\n",
              "      <td>6</td>\n",
              "      <td>0</td>\n",
              "      <td>0</td>\n",
              "      <td>1</td>\n",
              "      <td>0.0</td>\n",
              "      <td>0.0</td>\n",
              "      <td>0.0</td>\n",
              "      <td>0.0</td>\n",
              "      <td>1.0</td>\n",
              "      <td>0.0</td>\n",
              "      <td>0.0</td>\n",
              "      <td>20.891146</td>\n",
              "      <td>83.096330</td>\n",
              "    </tr>\n",
              "    <tr>\n",
              "      <th>9576</th>\n",
              "      <td>0</td>\n",
              "      <td>0.1600</td>\n",
              "      <td>10.819778</td>\n",
              "      <td>19.18</td>\n",
              "      <td>692</td>\n",
              "      <td>0</td>\n",
              "      <td>3.2</td>\n",
              "      <td>5</td>\n",
              "      <td>0</td>\n",
              "      <td>0</td>\n",
              "      <td>1</td>\n",
              "      <td>0.0</td>\n",
              "      <td>0.0</td>\n",
              "      <td>0.0</td>\n",
              "      <td>0.0</td>\n",
              "      <td>1.0</td>\n",
              "      <td>0.0</td>\n",
              "      <td>0.0</td>\n",
              "      <td>18.750467</td>\n",
              "      <td>42.426407</td>\n",
              "    </tr>\n",
              "  </tbody>\n",
              "</table>\n",
              "<p>321 rows × 20 columns</p>\n",
              "</div>"
            ],
            "text/plain": [
              "      credit.policy  int.rate  ...  installment_T  days.with.cr.line_T\n",
              "43                1    0.1028  ...       9.859006            61.481366\n",
              "112               1    0.0743  ...      10.830974            62.689380\n",
              "126               1    0.1122  ...      18.122638            57.183914\n",
              "152               1    0.1059  ...      12.756567            56.656494\n",
              "197               1    0.0807  ...       3.961060            38.340579\n",
              "...             ...       ...  ...            ...                  ...\n",
              "9364              0    0.1774  ...      13.149525            39.115747\n",
              "9437              0    0.1461  ...      11.140916            39.115747\n",
              "9459              0    0.2052  ...      29.971153            65.046458\n",
              "9492              0    0.1843  ...      20.891146            83.096330\n",
              "9576              0    0.1600  ...      18.750467            42.426407\n",
              "\n",
              "[321 rows x 20 columns]"
            ]
          },
          "metadata": {
            "tags": []
          },
          "execution_count": 36
        }
      ]
    },
    {
      "cell_type": "code",
      "metadata": {
        "colab": {
          "base_uri": "https://localhost:8080/",
          "height": 299
        },
        "id": "yAD0fvrcaq3_",
        "outputId": "fdef2930-976c-40ba-9a9c-8860b72376d0"
      },
      "source": [
        "sns.barplot(x=loanData['not.fully.paid'],y=loanData['revol.bal'])"
      ],
      "execution_count": 37,
      "outputs": [
        {
          "output_type": "execute_result",
          "data": {
            "text/plain": [
              "<matplotlib.axes._subplots.AxesSubplot at 0x7fac09911320>"
            ]
          },
          "metadata": {
            "tags": []
          },
          "execution_count": 37
        },
        {
          "output_type": "display_data",
          "data": {
            "image/png": "[encoded data removed]",
            "text/plain": [
              "<Figure size 432x288 with 1 Axes>"
            ]
          },
          "metadata": {
            "tags": [],
            "needs_background": "light"
          }
        }
      ]
    },
    {
      "cell_type": "code",
      "metadata": {
        "colab": {
          "base_uri": "https://localhost:8080/",
          "height": 386
        },
        "id": "Vdt1GyHBfdsF",
        "outputId": "41c0850f-b540-4963-faa3-ad2c62d7c72c"
      },
      "source": [
        "sns.displot(loanData['revol.bal']**(1/3))"
      ],
      "execution_count": 38,
      "outputs": [
        {
          "output_type": "execute_result",
          "data": {
            "text/plain": [
              "<seaborn.axisgrid.FacetGrid at 0x7fac0992b4a8>"
            ]
          },
          "metadata": {
            "tags": []
          },
          "execution_count": 38
        },
        {
          "output_type": "display_data",
          "data": {
            "image/png": "[encoded data removed]",
            "text/plain": [
              "<Figure size 360x360 with 1 Axes>"
            ]
          },
          "metadata": {
            "tags": [],
            "needs_background": "light"
          }
        }
      ]
    },
    {
      "cell_type": "markdown",
      "metadata": {
        "id": "Asn7_klEhtir"
      },
      "source": [
        "Cube root of revol.bal shows better distribution of the data, so transforming the column cube root of revol.bal"
      ]
    },
    {
      "cell_type": "code",
      "metadata": {
        "id": "1HJJx8QTfebJ"
      },
      "source": [
        "loanData['revol.bal_T']=loanData['revol.bal']**(1/3)"
      ],
      "execution_count": 39,
      "outputs": []
    },
    {
      "cell_type": "code",
      "metadata": {
        "id": "K-oCC-c4fesJ"
      },
      "source": [
        "loanData.drop(columns=['revol.bal'],inplace=True)"
      ],
      "execution_count": 40,
      "outputs": []
    },
    {
      "cell_type": "code",
      "metadata": {
        "colab": {
          "base_uri": "https://localhost:8080/",
          "height": 224
        },
        "id": "ib74EWWrfe4_",
        "outputId": "54c2955b-c831-4892-9920-2db3614f491f"
      },
      "source": [
        "loanData.head()"
      ],
      "execution_count": 41,
      "outputs": [
        {
          "output_type": "execute_result",
          "data": {
            "text/html": [
              "<div>\n",
              "<style scoped>\n",
              "    .dataframe tbody tr th:only-of-type {\n",
              "        vertical-align: middle;\n",
              "    }\n",
              "\n",
              "    .dataframe tbody tr th {\n",
              "        vertical-align: top;\n",
              "    }\n",
              "\n",
              "    .dataframe thead th {\n",
              "        text-align: right;\n",
              "    }\n",
              "</style>\n",
              "<table border=\"1\" class=\"dataframe\">\n",
              "  <thead>\n",
              "    <tr style=\"text-align: right;\">\n",
              "      <th></th>\n",
              "      <th>credit.policy</th>\n",
              "      <th>int.rate</th>\n",
              "      <th>log.annual.inc</th>\n",
              "      <th>dti</th>\n",
              "      <th>fico</th>\n",
              "      <th>revol.util</th>\n",
              "      <th>inq.last.6mths</th>\n",
              "      <th>delinq.2yrs</th>\n",
              "      <th>pub.rec</th>\n",
              "      <th>not.fully.paid</th>\n",
              "      <th>purpose_all_other</th>\n",
              "      <th>purpose_credit_card</th>\n",
              "      <th>purpose_debt_consolidation</th>\n",
              "      <th>purpose_educational</th>\n",
              "      <th>purpose_home_improvement</th>\n",
              "      <th>purpose_major_purchase</th>\n",
              "      <th>purpose_small_business</th>\n",
              "      <th>installment_T</th>\n",
              "      <th>days.with.cr.line_T</th>\n",
              "      <th>revol.bal_T</th>\n",
              "    </tr>\n",
              "  </thead>\n",
              "  <tbody>\n",
              "    <tr>\n",
              "      <th>0</th>\n",
              "      <td>1</td>\n",
              "      <td>0.1189</td>\n",
              "      <td>11.350407</td>\n",
              "      <td>19.48</td>\n",
              "      <td>737</td>\n",
              "      <td>52.1</td>\n",
              "      <td>0</td>\n",
              "      <td>0</td>\n",
              "      <td>0</td>\n",
              "      <td>0</td>\n",
              "      <td>0.0</td>\n",
              "      <td>0.0</td>\n",
              "      <td>1.0</td>\n",
              "      <td>0.0</td>\n",
              "      <td>0.0</td>\n",
              "      <td>0.0</td>\n",
              "      <td>0.0</td>\n",
              "      <td>28.794097</td>\n",
              "      <td>75.099656</td>\n",
              "      <td>30.671523</td>\n",
              "    </tr>\n",
              "    <tr>\n",
              "      <th>1</th>\n",
              "      <td>1</td>\n",
              "      <td>0.1071</td>\n",
              "      <td>11.082143</td>\n",
              "      <td>14.29</td>\n",
              "      <td>707</td>\n",
              "      <td>76.7</td>\n",
              "      <td>0</td>\n",
              "      <td>0</td>\n",
              "      <td>0</td>\n",
              "      <td>0</td>\n",
              "      <td>0.0</td>\n",
              "      <td>1.0</td>\n",
              "      <td>0.0</td>\n",
              "      <td>0.0</td>\n",
              "      <td>0.0</td>\n",
              "      <td>0.0</td>\n",
              "      <td>0.0</td>\n",
              "      <td>15.106952</td>\n",
              "      <td>52.535702</td>\n",
              "      <td>32.275934</td>\n",
              "    </tr>\n",
              "    <tr>\n",
              "      <th>2</th>\n",
              "      <td>1</td>\n",
              "      <td>0.1357</td>\n",
              "      <td>10.373491</td>\n",
              "      <td>11.63</td>\n",
              "      <td>682</td>\n",
              "      <td>25.6</td>\n",
              "      <td>1</td>\n",
              "      <td>0</td>\n",
              "      <td>0</td>\n",
              "      <td>0</td>\n",
              "      <td>0.0</td>\n",
              "      <td>0.0</td>\n",
              "      <td>1.0</td>\n",
              "      <td>0.0</td>\n",
              "      <td>0.0</td>\n",
              "      <td>0.0</td>\n",
              "      <td>0.0</td>\n",
              "      <td>19.153590</td>\n",
              "      <td>68.629440</td>\n",
              "      <td>15.198834</td>\n",
              "    </tr>\n",
              "    <tr>\n",
              "      <th>3</th>\n",
              "      <td>1</td>\n",
              "      <td>0.1008</td>\n",
              "      <td>11.350407</td>\n",
              "      <td>8.10</td>\n",
              "      <td>712</td>\n",
              "      <td>73.2</td>\n",
              "      <td>1</td>\n",
              "      <td>0</td>\n",
              "      <td>0</td>\n",
              "      <td>0</td>\n",
              "      <td>0.0</td>\n",
              "      <td>0.0</td>\n",
              "      <td>1.0</td>\n",
              "      <td>0.0</td>\n",
              "      <td>0.0</td>\n",
              "      <td>0.0</td>\n",
              "      <td>0.0</td>\n",
              "      <td>12.741272</td>\n",
              "      <td>51.961123</td>\n",
              "      <td>32.290007</td>\n",
              "    </tr>\n",
              "    <tr>\n",
              "      <th>4</th>\n",
              "      <td>1</td>\n",
              "      <td>0.1426</td>\n",
              "      <td>11.299732</td>\n",
              "      <td>14.97</td>\n",
              "      <td>667</td>\n",
              "      <td>39.5</td>\n",
              "      <td>0</td>\n",
              "      <td>1</td>\n",
              "      <td>0</td>\n",
              "      <td>0</td>\n",
              "      <td>0.0</td>\n",
              "      <td>1.0</td>\n",
              "      <td>0.0</td>\n",
              "      <td>0.0</td>\n",
              "      <td>0.0</td>\n",
              "      <td>0.0</td>\n",
              "      <td>0.0</td>\n",
              "      <td>10.144949</td>\n",
              "      <td>63.765194</td>\n",
              "      <td>16.798072</td>\n",
              "    </tr>\n",
              "  </tbody>\n",
              "</table>\n",
              "</div>"
            ],
            "text/plain": [
              "   credit.policy  int.rate  ...  days.with.cr.line_T  revol.bal_T\n",
              "0              1    0.1189  ...            75.099656    30.671523\n",
              "1              1    0.1071  ...            52.535702    32.275934\n",
              "2              1    0.1357  ...            68.629440    15.198834\n",
              "3              1    0.1008  ...            51.961123    32.290007\n",
              "4              1    0.1426  ...            63.765194    16.798072\n",
              "\n",
              "[5 rows x 20 columns]"
            ]
          },
          "metadata": {
            "tags": []
          },
          "execution_count": 41
        }
      ]
    },
    {
      "cell_type": "code",
      "metadata": {
        "colab": {
          "base_uri": "https://localhost:8080/",
          "height": 142
        },
        "id": "f0W8CcVRffE-",
        "outputId": "b912af0c-2c5b-45eb-b70e-c5007a703402"
      },
      "source": [
        "loanData[['installment_T','days.with.cr.line_T','revol.bal_T']].corr()"
      ],
      "execution_count": 42,
      "outputs": [
        {
          "output_type": "execute_result",
          "data": {
            "text/html": [
              "<div>\n",
              "<style scoped>\n",
              "    .dataframe tbody tr th:only-of-type {\n",
              "        vertical-align: middle;\n",
              "    }\n",
              "\n",
              "    .dataframe tbody tr th {\n",
              "        vertical-align: top;\n",
              "    }\n",
              "\n",
              "    .dataframe thead th {\n",
              "        text-align: right;\n",
              "    }\n",
              "</style>\n",
              "<table border=\"1\" class=\"dataframe\">\n",
              "  <thead>\n",
              "    <tr style=\"text-align: right;\">\n",
              "      <th></th>\n",
              "      <th>installment_T</th>\n",
              "      <th>days.with.cr.line_T</th>\n",
              "      <th>revol.bal_T</th>\n",
              "    </tr>\n",
              "  </thead>\n",
              "  <tbody>\n",
              "    <tr>\n",
              "      <th>installment_T</th>\n",
              "      <td>1.000000</td>\n",
              "      <td>0.205538</td>\n",
              "      <td>0.324531</td>\n",
              "    </tr>\n",
              "    <tr>\n",
              "      <th>days.with.cr.line_T</th>\n",
              "      <td>0.205538</td>\n",
              "      <td>1.000000</td>\n",
              "      <td>0.318978</td>\n",
              "    </tr>\n",
              "    <tr>\n",
              "      <th>revol.bal_T</th>\n",
              "      <td>0.324531</td>\n",
              "      <td>0.318978</td>\n",
              "      <td>1.000000</td>\n",
              "    </tr>\n",
              "  </tbody>\n",
              "</table>\n",
              "</div>"
            ],
            "text/plain": [
              "                     installment_T  days.with.cr.line_T  revol.bal_T\n",
              "installment_T             1.000000             0.205538     0.324531\n",
              "days.with.cr.line_T       0.205538             1.000000     0.318978\n",
              "revol.bal_T               0.324531             0.318978     1.000000"
            ]
          },
          "metadata": {
            "tags": []
          },
          "execution_count": 42
        }
      ]
    },
    {
      "cell_type": "code",
      "metadata": {
        "colab": {
          "base_uri": "https://localhost:8080/",
          "height": 0
        },
        "id": "2Z6kB4FIffSi",
        "outputId": "571ac157-7314-41b3-a7a4-86dd4410967f"
      },
      "source": [
        "loanData['inq.last.6mths'].value_counts()"
      ],
      "execution_count": 43,
      "outputs": [
        {
          "output_type": "execute_result",
          "data": {
            "text/plain": [
              "0     3637\n",
              "1     2462\n",
              "2     1384\n",
              "3      864\n",
              "4      475\n",
              "5      278\n",
              "6      165\n",
              "7      100\n",
              "8       72\n",
              "9       47\n",
              "10      23\n",
              "11      15\n",
              "12      15\n",
              "15       9\n",
              "13       6\n",
              "14       6\n",
              "18       4\n",
              "16       3\n",
              "24       2\n",
              "19       2\n",
              "17       2\n",
              "27       1\n",
              "28       1\n",
              "25       1\n",
              "32       1\n",
              "20       1\n",
              "33       1\n",
              "31       1\n",
              "Name: inq.last.6mths, dtype: int64"
            ]
          },
          "metadata": {
            "tags": []
          },
          "execution_count": 43
        }
      ]
    },
    {
      "cell_type": "code",
      "metadata": {
        "colab": {
          "base_uri": "https://localhost:8080/",
          "height": 386
        },
        "id": "CDb1EiwQarD2",
        "outputId": "c9f76bf2-b86e-4714-de96-0e342fb8082e"
      },
      "source": [
        "sns.displot(loanData[loanData['not.fully.paid']==0]['inq.last.6mths'])"
      ],
      "execution_count": 44,
      "outputs": [
        {
          "output_type": "execute_result",
          "data": {
            "text/plain": [
              "<seaborn.axisgrid.FacetGrid at 0x7fac097d1898>"
            ]
          },
          "metadata": {
            "tags": []
          },
          "execution_count": 44
        },
        {
          "output_type": "display_data",
          "data": {
            "image/png": "[encoded data removed]",
            "text/plain": [
              "<Figure size 360x360 with 1 Axes>"
            ]
          },
          "metadata": {
            "tags": [],
            "needs_background": "light"
          }
        }
      ]
    },
    {
      "cell_type": "code",
      "metadata": {
        "colab": {
          "base_uri": "https://localhost:8080/",
          "height": 386
        },
        "id": "aDLhFrIAYVRW",
        "outputId": "73eb5f62-8c91-4487-f93f-5f437cbc26da"
      },
      "source": [
        "sns.displot(loanData[loanData['not.fully.paid']==1]['inq.last.6mths'])"
      ],
      "execution_count": 45,
      "outputs": [
        {
          "output_type": "execute_result",
          "data": {
            "text/plain": [
              "<seaborn.axisgrid.FacetGrid at 0x7fac0a4a2668>"
            ]
          },
          "metadata": {
            "tags": []
          },
          "execution_count": 45
        },
        {
          "output_type": "display_data",
          "data": {
            "image/png": "[encoded data removed]",
            "text/plain": [
              "<Figure size 360x360 with 1 Axes>"
            ]
          },
          "metadata": {
            "tags": [],
            "needs_background": "light"
          }
        }
      ]
    },
    {
      "cell_type": "markdown",
      "metadata": {
        "id": "MDN5wfR80bUI"
      },
      "source": [
        "Looking at the above distribution plots for both 0 & 1 values of outcome, inq.last.6mths does not seem to make much impact on 'not.fully.paid', so dropping this feature."
      ]
    },
    {
      "cell_type": "code",
      "metadata": {
        "id": "FaeQTkzh0NrP"
      },
      "source": [
        "loanData.drop(columns=['inq.last.6mths'],inplace=True)"
      ],
      "execution_count": 46,
      "outputs": []
    },
    {
      "cell_type": "code",
      "metadata": {
        "colab": {
          "base_uri": "https://localhost:8080/",
          "height": 0
        },
        "id": "iSgyvPPl0ODi",
        "outputId": "37d3c0d9-d174-4b10-f37f-79b3adf6234d"
      },
      "source": [
        "loanData['delinq.2yrs'].value_counts()"
      ],
      "execution_count": 47,
      "outputs": [
        {
          "output_type": "execute_result",
          "data": {
            "text/plain": [
              "0     8458\n",
              "1      832\n",
              "2      192\n",
              "3       65\n",
              "4       19\n",
              "5        6\n",
              "6        2\n",
              "7        1\n",
              "13       1\n",
              "11       1\n",
              "8        1\n",
              "Name: delinq.2yrs, dtype: int64"
            ]
          },
          "metadata": {
            "tags": []
          },
          "execution_count": 47
        }
      ]
    },
    {
      "cell_type": "code",
      "metadata": {
        "colab": {
          "base_uri": "https://localhost:8080/",
          "height": 420
        },
        "id": "UWHDTa5t0OTd",
        "outputId": "b08f09f8-2d4f-4ea0-b9a3-a3b80c842b80"
      },
      "source": [
        "sns.displot(data=loanData[loanData['not.fully.paid']==0][loanData['delinq.2yrs']!=0]['delinq.2yrs'])"
      ],
      "execution_count": 48,
      "outputs": [
        {
          "output_type": "stream",
          "text": [
            "/usr/local/lib/python3.6/dist-packages/ipykernel_launcher.py:1: UserWarning: Boolean Series key will be reindexed to match DataFrame index.\n",
            "  \"\"\"Entry point for launching an IPython kernel.\n"
          ],
          "name": "stderr"
        },
        {
          "output_type": "execute_result",
          "data": {
            "text/plain": [
              "<seaborn.axisgrid.FacetGrid at 0x7fac099fa588>"
            ]
          },
          "metadata": {
            "tags": []
          },
          "execution_count": 48
        },
        {
          "output_type": "display_data",
          "data": {
            "image/png": "[encoded data removed]",
            "text/plain": [
              "<Figure size 360x360 with 1 Axes>"
            ]
          },
          "metadata": {
            "tags": [],
            "needs_background": "light"
          }
        }
      ]
    },
    {
      "cell_type": "code",
      "metadata": {
        "colab": {
          "base_uri": "https://localhost:8080/",
          "height": 420
        },
        "id": "scsID2zC0Oey",
        "outputId": "abb71712-235f-4393-a0d3-737da89c9b39"
      },
      "source": [
        "sns.displot(loanData[loanData['not.fully.paid']==1][loanData['delinq.2yrs']!=0]['delinq.2yrs'])"
      ],
      "execution_count": 49,
      "outputs": [
        {
          "output_type": "stream",
          "text": [
            "/usr/local/lib/python3.6/dist-packages/ipykernel_launcher.py:1: UserWarning: Boolean Series key will be reindexed to match DataFrame index.\n",
            "  \"\"\"Entry point for launching an IPython kernel.\n"
          ],
          "name": "stderr"
        },
        {
          "output_type": "execute_result",
          "data": {
            "text/plain": [
              "<seaborn.axisgrid.FacetGrid at 0x7fac093f9f28>"
            ]
          },
          "metadata": {
            "tags": []
          },
          "execution_count": 49
        },
        {
          "output_type": "display_data",
          "data": {
            "image/png": "[encoded data removed]",
            "text/plain": [
              "<Figure size 360x360 with 1 Axes>"
            ]
          },
          "metadata": {
            "tags": [],
            "needs_background": "light"
          }
        }
      ]
    },
    {
      "cell_type": "code",
      "metadata": {
        "colab": {
          "base_uri": "https://localhost:8080/",
          "height": 350
        },
        "id": "PT05KbLp0OqI",
        "outputId": "3aa84286-7270-4f3b-a73d-3cae9152fc36"
      },
      "source": [
        "sns.barplot(loanData['not.fully.paid'],loanData['delinq.2yrs'])"
      ],
      "execution_count": 50,
      "outputs": [
        {
          "output_type": "stream",
          "text": [
            "/usr/local/lib/python3.6/dist-packages/seaborn/_decorators.py:43: FutureWarning: Pass the following variables as keyword args: x, y. From version 0.12, the only valid positional argument will be `data`, and passing other arguments without an explicit keyword will result in an error or misinterpretation.\n",
            "  FutureWarning\n"
          ],
          "name": "stderr"
        },
        {
          "output_type": "execute_result",
          "data": {
            "text/plain": [
              "<matplotlib.axes._subplots.AxesSubplot at 0x7fac092b8588>"
            ]
          },
          "metadata": {
            "tags": []
          },
          "execution_count": 50
        },
        {
          "output_type": "display_data",
          "data": {
            "image/png": "[encoded data removed]",
            "text/plain": [
              "<Figure size 432x288 with 1 Axes>"
            ]
          },
          "metadata": {
            "tags": [],
            "needs_background": "light"
          }
        }
      ]
    },
    {
      "cell_type": "markdown",
      "metadata": {
        "id": "i9-IZ_4S4-QP"
      },
      "source": [
        "delin.2yrs does not seem to be making much impact on outcome, observed distribution of delin.2yrs with respect to not.fully.paid, not dropping this feature for now."
      ]
    },
    {
      "cell_type": "code",
      "metadata": {
        "colab": {
          "base_uri": "https://localhost:8080/",
          "height": 0
        },
        "id": "EB_oBypG0O2h",
        "outputId": "381d5a3a-ced0-45be-a0d7-6904cad86ee1"
      },
      "source": [
        "loanData['pub.rec'].value_counts()"
      ],
      "execution_count": 51,
      "outputs": [
        {
          "output_type": "execute_result",
          "data": {
            "text/plain": [
              "0    9019\n",
              "1     533\n",
              "2      19\n",
              "3       5\n",
              "5       1\n",
              "4       1\n",
              "Name: pub.rec, dtype: int64"
            ]
          },
          "metadata": {
            "tags": []
          },
          "execution_count": 51
        }
      ]
    },
    {
      "cell_type": "code",
      "metadata": {
        "colab": {
          "base_uri": "https://localhost:8080/",
          "height": 420
        },
        "id": "950ojf4N0PBX",
        "outputId": "29c8ba1f-9907-4f45-c34f-ee0f7deb3271"
      },
      "source": [
        "sns.displot(loanData[loanData['not.fully.paid']==1][loanData['pub.rec']!=0]['pub.rec'])"
      ],
      "execution_count": 52,
      "outputs": [
        {
          "output_type": "stream",
          "text": [
            "/usr/local/lib/python3.6/dist-packages/ipykernel_launcher.py:1: UserWarning: Boolean Series key will be reindexed to match DataFrame index.\n",
            "  \"\"\"Entry point for launching an IPython kernel.\n"
          ],
          "name": "stderr"
        },
        {
          "output_type": "execute_result",
          "data": {
            "text/plain": [
              "<seaborn.axisgrid.FacetGrid at 0x7fac0921fdd8>"
            ]
          },
          "metadata": {
            "tags": []
          },
          "execution_count": 52
        },
        {
          "output_type": "display_data",
          "data": {
            "image/png": "[encoded data removed]",
            "text/plain": [
              "<Figure size 360x360 with 1 Axes>"
            ]
          },
          "metadata": {
            "tags": [],
            "needs_background": "light"
          }
        }
      ]
    },
    {
      "cell_type": "code",
      "metadata": {
        "colab": {
          "base_uri": "https://localhost:8080/",
          "height": 420
        },
        "id": "0BhfsT5l0PQp",
        "outputId": "750754cd-c7ec-447f-9ef0-cb4708c9ccf2"
      },
      "source": [
        "sns.displot(loanData[loanData['not.fully.paid']==0][loanData['pub.rec']!=0]['pub.rec'])"
      ],
      "execution_count": 53,
      "outputs": [
        {
          "output_type": "stream",
          "text": [
            "/usr/local/lib/python3.6/dist-packages/ipykernel_launcher.py:1: UserWarning: Boolean Series key will be reindexed to match DataFrame index.\n",
            "  \"\"\"Entry point for launching an IPython kernel.\n"
          ],
          "name": "stderr"
        },
        {
          "output_type": "execute_result",
          "data": {
            "text/plain": [
              "<seaborn.axisgrid.FacetGrid at 0x7fac0923f978>"
            ]
          },
          "metadata": {
            "tags": []
          },
          "execution_count": 53
        },
        {
          "output_type": "display_data",
          "data": {
            "image/png": "[encoded data removed]",
            "text/plain": [
              "<Figure size 360x360 with 1 Axes>"
            ]
          },
          "metadata": {
            "tags": [],
            "needs_background": "light"
          }
        }
      ]
    },
    {
      "cell_type": "markdown",
      "metadata": {
        "id": "WnBDQkio7CKF"
      },
      "source": [
        "Dropping pub.rec, as majority of them are zeros, also for non-zero values, distribution does not change w.r.t not.fully.paid."
      ]
    },
    {
      "cell_type": "code",
      "metadata": {
        "id": "hAmjB1xz6rRN"
      },
      "source": [
        "loanData.drop(columns=['pub.rec'],inplace=True)"
      ],
      "execution_count": 54,
      "outputs": []
    },
    {
      "cell_type": "code",
      "metadata": {
        "colab": {
          "base_uri": "https://localhost:8080/",
          "height": 224
        },
        "id": "QhF_0baS6reT",
        "outputId": "a4f72b21-d823-4dcf-bec3-e3341bae59ff"
      },
      "source": [
        "loanData.head()"
      ],
      "execution_count": 55,
      "outputs": [
        {
          "output_type": "execute_result",
          "data": {
            "text/html": [
              "<div>\n",
              "<style scoped>\n",
              "    .dataframe tbody tr th:only-of-type {\n",
              "        vertical-align: middle;\n",
              "    }\n",
              "\n",
              "    .dataframe tbody tr th {\n",
              "        vertical-align: top;\n",
              "    }\n",
              "\n",
              "    .dataframe thead th {\n",
              "        text-align: right;\n",
              "    }\n",
              "</style>\n",
              "<table border=\"1\" class=\"dataframe\">\n",
              "  <thead>\n",
              "    <tr style=\"text-align: right;\">\n",
              "      <th></th>\n",
              "      <th>credit.policy</th>\n",
              "      <th>int.rate</th>\n",
              "      <th>log.annual.inc</th>\n",
              "      <th>dti</th>\n",
              "      <th>fico</th>\n",
              "      <th>revol.util</th>\n",
              "      <th>delinq.2yrs</th>\n",
              "      <th>not.fully.paid</th>\n",
              "      <th>purpose_all_other</th>\n",
              "      <th>purpose_credit_card</th>\n",
              "      <th>purpose_debt_consolidation</th>\n",
              "      <th>purpose_educational</th>\n",
              "      <th>purpose_home_improvement</th>\n",
              "      <th>purpose_major_purchase</th>\n",
              "      <th>purpose_small_business</th>\n",
              "      <th>installment_T</th>\n",
              "      <th>days.with.cr.line_T</th>\n",
              "      <th>revol.bal_T</th>\n",
              "    </tr>\n",
              "  </thead>\n",
              "  <tbody>\n",
              "    <tr>\n",
              "      <th>0</th>\n",
              "      <td>1</td>\n",
              "      <td>0.1189</td>\n",
              "      <td>11.350407</td>\n",
              "      <td>19.48</td>\n",
              "      <td>737</td>\n",
              "      <td>52.1</td>\n",
              "      <td>0</td>\n",
              "      <td>0</td>\n",
              "      <td>0.0</td>\n",
              "      <td>0.0</td>\n",
              "      <td>1.0</td>\n",
              "      <td>0.0</td>\n",
              "      <td>0.0</td>\n",
              "      <td>0.0</td>\n",
              "      <td>0.0</td>\n",
              "      <td>28.794097</td>\n",
              "      <td>75.099656</td>\n",
              "      <td>30.671523</td>\n",
              "    </tr>\n",
              "    <tr>\n",
              "      <th>1</th>\n",
              "      <td>1</td>\n",
              "      <td>0.1071</td>\n",
              "      <td>11.082143</td>\n",
              "      <td>14.29</td>\n",
              "      <td>707</td>\n",
              "      <td>76.7</td>\n",
              "      <td>0</td>\n",
              "      <td>0</td>\n",
              "      <td>0.0</td>\n",
              "      <td>1.0</td>\n",
              "      <td>0.0</td>\n",
              "      <td>0.0</td>\n",
              "      <td>0.0</td>\n",
              "      <td>0.0</td>\n",
              "      <td>0.0</td>\n",
              "      <td>15.106952</td>\n",
              "      <td>52.535702</td>\n",
              "      <td>32.275934</td>\n",
              "    </tr>\n",
              "    <tr>\n",
              "      <th>2</th>\n",
              "      <td>1</td>\n",
              "      <td>0.1357</td>\n",
              "      <td>10.373491</td>\n",
              "      <td>11.63</td>\n",
              "      <td>682</td>\n",
              "      <td>25.6</td>\n",
              "      <td>0</td>\n",
              "      <td>0</td>\n",
              "      <td>0.0</td>\n",
              "      <td>0.0</td>\n",
              "      <td>1.0</td>\n",
              "      <td>0.0</td>\n",
              "      <td>0.0</td>\n",
              "      <td>0.0</td>\n",
              "      <td>0.0</td>\n",
              "      <td>19.153590</td>\n",
              "      <td>68.629440</td>\n",
              "      <td>15.198834</td>\n",
              "    </tr>\n",
              "    <tr>\n",
              "      <th>3</th>\n",
              "      <td>1</td>\n",
              "      <td>0.1008</td>\n",
              "      <td>11.350407</td>\n",
              "      <td>8.10</td>\n",
              "      <td>712</td>\n",
              "      <td>73.2</td>\n",
              "      <td>0</td>\n",
              "      <td>0</td>\n",
              "      <td>0.0</td>\n",
              "      <td>0.0</td>\n",
              "      <td>1.0</td>\n",
              "      <td>0.0</td>\n",
              "      <td>0.0</td>\n",
              "      <td>0.0</td>\n",
              "      <td>0.0</td>\n",
              "      <td>12.741272</td>\n",
              "      <td>51.961123</td>\n",
              "      <td>32.290007</td>\n",
              "    </tr>\n",
              "    <tr>\n",
              "      <th>4</th>\n",
              "      <td>1</td>\n",
              "      <td>0.1426</td>\n",
              "      <td>11.299732</td>\n",
              "      <td>14.97</td>\n",
              "      <td>667</td>\n",
              "      <td>39.5</td>\n",
              "      <td>1</td>\n",
              "      <td>0</td>\n",
              "      <td>0.0</td>\n",
              "      <td>1.0</td>\n",
              "      <td>0.0</td>\n",
              "      <td>0.0</td>\n",
              "      <td>0.0</td>\n",
              "      <td>0.0</td>\n",
              "      <td>0.0</td>\n",
              "      <td>10.144949</td>\n",
              "      <td>63.765194</td>\n",
              "      <td>16.798072</td>\n",
              "    </tr>\n",
              "  </tbody>\n",
              "</table>\n",
              "</div>"
            ],
            "text/plain": [
              "   credit.policy  int.rate  ...  days.with.cr.line_T  revol.bal_T\n",
              "0              1    0.1189  ...            75.099656    30.671523\n",
              "1              1    0.1071  ...            52.535702    32.275934\n",
              "2              1    0.1357  ...            68.629440    15.198834\n",
              "3              1    0.1008  ...            51.961123    32.290007\n",
              "4              1    0.1426  ...            63.765194    16.798072\n",
              "\n",
              "[5 rows x 18 columns]"
            ]
          },
          "metadata": {
            "tags": []
          },
          "execution_count": 55
        }
      ]
    },
    {
      "cell_type": "code",
      "metadata": {
        "colab": {
          "base_uri": "https://localhost:8080/",
          "height": 0
        },
        "id": "Xsi-d9muPZio",
        "outputId": "b6554eeb-9e06-4457-84af-bbb1ae593a55"
      },
      "source": [
        "loanData['not.fully.paid'].value_counts()"
      ],
      "execution_count": 56,
      "outputs": [
        {
          "output_type": "execute_result",
          "data": {
            "text/plain": [
              "0    8045\n",
              "1    1533\n",
              "Name: not.fully.paid, dtype: int64"
            ]
          },
          "metadata": {
            "tags": []
          },
          "execution_count": 56
        }
      ]
    },
    {
      "cell_type": "code",
      "metadata": {
        "id": "6ZUHs-6cRCc2"
      },
      "source": [
        "features=loanData.drop(columns=['credit.policy','not.fully.paid']).values\r\n",
        "label=loanData[['not.fully.paid']].values"
      ],
      "execution_count": 57,
      "outputs": []
    },
    {
      "cell_type": "markdown",
      "metadata": {
        "id": "azmUh3pEPt2L"
      },
      "source": [
        "**Data is highly imbalanced, so we need to balance the data**"
      ]
    },
    {
      "cell_type": "code",
      "metadata": {
        "id": "1AbDtTEoPrZm"
      },
      "source": [
        "from imblearn.over_sampling import SMOTE"
      ],
      "execution_count": 58,
      "outputs": []
    },
    {
      "cell_type": "code",
      "metadata": {
        "id": "8TTtYiruQUu0"
      },
      "source": [
        "smote=SMOTE(k_neighbors=2,random_state=10)"
      ],
      "execution_count": 59,
      "outputs": []
    },
    {
      "cell_type": "code",
      "metadata": {
        "colab": {
          "base_uri": "https://localhost:8080/",
          "height": 0
        },
        "id": "1LxqtA_cQVqV",
        "outputId": "1ba15ea3-70d2-4f41-8bfd-02f42c716065"
      },
      "source": [
        "features,label=smote.fit_resample(features,label)"
      ],
      "execution_count": 60,
      "outputs": [
        {
          "output_type": "stream",
          "text": [
            "/usr/local/lib/python3.6/dist-packages/sklearn/utils/validation.py:760: DataConversionWarning: A column-vector y was passed when a 1d array was expected. Please change the shape of y to (n_samples, ), for example using ravel().\n",
            "  y = column_or_1d(y, warn=True)\n",
            "/usr/local/lib/python3.6/dist-packages/sklearn/utils/deprecation.py:87: FutureWarning: Function safe_indexing is deprecated; safe_indexing is deprecated in version 0.22 and will be removed in version 0.24.\n",
            "  warnings.warn(msg, category=FutureWarning)\n"
          ],
          "name": "stderr"
        }
      ]
    },
    {
      "cell_type": "code",
      "metadata": {
        "colab": {
          "base_uri": "https://localhost:8080/",
          "height": 0
        },
        "id": "sHKPA9Jo6sBO",
        "outputId": "175e9913-c787-42ee-9456-d79d6d692f6c"
      },
      "source": [
        "print(features.shape)\r\n",
        "print(label[label==0].shape)\r\n",
        "print(label[label==1].shape)"
      ],
      "execution_count": 61,
      "outputs": [
        {
          "output_type": "stream",
          "text": [
            "(16090, 16)\n",
            "(8045,)\n",
            "(8045,)\n"
          ],
          "name": "stdout"
        }
      ]
    },
    {
      "cell_type": "code",
      "metadata": {
        "id": "Ir_mN6DB6shJ"
      },
      "source": [
        "from sklearn.preprocessing import StandardScaler"
      ],
      "execution_count": 62,
      "outputs": []
    },
    {
      "cell_type": "code",
      "metadata": {
        "id": "eYb6-htv6swV"
      },
      "source": [
        "stdSclr=StandardScaler()"
      ],
      "execution_count": 63,
      "outputs": []
    },
    {
      "cell_type": "code",
      "metadata": {
        "id": "a78DFrXEK4j_"
      },
      "source": [
        "stdFeatures=stdSclr.fit_transform(features)"
      ],
      "execution_count": 64,
      "outputs": []
    },
    {
      "cell_type": "code",
      "metadata": {
        "id": "l9E0-MZ9K4Ka"
      },
      "source": [
        "from sklearn.model_selection import train_test_split"
      ],
      "execution_count": 65,
      "outputs": []
    },
    {
      "cell_type": "code",
      "metadata": {
        "id": "jpVv57UgK3xb"
      },
      "source": [
        "x_train,x_test,y_train,y_test=train_test_split(stdFeatures,label,train_size=0.8,random_state=10)"
      ],
      "execution_count": 66,
      "outputs": []
    },
    {
      "cell_type": "code",
      "metadata": {
        "id": "oJvaxfrgK3VT"
      },
      "source": [
        "import tensorflow as tf"
      ],
      "execution_count": 67,
      "outputs": []
    },
    {
      "cell_type": "code",
      "metadata": {
        "id": "a09iJt51L1YO"
      },
      "source": [
        "loanANNModel = tf.keras.models.Sequential()"
      ],
      "execution_count": 68,
      "outputs": []
    },
    {
      "cell_type": "markdown",
      "metadata": {
        "id": "FWAclRCIOjYD"
      },
      "source": [
        "Input layer with 16 features.\r\n",
        "Input & Hidden layers with relu activation function\r\n",
        "label is a binary classification outcome, so using activation as sigmoid with 1 neuron"
      ]
    },
    {
      "cell_type": "code",
      "metadata": {
        "id": "nyxjwlcnL0yA"
      },
      "source": [
        "loanANNModel.add(tf.keras.layers.Dense(units=100,activation='relu',input_shape=(16,)))\r\n",
        "loanANNModel.add(tf.keras.layers.Dense(units=100,activation='relu'))\r\n",
        "loanANNModel.add(tf.keras.layers.Dense(units=100,activation='relu'))\r\n",
        "loanANNModel.add(tf.keras.layers.Dense(units=100,activation='relu'))\r\n",
        "loanANNModel.add(tf.keras.layers.Dense(units=1,activation='sigmoid'))"
      ],
      "execution_count": 69,
      "outputs": []
    },
    {
      "cell_type": "code",
      "metadata": {
        "id": "RlKEMg0wL0IE"
      },
      "source": [
        "loanANNModel.compile(optimizer='sgd',loss='binary_crossentropy',metrics='accuracy')"
      ],
      "execution_count": 70,
      "outputs": []
    },
    {
      "cell_type": "code",
      "metadata": {
        "id": "VGraX9mLLzS1",
        "colab": {
          "base_uri": "https://localhost:8080/",
          "height": 0
        },
        "outputId": "b11b11b3-adef-441c-8d5f-7f4612a5d452"
      },
      "source": [
        "hist=loanANNModel.fit(x_train,y_train,epochs=500,validation_data=(x_test,y_test))"
      ],
      "execution_count": 71,
      "outputs": [
        {
          "output_type": "stream",
          "text": [
            "Epoch 1/500\n",
            "403/403 [==============================] - 3s 3ms/step - loss: 0.6926 - accuracy: 0.5100 - val_loss: 0.6705 - val_accuracy: 0.6091\n",
            "Epoch 2/500\n",
            "403/403 [==============================] - 1s 3ms/step - loss: 0.6642 - accuracy: 0.6115 - val_loss: 0.6475 - val_accuracy: 0.6218\n",
            "Epoch 3/500\n",
            "403/403 [==============================] - 1s 3ms/step - loss: 0.6457 - accuracy: 0.6254 - val_loss: 0.6346 - val_accuracy: 0.6392\n",
            "Epoch 4/500\n",
            "403/403 [==============================] - 1s 3ms/step - loss: 0.6370 - accuracy: 0.6349 - val_loss: 0.6242 - val_accuracy: 0.6529\n",
            "Epoch 5/500\n",
            "403/403 [==============================] - 1s 3ms/step - loss: 0.6165 - accuracy: 0.6610 - val_loss: 0.6160 - val_accuracy: 0.6628\n",
            "Epoch 6/500\n",
            "403/403 [==============================] - 1s 3ms/step - loss: 0.6102 - accuracy: 0.6617 - val_loss: 0.6001 - val_accuracy: 0.6778\n",
            "Epoch 7/500\n",
            "403/403 [==============================] - 1s 3ms/step - loss: 0.5908 - accuracy: 0.6853 - val_loss: 0.5861 - val_accuracy: 0.6787\n",
            "Epoch 8/500\n",
            "403/403 [==============================] - 1s 3ms/step - loss: 0.5746 - accuracy: 0.7007 - val_loss: 0.5664 - val_accuracy: 0.6952\n",
            "Epoch 9/500\n",
            "403/403 [==============================] - 1s 3ms/step - loss: 0.5575 - accuracy: 0.7110 - val_loss: 0.5587 - val_accuracy: 0.6905\n",
            "Epoch 10/500\n",
            "403/403 [==============================] - 1s 3ms/step - loss: 0.5333 - accuracy: 0.7228 - val_loss: 0.5194 - val_accuracy: 0.7287\n",
            "Epoch 11/500\n",
            "403/403 [==============================] - 1s 3ms/step - loss: 0.5101 - accuracy: 0.7411 - val_loss: 0.5045 - val_accuracy: 0.7349\n",
            "Epoch 12/500\n",
            "403/403 [==============================] - 1s 3ms/step - loss: 0.4861 - accuracy: 0.7552 - val_loss: 0.4859 - val_accuracy: 0.7411\n",
            "Epoch 13/500\n",
            "403/403 [==============================] - 1s 3ms/step - loss: 0.4673 - accuracy: 0.7672 - val_loss: 0.5130 - val_accuracy: 0.7209\n",
            "Epoch 14/500\n",
            "403/403 [==============================] - 1s 3ms/step - loss: 0.4540 - accuracy: 0.7680 - val_loss: 0.5112 - val_accuracy: 0.7356\n",
            "Epoch 15/500\n",
            "403/403 [==============================] - 1s 3ms/step - loss: 0.4416 - accuracy: 0.7772 - val_loss: 0.4723 - val_accuracy: 0.7679\n",
            "Epoch 16/500\n",
            "403/403 [==============================] - 1s 3ms/step - loss: 0.4349 - accuracy: 0.7831 - val_loss: 0.5074 - val_accuracy: 0.7147\n",
            "Epoch 17/500\n",
            "403/403 [==============================] - 1s 3ms/step - loss: 0.4307 - accuracy: 0.7805 - val_loss: 0.5344 - val_accuracy: 0.7365\n",
            "Epoch 18/500\n",
            "403/403 [==============================] - 1s 3ms/step - loss: 0.4185 - accuracy: 0.7898 - val_loss: 0.4710 - val_accuracy: 0.7623\n",
            "Epoch 19/500\n",
            "403/403 [==============================] - 1s 3ms/step - loss: 0.4109 - accuracy: 0.7996 - val_loss: 0.4542 - val_accuracy: 0.7713\n",
            "Epoch 20/500\n",
            "403/403 [==============================] - 1s 3ms/step - loss: 0.4099 - accuracy: 0.7914 - val_loss: 0.4404 - val_accuracy: 0.7741\n",
            "Epoch 21/500\n",
            "403/403 [==============================] - 1s 3ms/step - loss: 0.4043 - accuracy: 0.7946 - val_loss: 0.5235 - val_accuracy: 0.7048\n",
            "Epoch 22/500\n",
            "403/403 [==============================] - 1s 3ms/step - loss: 0.4057 - accuracy: 0.7979 - val_loss: 0.4836 - val_accuracy: 0.7567\n",
            "Epoch 23/500\n",
            "403/403 [==============================] - 1s 3ms/step - loss: 0.3972 - accuracy: 0.8006 - val_loss: 0.4753 - val_accuracy: 0.7480\n",
            "Epoch 24/500\n",
            "403/403 [==============================] - 1s 3ms/step - loss: 0.3953 - accuracy: 0.7986 - val_loss: 0.4933 - val_accuracy: 0.7455\n",
            "Epoch 25/500\n",
            "403/403 [==============================] - 1s 3ms/step - loss: 0.3840 - accuracy: 0.8065 - val_loss: 0.4459 - val_accuracy: 0.7707\n",
            "Epoch 26/500\n",
            "403/403 [==============================] - 1s 3ms/step - loss: 0.3818 - accuracy: 0.8130 - val_loss: 0.5793 - val_accuracy: 0.7505\n",
            "Epoch 27/500\n",
            "403/403 [==============================] - 1s 3ms/step - loss: 0.3903 - accuracy: 0.8064 - val_loss: 0.5265 - val_accuracy: 0.7613\n",
            "Epoch 28/500\n",
            "403/403 [==============================] - 1s 3ms/step - loss: 0.3816 - accuracy: 0.8165 - val_loss: 0.5641 - val_accuracy: 0.7141\n",
            "Epoch 29/500\n",
            "403/403 [==============================] - 1s 3ms/step - loss: 0.3838 - accuracy: 0.8047 - val_loss: 0.4587 - val_accuracy: 0.7862\n",
            "Epoch 30/500\n",
            "403/403 [==============================] - 1s 3ms/step - loss: 0.3714 - accuracy: 0.8167 - val_loss: 0.6027 - val_accuracy: 0.7017\n",
            "Epoch 31/500\n",
            "403/403 [==============================] - 1s 3ms/step - loss: 0.3715 - accuracy: 0.8140 - val_loss: 0.4551 - val_accuracy: 0.7725\n",
            "Epoch 32/500\n",
            "403/403 [==============================] - 1s 3ms/step - loss: 0.3696 - accuracy: 0.8178 - val_loss: 0.8710 - val_accuracy: 0.6035\n",
            "Epoch 33/500\n",
            "403/403 [==============================] - 1s 3ms/step - loss: 0.3755 - accuracy: 0.8193 - val_loss: 0.4852 - val_accuracy: 0.7663\n",
            "Epoch 34/500\n",
            "403/403 [==============================] - 1s 3ms/step - loss: 0.3619 - accuracy: 0.8215 - val_loss: 0.5010 - val_accuracy: 0.7458\n",
            "Epoch 35/500\n",
            "403/403 [==============================] - 1s 3ms/step - loss: 0.3613 - accuracy: 0.8260 - val_loss: 0.4873 - val_accuracy: 0.7725\n",
            "Epoch 36/500\n",
            "403/403 [==============================] - 1s 3ms/step - loss: 0.3604 - accuracy: 0.8307 - val_loss: 0.5110 - val_accuracy: 0.7411\n",
            "Epoch 37/500\n",
            "403/403 [==============================] - 1s 3ms/step - loss: 0.3610 - accuracy: 0.8260 - val_loss: 0.5828 - val_accuracy: 0.6955\n",
            "Epoch 38/500\n",
            "403/403 [==============================] - 1s 3ms/step - loss: 0.3488 - accuracy: 0.8374 - val_loss: 0.5105 - val_accuracy: 0.7390\n",
            "Epoch 39/500\n",
            "403/403 [==============================] - 1s 3ms/step - loss: 0.3537 - accuracy: 0.8263 - val_loss: 0.4862 - val_accuracy: 0.7716\n",
            "Epoch 40/500\n",
            "403/403 [==============================] - 1s 3ms/step - loss: 0.3486 - accuracy: 0.8326 - val_loss: 0.4297 - val_accuracy: 0.7815\n",
            "Epoch 41/500\n",
            "403/403 [==============================] - 1s 3ms/step - loss: 0.3472 - accuracy: 0.8398 - val_loss: 0.4239 - val_accuracy: 0.7949\n",
            "Epoch 42/500\n",
            "403/403 [==============================] - 1s 3ms/step - loss: 0.3398 - accuracy: 0.8384 - val_loss: 0.4996 - val_accuracy: 0.7536\n",
            "Epoch 43/500\n",
            "403/403 [==============================] - 1s 3ms/step - loss: 0.3434 - accuracy: 0.8413 - val_loss: 0.4501 - val_accuracy: 0.7769\n",
            "Epoch 44/500\n",
            "403/403 [==============================] - 1s 3ms/step - loss: 0.3447 - accuracy: 0.8350 - val_loss: 0.4302 - val_accuracy: 0.7958\n",
            "Epoch 45/500\n",
            "403/403 [==============================] - 1s 3ms/step - loss: 0.3405 - accuracy: 0.8381 - val_loss: 0.4992 - val_accuracy: 0.7924\n",
            "Epoch 46/500\n",
            "403/403 [==============================] - 1s 3ms/step - loss: 0.3378 - accuracy: 0.8351 - val_loss: 0.4203 - val_accuracy: 0.8064\n",
            "Epoch 47/500\n",
            "403/403 [==============================] - 1s 3ms/step - loss: 0.3343 - accuracy: 0.8386 - val_loss: 0.4641 - val_accuracy: 0.7685\n",
            "Epoch 48/500\n",
            "403/403 [==============================] - 1s 3ms/step - loss: 0.3362 - accuracy: 0.8410 - val_loss: 0.4563 - val_accuracy: 0.7719\n",
            "Epoch 49/500\n",
            "403/403 [==============================] - 1s 3ms/step - loss: 0.3274 - accuracy: 0.8436 - val_loss: 0.4957 - val_accuracy: 0.7815\n",
            "Epoch 50/500\n",
            "403/403 [==============================] - 1s 3ms/step - loss: 0.3343 - accuracy: 0.8406 - val_loss: 0.4145 - val_accuracy: 0.8042\n",
            "Epoch 51/500\n",
            "403/403 [==============================] - 1s 3ms/step - loss: 0.3303 - accuracy: 0.8469 - val_loss: 0.6041 - val_accuracy: 0.7691\n",
            "Epoch 52/500\n",
            "403/403 [==============================] - 1s 3ms/step - loss: 0.3264 - accuracy: 0.8476 - val_loss: 0.4071 - val_accuracy: 0.8126\n",
            "Epoch 53/500\n",
            "403/403 [==============================] - 1s 3ms/step - loss: 0.3210 - accuracy: 0.8476 - val_loss: 0.4497 - val_accuracy: 0.7943\n",
            "Epoch 54/500\n",
            "403/403 [==============================] - 1s 3ms/step - loss: 0.3140 - accuracy: 0.8544 - val_loss: 0.5136 - val_accuracy: 0.7626\n",
            "Epoch 55/500\n",
            "403/403 [==============================] - 1s 3ms/step - loss: 0.3129 - accuracy: 0.8533 - val_loss: 0.4752 - val_accuracy: 0.7865\n",
            "Epoch 56/500\n",
            "403/403 [==============================] - 1s 3ms/step - loss: 0.3122 - accuracy: 0.8565 - val_loss: 0.4188 - val_accuracy: 0.8021\n",
            "Epoch 57/500\n",
            "403/403 [==============================] - 1s 3ms/step - loss: 0.3120 - accuracy: 0.8557 - val_loss: 0.4051 - val_accuracy: 0.8086\n",
            "Epoch 58/500\n",
            "403/403 [==============================] - 1s 3ms/step - loss: 0.3071 - accuracy: 0.8595 - val_loss: 0.4656 - val_accuracy: 0.7996\n",
            "Epoch 59/500\n",
            "403/403 [==============================] - 1s 3ms/step - loss: 0.2994 - accuracy: 0.8643 - val_loss: 1.1479 - val_accuracy: 0.5886\n",
            "Epoch 60/500\n",
            "403/403 [==============================] - 1s 3ms/step - loss: 0.3168 - accuracy: 0.8555 - val_loss: 0.4243 - val_accuracy: 0.8061\n",
            "Epoch 61/500\n",
            "403/403 [==============================] - 1s 3ms/step - loss: 0.3157 - accuracy: 0.8528 - val_loss: 0.4551 - val_accuracy: 0.7943\n",
            "Epoch 62/500\n",
            "403/403 [==============================] - 1s 3ms/step - loss: 0.2971 - accuracy: 0.8661 - val_loss: 0.4477 - val_accuracy: 0.8076\n",
            "Epoch 63/500\n",
            "403/403 [==============================] - 1s 3ms/step - loss: 0.2994 - accuracy: 0.8631 - val_loss: 0.4279 - val_accuracy: 0.8067\n",
            "Epoch 64/500\n",
            "403/403 [==============================] - 1s 3ms/step - loss: 0.2914 - accuracy: 0.8658 - val_loss: 0.4802 - val_accuracy: 0.7878\n",
            "Epoch 65/500\n",
            "403/403 [==============================] - 1s 3ms/step - loss: 0.2922 - accuracy: 0.8642 - val_loss: 0.5076 - val_accuracy: 0.7682\n",
            "Epoch 66/500\n",
            "403/403 [==============================] - 1s 3ms/step - loss: 0.2957 - accuracy: 0.8635 - val_loss: 0.4687 - val_accuracy: 0.7896\n",
            "Epoch 67/500\n",
            "403/403 [==============================] - 1s 3ms/step - loss: 0.2869 - accuracy: 0.8748 - val_loss: 0.5247 - val_accuracy: 0.7722\n",
            "Epoch 68/500\n",
            "403/403 [==============================] - 1s 3ms/step - loss: 0.2979 - accuracy: 0.8617 - val_loss: 0.4308 - val_accuracy: 0.8033\n",
            "Epoch 69/500\n",
            "403/403 [==============================] - 1s 3ms/step - loss: 0.2903 - accuracy: 0.8637 - val_loss: 0.4645 - val_accuracy: 0.7850\n",
            "Epoch 70/500\n",
            "403/403 [==============================] - 1s 3ms/step - loss: 0.2817 - accuracy: 0.8736 - val_loss: 0.4387 - val_accuracy: 0.8042\n",
            "Epoch 71/500\n",
            "403/403 [==============================] - 1s 3ms/step - loss: 0.2735 - accuracy: 0.8771 - val_loss: 0.4194 - val_accuracy: 0.8111\n",
            "Epoch 72/500\n",
            "403/403 [==============================] - 1s 3ms/step - loss: 0.2779 - accuracy: 0.8767 - val_loss: 0.5494 - val_accuracy: 0.7638\n",
            "Epoch 73/500\n",
            "403/403 [==============================] - 1s 3ms/step - loss: 0.2734 - accuracy: 0.8775 - val_loss: 0.4313 - val_accuracy: 0.8098\n",
            "Epoch 74/500\n",
            "403/403 [==============================] - 1s 3ms/step - loss: 0.2727 - accuracy: 0.8768 - val_loss: 1.2041 - val_accuracy: 0.5994\n",
            "Epoch 75/500\n",
            "403/403 [==============================] - 1s 3ms/step - loss: 0.2854 - accuracy: 0.8709 - val_loss: 0.4388 - val_accuracy: 0.8098\n",
            "Epoch 76/500\n",
            "403/403 [==============================] - 1s 3ms/step - loss: 0.2719 - accuracy: 0.8777 - val_loss: 0.4367 - val_accuracy: 0.8126\n",
            "Epoch 77/500\n",
            "403/403 [==============================] - 1s 3ms/step - loss: 0.2706 - accuracy: 0.8777 - val_loss: 0.4331 - val_accuracy: 0.8145\n",
            "Epoch 78/500\n",
            "403/403 [==============================] - 1s 3ms/step - loss: 0.2667 - accuracy: 0.8798 - val_loss: 0.5892 - val_accuracy: 0.7554\n",
            "Epoch 79/500\n",
            "403/403 [==============================] - 1s 3ms/step - loss: 0.2846 - accuracy: 0.8681 - val_loss: 0.6313 - val_accuracy: 0.7623\n",
            "Epoch 80/500\n",
            "403/403 [==============================] - 1s 3ms/step - loss: 0.2749 - accuracy: 0.8751 - val_loss: 0.5121 - val_accuracy: 0.7850\n",
            "Epoch 81/500\n",
            "403/403 [==============================] - 1s 3ms/step - loss: 0.2691 - accuracy: 0.8794 - val_loss: 0.4510 - val_accuracy: 0.8111\n",
            "Epoch 82/500\n",
            "403/403 [==============================] - 1s 3ms/step - loss: 0.2665 - accuracy: 0.8835 - val_loss: 0.5197 - val_accuracy: 0.7933\n",
            "Epoch 83/500\n",
            "403/403 [==============================] - 1s 3ms/step - loss: 0.2744 - accuracy: 0.8739 - val_loss: 0.4988 - val_accuracy: 0.8011\n",
            "Epoch 84/500\n",
            "403/403 [==============================] - 1s 3ms/step - loss: 0.2589 - accuracy: 0.8836 - val_loss: 0.4609 - val_accuracy: 0.8021\n",
            "Epoch 85/500\n",
            "403/403 [==============================] - 1s 3ms/step - loss: 0.2572 - accuracy: 0.8827 - val_loss: 0.5793 - val_accuracy: 0.7906\n",
            "Epoch 86/500\n",
            "403/403 [==============================] - 1s 3ms/step - loss: 0.2605 - accuracy: 0.8863 - val_loss: 0.4257 - val_accuracy: 0.8148\n",
            "Epoch 87/500\n",
            "403/403 [==============================] - 1s 3ms/step - loss: 0.2461 - accuracy: 0.8913 - val_loss: 0.8892 - val_accuracy: 0.6821\n",
            "Epoch 88/500\n",
            "403/403 [==============================] - 1s 3ms/step - loss: 0.2729 - accuracy: 0.8762 - val_loss: 0.4128 - val_accuracy: 0.8238\n",
            "Epoch 89/500\n",
            "403/403 [==============================] - 1s 3ms/step - loss: 0.2389 - accuracy: 0.8925 - val_loss: 0.5255 - val_accuracy: 0.7846\n",
            "Epoch 90/500\n",
            "403/403 [==============================] - 1s 3ms/step - loss: 0.2486 - accuracy: 0.8914 - val_loss: 0.4134 - val_accuracy: 0.8297\n",
            "Epoch 91/500\n",
            "403/403 [==============================] - 1s 3ms/step - loss: 0.2396 - accuracy: 0.8965 - val_loss: 0.3998 - val_accuracy: 0.8300\n",
            "Epoch 92/500\n",
            "403/403 [==============================] - 1s 3ms/step - loss: 0.2386 - accuracy: 0.8966 - val_loss: 0.4847 - val_accuracy: 0.7965\n",
            "Epoch 93/500\n",
            "403/403 [==============================] - 1s 3ms/step - loss: 0.2374 - accuracy: 0.8966 - val_loss: 0.5753 - val_accuracy: 0.7604\n",
            "Epoch 94/500\n",
            "403/403 [==============================] - 1s 3ms/step - loss: 0.2459 - accuracy: 0.8911 - val_loss: 0.8597 - val_accuracy: 0.7306\n",
            "Epoch 95/500\n",
            "403/403 [==============================] - 1s 3ms/step - loss: 0.2484 - accuracy: 0.8917 - val_loss: 0.4732 - val_accuracy: 0.8011\n",
            "Epoch 96/500\n",
            "403/403 [==============================] - 1s 3ms/step - loss: 0.2350 - accuracy: 0.8992 - val_loss: 0.9726 - val_accuracy: 0.7396\n",
            "Epoch 97/500\n",
            "403/403 [==============================] - 1s 3ms/step - loss: 0.2555 - accuracy: 0.8923 - val_loss: 0.5832 - val_accuracy: 0.7753\n",
            "Epoch 98/500\n",
            "403/403 [==============================] - 1s 3ms/step - loss: 0.2352 - accuracy: 0.8991 - val_loss: 0.4161 - val_accuracy: 0.8322\n",
            "Epoch 99/500\n",
            "403/403 [==============================] - 1s 3ms/step - loss: 0.2270 - accuracy: 0.9017 - val_loss: 0.4675 - val_accuracy: 0.8198\n",
            "Epoch 100/500\n",
            "403/403 [==============================] - 1s 3ms/step - loss: 0.2316 - accuracy: 0.8996 - val_loss: 1.3794 - val_accuracy: 0.6342\n",
            "Epoch 101/500\n",
            "403/403 [==============================] - 1s 3ms/step - loss: 0.2529 - accuracy: 0.8887 - val_loss: 0.4560 - val_accuracy: 0.8170\n",
            "Epoch 102/500\n",
            "403/403 [==============================] - 1s 3ms/step - loss: 0.2414 - accuracy: 0.8997 - val_loss: 0.4014 - val_accuracy: 0.8443\n",
            "Epoch 103/500\n",
            "403/403 [==============================] - 1s 3ms/step - loss: 0.2292 - accuracy: 0.8983 - val_loss: 0.5296 - val_accuracy: 0.8048\n",
            "Epoch 104/500\n",
            "403/403 [==============================] - 1s 3ms/step - loss: 0.2151 - accuracy: 0.9045 - val_loss: 0.4642 - val_accuracy: 0.8142\n",
            "Epoch 105/500\n",
            "403/403 [==============================] - 1s 3ms/step - loss: 0.2267 - accuracy: 0.9038 - val_loss: 0.4828 - val_accuracy: 0.8073\n",
            "Epoch 106/500\n",
            "403/403 [==============================] - 1s 3ms/step - loss: 0.2207 - accuracy: 0.9053 - val_loss: 0.4969 - val_accuracy: 0.8123\n",
            "Epoch 107/500\n",
            "403/403 [==============================] - 1s 3ms/step - loss: 0.2283 - accuracy: 0.9032 - val_loss: 0.4730 - val_accuracy: 0.8241\n",
            "Epoch 108/500\n",
            "403/403 [==============================] - 1s 3ms/step - loss: 0.2166 - accuracy: 0.9064 - val_loss: 0.4772 - val_accuracy: 0.8111\n",
            "Epoch 109/500\n",
            "403/403 [==============================] - 1s 3ms/step - loss: 0.2158 - accuracy: 0.9092 - val_loss: 0.7818 - val_accuracy: 0.7365\n",
            "Epoch 110/500\n",
            "403/403 [==============================] - 1s 3ms/step - loss: 0.2237 - accuracy: 0.9071 - val_loss: 0.9680 - val_accuracy: 0.6899\n",
            "Epoch 111/500\n",
            "403/403 [==============================] - 1s 3ms/step - loss: 0.2043 - accuracy: 0.9095 - val_loss: 0.4268 - val_accuracy: 0.8390\n",
            "Epoch 112/500\n",
            "403/403 [==============================] - 1s 3ms/step - loss: 0.2099 - accuracy: 0.9112 - val_loss: 0.4350 - val_accuracy: 0.8316\n",
            "Epoch 113/500\n",
            "403/403 [==============================] - 1s 3ms/step - loss: 0.2118 - accuracy: 0.9080 - val_loss: 0.4559 - val_accuracy: 0.8325\n",
            "Epoch 114/500\n",
            "403/403 [==============================] - 1s 3ms/step - loss: 0.2005 - accuracy: 0.9158 - val_loss: 0.4418 - val_accuracy: 0.8353\n",
            "Epoch 115/500\n",
            "403/403 [==============================] - 1s 3ms/step - loss: 0.1995 - accuracy: 0.9143 - val_loss: 0.4711 - val_accuracy: 0.8303\n",
            "Epoch 116/500\n",
            "403/403 [==============================] - 1s 3ms/step - loss: 0.1936 - accuracy: 0.9152 - val_loss: 0.5123 - val_accuracy: 0.8005\n",
            "Epoch 117/500\n",
            "403/403 [==============================] - 1s 3ms/step - loss: 0.1996 - accuracy: 0.9124 - val_loss: 0.4293 - val_accuracy: 0.8390\n",
            "Epoch 118/500\n",
            "403/403 [==============================] - 1s 3ms/step - loss: 0.1858 - accuracy: 0.9207 - val_loss: 0.4548 - val_accuracy: 0.8306\n",
            "Epoch 119/500\n",
            "403/403 [==============================] - 1s 3ms/step - loss: 0.1996 - accuracy: 0.9155 - val_loss: 0.4455 - val_accuracy: 0.8369\n",
            "Epoch 120/500\n",
            "403/403 [==============================] - 1s 3ms/step - loss: 0.1890 - accuracy: 0.9194 - val_loss: 0.4567 - val_accuracy: 0.8412\n",
            "Epoch 121/500\n",
            "403/403 [==============================] - 1s 3ms/step - loss: 0.2096 - accuracy: 0.9127 - val_loss: 0.6688 - val_accuracy: 0.7862\n",
            "Epoch 122/500\n",
            "403/403 [==============================] - 1s 3ms/step - loss: 0.2048 - accuracy: 0.9106 - val_loss: 0.4493 - val_accuracy: 0.8428\n",
            "Epoch 123/500\n",
            "403/403 [==============================] - 1s 3ms/step - loss: 0.1755 - accuracy: 0.9285 - val_loss: 0.4409 - val_accuracy: 0.8356\n",
            "Epoch 124/500\n",
            "403/403 [==============================] - 1s 3ms/step - loss: 0.1920 - accuracy: 0.9186 - val_loss: 0.5257 - val_accuracy: 0.7993\n",
            "Epoch 125/500\n",
            "403/403 [==============================] - 1s 3ms/step - loss: 0.1750 - accuracy: 0.9278 - val_loss: 0.5020 - val_accuracy: 0.8232\n",
            "Epoch 126/500\n",
            "403/403 [==============================] - 1s 3ms/step - loss: 0.1800 - accuracy: 0.9239 - val_loss: 0.5907 - val_accuracy: 0.7924\n",
            "Epoch 127/500\n",
            "403/403 [==============================] - 1s 3ms/step - loss: 0.1885 - accuracy: 0.9194 - val_loss: 0.7994 - val_accuracy: 0.7418\n",
            "Epoch 128/500\n",
            "403/403 [==============================] - 1s 3ms/step - loss: 0.1960 - accuracy: 0.9159 - val_loss: 0.6142 - val_accuracy: 0.7893\n",
            "Epoch 129/500\n",
            "403/403 [==============================] - 1s 3ms/step - loss: 0.1741 - accuracy: 0.9275 - val_loss: 0.4575 - val_accuracy: 0.8400\n",
            "Epoch 130/500\n",
            "403/403 [==============================] - 1s 3ms/step - loss: 0.1910 - accuracy: 0.9177 - val_loss: 0.4759 - val_accuracy: 0.8319\n",
            "Epoch 131/500\n",
            "403/403 [==============================] - 1s 3ms/step - loss: 0.1682 - accuracy: 0.9328 - val_loss: 0.6437 - val_accuracy: 0.7983\n",
            "Epoch 132/500\n",
            "403/403 [==============================] - 1s 3ms/step - loss: 0.1835 - accuracy: 0.9245 - val_loss: 0.4635 - val_accuracy: 0.8375\n",
            "Epoch 133/500\n",
            "403/403 [==============================] - 1s 3ms/step - loss: 0.1758 - accuracy: 0.9269 - val_loss: 0.4613 - val_accuracy: 0.8381\n",
            "Epoch 134/500\n",
            "403/403 [==============================] - 1s 3ms/step - loss: 0.1714 - accuracy: 0.9315 - val_loss: 0.5756 - val_accuracy: 0.8055\n",
            "Epoch 135/500\n",
            "403/403 [==============================] - 1s 3ms/step - loss: 0.1636 - accuracy: 0.9338 - val_loss: 0.5305 - val_accuracy: 0.8272\n",
            "Epoch 136/500\n",
            "403/403 [==============================] - 1s 3ms/step - loss: 0.1840 - accuracy: 0.9228 - val_loss: 0.5899 - val_accuracy: 0.7980\n",
            "Epoch 137/500\n",
            "403/403 [==============================] - 1s 3ms/step - loss: 0.1749 - accuracy: 0.9243 - val_loss: 0.4509 - val_accuracy: 0.8424\n",
            "Epoch 138/500\n",
            "403/403 [==============================] - 1s 3ms/step - loss: 0.1652 - accuracy: 0.9352 - val_loss: 0.4402 - val_accuracy: 0.8471\n",
            "Epoch 139/500\n",
            "403/403 [==============================] - 1s 3ms/step - loss: 0.1729 - accuracy: 0.9267 - val_loss: 0.5755 - val_accuracy: 0.8154\n",
            "Epoch 140/500\n",
            "403/403 [==============================] - 1s 3ms/step - loss: 0.1714 - accuracy: 0.9292 - val_loss: 0.4546 - val_accuracy: 0.8515\n",
            "Epoch 141/500\n",
            "403/403 [==============================] - 1s 3ms/step - loss: 0.1694 - accuracy: 0.9292 - val_loss: 1.4713 - val_accuracy: 0.6439\n",
            "Epoch 142/500\n",
            "403/403 [==============================] - 1s 3ms/step - loss: 0.1842 - accuracy: 0.9259 - val_loss: 0.5059 - val_accuracy: 0.8310\n",
            "Epoch 143/500\n",
            "403/403 [==============================] - 1s 3ms/step - loss: 0.1524 - accuracy: 0.9379 - val_loss: 0.4465 - val_accuracy: 0.8496\n",
            "Epoch 144/500\n",
            "403/403 [==============================] - 1s 3ms/step - loss: 0.1632 - accuracy: 0.9317 - val_loss: 0.4561 - val_accuracy: 0.8511\n",
            "Epoch 145/500\n",
            "403/403 [==============================] - 1s 3ms/step - loss: 0.1451 - accuracy: 0.9409 - val_loss: 1.3330 - val_accuracy: 0.6725\n",
            "Epoch 146/500\n",
            "403/403 [==============================] - 1s 3ms/step - loss: 0.1752 - accuracy: 0.9315 - val_loss: 1.2260 - val_accuracy: 0.7567\n",
            "Epoch 147/500\n",
            "403/403 [==============================] - 1s 3ms/step - loss: 0.1771 - accuracy: 0.9307 - val_loss: 0.4486 - val_accuracy: 0.8474\n",
            "Epoch 148/500\n",
            "403/403 [==============================] - 1s 3ms/step - loss: 0.1506 - accuracy: 0.9366 - val_loss: 0.6810 - val_accuracy: 0.8135\n",
            "Epoch 149/500\n",
            "403/403 [==============================] - 1s 3ms/step - loss: 0.1416 - accuracy: 0.9414 - val_loss: 0.4969 - val_accuracy: 0.8474\n",
            "Epoch 150/500\n",
            "403/403 [==============================] - 1s 3ms/step - loss: 0.1498 - accuracy: 0.9400 - val_loss: 0.5734 - val_accuracy: 0.8375\n",
            "Epoch 151/500\n",
            "403/403 [==============================] - 1s 3ms/step - loss: 0.1606 - accuracy: 0.9355 - val_loss: 0.6320 - val_accuracy: 0.8191\n",
            "Epoch 152/500\n",
            "403/403 [==============================] - 1s 3ms/step - loss: 0.1514 - accuracy: 0.9412 - val_loss: 0.5818 - val_accuracy: 0.8098\n",
            "Epoch 153/500\n",
            "403/403 [==============================] - 1s 3ms/step - loss: 0.1395 - accuracy: 0.9456 - val_loss: 0.7233 - val_accuracy: 0.7993\n",
            "Epoch 154/500\n",
            "403/403 [==============================] - 1s 3ms/step - loss: 0.1502 - accuracy: 0.9404 - val_loss: 0.5005 - val_accuracy: 0.8459\n",
            "Epoch 155/500\n",
            "403/403 [==============================] - 1s 3ms/step - loss: 0.1489 - accuracy: 0.9368 - val_loss: 0.4906 - val_accuracy: 0.8518\n",
            "Epoch 156/500\n",
            "403/403 [==============================] - 1s 3ms/step - loss: 0.1446 - accuracy: 0.9383 - val_loss: 0.4954 - val_accuracy: 0.8493\n",
            "Epoch 157/500\n",
            "403/403 [==============================] - 1s 3ms/step - loss: 0.1465 - accuracy: 0.9381 - val_loss: 0.8615 - val_accuracy: 0.7694\n",
            "Epoch 158/500\n",
            "403/403 [==============================] - 1s 3ms/step - loss: 0.1601 - accuracy: 0.9355 - val_loss: 0.5143 - val_accuracy: 0.8384\n",
            "Epoch 159/500\n",
            "403/403 [==============================] - 1s 3ms/step - loss: 0.1406 - accuracy: 0.9422 - val_loss: 0.9235 - val_accuracy: 0.7511\n",
            "Epoch 160/500\n",
            "403/403 [==============================] - 1s 3ms/step - loss: 0.1502 - accuracy: 0.9427 - val_loss: 0.5131 - val_accuracy: 0.8437\n",
            "Epoch 161/500\n",
            "403/403 [==============================] - 1s 3ms/step - loss: 0.1460 - accuracy: 0.9396 - val_loss: 0.4939 - val_accuracy: 0.8546\n",
            "Epoch 162/500\n",
            "403/403 [==============================] - 1s 3ms/step - loss: 0.1510 - accuracy: 0.9377 - val_loss: 0.4704 - val_accuracy: 0.8589\n",
            "Epoch 163/500\n",
            "403/403 [==============================] - 1s 3ms/step - loss: 0.1342 - accuracy: 0.9459 - val_loss: 0.5315 - val_accuracy: 0.8456\n",
            "Epoch 164/500\n",
            "403/403 [==============================] - 1s 3ms/step - loss: 0.1326 - accuracy: 0.9468 - val_loss: 0.5194 - val_accuracy: 0.8490\n",
            "Epoch 165/500\n",
            "403/403 [==============================] - 1s 3ms/step - loss: 0.1292 - accuracy: 0.9511 - val_loss: 0.4763 - val_accuracy: 0.8602\n",
            "Epoch 166/500\n",
            "403/403 [==============================] - 1s 3ms/step - loss: 0.1405 - accuracy: 0.9436 - val_loss: 0.4960 - val_accuracy: 0.8468\n",
            "Epoch 167/500\n",
            "403/403 [==============================] - 1s 3ms/step - loss: 0.1266 - accuracy: 0.9475 - val_loss: 0.4976 - val_accuracy: 0.8515\n",
            "Epoch 168/500\n",
            "403/403 [==============================] - 1s 3ms/step - loss: 0.1310 - accuracy: 0.9468 - val_loss: 0.4936 - val_accuracy: 0.8539\n",
            "Epoch 169/500\n",
            "403/403 [==============================] - 1s 3ms/step - loss: 0.1271 - accuracy: 0.9494 - val_loss: 0.6453 - val_accuracy: 0.8157\n",
            "Epoch 170/500\n",
            "403/403 [==============================] - 1s 3ms/step - loss: 0.1196 - accuracy: 0.9534 - val_loss: 0.5141 - val_accuracy: 0.8462\n",
            "Epoch 171/500\n",
            "403/403 [==============================] - 1s 3ms/step - loss: 0.1210 - accuracy: 0.9525 - val_loss: 1.3559 - val_accuracy: 0.7063\n",
            "Epoch 172/500\n",
            "403/403 [==============================] - 1s 3ms/step - loss: 0.1382 - accuracy: 0.9461 - val_loss: 0.5309 - val_accuracy: 0.8502\n",
            "Epoch 173/500\n",
            "403/403 [==============================] - 1s 3ms/step - loss: 0.1258 - accuracy: 0.9491 - val_loss: 0.5641 - val_accuracy: 0.8319\n",
            "Epoch 174/500\n",
            "403/403 [==============================] - 1s 3ms/step - loss: 0.1220 - accuracy: 0.9483 - val_loss: 0.5410 - val_accuracy: 0.8543\n",
            "Epoch 175/500\n",
            "403/403 [==============================] - 1s 3ms/step - loss: 0.1165 - accuracy: 0.9512 - val_loss: 0.7954 - val_accuracy: 0.8154\n",
            "Epoch 176/500\n",
            "403/403 [==============================] - 1s 3ms/step - loss: 0.1374 - accuracy: 0.9437 - val_loss: 0.5237 - val_accuracy: 0.8490\n",
            "Epoch 177/500\n",
            "403/403 [==============================] - 1s 3ms/step - loss: 0.1050 - accuracy: 0.9583 - val_loss: 0.5885 - val_accuracy: 0.8310\n",
            "Epoch 178/500\n",
            "403/403 [==============================] - 1s 3ms/step - loss: 0.1196 - accuracy: 0.9504 - val_loss: 0.5225 - val_accuracy: 0.8515\n",
            "Epoch 179/500\n",
            "403/403 [==============================] - 1s 3ms/step - loss: 0.1029 - accuracy: 0.9602 - val_loss: 0.9920 - val_accuracy: 0.7663\n",
            "Epoch 180/500\n",
            "403/403 [==============================] - 1s 3ms/step - loss: 0.1359 - accuracy: 0.9469 - val_loss: 0.6507 - val_accuracy: 0.8278\n",
            "Epoch 181/500\n",
            "403/403 [==============================] - 1s 3ms/step - loss: 0.1261 - accuracy: 0.9497 - val_loss: 1.0138 - val_accuracy: 0.7781\n",
            "Epoch 182/500\n",
            "403/403 [==============================] - 1s 3ms/step - loss: 0.1459 - accuracy: 0.9492 - val_loss: 0.9820 - val_accuracy: 0.7899\n",
            "Epoch 183/500\n",
            "403/403 [==============================] - 1s 3ms/step - loss: 0.1191 - accuracy: 0.9538 - val_loss: 0.9016 - val_accuracy: 0.7868\n",
            "Epoch 184/500\n",
            "403/403 [==============================] - 1s 3ms/step - loss: 0.1815 - accuracy: 0.9309 - val_loss: 0.7319 - val_accuracy: 0.8030\n",
            "Epoch 185/500\n",
            "403/403 [==============================] - 1s 3ms/step - loss: 0.1091 - accuracy: 0.9589 - val_loss: 0.8004 - val_accuracy: 0.7986\n",
            "Epoch 186/500\n",
            "403/403 [==============================] - 1s 3ms/step - loss: 0.1097 - accuracy: 0.9589 - val_loss: 0.5136 - val_accuracy: 0.8577\n",
            "Epoch 187/500\n",
            "403/403 [==============================] - 1s 3ms/step - loss: 0.0974 - accuracy: 0.9638 - val_loss: 0.5488 - val_accuracy: 0.8654\n",
            "Epoch 188/500\n",
            "403/403 [==============================] - 1s 3ms/step - loss: 0.0982 - accuracy: 0.9629 - val_loss: 1.5573 - val_accuracy: 0.7474\n",
            "Epoch 189/500\n",
            "403/403 [==============================] - 1s 3ms/step - loss: 0.1541 - accuracy: 0.9451 - val_loss: 0.6947 - val_accuracy: 0.8275\n",
            "Epoch 190/500\n",
            "403/403 [==============================] - 1s 3ms/step - loss: 0.1220 - accuracy: 0.9519 - val_loss: 0.5132 - val_accuracy: 0.8692\n",
            "Epoch 191/500\n",
            "403/403 [==============================] - 1s 3ms/step - loss: 0.0979 - accuracy: 0.9599 - val_loss: 0.5007 - val_accuracy: 0.8639\n",
            "Epoch 192/500\n",
            "403/403 [==============================] - 1s 3ms/step - loss: 0.1084 - accuracy: 0.9559 - val_loss: 0.5560 - val_accuracy: 0.8462\n",
            "Epoch 193/500\n",
            "403/403 [==============================] - 1s 3ms/step - loss: 0.0943 - accuracy: 0.9643 - val_loss: 0.9102 - val_accuracy: 0.7840\n",
            "Epoch 194/500\n",
            "403/403 [==============================] - 1s 3ms/step - loss: 0.1008 - accuracy: 0.9605 - val_loss: 1.4341 - val_accuracy: 0.7290\n",
            "Epoch 195/500\n",
            "403/403 [==============================] - 1s 3ms/step - loss: 0.1815 - accuracy: 0.9361 - val_loss: 1.4991 - val_accuracy: 0.7200\n",
            "Epoch 196/500\n",
            "403/403 [==============================] - 1s 3ms/step - loss: 0.1360 - accuracy: 0.9506 - val_loss: 0.6828 - val_accuracy: 0.8319\n",
            "Epoch 197/500\n",
            "403/403 [==============================] - 1s 3ms/step - loss: 0.0994 - accuracy: 0.9606 - val_loss: 0.5263 - val_accuracy: 0.8586\n",
            "Epoch 198/500\n",
            "403/403 [==============================] - 1s 3ms/step - loss: 0.0816 - accuracy: 0.9676 - val_loss: 0.5956 - val_accuracy: 0.8527\n",
            "Epoch 199/500\n",
            "403/403 [==============================] - 1s 3ms/step - loss: 0.0785 - accuracy: 0.9708 - val_loss: 0.6722 - val_accuracy: 0.8241\n",
            "Epoch 200/500\n",
            "403/403 [==============================] - 1s 3ms/step - loss: 0.1112 - accuracy: 0.9575 - val_loss: 1.0851 - val_accuracy: 0.7825\n",
            "Epoch 201/500\n",
            "403/403 [==============================] - 1s 3ms/step - loss: 0.1107 - accuracy: 0.9549 - val_loss: 0.5440 - val_accuracy: 0.8667\n",
            "Epoch 202/500\n",
            "403/403 [==============================] - 1s 3ms/step - loss: 0.0720 - accuracy: 0.9733 - val_loss: 1.1394 - val_accuracy: 0.7846\n",
            "Epoch 203/500\n",
            "403/403 [==============================] - 1s 3ms/step - loss: 0.1009 - accuracy: 0.9653 - val_loss: 0.5519 - val_accuracy: 0.8552\n",
            "Epoch 204/500\n",
            "403/403 [==============================] - 1s 3ms/step - loss: 0.0983 - accuracy: 0.9606 - val_loss: 0.6096 - val_accuracy: 0.8589\n",
            "Epoch 205/500\n",
            "403/403 [==============================] - 1s 3ms/step - loss: 0.0784 - accuracy: 0.9727 - val_loss: 0.5797 - val_accuracy: 0.8527\n",
            "Epoch 206/500\n",
            "403/403 [==============================] - 1s 3ms/step - loss: 0.0793 - accuracy: 0.9730 - val_loss: 0.6294 - val_accuracy: 0.8477\n",
            "Epoch 207/500\n",
            "403/403 [==============================] - 1s 3ms/step - loss: 0.0727 - accuracy: 0.9715 - val_loss: 0.6114 - val_accuracy: 0.8521\n",
            "Epoch 208/500\n",
            "403/403 [==============================] - 1s 3ms/step - loss: 0.0749 - accuracy: 0.9728 - val_loss: 0.6525 - val_accuracy: 0.8487\n",
            "Epoch 209/500\n",
            "403/403 [==============================] - 1s 3ms/step - loss: 0.0769 - accuracy: 0.9732 - val_loss: 1.3606 - val_accuracy: 0.7548\n",
            "Epoch 210/500\n",
            "403/403 [==============================] - 1s 3ms/step - loss: 0.1268 - accuracy: 0.9542 - val_loss: 0.6234 - val_accuracy: 0.8527\n",
            "Epoch 211/500\n",
            "403/403 [==============================] - 1s 3ms/step - loss: 0.0873 - accuracy: 0.9676 - val_loss: 0.9335 - val_accuracy: 0.7831\n",
            "Epoch 212/500\n",
            "403/403 [==============================] - 1s 3ms/step - loss: 0.0803 - accuracy: 0.9718 - val_loss: 0.5808 - val_accuracy: 0.8561\n",
            "Epoch 213/500\n",
            "403/403 [==============================] - 1s 3ms/step - loss: 0.0763 - accuracy: 0.9717 - val_loss: 0.6299 - val_accuracy: 0.8508\n",
            "Epoch 214/500\n",
            "403/403 [==============================] - 1s 3ms/step - loss: 0.0962 - accuracy: 0.9632 - val_loss: 0.5573 - val_accuracy: 0.8763\n",
            "Epoch 215/500\n",
            "403/403 [==============================] - 1s 3ms/step - loss: 0.0712 - accuracy: 0.9754 - val_loss: 0.5596 - val_accuracy: 0.8695\n",
            "Epoch 216/500\n",
            "403/403 [==============================] - 1s 3ms/step - loss: 0.0706 - accuracy: 0.9727 - val_loss: 0.8382 - val_accuracy: 0.8120\n",
            "Epoch 217/500\n",
            "403/403 [==============================] - 1s 3ms/step - loss: 0.0993 - accuracy: 0.9631 - val_loss: 0.7552 - val_accuracy: 0.8278\n",
            "Epoch 218/500\n",
            "403/403 [==============================] - 1s 3ms/step - loss: 0.0907 - accuracy: 0.9689 - val_loss: 0.5755 - val_accuracy: 0.8667\n",
            "Epoch 219/500\n",
            "403/403 [==============================] - 1s 3ms/step - loss: 0.0595 - accuracy: 0.9796 - val_loss: 0.8351 - val_accuracy: 0.8064\n",
            "Epoch 220/500\n",
            "403/403 [==============================] - 1s 3ms/step - loss: 0.0942 - accuracy: 0.9618 - val_loss: 0.9122 - val_accuracy: 0.8170\n",
            "Epoch 221/500\n",
            "403/403 [==============================] - 1s 4ms/step - loss: 0.0799 - accuracy: 0.9734 - val_loss: 0.6053 - val_accuracy: 0.8633\n",
            "Epoch 222/500\n",
            "403/403 [==============================] - 1s 3ms/step - loss: 0.0593 - accuracy: 0.9799 - val_loss: 0.6167 - val_accuracy: 0.8664\n",
            "Epoch 223/500\n",
            "403/403 [==============================] - 1s 3ms/step - loss: 0.0707 - accuracy: 0.9749 - val_loss: 1.0587 - val_accuracy: 0.8117\n",
            "Epoch 224/500\n",
            "403/403 [==============================] - 1s 3ms/step - loss: 0.1329 - accuracy: 0.9537 - val_loss: 0.5837 - val_accuracy: 0.8664\n",
            "Epoch 225/500\n",
            "403/403 [==============================] - 1s 3ms/step - loss: 0.0615 - accuracy: 0.9772 - val_loss: 0.7094 - val_accuracy: 0.8502\n",
            "Epoch 226/500\n",
            "403/403 [==============================] - 1s 3ms/step - loss: 0.0607 - accuracy: 0.9787 - val_loss: 0.7327 - val_accuracy: 0.8390\n",
            "Epoch 227/500\n",
            "403/403 [==============================] - 1s 3ms/step - loss: 0.0669 - accuracy: 0.9756 - val_loss: 0.7223 - val_accuracy: 0.8403\n",
            "Epoch 228/500\n",
            "403/403 [==============================] - 1s 3ms/step - loss: 0.0824 - accuracy: 0.9670 - val_loss: 0.6346 - val_accuracy: 0.8524\n",
            "Epoch 229/500\n",
            "403/403 [==============================] - 1s 3ms/step - loss: 0.0798 - accuracy: 0.9700 - val_loss: 2.0463 - val_accuracy: 0.6986\n",
            "Epoch 230/500\n",
            "403/403 [==============================] - 1s 3ms/step - loss: 0.1542 - accuracy: 0.9450 - val_loss: 0.6385 - val_accuracy: 0.8645\n",
            "Epoch 231/500\n",
            "403/403 [==============================] - 1s 3ms/step - loss: 0.0686 - accuracy: 0.9725 - val_loss: 0.6050 - val_accuracy: 0.8654\n",
            "Epoch 232/500\n",
            "403/403 [==============================] - 1s 3ms/step - loss: 0.0576 - accuracy: 0.9800 - val_loss: 0.6145 - val_accuracy: 0.8574\n",
            "Epoch 233/500\n",
            "403/403 [==============================] - 1s 3ms/step - loss: 0.0601 - accuracy: 0.9772 - val_loss: 0.7439 - val_accuracy: 0.8431\n",
            "Epoch 234/500\n",
            "403/403 [==============================] - 1s 3ms/step - loss: 0.0674 - accuracy: 0.9771 - val_loss: 0.6146 - val_accuracy: 0.8670\n",
            "Epoch 235/500\n",
            "403/403 [==============================] - 1s 3ms/step - loss: 0.0487 - accuracy: 0.9826 - val_loss: 0.6318 - val_accuracy: 0.8686\n",
            "Epoch 236/500\n",
            "403/403 [==============================] - 1s 3ms/step - loss: 0.0468 - accuracy: 0.9842 - val_loss: 0.6372 - val_accuracy: 0.8707\n",
            "Epoch 237/500\n",
            "403/403 [==============================] - 1s 3ms/step - loss: 0.0454 - accuracy: 0.9853 - val_loss: 0.8143 - val_accuracy: 0.8362\n",
            "Epoch 238/500\n",
            "403/403 [==============================] - 1s 3ms/step - loss: 0.0495 - accuracy: 0.9842 - val_loss: 1.9969 - val_accuracy: 0.7088\n",
            "Epoch 239/500\n",
            "403/403 [==============================] - 1s 3ms/step - loss: 0.1161 - accuracy: 0.9620 - val_loss: 0.6996 - val_accuracy: 0.8459\n",
            "Epoch 240/500\n",
            "403/403 [==============================] - 1s 3ms/step - loss: 0.0726 - accuracy: 0.9746 - val_loss: 0.6644 - val_accuracy: 0.8605\n",
            "Epoch 241/500\n",
            "403/403 [==============================] - 1s 4ms/step - loss: 0.0547 - accuracy: 0.9795 - val_loss: 3.0025 - val_accuracy: 0.6482\n",
            "Epoch 242/500\n",
            "403/403 [==============================] - 1s 3ms/step - loss: 0.1383 - accuracy: 0.9555 - val_loss: 1.1837 - val_accuracy: 0.8117\n",
            "Epoch 243/500\n",
            "403/403 [==============================] - 1s 3ms/step - loss: 0.1010 - accuracy: 0.9694 - val_loss: 0.6542 - val_accuracy: 0.8633\n",
            "Epoch 244/500\n",
            "403/403 [==============================] - 1s 3ms/step - loss: 0.0419 - accuracy: 0.9870 - val_loss: 0.6202 - val_accuracy: 0.8645\n",
            "Epoch 245/500\n",
            "403/403 [==============================] - 1s 3ms/step - loss: 0.0388 - accuracy: 0.9867 - val_loss: 0.6907 - val_accuracy: 0.8546\n",
            "Epoch 246/500\n",
            "403/403 [==============================] - 1s 3ms/step - loss: 0.0382 - accuracy: 0.9882 - val_loss: 0.7007 - val_accuracy: 0.8543\n",
            "Epoch 247/500\n",
            "403/403 [==============================] - 1s 3ms/step - loss: 0.0429 - accuracy: 0.9856 - val_loss: 1.1104 - val_accuracy: 0.7952\n",
            "Epoch 248/500\n",
            "403/403 [==============================] - 1s 3ms/step - loss: 0.0504 - accuracy: 0.9827 - val_loss: 0.7776 - val_accuracy: 0.8334\n",
            "Epoch 249/500\n",
            "403/403 [==============================] - 1s 3ms/step - loss: 0.0745 - accuracy: 0.9725 - val_loss: 0.6504 - val_accuracy: 0.8773\n",
            "Epoch 250/500\n",
            "403/403 [==============================] - 1s 3ms/step - loss: 0.0308 - accuracy: 0.9912 - val_loss: 0.7081 - val_accuracy: 0.8623\n",
            "Epoch 251/500\n",
            "403/403 [==============================] - 1s 3ms/step - loss: 0.0390 - accuracy: 0.9874 - val_loss: 0.6779 - val_accuracy: 0.8701\n",
            "Epoch 252/500\n",
            "403/403 [==============================] - 1s 3ms/step - loss: 0.0430 - accuracy: 0.9858 - val_loss: 0.6870 - val_accuracy: 0.8748\n",
            "Epoch 253/500\n",
            "403/403 [==============================] - 1s 3ms/step - loss: 0.0287 - accuracy: 0.9935 - val_loss: 1.1752 - val_accuracy: 0.8076\n",
            "Epoch 254/500\n",
            "403/403 [==============================] - 1s 3ms/step - loss: 0.1154 - accuracy: 0.9619 - val_loss: 0.8682 - val_accuracy: 0.8341\n",
            "Epoch 255/500\n",
            "403/403 [==============================] - 1s 3ms/step - loss: 0.0819 - accuracy: 0.9700 - val_loss: 0.6860 - val_accuracy: 0.8695\n",
            "Epoch 256/500\n",
            "403/403 [==============================] - 1s 3ms/step - loss: 0.0663 - accuracy: 0.9738 - val_loss: 0.9332 - val_accuracy: 0.8098\n",
            "Epoch 257/500\n",
            "403/403 [==============================] - 1s 3ms/step - loss: 0.0619 - accuracy: 0.9769 - val_loss: 0.6178 - val_accuracy: 0.8701\n",
            "Epoch 258/500\n",
            "403/403 [==============================] - 1s 3ms/step - loss: 0.0447 - accuracy: 0.9837 - val_loss: 0.6841 - val_accuracy: 0.8670\n",
            "Epoch 259/500\n",
            "403/403 [==============================] - 1s 3ms/step - loss: 0.0615 - accuracy: 0.9787 - val_loss: 1.3953 - val_accuracy: 0.7411\n",
            "Epoch 260/500\n",
            "403/403 [==============================] - 1s 3ms/step - loss: 0.0929 - accuracy: 0.9734 - val_loss: 0.6726 - val_accuracy: 0.8673\n",
            "Epoch 261/500\n",
            "403/403 [==============================] - 1s 3ms/step - loss: 0.0336 - accuracy: 0.9910 - val_loss: 0.6703 - val_accuracy: 0.8745\n",
            "Epoch 262/500\n",
            "403/403 [==============================] - 1s 3ms/step - loss: 0.0240 - accuracy: 0.9942 - val_loss: 0.6519 - val_accuracy: 0.8698\n",
            "Epoch 263/500\n",
            "403/403 [==============================] - 1s 3ms/step - loss: 0.0216 - accuracy: 0.9947 - val_loss: 0.7881 - val_accuracy: 0.8484\n",
            "Epoch 264/500\n",
            "403/403 [==============================] - 1s 3ms/step - loss: 0.0374 - accuracy: 0.9867 - val_loss: 0.7105 - val_accuracy: 0.8561\n",
            "Epoch 265/500\n",
            "403/403 [==============================] - 1s 3ms/step - loss: 0.0389 - accuracy: 0.9893 - val_loss: 0.8119 - val_accuracy: 0.8465\n",
            "Epoch 266/500\n",
            "403/403 [==============================] - 1s 3ms/step - loss: 0.0936 - accuracy: 0.9631 - val_loss: 0.7171 - val_accuracy: 0.8605\n",
            "Epoch 267/500\n",
            "403/403 [==============================] - 1s 3ms/step - loss: 0.0980 - accuracy: 0.9642 - val_loss: 0.6302 - val_accuracy: 0.8664\n",
            "Epoch 268/500\n",
            "403/403 [==============================] - 1s 3ms/step - loss: 0.0356 - accuracy: 0.9892 - val_loss: 0.6767 - val_accuracy: 0.8630\n",
            "Epoch 269/500\n",
            "403/403 [==============================] - 1s 3ms/step - loss: 0.0363 - accuracy: 0.9877 - val_loss: 0.7227 - val_accuracy: 0.8664\n",
            "Epoch 270/500\n",
            "403/403 [==============================] - 1s 3ms/step - loss: 0.0186 - accuracy: 0.9969 - val_loss: 0.6772 - val_accuracy: 0.8726\n",
            "Epoch 271/500\n",
            "403/403 [==============================] - 1s 3ms/step - loss: 0.0222 - accuracy: 0.9943 - val_loss: 0.7488 - val_accuracy: 0.8602\n",
            "Epoch 272/500\n",
            "403/403 [==============================] - 1s 3ms/step - loss: 0.0231 - accuracy: 0.9941 - val_loss: 0.8686 - val_accuracy: 0.8356\n",
            "Epoch 273/500\n",
            "403/403 [==============================] - 1s 3ms/step - loss: 0.0253 - accuracy: 0.9924 - val_loss: 0.6724 - val_accuracy: 0.8804\n",
            "Epoch 274/500\n",
            "403/403 [==============================] - 1s 3ms/step - loss: 0.0190 - accuracy: 0.9955 - val_loss: 0.6974 - val_accuracy: 0.8735\n",
            "Epoch 275/500\n",
            "403/403 [==============================] - 1s 3ms/step - loss: 0.0139 - accuracy: 0.9974 - val_loss: 0.6964 - val_accuracy: 0.8856\n",
            "Epoch 276/500\n",
            "403/403 [==============================] - 1s 3ms/step - loss: 0.0148 - accuracy: 0.9960 - val_loss: 0.7075 - val_accuracy: 0.8810\n",
            "Epoch 277/500\n",
            "403/403 [==============================] - 1s 3ms/step - loss: 0.0130 - accuracy: 0.9980 - val_loss: 0.7257 - val_accuracy: 0.8785\n",
            "Epoch 278/500\n",
            "403/403 [==============================] - 1s 3ms/step - loss: 0.0143 - accuracy: 0.9976 - val_loss: 0.7173 - val_accuracy: 0.8832\n",
            "Epoch 279/500\n",
            "403/403 [==============================] - 1s 3ms/step - loss: 0.0131 - accuracy: 0.9976 - val_loss: 0.7613 - val_accuracy: 0.8766\n",
            "Epoch 280/500\n",
            "403/403 [==============================] - 1s 3ms/step - loss: 0.0174 - accuracy: 0.9964 - val_loss: 0.7650 - val_accuracy: 0.8738\n",
            "Epoch 281/500\n",
            "403/403 [==============================] - 1s 3ms/step - loss: 0.0119 - accuracy: 0.9980 - val_loss: 0.7790 - val_accuracy: 0.8723\n",
            "Epoch 282/500\n",
            "403/403 [==============================] - 1s 3ms/step - loss: 0.0111 - accuracy: 0.9975 - val_loss: 0.7803 - val_accuracy: 0.8760\n",
            "Epoch 283/500\n",
            "403/403 [==============================] - 1s 3ms/step - loss: 0.0110 - accuracy: 0.9977 - val_loss: 0.8884 - val_accuracy: 0.8645\n",
            "Epoch 284/500\n",
            "403/403 [==============================] - 1s 3ms/step - loss: 0.0116 - accuracy: 0.9977 - val_loss: 0.8220 - val_accuracy: 0.8664\n",
            "Epoch 285/500\n",
            "403/403 [==============================] - 1s 3ms/step - loss: 0.0111 - accuracy: 0.9983 - val_loss: 0.8489 - val_accuracy: 0.8630\n",
            "Epoch 286/500\n",
            "403/403 [==============================] - 1s 3ms/step - loss: 0.0111 - accuracy: 0.9976 - val_loss: 0.7842 - val_accuracy: 0.8769\n",
            "Epoch 287/500\n",
            "403/403 [==============================] - 1s 3ms/step - loss: 0.1103 - accuracy: 0.9727 - val_loss: 0.8923 - val_accuracy: 0.8325\n",
            "Epoch 288/500\n",
            "403/403 [==============================] - 1s 3ms/step - loss: 0.1329 - accuracy: 0.9533 - val_loss: 0.6800 - val_accuracy: 0.8626\n",
            "Epoch 289/500\n",
            "403/403 [==============================] - 1s 3ms/step - loss: 0.0575 - accuracy: 0.9801 - val_loss: 0.8110 - val_accuracy: 0.8434\n",
            "Epoch 290/500\n",
            "403/403 [==============================] - 1s 3ms/step - loss: 0.0836 - accuracy: 0.9738 - val_loss: 0.7259 - val_accuracy: 0.8620\n",
            "Epoch 291/500\n",
            "403/403 [==============================] - 1s 3ms/step - loss: 0.0406 - accuracy: 0.9881 - val_loss: 0.7668 - val_accuracy: 0.8577\n",
            "Epoch 292/500\n",
            "403/403 [==============================] - 1s 3ms/step - loss: 0.0233 - accuracy: 0.9942 - val_loss: 0.8116 - val_accuracy: 0.8592\n",
            "Epoch 293/500\n",
            "403/403 [==============================] - 1s 3ms/step - loss: 0.0727 - accuracy: 0.9750 - val_loss: 2.5618 - val_accuracy: 0.6784\n",
            "Epoch 294/500\n",
            "403/403 [==============================] - 1s 3ms/step - loss: 0.1165 - accuracy: 0.9602 - val_loss: 0.7708 - val_accuracy: 0.8602\n",
            "Epoch 295/500\n",
            "403/403 [==============================] - 1s 3ms/step - loss: 0.0736 - accuracy: 0.9751 - val_loss: 0.6916 - val_accuracy: 0.8676\n",
            "Epoch 296/500\n",
            "403/403 [==============================] - 1s 4ms/step - loss: 0.0170 - accuracy: 0.9974 - val_loss: 0.7074 - val_accuracy: 0.8732\n",
            "Epoch 297/500\n",
            "403/403 [==============================] - 1s 4ms/step - loss: 0.0144 - accuracy: 0.9973 - val_loss: 0.6917 - val_accuracy: 0.8832\n",
            "Epoch 298/500\n",
            "403/403 [==============================] - 1s 3ms/step - loss: 0.0170 - accuracy: 0.9967 - val_loss: 1.3511 - val_accuracy: 0.7940\n",
            "Epoch 299/500\n",
            "403/403 [==============================] - 1s 3ms/step - loss: 0.0320 - accuracy: 0.9899 - val_loss: 0.7036 - val_accuracy: 0.8850\n",
            "Epoch 300/500\n",
            "403/403 [==============================] - 1s 3ms/step - loss: 0.0124 - accuracy: 0.9982 - val_loss: 0.7315 - val_accuracy: 0.8785\n",
            "Epoch 301/500\n",
            "403/403 [==============================] - 1s 3ms/step - loss: 0.0090 - accuracy: 0.9994 - val_loss: 0.7556 - val_accuracy: 0.8748\n",
            "Epoch 302/500\n",
            "403/403 [==============================] - 1s 3ms/step - loss: 0.0078 - accuracy: 0.9994 - val_loss: 0.7478 - val_accuracy: 0.8844\n",
            "Epoch 303/500\n",
            "403/403 [==============================] - 1s 4ms/step - loss: 0.0085 - accuracy: 0.9988 - val_loss: 0.7678 - val_accuracy: 0.8782\n",
            "Epoch 304/500\n",
            "403/403 [==============================] - 1s 3ms/step - loss: 0.0077 - accuracy: 0.9991 - val_loss: 0.8117 - val_accuracy: 0.8717\n",
            "Epoch 305/500\n",
            "403/403 [==============================] - 1s 3ms/step - loss: 0.0078 - accuracy: 0.9995 - val_loss: 0.7688 - val_accuracy: 0.8816\n",
            "Epoch 306/500\n",
            "403/403 [==============================] - 1s 3ms/step - loss: 0.0065 - accuracy: 0.9996 - val_loss: 0.8079 - val_accuracy: 0.8741\n",
            "Epoch 307/500\n",
            "403/403 [==============================] - 1s 3ms/step - loss: 0.0069 - accuracy: 0.9992 - val_loss: 0.7776 - val_accuracy: 0.8847\n",
            "Epoch 308/500\n",
            "403/403 [==============================] - 1s 3ms/step - loss: 0.0057 - accuracy: 0.9994 - val_loss: 0.7869 - val_accuracy: 0.8813\n",
            "Epoch 309/500\n",
            "403/403 [==============================] - 1s 3ms/step - loss: 0.0064 - accuracy: 0.9995 - val_loss: 0.7982 - val_accuracy: 0.8782\n",
            "Epoch 310/500\n",
            "403/403 [==============================] - 1s 3ms/step - loss: 0.0066 - accuracy: 0.9997 - val_loss: 0.8164 - val_accuracy: 0.8776\n",
            "Epoch 311/500\n",
            "403/403 [==============================] - 1s 3ms/step - loss: 0.0066 - accuracy: 0.9990 - val_loss: 0.7920 - val_accuracy: 0.8835\n",
            "Epoch 312/500\n",
            "403/403 [==============================] - 1s 3ms/step - loss: 0.0050 - accuracy: 0.9997 - val_loss: 0.8142 - val_accuracy: 0.8813\n",
            "Epoch 313/500\n",
            "403/403 [==============================] - 1s 3ms/step - loss: 0.0045 - accuracy: 0.9999 - val_loss: 0.8184 - val_accuracy: 0.8828\n",
            "Epoch 314/500\n",
            "403/403 [==============================] - 1s 3ms/step - loss: 0.0048 - accuracy: 0.9998 - val_loss: 0.8255 - val_accuracy: 0.8813\n",
            "Epoch 315/500\n",
            "403/403 [==============================] - 1s 3ms/step - loss: 0.0054 - accuracy: 0.9997 - val_loss: 0.8362 - val_accuracy: 0.8776\n",
            "Epoch 316/500\n",
            "403/403 [==============================] - 1s 3ms/step - loss: 0.0054 - accuracy: 0.9994 - val_loss: 0.8299 - val_accuracy: 0.8822\n",
            "Epoch 317/500\n",
            "403/403 [==============================] - 1s 3ms/step - loss: 0.0056 - accuracy: 0.9993 - val_loss: 0.8249 - val_accuracy: 0.8838\n",
            "Epoch 318/500\n",
            "403/403 [==============================] - 1s 3ms/step - loss: 0.0057 - accuracy: 0.9992 - val_loss: 0.8358 - val_accuracy: 0.8804\n",
            "Epoch 319/500\n",
            "403/403 [==============================] - 1s 3ms/step - loss: 0.0037 - accuracy: 1.0000 - val_loss: 0.8571 - val_accuracy: 0.8819\n",
            "Epoch 320/500\n",
            "403/403 [==============================] - 1s 3ms/step - loss: 0.0039 - accuracy: 1.0000 - val_loss: 0.8503 - val_accuracy: 0.8794\n",
            "Epoch 321/500\n",
            "403/403 [==============================] - 1s 3ms/step - loss: 0.0035 - accuracy: 1.0000 - val_loss: 0.8900 - val_accuracy: 0.8754\n",
            "Epoch 322/500\n",
            "403/403 [==============================] - 1s 3ms/step - loss: 0.0037 - accuracy: 0.9998 - val_loss: 0.8856 - val_accuracy: 0.8751\n",
            "Epoch 323/500\n",
            "403/403 [==============================] - 1s 3ms/step - loss: 0.0036 - accuracy: 0.9997 - val_loss: 0.8638 - val_accuracy: 0.8813\n",
            "Epoch 324/500\n",
            "403/403 [==============================] - 1s 3ms/step - loss: 0.0031 - accuracy: 1.0000 - val_loss: 0.8737 - val_accuracy: 0.8835\n",
            "Epoch 325/500\n",
            "403/403 [==============================] - 1s 3ms/step - loss: 0.0037 - accuracy: 1.0000 - val_loss: 0.9556 - val_accuracy: 0.8769\n",
            "Epoch 326/500\n",
            "403/403 [==============================] - 1s 3ms/step - loss: 0.0056 - accuracy: 0.9992 - val_loss: 0.8890 - val_accuracy: 0.8794\n",
            "Epoch 327/500\n",
            "403/403 [==============================] - 1s 3ms/step - loss: 0.0036 - accuracy: 1.0000 - val_loss: 0.9068 - val_accuracy: 0.8791\n",
            "Epoch 328/500\n",
            "403/403 [==============================] - 1s 3ms/step - loss: 0.0044 - accuracy: 0.9993 - val_loss: 0.8961 - val_accuracy: 0.8810\n",
            "Epoch 329/500\n",
            "403/403 [==============================] - 1s 3ms/step - loss: 0.0031 - accuracy: 1.0000 - val_loss: 0.8864 - val_accuracy: 0.8816\n",
            "Epoch 330/500\n",
            "403/403 [==============================] - 1s 3ms/step - loss: 0.0031 - accuracy: 1.0000 - val_loss: 0.9177 - val_accuracy: 0.8782\n",
            "Epoch 331/500\n",
            "403/403 [==============================] - 1s 3ms/step - loss: 0.0026 - accuracy: 1.0000 - val_loss: 0.8904 - val_accuracy: 0.8800\n",
            "Epoch 332/500\n",
            "403/403 [==============================] - 1s 3ms/step - loss: 0.0028 - accuracy: 0.9999 - val_loss: 0.9235 - val_accuracy: 0.8788\n",
            "Epoch 333/500\n",
            "403/403 [==============================] - 1s 3ms/step - loss: 0.0025 - accuracy: 1.0000 - val_loss: 0.9129 - val_accuracy: 0.8785\n",
            "Epoch 334/500\n",
            "403/403 [==============================] - 1s 3ms/step - loss: 0.0025 - accuracy: 1.0000 - val_loss: 0.9149 - val_accuracy: 0.8807\n",
            "Epoch 335/500\n",
            "403/403 [==============================] - 1s 3ms/step - loss: 0.0026 - accuracy: 0.9998 - val_loss: 0.9141 - val_accuracy: 0.8804\n",
            "Epoch 336/500\n",
            "403/403 [==============================] - 1s 3ms/step - loss: 0.0023 - accuracy: 1.0000 - val_loss: 0.9311 - val_accuracy: 0.8794\n",
            "Epoch 337/500\n",
            "403/403 [==============================] - 1s 3ms/step - loss: 0.0022 - accuracy: 1.0000 - val_loss: 0.9369 - val_accuracy: 0.8800\n",
            "Epoch 338/500\n",
            "403/403 [==============================] - 1s 3ms/step - loss: 0.0021 - accuracy: 1.0000 - val_loss: 0.9248 - val_accuracy: 0.8785\n",
            "Epoch 339/500\n",
            "403/403 [==============================] - 1s 3ms/step - loss: 0.0030 - accuracy: 0.9996 - val_loss: 0.9467 - val_accuracy: 0.8785\n",
            "Epoch 340/500\n",
            "403/403 [==============================] - 1s 3ms/step - loss: 0.0023 - accuracy: 1.0000 - val_loss: 0.9877 - val_accuracy: 0.8713\n",
            "Epoch 341/500\n",
            "403/403 [==============================] - 1s 3ms/step - loss: 0.0023 - accuracy: 1.0000 - val_loss: 0.9528 - val_accuracy: 0.8785\n",
            "Epoch 342/500\n",
            "403/403 [==============================] - 1s 3ms/step - loss: 0.0020 - accuracy: 1.0000 - val_loss: 1.0149 - val_accuracy: 0.8695\n",
            "Epoch 343/500\n",
            "403/403 [==============================] - 1s 3ms/step - loss: 0.0026 - accuracy: 1.0000 - val_loss: 0.9542 - val_accuracy: 0.8788\n",
            "Epoch 344/500\n",
            "403/403 [==============================] - 1s 3ms/step - loss: 0.0023 - accuracy: 0.9998 - val_loss: 0.9491 - val_accuracy: 0.8804\n",
            "Epoch 345/500\n",
            "403/403 [==============================] - 1s 3ms/step - loss: 0.0021 - accuracy: 1.0000 - val_loss: 0.9459 - val_accuracy: 0.8804\n",
            "Epoch 346/500\n",
            "403/403 [==============================] - 1s 3ms/step - loss: 0.0021 - accuracy: 1.0000 - val_loss: 0.9639 - val_accuracy: 0.8804\n",
            "Epoch 347/500\n",
            "403/403 [==============================] - 1s 3ms/step - loss: 0.0020 - accuracy: 1.0000 - val_loss: 0.9552 - val_accuracy: 0.8835\n",
            "Epoch 348/500\n",
            "403/403 [==============================] - 1s 3ms/step - loss: 0.0019 - accuracy: 1.0000 - val_loss: 0.9479 - val_accuracy: 0.8832\n",
            "Epoch 349/500\n",
            "403/403 [==============================] - 1s 3ms/step - loss: 0.0020 - accuracy: 1.0000 - val_loss: 0.9666 - val_accuracy: 0.8794\n",
            "Epoch 350/500\n",
            "403/403 [==============================] - 1s 3ms/step - loss: 0.0018 - accuracy: 1.0000 - val_loss: 0.9686 - val_accuracy: 0.8810\n",
            "Epoch 351/500\n",
            "403/403 [==============================] - 1s 3ms/step - loss: 0.0020 - accuracy: 1.0000 - val_loss: 0.9780 - val_accuracy: 0.8807\n",
            "Epoch 352/500\n",
            "403/403 [==============================] - 1s 3ms/step - loss: 0.0018 - accuracy: 1.0000 - val_loss: 0.9803 - val_accuracy: 0.8788\n",
            "Epoch 353/500\n",
            "403/403 [==============================] - 1s 3ms/step - loss: 0.0017 - accuracy: 1.0000 - val_loss: 0.9870 - val_accuracy: 0.8763\n",
            "Epoch 354/500\n",
            "403/403 [==============================] - 1s 3ms/step - loss: 0.0016 - accuracy: 1.0000 - val_loss: 0.9845 - val_accuracy: 0.8760\n",
            "Epoch 355/500\n",
            "403/403 [==============================] - 1s 3ms/step - loss: 0.0016 - accuracy: 1.0000 - val_loss: 0.9924 - val_accuracy: 0.8773\n",
            "Epoch 356/500\n",
            "403/403 [==============================] - 1s 3ms/step - loss: 0.0017 - accuracy: 1.0000 - val_loss: 0.9797 - val_accuracy: 0.8813\n",
            "Epoch 357/500\n",
            "403/403 [==============================] - 1s 3ms/step - loss: 0.0016 - accuracy: 1.0000 - val_loss: 1.0115 - val_accuracy: 0.8751\n",
            "Epoch 358/500\n",
            "403/403 [==============================] - 1s 3ms/step - loss: 0.0016 - accuracy: 1.0000 - val_loss: 0.9961 - val_accuracy: 0.8788\n",
            "Epoch 359/500\n",
            "403/403 [==============================] - 1s 3ms/step - loss: 0.0016 - accuracy: 1.0000 - val_loss: 1.0310 - val_accuracy: 0.8713\n",
            "Epoch 360/500\n",
            "403/403 [==============================] - 1s 3ms/step - loss: 0.0015 - accuracy: 1.0000 - val_loss: 0.9965 - val_accuracy: 0.8800\n",
            "Epoch 361/500\n",
            "403/403 [==============================] - 1s 3ms/step - loss: 0.0015 - accuracy: 1.0000 - val_loss: 1.0005 - val_accuracy: 0.8769\n",
            "Epoch 362/500\n",
            "403/403 [==============================] - 1s 3ms/step - loss: 0.0014 - accuracy: 1.0000 - val_loss: 0.9998 - val_accuracy: 0.8800\n",
            "Epoch 363/500\n",
            "403/403 [==============================] - 1s 3ms/step - loss: 0.0014 - accuracy: 1.0000 - val_loss: 1.0335 - val_accuracy: 0.8732\n",
            "Epoch 364/500\n",
            "403/403 [==============================] - 1s 3ms/step - loss: 0.0016 - accuracy: 1.0000 - val_loss: 1.0132 - val_accuracy: 0.8779\n",
            "Epoch 365/500\n",
            "403/403 [==============================] - 1s 3ms/step - loss: 0.0014 - accuracy: 1.0000 - val_loss: 1.0131 - val_accuracy: 0.8794\n",
            "Epoch 366/500\n",
            "403/403 [==============================] - 1s 3ms/step - loss: 0.0014 - accuracy: 1.0000 - val_loss: 1.0050 - val_accuracy: 0.8822\n",
            "Epoch 367/500\n",
            "403/403 [==============================] - 1s 3ms/step - loss: 0.0013 - accuracy: 1.0000 - val_loss: 1.0174 - val_accuracy: 0.8797\n",
            "Epoch 368/500\n",
            "403/403 [==============================] - 1s 3ms/step - loss: 0.0016 - accuracy: 1.0000 - val_loss: 1.0022 - val_accuracy: 0.8819\n",
            "Epoch 369/500\n",
            "403/403 [==============================] - 1s 3ms/step - loss: 0.0013 - accuracy: 1.0000 - val_loss: 1.0269 - val_accuracy: 0.8766\n",
            "Epoch 370/500\n",
            "403/403 [==============================] - 1s 3ms/step - loss: 0.0012 - accuracy: 1.0000 - val_loss: 1.0266 - val_accuracy: 0.8797\n",
            "Epoch 371/500\n",
            "403/403 [==============================] - 1s 3ms/step - loss: 0.0012 - accuracy: 1.0000 - val_loss: 1.0129 - val_accuracy: 0.8813\n",
            "Epoch 372/500\n",
            "403/403 [==============================] - 1s 3ms/step - loss: 0.0013 - accuracy: 1.0000 - val_loss: 1.0454 - val_accuracy: 0.8773\n",
            "Epoch 373/500\n",
            "403/403 [==============================] - 1s 3ms/step - loss: 0.0013 - accuracy: 1.0000 - val_loss: 1.0234 - val_accuracy: 0.8804\n",
            "Epoch 374/500\n",
            "403/403 [==============================] - 1s 3ms/step - loss: 0.0012 - accuracy: 1.0000 - val_loss: 1.0319 - val_accuracy: 0.8766\n",
            "Epoch 375/500\n",
            "403/403 [==============================] - 1s 3ms/step - loss: 0.0012 - accuracy: 1.0000 - val_loss: 1.0432 - val_accuracy: 0.8769\n",
            "Epoch 376/500\n",
            "403/403 [==============================] - 1s 3ms/step - loss: 0.0012 - accuracy: 1.0000 - val_loss: 1.0369 - val_accuracy: 0.8788\n",
            "Epoch 377/500\n",
            "403/403 [==============================] - 1s 3ms/step - loss: 0.0013 - accuracy: 1.0000 - val_loss: 1.0333 - val_accuracy: 0.8807\n",
            "Epoch 378/500\n",
            "403/403 [==============================] - 1s 3ms/step - loss: 0.0012 - accuracy: 1.0000 - val_loss: 1.0337 - val_accuracy: 0.8785\n",
            "Epoch 379/500\n",
            "403/403 [==============================] - 1s 3ms/step - loss: 0.0011 - accuracy: 1.0000 - val_loss: 1.0464 - val_accuracy: 0.8773\n",
            "Epoch 380/500\n",
            "403/403 [==============================] - 1s 3ms/step - loss: 0.0012 - accuracy: 1.0000 - val_loss: 1.0481 - val_accuracy: 0.8791\n",
            "Epoch 381/500\n",
            "403/403 [==============================] - 1s 3ms/step - loss: 0.0011 - accuracy: 1.0000 - val_loss: 1.0494 - val_accuracy: 0.8785\n",
            "Epoch 382/500\n",
            "403/403 [==============================] - 1s 3ms/step - loss: 0.0011 - accuracy: 1.0000 - val_loss: 1.0479 - val_accuracy: 0.8785\n",
            "Epoch 383/500\n",
            "403/403 [==============================] - 1s 3ms/step - loss: 0.0011 - accuracy: 1.0000 - val_loss: 1.0613 - val_accuracy: 0.8779\n",
            "Epoch 384/500\n",
            "403/403 [==============================] - 1s 3ms/step - loss: 0.0011 - accuracy: 1.0000 - val_loss: 1.0515 - val_accuracy: 0.8769\n",
            "Epoch 385/500\n",
            "403/403 [==============================] - 1s 3ms/step - loss: 0.0010 - accuracy: 1.0000 - val_loss: 1.0633 - val_accuracy: 0.8788\n",
            "Epoch 386/500\n",
            "403/403 [==============================] - 1s 3ms/step - loss: 9.9743e-04 - accuracy: 1.0000 - val_loss: 1.0514 - val_accuracy: 0.8788\n",
            "Epoch 387/500\n",
            "403/403 [==============================] - 1s 4ms/step - loss: 0.0010 - accuracy: 1.0000 - val_loss: 1.0644 - val_accuracy: 0.8782\n",
            "Epoch 388/500\n",
            "403/403 [==============================] - 1s 3ms/step - loss: 0.0011 - accuracy: 1.0000 - val_loss: 1.0660 - val_accuracy: 0.8800\n",
            "Epoch 389/500\n",
            "403/403 [==============================] - 1s 4ms/step - loss: 0.0011 - accuracy: 1.0000 - val_loss: 1.0677 - val_accuracy: 0.8797\n",
            "Epoch 390/500\n",
            "403/403 [==============================] - 1s 4ms/step - loss: 0.0010 - accuracy: 1.0000 - val_loss: 1.0662 - val_accuracy: 0.8794\n",
            "Epoch 391/500\n",
            "403/403 [==============================] - 1s 3ms/step - loss: 0.0010 - accuracy: 1.0000 - val_loss: 1.0609 - val_accuracy: 0.8797\n",
            "Epoch 392/500\n",
            "403/403 [==============================] - 1s 3ms/step - loss: 9.7221e-04 - accuracy: 1.0000 - val_loss: 1.0635 - val_accuracy: 0.8788\n",
            "Epoch 393/500\n",
            "403/403 [==============================] - 1s 3ms/step - loss: 0.0010 - accuracy: 1.0000 - val_loss: 1.0739 - val_accuracy: 0.8791\n",
            "Epoch 394/500\n",
            "403/403 [==============================] - 1s 3ms/step - loss: 9.5453e-04 - accuracy: 1.0000 - val_loss: 1.0795 - val_accuracy: 0.8779\n",
            "Epoch 395/500\n",
            "403/403 [==============================] - 1s 3ms/step - loss: 9.4100e-04 - accuracy: 1.0000 - val_loss: 1.0553 - val_accuracy: 0.8810\n",
            "Epoch 396/500\n",
            "403/403 [==============================] - 1s 3ms/step - loss: 9.5373e-04 - accuracy: 1.0000 - val_loss: 1.0654 - val_accuracy: 0.8807\n",
            "Epoch 397/500\n",
            "403/403 [==============================] - 1s 3ms/step - loss: 8.9804e-04 - accuracy: 1.0000 - val_loss: 1.0745 - val_accuracy: 0.8807\n",
            "Epoch 398/500\n",
            "403/403 [==============================] - 1s 3ms/step - loss: 9.4676e-04 - accuracy: 1.0000 - val_loss: 1.0661 - val_accuracy: 0.8794\n",
            "Epoch 399/500\n",
            "403/403 [==============================] - 1s 3ms/step - loss: 9.5225e-04 - accuracy: 1.0000 - val_loss: 1.0795 - val_accuracy: 0.8779\n",
            "Epoch 400/500\n",
            "403/403 [==============================] - 1s 3ms/step - loss: 9.8567e-04 - accuracy: 1.0000 - val_loss: 1.0841 - val_accuracy: 0.8794\n",
            "Epoch 401/500\n",
            "403/403 [==============================] - 1s 3ms/step - loss: 8.5557e-04 - accuracy: 1.0000 - val_loss: 1.0837 - val_accuracy: 0.8788\n",
            "Epoch 402/500\n",
            "403/403 [==============================] - 1s 3ms/step - loss: 8.7096e-04 - accuracy: 1.0000 - val_loss: 1.0703 - val_accuracy: 0.8797\n",
            "Epoch 403/500\n",
            "403/403 [==============================] - 1s 3ms/step - loss: 8.4754e-04 - accuracy: 1.0000 - val_loss: 1.0652 - val_accuracy: 0.8785\n",
            "Epoch 404/500\n",
            "403/403 [==============================] - 1s 3ms/step - loss: 9.6733e-04 - accuracy: 1.0000 - val_loss: 1.0882 - val_accuracy: 0.8788\n",
            "Epoch 405/500\n",
            "403/403 [==============================] - 1s 3ms/step - loss: 8.7645e-04 - accuracy: 1.0000 - val_loss: 1.0756 - val_accuracy: 0.8810\n",
            "Epoch 406/500\n",
            "403/403 [==============================] - 1s 4ms/step - loss: 8.3868e-04 - accuracy: 1.0000 - val_loss: 1.0742 - val_accuracy: 0.8810\n",
            "Epoch 407/500\n",
            "403/403 [==============================] - 1s 3ms/step - loss: 8.8290e-04 - accuracy: 1.0000 - val_loss: 1.0882 - val_accuracy: 0.8791\n",
            "Epoch 408/500\n",
            "403/403 [==============================] - 1s 3ms/step - loss: 8.0578e-04 - accuracy: 1.0000 - val_loss: 1.0959 - val_accuracy: 0.8788\n",
            "Epoch 409/500\n",
            "403/403 [==============================] - 1s 3ms/step - loss: 8.4633e-04 - accuracy: 1.0000 - val_loss: 1.0926 - val_accuracy: 0.8785\n",
            "Epoch 410/500\n",
            "403/403 [==============================] - 1s 3ms/step - loss: 7.8450e-04 - accuracy: 1.0000 - val_loss: 1.0969 - val_accuracy: 0.8807\n",
            "Epoch 411/500\n",
            "403/403 [==============================] - 1s 3ms/step - loss: 7.9123e-04 - accuracy: 1.0000 - val_loss: 1.1026 - val_accuracy: 0.8791\n",
            "Epoch 412/500\n",
            "403/403 [==============================] - 1s 3ms/step - loss: 8.5729e-04 - accuracy: 1.0000 - val_loss: 1.0952 - val_accuracy: 0.8791\n",
            "Epoch 413/500\n",
            "403/403 [==============================] - 1s 3ms/step - loss: 7.8692e-04 - accuracy: 1.0000 - val_loss: 1.1183 - val_accuracy: 0.8773\n",
            "Epoch 414/500\n",
            "403/403 [==============================] - 1s 3ms/step - loss: 8.4395e-04 - accuracy: 1.0000 - val_loss: 1.1068 - val_accuracy: 0.8773\n",
            "Epoch 415/500\n",
            "403/403 [==============================] - 1s 3ms/step - loss: 8.1857e-04 - accuracy: 1.0000 - val_loss: 1.1016 - val_accuracy: 0.8785\n",
            "Epoch 416/500\n",
            "403/403 [==============================] - 1s 3ms/step - loss: 7.5094e-04 - accuracy: 1.0000 - val_loss: 1.1067 - val_accuracy: 0.8766\n",
            "Epoch 417/500\n",
            "403/403 [==============================] - 1s 3ms/step - loss: 8.7542e-04 - accuracy: 1.0000 - val_loss: 1.0982 - val_accuracy: 0.8791\n",
            "Epoch 418/500\n",
            "403/403 [==============================] - 1s 3ms/step - loss: 7.7809e-04 - accuracy: 1.0000 - val_loss: 1.1140 - val_accuracy: 0.8769\n",
            "Epoch 419/500\n",
            "403/403 [==============================] - 1s 3ms/step - loss: 7.2214e-04 - accuracy: 1.0000 - val_loss: 1.1105 - val_accuracy: 0.8794\n",
            "Epoch 420/500\n",
            "403/403 [==============================] - 1s 3ms/step - loss: 7.4457e-04 - accuracy: 1.0000 - val_loss: 1.1194 - val_accuracy: 0.8769\n",
            "Epoch 421/500\n",
            "403/403 [==============================] - 1s 3ms/step - loss: 7.4017e-04 - accuracy: 1.0000 - val_loss: 1.1070 - val_accuracy: 0.8785\n",
            "Epoch 422/500\n",
            "403/403 [==============================] - 1s 3ms/step - loss: 7.2403e-04 - accuracy: 1.0000 - val_loss: 1.1265 - val_accuracy: 0.8766\n",
            "Epoch 423/500\n",
            "403/403 [==============================] - 1s 3ms/step - loss: 7.6048e-04 - accuracy: 1.0000 - val_loss: 1.1547 - val_accuracy: 0.8760\n",
            "Epoch 424/500\n",
            "403/403 [==============================] - 1s 3ms/step - loss: 8.1217e-04 - accuracy: 1.0000 - val_loss: 1.1166 - val_accuracy: 0.8800\n",
            "Epoch 425/500\n",
            "403/403 [==============================] - 1s 3ms/step - loss: 6.8127e-04 - accuracy: 1.0000 - val_loss: 1.1140 - val_accuracy: 0.8791\n",
            "Epoch 426/500\n",
            "403/403 [==============================] - 1s 3ms/step - loss: 7.0555e-04 - accuracy: 1.0000 - val_loss: 1.1159 - val_accuracy: 0.8782\n",
            "Epoch 427/500\n",
            "403/403 [==============================] - 1s 3ms/step - loss: 7.3828e-04 - accuracy: 1.0000 - val_loss: 1.1223 - val_accuracy: 0.8779\n",
            "Epoch 428/500\n",
            "403/403 [==============================] - 1s 3ms/step - loss: 6.7062e-04 - accuracy: 1.0000 - val_loss: 1.1371 - val_accuracy: 0.8754\n",
            "Epoch 429/500\n",
            "403/403 [==============================] - 1s 3ms/step - loss: 6.5354e-04 - accuracy: 1.0000 - val_loss: 1.1252 - val_accuracy: 0.8773\n",
            "Epoch 430/500\n",
            "403/403 [==============================] - 1s 3ms/step - loss: 6.9970e-04 - accuracy: 1.0000 - val_loss: 1.1275 - val_accuracy: 0.8782\n",
            "Epoch 431/500\n",
            "403/403 [==============================] - 1s 3ms/step - loss: 6.8757e-04 - accuracy: 1.0000 - val_loss: 1.1285 - val_accuracy: 0.8766\n",
            "Epoch 432/500\n",
            "403/403 [==============================] - 1s 4ms/step - loss: 7.0842e-04 - accuracy: 1.0000 - val_loss: 1.1278 - val_accuracy: 0.8782\n",
            "Epoch 433/500\n",
            "403/403 [==============================] - 1s 3ms/step - loss: 6.8153e-04 - accuracy: 1.0000 - val_loss: 1.1461 - val_accuracy: 0.8773\n",
            "Epoch 434/500\n",
            "403/403 [==============================] - 1s 4ms/step - loss: 6.6040e-04 - accuracy: 1.0000 - val_loss: 1.1351 - val_accuracy: 0.8776\n",
            "Epoch 435/500\n",
            "403/403 [==============================] - 1s 3ms/step - loss: 6.5600e-04 - accuracy: 1.0000 - val_loss: 1.1302 - val_accuracy: 0.8797\n",
            "Epoch 436/500\n",
            "403/403 [==============================] - 1s 3ms/step - loss: 6.3471e-04 - accuracy: 1.0000 - val_loss: 1.1472 - val_accuracy: 0.8769\n",
            "Epoch 437/500\n",
            "403/403 [==============================] - 1s 3ms/step - loss: 6.6968e-04 - accuracy: 1.0000 - val_loss: 1.1359 - val_accuracy: 0.8776\n",
            "Epoch 438/500\n",
            "403/403 [==============================] - 1s 3ms/step - loss: 6.5547e-04 - accuracy: 1.0000 - val_loss: 1.1316 - val_accuracy: 0.8785\n",
            "Epoch 439/500\n",
            "403/403 [==============================] - 1s 3ms/step - loss: 6.7967e-04 - accuracy: 1.0000 - val_loss: 1.1418 - val_accuracy: 0.8788\n",
            "Epoch 440/500\n",
            "403/403 [==============================] - 1s 3ms/step - loss: 6.1689e-04 - accuracy: 1.0000 - val_loss: 1.1398 - val_accuracy: 0.8788\n",
            "Epoch 441/500\n",
            "403/403 [==============================] - 1s 3ms/step - loss: 6.1845e-04 - accuracy: 1.0000 - val_loss: 1.1368 - val_accuracy: 0.8779\n",
            "Epoch 442/500\n",
            "403/403 [==============================] - 1s 3ms/step - loss: 5.9508e-04 - accuracy: 1.0000 - val_loss: 1.1519 - val_accuracy: 0.8776\n",
            "Epoch 443/500\n",
            "403/403 [==============================] - 1s 3ms/step - loss: 7.2161e-04 - accuracy: 1.0000 - val_loss: 1.1412 - val_accuracy: 0.8776\n",
            "Epoch 444/500\n",
            "403/403 [==============================] - 1s 3ms/step - loss: 6.0061e-04 - accuracy: 1.0000 - val_loss: 1.1461 - val_accuracy: 0.8763\n",
            "Epoch 445/500\n",
            "403/403 [==============================] - 1s 3ms/step - loss: 5.9025e-04 - accuracy: 1.0000 - val_loss: 1.1444 - val_accuracy: 0.8788\n",
            "Epoch 446/500\n",
            "403/403 [==============================] - 1s 3ms/step - loss: 6.1882e-04 - accuracy: 1.0000 - val_loss: 1.1441 - val_accuracy: 0.8785\n",
            "Epoch 447/500\n",
            "403/403 [==============================] - 1s 3ms/step - loss: 6.5997e-04 - accuracy: 1.0000 - val_loss: 1.1424 - val_accuracy: 0.8779\n",
            "Epoch 448/500\n",
            "403/403 [==============================] - 1s 3ms/step - loss: 5.7330e-04 - accuracy: 1.0000 - val_loss: 1.1499 - val_accuracy: 0.8791\n",
            "Epoch 449/500\n",
            "403/403 [==============================] - 1s 3ms/step - loss: 5.8345e-04 - accuracy: 1.0000 - val_loss: 1.1516 - val_accuracy: 0.8800\n",
            "Epoch 450/500\n",
            "403/403 [==============================] - 1s 3ms/step - loss: 5.8113e-04 - accuracy: 1.0000 - val_loss: 1.1539 - val_accuracy: 0.8785\n",
            "Epoch 451/500\n",
            "403/403 [==============================] - 1s 3ms/step - loss: 5.6873e-04 - accuracy: 1.0000 - val_loss: 1.1397 - val_accuracy: 0.8785\n",
            "Epoch 452/500\n",
            "403/403 [==============================] - 1s 3ms/step - loss: 5.9626e-04 - accuracy: 1.0000 - val_loss: 1.1527 - val_accuracy: 0.8766\n",
            "Epoch 453/500\n",
            "403/403 [==============================] - 1s 3ms/step - loss: 5.6158e-04 - accuracy: 1.0000 - val_loss: 1.1378 - val_accuracy: 0.8797\n",
            "Epoch 454/500\n",
            "403/403 [==============================] - 1s 3ms/step - loss: 6.0105e-04 - accuracy: 1.0000 - val_loss: 1.1557 - val_accuracy: 0.8779\n",
            "Epoch 455/500\n",
            "403/403 [==============================] - 1s 3ms/step - loss: 5.7857e-04 - accuracy: 1.0000 - val_loss: 1.1631 - val_accuracy: 0.8776\n",
            "Epoch 456/500\n",
            "403/403 [==============================] - 1s 3ms/step - loss: 5.3248e-04 - accuracy: 1.0000 - val_loss: 1.1673 - val_accuracy: 0.8773\n",
            "Epoch 457/500\n",
            "403/403 [==============================] - 1s 3ms/step - loss: 5.9634e-04 - accuracy: 1.0000 - val_loss: 1.1708 - val_accuracy: 0.8788\n",
            "Epoch 458/500\n",
            "403/403 [==============================] - 1s 3ms/step - loss: 5.3488e-04 - accuracy: 1.0000 - val_loss: 1.1729 - val_accuracy: 0.8779\n",
            "Epoch 459/500\n",
            "403/403 [==============================] - 1s 3ms/step - loss: 5.2996e-04 - accuracy: 1.0000 - val_loss: 1.1578 - val_accuracy: 0.8773\n",
            "Epoch 460/500\n",
            "403/403 [==============================] - 1s 3ms/step - loss: 5.4882e-04 - accuracy: 1.0000 - val_loss: 1.1630 - val_accuracy: 0.8776\n",
            "Epoch 461/500\n",
            "403/403 [==============================] - 1s 3ms/step - loss: 5.1017e-04 - accuracy: 1.0000 - val_loss: 1.1743 - val_accuracy: 0.8773\n",
            "Epoch 462/500\n",
            "403/403 [==============================] - 1s 3ms/step - loss: 5.2926e-04 - accuracy: 1.0000 - val_loss: 1.1695 - val_accuracy: 0.8779\n",
            "Epoch 463/500\n",
            "403/403 [==============================] - 1s 3ms/step - loss: 5.1908e-04 - accuracy: 1.0000 - val_loss: 1.1838 - val_accuracy: 0.8773\n",
            "Epoch 464/500\n",
            "403/403 [==============================] - 1s 3ms/step - loss: 5.6877e-04 - accuracy: 1.0000 - val_loss: 1.1700 - val_accuracy: 0.8788\n",
            "Epoch 465/500\n",
            "403/403 [==============================] - 1s 3ms/step - loss: 5.1190e-04 - accuracy: 1.0000 - val_loss: 1.1690 - val_accuracy: 0.8776\n",
            "Epoch 466/500\n",
            "403/403 [==============================] - 1s 3ms/step - loss: 5.1363e-04 - accuracy: 1.0000 - val_loss: 1.1741 - val_accuracy: 0.8785\n",
            "Epoch 467/500\n",
            "403/403 [==============================] - 1s 3ms/step - loss: 5.3492e-04 - accuracy: 1.0000 - val_loss: 1.1811 - val_accuracy: 0.8782\n",
            "Epoch 468/500\n",
            "403/403 [==============================] - 1s 3ms/step - loss: 4.7949e-04 - accuracy: 1.0000 - val_loss: 1.1888 - val_accuracy: 0.8776\n",
            "Epoch 469/500\n",
            "403/403 [==============================] - 1s 3ms/step - loss: 5.1909e-04 - accuracy: 1.0000 - val_loss: 1.1753 - val_accuracy: 0.8779\n",
            "Epoch 470/500\n",
            "403/403 [==============================] - 1s 3ms/step - loss: 5.1765e-04 - accuracy: 1.0000 - val_loss: 1.1814 - val_accuracy: 0.8782\n",
            "Epoch 471/500\n",
            "403/403 [==============================] - 1s 4ms/step - loss: 5.0270e-04 - accuracy: 1.0000 - val_loss: 1.1793 - val_accuracy: 0.8766\n",
            "Epoch 472/500\n",
            "403/403 [==============================] - 1s 3ms/step - loss: 5.6771e-04 - accuracy: 1.0000 - val_loss: 1.1861 - val_accuracy: 0.8779\n",
            "Epoch 473/500\n",
            "403/403 [==============================] - 1s 3ms/step - loss: 5.2636e-04 - accuracy: 1.0000 - val_loss: 1.1804 - val_accuracy: 0.8782\n",
            "Epoch 474/500\n",
            "403/403 [==============================] - 1s 3ms/step - loss: 4.8183e-04 - accuracy: 1.0000 - val_loss: 1.1796 - val_accuracy: 0.8779\n",
            "Epoch 475/500\n",
            "403/403 [==============================] - 1s 3ms/step - loss: 4.6281e-04 - accuracy: 1.0000 - val_loss: 1.1685 - val_accuracy: 0.8797\n",
            "Epoch 476/500\n",
            "403/403 [==============================] - 1s 3ms/step - loss: 4.9287e-04 - accuracy: 1.0000 - val_loss: 1.1869 - val_accuracy: 0.8779\n",
            "Epoch 477/500\n",
            "403/403 [==============================] - 1s 3ms/step - loss: 4.7670e-04 - accuracy: 1.0000 - val_loss: 1.1916 - val_accuracy: 0.8788\n",
            "Epoch 478/500\n",
            "403/403 [==============================] - 1s 3ms/step - loss: 4.7784e-04 - accuracy: 1.0000 - val_loss: 1.1888 - val_accuracy: 0.8776\n",
            "Epoch 479/500\n",
            "403/403 [==============================] - 1s 3ms/step - loss: 4.7610e-04 - accuracy: 1.0000 - val_loss: 1.1840 - val_accuracy: 0.8773\n",
            "Epoch 480/500\n",
            "403/403 [==============================] - 1s 3ms/step - loss: 4.8208e-04 - accuracy: 1.0000 - val_loss: 1.1915 - val_accuracy: 0.8791\n",
            "Epoch 481/500\n",
            "403/403 [==============================] - 1s 3ms/step - loss: 4.5975e-04 - accuracy: 1.0000 - val_loss: 1.1932 - val_accuracy: 0.8788\n",
            "Epoch 482/500\n",
            "403/403 [==============================] - 1s 3ms/step - loss: 5.1109e-04 - accuracy: 1.0000 - val_loss: 1.1835 - val_accuracy: 0.8788\n",
            "Epoch 483/500\n",
            "403/403 [==============================] - 1s 3ms/step - loss: 4.4664e-04 - accuracy: 1.0000 - val_loss: 1.1809 - val_accuracy: 0.8782\n",
            "Epoch 484/500\n",
            "403/403 [==============================] - 1s 3ms/step - loss: 4.6519e-04 - accuracy: 1.0000 - val_loss: 1.1859 - val_accuracy: 0.8776\n",
            "Epoch 485/500\n",
            "403/403 [==============================] - 1s 3ms/step - loss: 4.5686e-04 - accuracy: 1.0000 - val_loss: 1.1938 - val_accuracy: 0.8779\n",
            "Epoch 486/500\n",
            "403/403 [==============================] - 1s 3ms/step - loss: 4.4876e-04 - accuracy: 1.0000 - val_loss: 1.2025 - val_accuracy: 0.8779\n",
            "Epoch 487/500\n",
            "403/403 [==============================] - 1s 3ms/step - loss: 4.5670e-04 - accuracy: 1.0000 - val_loss: 1.1907 - val_accuracy: 0.8779\n",
            "Epoch 488/500\n",
            "403/403 [==============================] - 1s 3ms/step - loss: 4.4438e-04 - accuracy: 1.0000 - val_loss: 1.2021 - val_accuracy: 0.8776\n",
            "Epoch 489/500\n",
            "403/403 [==============================] - 1s 3ms/step - loss: 4.5383e-04 - accuracy: 1.0000 - val_loss: 1.1992 - val_accuracy: 0.8782\n",
            "Epoch 490/500\n",
            "403/403 [==============================] - 1s 3ms/step - loss: 4.4976e-04 - accuracy: 1.0000 - val_loss: 1.1946 - val_accuracy: 0.8769\n",
            "Epoch 491/500\n",
            "403/403 [==============================] - 1s 4ms/step - loss: 4.7799e-04 - accuracy: 1.0000 - val_loss: 1.1985 - val_accuracy: 0.8779\n",
            "Epoch 492/500\n",
            "403/403 [==============================] - 1s 3ms/step - loss: 4.5078e-04 - accuracy: 1.0000 - val_loss: 1.2002 - val_accuracy: 0.8779\n",
            "Epoch 493/500\n",
            "403/403 [==============================] - 1s 3ms/step - loss: 4.2700e-04 - accuracy: 1.0000 - val_loss: 1.2016 - val_accuracy: 0.8782\n",
            "Epoch 494/500\n",
            "403/403 [==============================] - 1s 3ms/step - loss: 4.3217e-04 - accuracy: 1.0000 - val_loss: 1.1946 - val_accuracy: 0.8766\n",
            "Epoch 495/500\n",
            "403/403 [==============================] - 1s 3ms/step - loss: 4.3662e-04 - accuracy: 1.0000 - val_loss: 1.2039 - val_accuracy: 0.8782\n",
            "Epoch 496/500\n",
            "403/403 [==============================] - 2s 4ms/step - loss: 4.0556e-04 - accuracy: 1.0000 - val_loss: 1.2091 - val_accuracy: 0.8773\n",
            "Epoch 497/500\n",
            "403/403 [==============================] - 1s 3ms/step - loss: 4.3215e-04 - accuracy: 1.0000 - val_loss: 1.2040 - val_accuracy: 0.8776\n",
            "Epoch 498/500\n",
            "403/403 [==============================] - 1s 3ms/step - loss: 4.0495e-04 - accuracy: 1.0000 - val_loss: 1.1986 - val_accuracy: 0.8779\n",
            "Epoch 499/500\n",
            "403/403 [==============================] - 1s 4ms/step - loss: 4.2147e-04 - accuracy: 1.0000 - val_loss: 1.2073 - val_accuracy: 0.8776\n",
            "Epoch 500/500\n",
            "403/403 [==============================] - 1s 4ms/step - loss: 4.1388e-04 - accuracy: 1.0000 - val_loss: 1.2022 - val_accuracy: 0.8766\n"
          ],
          "name": "stdout"
        }
      ]
    },
    {
      "cell_type": "code",
      "metadata": {
        "id": "gi6h7XqhLr53",
        "colab": {
          "base_uri": "https://localhost:8080/",
          "height": 282
        },
        "outputId": "645c67f7-c1ea-4bd0-d9fc-4af0bf6afba9"
      },
      "source": [
        "import matplotlib.pyplot as plt\r\n",
        "%matplotlib inline\r\n",
        "\r\n",
        "plt.plot(hist.history['val_accuracy'])\r\n",
        "plt.plot(hist.history['accuracy'])\r\n",
        "\r\n",
        "plt.legend(['TestError','TrainError'])"
      ],
      "execution_count": 72,
      "outputs": [
        {
          "output_type": "execute_result",
          "data": {
            "text/plain": [
              "<matplotlib.legend.Legend at 0x7fabb0356358>"
            ]
          },
          "metadata": {
            "tags": []
          },
          "execution_count": 72
        },
        {
          "output_type": "display_data",
          "data": {
            "image/png": "[encoded data removed]",
            "text/plain": [
              "<Figure size 432x288 with 1 Axes>"
            ]
          },
          "metadata": {
            "tags": [],
            "needs_background": "light"
          }
        }
      ]
    },
    {
      "cell_type": "code",
      "metadata": {
        "id": "R69E_DGbMDM4",
        "colab": {
          "base_uri": "https://localhost:8080/",
          "height": 0
        },
        "outputId": "e4c35560-9afa-490c-a91e-c0cff7409680"
      },
      "source": [
        "from sklearn.metrics import confusion_matrix, classification_report\r\n",
        "y_pred = (loanANNModel.predict_proba(x_test) > 0.5).astype(\"int32\")\r\n",
        "print(confusion_matrix(y_test,y_pred))\r\n",
        "print(classification_report(y_test,y_pred))\r\n",
        "y_train_pred = (loanANNModel.predict_proba(x_train) > 0.5).astype(\"int32\")\r\n",
        "print(confusion_matrix(y_train,y_train_pred))\r\n",
        "print(classification_report(y_train,y_train_pred))\r\n"
      ],
      "execution_count": 92,
      "outputs": [
        {
          "output_type": "stream",
          "text": [
            "/usr/local/lib/python3.6/dist-packages/tensorflow/python/keras/engine/sequential.py:425: UserWarning: `model.predict_proba()` is deprecated and will be removed after 2021-01-01. Please use `model.predict()` instead.\n",
            "  warnings.warn('`model.predict_proba()` is deprecated and '\n"
          ],
          "name": "stderr"
        },
        {
          "output_type": "stream",
          "text": [
            "[[1383  241]\n",
            " [ 156 1438]]\n",
            "              precision    recall  f1-score   support\n",
            "\n",
            "           0       0.90      0.85      0.87      1624\n",
            "           1       0.86      0.90      0.88      1594\n",
            "\n",
            "    accuracy                           0.88      3218\n",
            "   macro avg       0.88      0.88      0.88      3218\n",
            "weighted avg       0.88      0.88      0.88      3218\n",
            "\n",
            "[[6421    0]\n",
            " [   0 6451]]\n",
            "              precision    recall  f1-score   support\n",
            "\n",
            "           0       1.00      1.00      1.00      6421\n",
            "           1       1.00      1.00      1.00      6451\n",
            "\n",
            "    accuracy                           1.00     12872\n",
            "   macro avg       1.00      1.00      1.00     12872\n",
            "weighted avg       1.00      1.00      1.00     12872\n",
            "\n"
          ],
          "name": "stdout"
        }
      ]
    },
    {
      "cell_type": "markdown",
      "metadata": {
        "id": "ModAKifJVNUt"
      },
      "source": [
        "Above model is overfitting, so trying optimizers, kernel intialization, bias initialization, kernal regularizer hyper parameters"
      ]
    },
    {
      "cell_type": "code",
      "metadata": {
        "id": "X44jC93fUSzd"
      },
      "source": [
        "loanANNModel3 = tf.keras.models.Sequential()"
      ],
      "execution_count": 82,
      "outputs": []
    },
    {
      "cell_type": "code",
      "metadata": {
        "id": "HXlwrMIEV0Mg"
      },
      "source": [
        "loanANNModel3.add(tf.keras.layers.Dropout(0.1))\r\n",
        "loanANNModel3.add(tf.keras.layers.Dense(units=100,activation='relu',\r\n",
        "                                        kernel_initializer=tf.keras.initializers.GlorotUniform(),\r\n",
        "                                        #bias_initializer=tf.keras.initializers.RandomUniform(minval=0.,maxval=1.),\r\n",
        "                                        kernel_regularizer = tf.keras.regularizers.l1_l2(0.001),\r\n",
        "                                        input_shape=(16,)))\r\n",
        "loanANNModel3.add(tf.keras.layers.Dropout(0.1))\r\n",
        "loanANNModel3.add(tf.keras.layers.Dense(units=100,\r\n",
        "                                        kernel_initializer=tf.keras.initializers.GlorotUniform(),\r\n",
        "                                        #bias_initializer=tf.keras.initializers.RandomUniform(minval=0.,maxval=1.),\r\n",
        "                                        kernel_regularizer = tf.keras.regularizers.l1_l2(0.001),\r\n",
        "                                        activation='relu'))\r\n",
        "loanANNModel3.add(tf.keras.layers.Dropout(0.1))\r\n",
        "loanANNModel3.add(tf.keras.layers.Dense(units=100,\r\n",
        "                                        kernel_initializer=tf.keras.initializers.GlorotUniform(),\r\n",
        "                                        #bias_initializer=tf.keras.initializers.RandomUniform(minval=0.,maxval=1.),\r\n",
        "                                        kernel_regularizer = tf.keras.regularizers.l1_l2(0.001),\r\n",
        "                                        activation='relu'))\r\n",
        "loanANNModel3.add(tf.keras.layers.Dropout(0.1))\r\n",
        "loanANNModel3.add(tf.keras.layers.Dense(units=100,\r\n",
        "                                        kernel_initializer=tf.keras.initializers.GlorotUniform(),\r\n",
        "                                        #bias_initializer=tf.keras.initializers.RandomUniform(minval=0.,maxval=1.),\r\n",
        "                                        kernel_regularizer = tf.keras.regularizers.l1_l2(0.001),\r\n",
        "                                        activation='relu'))\r\n",
        "loanANNModel3.add(tf.keras.layers.Dropout(0.1))\r\n",
        "loanANNModel3.add(tf.keras.layers.Dense(units=100,\r\n",
        "                                        kernel_initializer=tf.keras.initializers.GlorotUniform(),\r\n",
        "                                        #bias_initializer=tf.keras.initializers.RandomUniform(minval=0.,maxval=1.),\r\n",
        "                                        kernel_regularizer = tf.keras.regularizers.l1_l2(0.001),\r\n",
        "                                        activation='relu'))\r\n",
        "loanANNModel3.add(tf.keras.layers.Dense(units=1,activation='sigmoid'))"
      ],
      "execution_count": 83,
      "outputs": []
    },
    {
      "cell_type": "code",
      "metadata": {
        "id": "gGJMmTX5WPxu"
      },
      "source": [
        "lr_schedule_itv = tf.keras.optimizers.schedules.InverseTimeDecay(initial_learning_rate=0.9,\r\n",
        "    decay_steps=1,\r\n",
        "    decay_rate=0.5,\r\n",
        "    staircase=True\r\n",
        ")\r\n",
        "loanANNModel3.compile(optimizer=tf.keras.optimizers.SGD(learning_rate=lr_schedule_itv),\r\n",
        "                      loss='binary_crossentropy',metrics='accuracy')"
      ],
      "execution_count": 86,
      "outputs": []
    },
    {
      "cell_type": "code",
      "metadata": {
        "id": "xW67Gr2VK28F"
      },
      "source": [
        "class MyThresholdCallBack(tf.keras.callbacks.Callback):\r\n",
        "    def __init__(self,cl):\r\n",
        "        super(MyThresholdCallBack, self).__init__()\r\n",
        "        self.cl = cl\r\n",
        "    def on_epoch_end(self,epoch, logs):\r\n",
        "        train_score = logs[\"accuracy\"]\r\n",
        "        test_score = logs[\"val_accuracy\"]\r\n",
        "        \r\n",
        "        if tf.keras.backend.abs(test_score - train_score) < 5 and test_score > self.cl:\r\n",
        "            self.model.stop_training = True"
      ],
      "execution_count": 87,
      "outputs": []
    },
    {
      "cell_type": "markdown",
      "metadata": {
        "id": "g9LhmbNIP4z_"
      },
      "source": [
        "Using Callback terminal functions:"
      ]
    },
    {
      "cell_type": "code",
      "metadata": {
        "colab": {
          "base_uri": "https://localhost:8080/",
          "height": 0
        },
        "id": "FCCSRkQSK2PW",
        "outputId": "cce05f22-9f7f-4314-ec0f-e3db882f8926"
      },
      "source": [
        "myThresholdCallback = MyThresholdCallBack(0.88)\r\n",
        "history=loanANNModel3.fit(x_train,y_train,epochs=100,validation_data=(x_test,y_test),callbacks=myThresholdCallback)"
      ],
      "execution_count": 88,
      "outputs": [
        {
          "output_type": "stream",
          "text": [
            "Epoch 1/100\n",
            "403/403 [==============================] - 2s 4ms/step - loss: 6.5710 - accuracy: 0.5626 - val_loss: 5.6519 - val_accuracy: 0.6094\n",
            "Epoch 2/100\n",
            "403/403 [==============================] - 2s 4ms/step - loss: 5.5653 - accuracy: 0.5945 - val_loss: 5.3639 - val_accuracy: 0.6085\n",
            "Epoch 3/100\n",
            "403/403 [==============================] - 2s 4ms/step - loss: 5.3194 - accuracy: 0.5960 - val_loss: 5.2021 - val_accuracy: 0.6078\n",
            "Epoch 4/100\n",
            "403/403 [==============================] - 2s 4ms/step - loss: 5.1742 - accuracy: 0.5929 - val_loss: 5.0903 - val_accuracy: 0.6088\n",
            "Epoch 5/100\n",
            "403/403 [==============================] - 2s 4ms/step - loss: 5.0683 - accuracy: 0.6004 - val_loss: 5.0052 - val_accuracy: 0.6094\n",
            "Epoch 6/100\n",
            "403/403 [==============================] - 2s 4ms/step - loss: 4.9869 - accuracy: 0.6119 - val_loss: 4.9366 - val_accuracy: 0.6100\n",
            "Epoch 7/100\n",
            "403/403 [==============================] - 2s 4ms/step - loss: 4.9238 - accuracy: 0.5964 - val_loss: 4.8794 - val_accuracy: 0.6097\n",
            "Epoch 8/100\n",
            "403/403 [==============================] - 2s 4ms/step - loss: 4.8686 - accuracy: 0.6001 - val_loss: 4.8304 - val_accuracy: 0.6112\n",
            "Epoch 9/100\n",
            "403/403 [==============================] - 2s 4ms/step - loss: 4.8200 - accuracy: 0.6073 - val_loss: 4.7876 - val_accuracy: 0.6103\n",
            "Epoch 10/100\n",
            "403/403 [==============================] - 2s 4ms/step - loss: 4.7786 - accuracy: 0.6054 - val_loss: 4.7496 - val_accuracy: 0.6109\n",
            "Epoch 11/100\n",
            "403/403 [==============================] - 2s 4ms/step - loss: 4.7419 - accuracy: 0.5962 - val_loss: 4.7155 - val_accuracy: 0.6125\n",
            "Epoch 12/100\n",
            "403/403 [==============================] - 2s 4ms/step - loss: 4.7088 - accuracy: 0.6094 - val_loss: 4.6846 - val_accuracy: 0.6119\n",
            "Epoch 13/100\n",
            "403/403 [==============================] - 2s 4ms/step - loss: 4.6787 - accuracy: 0.6063 - val_loss: 4.6563 - val_accuracy: 0.6116\n",
            "Epoch 14/100\n",
            "403/403 [==============================] - 2s 4ms/step - loss: 4.6516 - accuracy: 0.5965 - val_loss: 4.6303 - val_accuracy: 0.6112\n",
            "Epoch 15/100\n",
            "403/403 [==============================] - 2s 5ms/step - loss: 4.6239 - accuracy: 0.6201 - val_loss: 4.6062 - val_accuracy: 0.6109\n",
            "Epoch 16/100\n",
            "403/403 [==============================] - 2s 4ms/step - loss: 4.6020 - accuracy: 0.6043 - val_loss: 4.5838 - val_accuracy: 0.6112\n",
            "Epoch 17/100\n",
            "403/403 [==============================] - 2s 5ms/step - loss: 4.5781 - accuracy: 0.6051 - val_loss: 4.5628 - val_accuracy: 0.6112\n",
            "Epoch 18/100\n",
            "403/403 [==============================] - 2s 4ms/step - loss: 4.5600 - accuracy: 0.5990 - val_loss: 4.5431 - val_accuracy: 0.6103\n",
            "Epoch 19/100\n",
            "403/403 [==============================] - 2s 4ms/step - loss: 4.5398 - accuracy: 0.6009 - val_loss: 4.5246 - val_accuracy: 0.6103\n",
            "Epoch 20/100\n",
            "403/403 [==============================] - 2s 4ms/step - loss: 4.5207 - accuracy: 0.6079 - val_loss: 4.5071 - val_accuracy: 0.6097\n",
            "Epoch 21/100\n",
            "403/403 [==============================] - 2s 5ms/step - loss: 4.5031 - accuracy: 0.6114 - val_loss: 4.4905 - val_accuracy: 0.6088\n",
            "Epoch 22/100\n",
            "403/403 [==============================] - 2s 4ms/step - loss: 4.4874 - accuracy: 0.6040 - val_loss: 4.4747 - val_accuracy: 0.6091\n",
            "Epoch 23/100\n",
            "403/403 [==============================] - 2s 4ms/step - loss: 4.4719 - accuracy: 0.6063 - val_loss: 4.4597 - val_accuracy: 0.6075\n",
            "Epoch 24/100\n",
            "403/403 [==============================] - 2s 4ms/step - loss: 4.4581 - accuracy: 0.6036 - val_loss: 4.4454 - val_accuracy: 0.6075\n",
            "Epoch 25/100\n",
            "403/403 [==============================] - 2s 4ms/step - loss: 4.4437 - accuracy: 0.6034 - val_loss: 4.4317 - val_accuracy: 0.6072\n",
            "Epoch 26/100\n",
            "403/403 [==============================] - 2s 4ms/step - loss: 4.4300 - accuracy: 0.6042 - val_loss: 4.4186 - val_accuracy: 0.6069\n",
            "Epoch 27/100\n",
            "403/403 [==============================] - 2s 4ms/step - loss: 4.4163 - accuracy: 0.6037 - val_loss: 4.4060 - val_accuracy: 0.6069\n",
            "Epoch 28/100\n",
            "403/403 [==============================] - 2s 4ms/step - loss: 4.4051 - accuracy: 0.6049 - val_loss: 4.3939 - val_accuracy: 0.6069\n",
            "Epoch 29/100\n",
            "403/403 [==============================] - 2s 4ms/step - loss: 4.3924 - accuracy: 0.6020 - val_loss: 4.3822 - val_accuracy: 0.6072\n",
            "Epoch 30/100\n",
            "403/403 [==============================] - 2s 4ms/step - loss: 4.3806 - accuracy: 0.6077 - val_loss: 4.3710 - val_accuracy: 0.6072\n",
            "Epoch 31/100\n",
            "403/403 [==============================] - 2s 4ms/step - loss: 4.3676 - accuracy: 0.6111 - val_loss: 4.3602 - val_accuracy: 0.6069\n",
            "Epoch 32/100\n",
            "403/403 [==============================] - 2s 4ms/step - loss: 4.3594 - accuracy: 0.5995 - val_loss: 4.3498 - val_accuracy: 0.6066\n",
            "Epoch 33/100\n",
            "403/403 [==============================] - 2s 5ms/step - loss: 4.3486 - accuracy: 0.6049 - val_loss: 4.3396 - val_accuracy: 0.6063\n",
            "Epoch 34/100\n",
            "403/403 [==============================] - 2s 5ms/step - loss: 4.3382 - accuracy: 0.6027 - val_loss: 4.3299 - val_accuracy: 0.6060\n",
            "Epoch 35/100\n",
            "403/403 [==============================] - 2s 5ms/step - loss: 4.3296 - accuracy: 0.5996 - val_loss: 4.3204 - val_accuracy: 0.6060\n",
            "Epoch 36/100\n",
            "403/403 [==============================] - 2s 4ms/step - loss: 4.3190 - accuracy: 0.6102 - val_loss: 4.3112 - val_accuracy: 0.6053\n",
            "Epoch 37/100\n",
            "403/403 [==============================] - 2s 4ms/step - loss: 4.3091 - accuracy: 0.6084 - val_loss: 4.3023 - val_accuracy: 0.6050\n",
            "Epoch 38/100\n",
            "403/403 [==============================] - 2s 4ms/step - loss: 4.2992 - accuracy: 0.6167 - val_loss: 4.2936 - val_accuracy: 0.6060\n",
            "Epoch 39/100\n",
            "403/403 [==============================] - 2s 4ms/step - loss: 4.2926 - accuracy: 0.6020 - val_loss: 4.2852 - val_accuracy: 0.6057\n",
            "Epoch 40/100\n",
            "403/403 [==============================] - 2s 4ms/step - loss: 4.2843 - accuracy: 0.6077 - val_loss: 4.2770 - val_accuracy: 0.6053\n",
            "Epoch 41/100\n",
            "403/403 [==============================] - 2s 4ms/step - loss: 4.2763 - accuracy: 0.5961 - val_loss: 4.2690 - val_accuracy: 0.6053\n",
            "Epoch 42/100\n",
            "403/403 [==============================] - 2s 4ms/step - loss: 4.2680 - accuracy: 0.6134 - val_loss: 4.2613 - val_accuracy: 0.6050\n",
            "Epoch 43/100\n",
            "403/403 [==============================] - 2s 5ms/step - loss: 4.2608 - accuracy: 0.6011 - val_loss: 4.2537 - val_accuracy: 0.6050\n",
            "Epoch 44/100\n",
            "403/403 [==============================] - 2s 4ms/step - loss: 4.2537 - accuracy: 0.5975 - val_loss: 4.2463 - val_accuracy: 0.6044\n",
            "Epoch 45/100\n",
            "403/403 [==============================] - 2s 4ms/step - loss: 4.2453 - accuracy: 0.6085 - val_loss: 4.2391 - val_accuracy: 0.6057\n",
            "Epoch 46/100\n",
            "403/403 [==============================] - 2s 4ms/step - loss: 4.2383 - accuracy: 0.6135 - val_loss: 4.2321 - val_accuracy: 0.6050\n",
            "Epoch 47/100\n",
            "403/403 [==============================] - 2s 4ms/step - loss: 4.2294 - accuracy: 0.6138 - val_loss: 4.2252 - val_accuracy: 0.6057\n",
            "Epoch 48/100\n",
            "403/403 [==============================] - 2s 4ms/step - loss: 4.2236 - accuracy: 0.6089 - val_loss: 4.2185 - val_accuracy: 0.6057\n",
            "Epoch 49/100\n",
            "403/403 [==============================] - 2s 4ms/step - loss: 4.2185 - accuracy: 0.6037 - val_loss: 4.2119 - val_accuracy: 0.6053\n",
            "Epoch 50/100\n",
            "403/403 [==============================] - 2s 4ms/step - loss: 4.2121 - accuracy: 0.6045 - val_loss: 4.2055 - val_accuracy: 0.6050\n",
            "Epoch 51/100\n",
            "403/403 [==============================] - 2s 4ms/step - loss: 4.2046 - accuracy: 0.6080 - val_loss: 4.1992 - val_accuracy: 0.6047\n",
            "Epoch 52/100\n",
            "403/403 [==============================] - 2s 4ms/step - loss: 4.1989 - accuracy: 0.6072 - val_loss: 4.1930 - val_accuracy: 0.6047\n",
            "Epoch 53/100\n",
            "403/403 [==============================] - 2s 4ms/step - loss: 4.1917 - accuracy: 0.6139 - val_loss: 4.1870 - val_accuracy: 0.6053\n",
            "Epoch 54/100\n",
            "403/403 [==============================] - 2s 4ms/step - loss: 4.1862 - accuracy: 0.6057 - val_loss: 4.1811 - val_accuracy: 0.6050\n",
            "Epoch 55/100\n",
            "403/403 [==============================] - 2s 5ms/step - loss: 4.1808 - accuracy: 0.6001 - val_loss: 4.1753 - val_accuracy: 0.6053\n",
            "Epoch 56/100\n",
            "403/403 [==============================] - 2s 4ms/step - loss: 4.1732 - accuracy: 0.6161 - val_loss: 4.1696 - val_accuracy: 0.6060\n",
            "Epoch 57/100\n",
            "403/403 [==============================] - 2s 4ms/step - loss: 4.1683 - accuracy: 0.6114 - val_loss: 4.1640 - val_accuracy: 0.6060\n",
            "Epoch 58/100\n",
            "403/403 [==============================] - 2s 4ms/step - loss: 4.1645 - accuracy: 0.6038 - val_loss: 4.1586 - val_accuracy: 0.6060\n",
            "Epoch 59/100\n",
            "403/403 [==============================] - 2s 4ms/step - loss: 4.1594 - accuracy: 0.6044 - val_loss: 4.1532 - val_accuracy: 0.6060\n",
            "Epoch 60/100\n",
            "403/403 [==============================] - 2s 4ms/step - loss: 4.1533 - accuracy: 0.6056 - val_loss: 4.1479 - val_accuracy: 0.6060\n",
            "Epoch 61/100\n",
            "403/403 [==============================] - 2s 4ms/step - loss: 4.1476 - accuracy: 0.6080 - val_loss: 4.1428 - val_accuracy: 0.6063\n",
            "Epoch 62/100\n",
            "403/403 [==============================] - 2s 4ms/step - loss: 4.1414 - accuracy: 0.6128 - val_loss: 4.1377 - val_accuracy: 0.6063\n",
            "Epoch 63/100\n",
            "403/403 [==============================] - 2s 4ms/step - loss: 4.1377 - accuracy: 0.6037 - val_loss: 4.1327 - val_accuracy: 0.6063\n",
            "Epoch 64/100\n",
            "403/403 [==============================] - 2s 4ms/step - loss: 4.1328 - accuracy: 0.6011 - val_loss: 4.1278 - val_accuracy: 0.6060\n",
            "Epoch 65/100\n",
            "403/403 [==============================] - 2s 4ms/step - loss: 4.1270 - accuracy: 0.6075 - val_loss: 4.1229 - val_accuracy: 0.6063\n",
            "Epoch 66/100\n",
            "403/403 [==============================] - 2s 4ms/step - loss: 4.1232 - accuracy: 0.6058 - val_loss: 4.1182 - val_accuracy: 0.6060\n",
            "Epoch 67/100\n",
            "403/403 [==============================] - 2s 4ms/step - loss: 4.1184 - accuracy: 0.6026 - val_loss: 4.1135 - val_accuracy: 0.6060\n",
            "Epoch 68/100\n",
            "403/403 [==============================] - 2s 4ms/step - loss: 4.1132 - accuracy: 0.6069 - val_loss: 4.1089 - val_accuracy: 0.6060\n",
            "Epoch 69/100\n",
            "403/403 [==============================] - 2s 4ms/step - loss: 4.1084 - accuracy: 0.6094 - val_loss: 4.1044 - val_accuracy: 0.6060\n",
            "Epoch 70/100\n",
            "403/403 [==============================] - 2s 4ms/step - loss: 4.1054 - accuracy: 0.5993 - val_loss: 4.0999 - val_accuracy: 0.6060\n",
            "Epoch 71/100\n",
            "403/403 [==============================] - 2s 4ms/step - loss: 4.0990 - accuracy: 0.6107 - val_loss: 4.0955 - val_accuracy: 0.6057\n",
            "Epoch 72/100\n",
            "403/403 [==============================] - 2s 4ms/step - loss: 4.0966 - accuracy: 0.5966 - val_loss: 4.0912 - val_accuracy: 0.6053\n",
            "Epoch 73/100\n",
            "403/403 [==============================] - 2s 4ms/step - loss: 4.0918 - accuracy: 0.6048 - val_loss: 4.0869 - val_accuracy: 0.6053\n",
            "Epoch 74/100\n",
            "403/403 [==============================] - 2s 4ms/step - loss: 4.0876 - accuracy: 0.6012 - val_loss: 4.0827 - val_accuracy: 0.6060\n",
            "Epoch 75/100\n",
            "403/403 [==============================] - 2s 5ms/step - loss: 4.0821 - accuracy: 0.6013 - val_loss: 4.0786 - val_accuracy: 0.6063\n",
            "Epoch 76/100\n",
            "403/403 [==============================] - 2s 4ms/step - loss: 4.0781 - accuracy: 0.6111 - val_loss: 4.0745 - val_accuracy: 0.6060\n",
            "Epoch 77/100\n",
            "403/403 [==============================] - 2s 4ms/step - loss: 4.0743 - accuracy: 0.6065 - val_loss: 4.0705 - val_accuracy: 0.6060\n",
            "Epoch 78/100\n",
            "403/403 [==============================] - 2s 4ms/step - loss: 4.0715 - accuracy: 0.6029 - val_loss: 4.0665 - val_accuracy: 0.6063\n",
            "Epoch 79/100\n",
            "403/403 [==============================] - 2s 4ms/step - loss: 4.0649 - accuracy: 0.6157 - val_loss: 4.0626 - val_accuracy: 0.6063\n",
            "Epoch 80/100\n",
            "403/403 [==============================] - 2s 4ms/step - loss: 4.0633 - accuracy: 0.6019 - val_loss: 4.0588 - val_accuracy: 0.6066\n",
            "Epoch 81/100\n",
            "403/403 [==============================] - 2s 4ms/step - loss: 4.0583 - accuracy: 0.6088 - val_loss: 4.0550 - val_accuracy: 0.6066\n",
            "Epoch 82/100\n",
            "403/403 [==============================] - 2s 4ms/step - loss: 4.0550 - accuracy: 0.5999 - val_loss: 4.0512 - val_accuracy: 0.6066\n",
            "Epoch 83/100\n",
            "403/403 [==============================] - 2s 4ms/step - loss: 4.0505 - accuracy: 0.6121 - val_loss: 4.0475 - val_accuracy: 0.6069\n",
            "Epoch 84/100\n",
            "403/403 [==============================] - 2s 4ms/step - loss: 4.0479 - accuracy: 0.6065 - val_loss: 4.0439 - val_accuracy: 0.6072\n",
            "Epoch 85/100\n",
            "403/403 [==============================] - 2s 4ms/step - loss: 4.0443 - accuracy: 0.6059 - val_loss: 4.0402 - val_accuracy: 0.6069\n",
            "Epoch 86/100\n",
            "403/403 [==============================] - 2s 4ms/step - loss: 4.0404 - accuracy: 0.6082 - val_loss: 4.0367 - val_accuracy: 0.6069\n",
            "Epoch 87/100\n",
            "403/403 [==============================] - 2s 4ms/step - loss: 4.0372 - accuracy: 0.6024 - val_loss: 4.0331 - val_accuracy: 0.6069\n",
            "Epoch 88/100\n",
            "403/403 [==============================] - 2s 5ms/step - loss: 4.0335 - accuracy: 0.6073 - val_loss: 4.0297 - val_accuracy: 0.6066\n",
            "Epoch 89/100\n",
            "403/403 [==============================] - 2s 5ms/step - loss: 4.0301 - accuracy: 0.6032 - val_loss: 4.0262 - val_accuracy: 0.6066\n",
            "Epoch 90/100\n",
            "403/403 [==============================] - 2s 4ms/step - loss: 4.0261 - accuracy: 0.5974 - val_loss: 4.0228 - val_accuracy: 0.6066\n",
            "Epoch 91/100\n",
            "403/403 [==============================] - 2s 4ms/step - loss: 4.0240 - accuracy: 0.6052 - val_loss: 4.0195 - val_accuracy: 0.6066\n",
            "Epoch 92/100\n",
            "403/403 [==============================] - 2s 4ms/step - loss: 4.0198 - accuracy: 0.5999 - val_loss: 4.0162 - val_accuracy: 0.6066\n",
            "Epoch 93/100\n",
            "403/403 [==============================] - 2s 4ms/step - loss: 4.0168 - accuracy: 0.6025 - val_loss: 4.0129 - val_accuracy: 0.6066\n",
            "Epoch 94/100\n",
            "403/403 [==============================] - 2s 4ms/step - loss: 4.0131 - accuracy: 0.6134 - val_loss: 4.0096 - val_accuracy: 0.6066\n",
            "Epoch 95/100\n",
            "403/403 [==============================] - 2s 4ms/step - loss: 4.0102 - accuracy: 0.6081 - val_loss: 4.0064 - val_accuracy: 0.6066\n",
            "Epoch 96/100\n",
            "403/403 [==============================] - 2s 5ms/step - loss: 4.0058 - accuracy: 0.6072 - val_loss: 4.0033 - val_accuracy: 0.6066\n",
            "Epoch 97/100\n",
            "403/403 [==============================] - 2s 4ms/step - loss: 4.0031 - accuracy: 0.6104 - val_loss: 4.0001 - val_accuracy: 0.6066\n",
            "Epoch 98/100\n",
            "403/403 [==============================] - 2s 4ms/step - loss: 3.9991 - accuracy: 0.6114 - val_loss: 3.9971 - val_accuracy: 0.6066\n",
            "Epoch 99/100\n",
            "403/403 [==============================] - 2s 4ms/step - loss: 3.9961 - accuracy: 0.6135 - val_loss: 3.9940 - val_accuracy: 0.6066\n",
            "Epoch 100/100\n",
            "403/403 [==============================] - 2s 4ms/step - loss: 3.9952 - accuracy: 0.6012 - val_loss: 3.9910 - val_accuracy: 0.6069\n"
          ],
          "name": "stdout"
        }
      ]
    },
    {
      "cell_type": "code",
      "metadata": {
        "colab": {
          "base_uri": "https://localhost:8080/",
          "height": 282
        },
        "id": "5bbsZtPN0Pi5",
        "outputId": "a87dd434-9dbf-45b8-b589-7b1f2e8ca949"
      },
      "source": [
        "import matplotlib.pyplot as plt\r\n",
        "%matplotlib inline\r\n",
        "\r\n",
        "plt.plot(history.history['val_accuracy'])\r\n",
        "plt.plot(history.history['accuracy'])\r\n",
        "\r\n",
        "plt.legend(['TestError','TrainError'])"
      ],
      "execution_count": 89,
      "outputs": [
        {
          "output_type": "execute_result",
          "data": {
            "text/plain": [
              "<matplotlib.legend.Legend at 0x7fabb0278128>"
            ]
          },
          "metadata": {
            "tags": []
          },
          "execution_count": 89
        },
        {
          "output_type": "display_data",
          "data": {
            "image/png": "[encoded data removed]",
            "text/plain": [
              "<Figure size 432x288 with 1 Axes>"
            ]
          },
          "metadata": {
            "tags": [],
            "needs_background": "light"
          }
        }
      ]
    },
    {
      "cell_type": "code",
      "metadata": {
        "colab": {
          "base_uri": "https://localhost:8080/",
          "height": 0
        },
        "id": "labOkTIlKVTp",
        "outputId": "4a96daf2-5872-4ad9-99ef-4df20aeafa04"
      },
      "source": [
        "y_pred = (loanANNModel3.predict_proba(x_test) > 0.5).astype(\"int32\")\r\n",
        "print(confusion_matrix(y_test,y_pred))\r\n",
        "print(classification_report(y_test,y_pred))\r\n",
        "y_train_pred = (loanANNModel3.predict_proba(x_train) > 0.5).astype(\"int32\")\r\n",
        "print(confusion_matrix(y_train,y_train_pred))\r\n",
        "print(classification_report(y_train,y_train_pred))"
      ],
      "execution_count": 91,
      "outputs": [
        {
          "output_type": "stream",
          "text": [
            "/usr/local/lib/python3.6/dist-packages/tensorflow/python/keras/engine/sequential.py:425: UserWarning: `model.predict_proba()` is deprecated and will be removed after 2021-01-01. Please use `model.predict()` instead.\n",
            "  warnings.warn('`model.predict_proba()` is deprecated and '\n"
          ],
          "name": "stderr"
        },
        {
          "output_type": "stream",
          "text": [
            "[[ 797  827]\n",
            " [ 438 1156]]\n",
            "              precision    recall  f1-score   support\n",
            "\n",
            "           0       0.65      0.49      0.56      1624\n",
            "           1       0.58      0.73      0.65      1594\n",
            "\n",
            "    accuracy                           0.61      3218\n",
            "   macro avg       0.61      0.61      0.60      3218\n",
            "weighted avg       0.61      0.61      0.60      3218\n",
            "\n",
            "[[3074 3347]\n",
            " [1677 4774]]\n",
            "              precision    recall  f1-score   support\n",
            "\n",
            "           0       0.65      0.48      0.55      6421\n",
            "           1       0.59      0.74      0.66      6451\n",
            "\n",
            "    accuracy                           0.61     12872\n",
            "   macro avg       0.62      0.61      0.60     12872\n",
            "weighted avg       0.62      0.61      0.60     12872\n",
            "\n"
          ],
          "name": "stdout"
        }
      ]
    },
    {
      "cell_type": "markdown",
      "metadata": {
        "id": "BH86ZqfV0XzK"
      },
      "source": [
        ""
      ]
    },
    {
      "cell_type": "markdown",
      "metadata": {
        "id": "FUN0FBWW0Z0z"
      },
      "source": [
        ""
      ]
    }
  ]
}