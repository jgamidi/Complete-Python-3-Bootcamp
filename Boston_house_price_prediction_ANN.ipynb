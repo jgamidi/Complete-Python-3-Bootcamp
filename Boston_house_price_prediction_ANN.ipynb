{
  "nbformat": 4,
  "nbformat_minor": 0,
  "metadata": {
    "colab": {
      "name": "Boston_house_price_prediction_ANN.ipynb",
      "provenance": [],
      "collapsed_sections": [],
      "toc_visible": true,
      "authorship_tag": "ABX9TyNu93VIfzsYYfiold3+FOSf",
      "include_colab_link": true
    },
    "kernelspec": {
      "name": "python3",
      "display_name": "Python 3"
    },
    "accelerator": "GPU"
  },
  "cells": [
    {
      "cell_type": "markdown",
      "metadata": {
        "id": "view-in-github",
        "colab_type": "text"
      },
      "source": [
        "<a href=\"https://colab.research.google.com/github/jgamidi/Complete-Python-3-Bootcamp/blob/master/Boston_house_price_prediction_ANN.ipynb\" target=\"_parent\"><img src=\"https://colab.research.google.com/assets/colab-badge.svg\" alt=\"Open In Colab\"/></a>"
      ]
    },
    {
      "cell_type": "code",
      "metadata": {
        "id": "roZq01Thed_I"
      },
      "source": [
        "import tensorflow as tf\r\n",
        "import pandas as pd\r\n",
        "import numpy as np\r\n",
        "import seaborn as sns\r\n",
        "import matplotlib.pyplot as plt"
      ],
      "execution_count": 3,
      "outputs": []
    },
    {
      "cell_type": "code",
      "metadata": {
        "id": "RZFH38C1etbF"
      },
      "source": [
        "data=pd.read_csv('boston.csv')"
      ],
      "execution_count": 4,
      "outputs": []
    },
    {
      "cell_type": "code",
      "metadata": {
        "colab": {
          "base_uri": "https://localhost:8080/"
        },
        "id": "qGz9UtMsfxeR",
        "outputId": "00e47dd7-d233-46fd-f3d3-9b673088c6ff"
      },
      "source": [
        "data.info()"
      ],
      "execution_count": 5,
      "outputs": [
        {
          "output_type": "stream",
          "text": [
            "<class 'pandas.core.frame.DataFrame'>\n",
            "RangeIndex: 506 entries, 0 to 505\n",
            "Data columns (total 13 columns):\n",
            " #   Column      Non-Null Count  Dtype  \n",
            "---  ------      --------------  -----  \n",
            " 0   CRIM        506 non-null    float64\n",
            " 1   ZN          506 non-null    float64\n",
            " 2   INDUS       506 non-null    float64\n",
            " 3   NOX         506 non-null    float64\n",
            " 4   RM          506 non-null    float64\n",
            " 5   AGE         506 non-null    float64\n",
            " 6   DIS         506 non-null    float64\n",
            " 7   RAD         506 non-null    int64  \n",
            " 8   TAX         506 non-null    int64  \n",
            " 9   PTRATIO     506 non-null    float64\n",
            " 10  B           506 non-null    float64\n",
            " 11  LSTAT       506 non-null    float64\n",
            " 12  HOUSEPRICE  506 non-null    float64\n",
            "dtypes: float64(11), int64(2)\n",
            "memory usage: 51.5 KB\n"
          ],
          "name": "stdout"
        }
      ]
    },
    {
      "cell_type": "code",
      "metadata": {
        "id": "4yxheJdZfy-N",
        "colab": {
          "base_uri": "https://localhost:8080/",
          "height": 419
        },
        "outputId": "0b8ce9d9-0354-4542-b050-7b8d2d275f88"
      },
      "source": [
        "data"
      ],
      "execution_count": 6,
      "outputs": [
        {
          "output_type": "execute_result",
          "data": {
            "text/html": [
              "<div>\n",
              "<style scoped>\n",
              "    .dataframe tbody tr th:only-of-type {\n",
              "        vertical-align: middle;\n",
              "    }\n",
              "\n",
              "    .dataframe tbody tr th {\n",
              "        vertical-align: top;\n",
              "    }\n",
              "\n",
              "    .dataframe thead th {\n",
              "        text-align: right;\n",
              "    }\n",
              "</style>\n",
              "<table border=\"1\" class=\"dataframe\">\n",
              "  <thead>\n",
              "    <tr style=\"text-align: right;\">\n",
              "      <th></th>\n",
              "      <th>CRIM</th>\n",
              "      <th>ZN</th>\n",
              "      <th>INDUS</th>\n",
              "      <th>NOX</th>\n",
              "      <th>RM</th>\n",
              "      <th>AGE</th>\n",
              "      <th>DIS</th>\n",
              "      <th>RAD</th>\n",
              "      <th>TAX</th>\n",
              "      <th>PTRATIO</th>\n",
              "      <th>B</th>\n",
              "      <th>LSTAT</th>\n",
              "      <th>HOUSEPRICE</th>\n",
              "    </tr>\n",
              "  </thead>\n",
              "  <tbody>\n",
              "    <tr>\n",
              "      <th>0</th>\n",
              "      <td>0.00632</td>\n",
              "      <td>18.0</td>\n",
              "      <td>2.31</td>\n",
              "      <td>0.538</td>\n",
              "      <td>6.575</td>\n",
              "      <td>65.2</td>\n",
              "      <td>4.0900</td>\n",
              "      <td>1</td>\n",
              "      <td>296</td>\n",
              "      <td>15.3</td>\n",
              "      <td>396.90</td>\n",
              "      <td>4.98</td>\n",
              "      <td>24.0</td>\n",
              "    </tr>\n",
              "    <tr>\n",
              "      <th>1</th>\n",
              "      <td>0.02731</td>\n",
              "      <td>0.0</td>\n",
              "      <td>7.07</td>\n",
              "      <td>0.469</td>\n",
              "      <td>6.421</td>\n",
              "      <td>78.9</td>\n",
              "      <td>4.9671</td>\n",
              "      <td>2</td>\n",
              "      <td>242</td>\n",
              "      <td>17.8</td>\n",
              "      <td>396.90</td>\n",
              "      <td>9.14</td>\n",
              "      <td>21.6</td>\n",
              "    </tr>\n",
              "    <tr>\n",
              "      <th>2</th>\n",
              "      <td>0.02729</td>\n",
              "      <td>0.0</td>\n",
              "      <td>7.07</td>\n",
              "      <td>0.469</td>\n",
              "      <td>7.185</td>\n",
              "      <td>61.1</td>\n",
              "      <td>4.9671</td>\n",
              "      <td>2</td>\n",
              "      <td>242</td>\n",
              "      <td>17.8</td>\n",
              "      <td>392.83</td>\n",
              "      <td>4.03</td>\n",
              "      <td>34.7</td>\n",
              "    </tr>\n",
              "    <tr>\n",
              "      <th>3</th>\n",
              "      <td>0.03237</td>\n",
              "      <td>0.0</td>\n",
              "      <td>2.18</td>\n",
              "      <td>0.458</td>\n",
              "      <td>6.998</td>\n",
              "      <td>45.8</td>\n",
              "      <td>6.0622</td>\n",
              "      <td>3</td>\n",
              "      <td>222</td>\n",
              "      <td>18.7</td>\n",
              "      <td>394.63</td>\n",
              "      <td>2.94</td>\n",
              "      <td>33.4</td>\n",
              "    </tr>\n",
              "    <tr>\n",
              "      <th>4</th>\n",
              "      <td>0.06905</td>\n",
              "      <td>0.0</td>\n",
              "      <td>2.18</td>\n",
              "      <td>0.458</td>\n",
              "      <td>7.147</td>\n",
              "      <td>54.2</td>\n",
              "      <td>6.0622</td>\n",
              "      <td>3</td>\n",
              "      <td>222</td>\n",
              "      <td>18.7</td>\n",
              "      <td>396.90</td>\n",
              "      <td>5.33</td>\n",
              "      <td>36.2</td>\n",
              "    </tr>\n",
              "    <tr>\n",
              "      <th>...</th>\n",
              "      <td>...</td>\n",
              "      <td>...</td>\n",
              "      <td>...</td>\n",
              "      <td>...</td>\n",
              "      <td>...</td>\n",
              "      <td>...</td>\n",
              "      <td>...</td>\n",
              "      <td>...</td>\n",
              "      <td>...</td>\n",
              "      <td>...</td>\n",
              "      <td>...</td>\n",
              "      <td>...</td>\n",
              "      <td>...</td>\n",
              "    </tr>\n",
              "    <tr>\n",
              "      <th>501</th>\n",
              "      <td>0.06263</td>\n",
              "      <td>0.0</td>\n",
              "      <td>11.93</td>\n",
              "      <td>0.573</td>\n",
              "      <td>6.593</td>\n",
              "      <td>69.1</td>\n",
              "      <td>2.4786</td>\n",
              "      <td>1</td>\n",
              "      <td>273</td>\n",
              "      <td>21.0</td>\n",
              "      <td>391.99</td>\n",
              "      <td>9.67</td>\n",
              "      <td>22.4</td>\n",
              "    </tr>\n",
              "    <tr>\n",
              "      <th>502</th>\n",
              "      <td>0.04527</td>\n",
              "      <td>0.0</td>\n",
              "      <td>11.93</td>\n",
              "      <td>0.573</td>\n",
              "      <td>6.120</td>\n",
              "      <td>76.7</td>\n",
              "      <td>2.2875</td>\n",
              "      <td>1</td>\n",
              "      <td>273</td>\n",
              "      <td>21.0</td>\n",
              "      <td>396.90</td>\n",
              "      <td>9.08</td>\n",
              "      <td>20.6</td>\n",
              "    </tr>\n",
              "    <tr>\n",
              "      <th>503</th>\n",
              "      <td>0.06076</td>\n",
              "      <td>0.0</td>\n",
              "      <td>11.93</td>\n",
              "      <td>0.573</td>\n",
              "      <td>6.976</td>\n",
              "      <td>91.0</td>\n",
              "      <td>2.1675</td>\n",
              "      <td>1</td>\n",
              "      <td>273</td>\n",
              "      <td>21.0</td>\n",
              "      <td>396.90</td>\n",
              "      <td>5.64</td>\n",
              "      <td>23.9</td>\n",
              "    </tr>\n",
              "    <tr>\n",
              "      <th>504</th>\n",
              "      <td>0.10959</td>\n",
              "      <td>0.0</td>\n",
              "      <td>11.93</td>\n",
              "      <td>0.573</td>\n",
              "      <td>6.794</td>\n",
              "      <td>89.3</td>\n",
              "      <td>2.3889</td>\n",
              "      <td>1</td>\n",
              "      <td>273</td>\n",
              "      <td>21.0</td>\n",
              "      <td>393.45</td>\n",
              "      <td>6.48</td>\n",
              "      <td>22.0</td>\n",
              "    </tr>\n",
              "    <tr>\n",
              "      <th>505</th>\n",
              "      <td>0.04741</td>\n",
              "      <td>0.0</td>\n",
              "      <td>11.93</td>\n",
              "      <td>0.573</td>\n",
              "      <td>6.030</td>\n",
              "      <td>80.8</td>\n",
              "      <td>2.5050</td>\n",
              "      <td>1</td>\n",
              "      <td>273</td>\n",
              "      <td>21.0</td>\n",
              "      <td>396.90</td>\n",
              "      <td>7.88</td>\n",
              "      <td>11.9</td>\n",
              "    </tr>\n",
              "  </tbody>\n",
              "</table>\n",
              "<p>506 rows × 13 columns</p>\n",
              "</div>"
            ],
            "text/plain": [
              "        CRIM    ZN  INDUS    NOX  ...  PTRATIO       B  LSTAT  HOUSEPRICE\n",
              "0    0.00632  18.0   2.31  0.538  ...     15.3  396.90   4.98        24.0\n",
              "1    0.02731   0.0   7.07  0.469  ...     17.8  396.90   9.14        21.6\n",
              "2    0.02729   0.0   7.07  0.469  ...     17.8  392.83   4.03        34.7\n",
              "3    0.03237   0.0   2.18  0.458  ...     18.7  394.63   2.94        33.4\n",
              "4    0.06905   0.0   2.18  0.458  ...     18.7  396.90   5.33        36.2\n",
              "..       ...   ...    ...    ...  ...      ...     ...    ...         ...\n",
              "501  0.06263   0.0  11.93  0.573  ...     21.0  391.99   9.67        22.4\n",
              "502  0.04527   0.0  11.93  0.573  ...     21.0  396.90   9.08        20.6\n",
              "503  0.06076   0.0  11.93  0.573  ...     21.0  396.90   5.64        23.9\n",
              "504  0.10959   0.0  11.93  0.573  ...     21.0  393.45   6.48        22.0\n",
              "505  0.04741   0.0  11.93  0.573  ...     21.0  396.90   7.88        11.9\n",
              "\n",
              "[506 rows x 13 columns]"
            ]
          },
          "metadata": {
            "tags": []
          },
          "execution_count": 6
        }
      ]
    },
    {
      "cell_type": "code",
      "metadata": {
        "id": "CWgS-Q-IgccE",
        "colab": {
          "base_uri": "https://localhost:8080/",
          "height": 449
        },
        "outputId": "07636d51-b2f7-4438-80af-95bd099d03e0"
      },
      "source": [
        "plt.figure(figsize=(12,6))\r\n",
        "sns.heatmap(data.corr(),annot=True)"
      ],
      "execution_count": 7,
      "outputs": [
        {
          "output_type": "execute_result",
          "data": {
            "text/plain": [
              "<matplotlib.axes._subplots.AxesSubplot at 0x7f051d312940>"
            ]
          },
          "metadata": {
            "tags": []
          },
          "execution_count": 7
        },
        {
          "output_type": "display_data",
          "data": {
            "image/png": "[encoded data removed]",
            "text/plain": [
              "<Figure size 864x432 with 2 Axes>"
            ]
          },
          "metadata": {
            "tags": [],
            "needs_background": "light"
          }
        }
      ]
    },
    {
      "cell_type": "code",
      "metadata": {
        "colab": {
          "base_uri": "https://localhost:8080/"
        },
        "id": "qMB7wPZmhi-s",
        "outputId": "4176dcbb-a8ea-43e7-a884-ff3beef9c4fd"
      },
      "source": [
        "data.RAD.value_counts()"
      ],
      "execution_count": 8,
      "outputs": [
        {
          "output_type": "execute_result",
          "data": {
            "text/plain": [
              "24    132\n",
              "5     115\n",
              "4     110\n",
              "3      38\n",
              "6      26\n",
              "8      24\n",
              "2      24\n",
              "1      20\n",
              "7      17\n",
              "Name: RAD, dtype: int64"
            ]
          },
          "metadata": {
            "tags": []
          },
          "execution_count": 8
        }
      ]
    },
    {
      "cell_type": "code",
      "metadata": {
        "id": "VDEnZZ_Um7B9"
      },
      "source": [
        "features=data.iloc[:,:-1]\r\n",
        "label=data.iloc[:,[-1]]"
      ],
      "execution_count": 9,
      "outputs": []
    },
    {
      "cell_type": "code",
      "metadata": {
        "colab": {
          "base_uri": "https://localhost:8080/"
        },
        "id": "2BrT9WFLiwK4",
        "outputId": "12f30153-f893-49fd-d90d-5e2291cfd97a"
      },
      "source": [
        "print(features.shape)\r\n",
        "print(label.shape)"
      ],
      "execution_count": 10,
      "outputs": [
        {
          "output_type": "stream",
          "text": [
            "(506, 12)\n",
            "(506, 1)\n"
          ],
          "name": "stdout"
        }
      ]
    },
    {
      "cell_type": "code",
      "metadata": {
        "id": "VPyuc-szohFc"
      },
      "source": [
        "#Feature Standization\r\n",
        "from sklearn.preprocessing import StandardScaler"
      ],
      "execution_count": 11,
      "outputs": []
    },
    {
      "cell_type": "code",
      "metadata": {
        "id": "NsDzRh4oor8E"
      },
      "source": [
        "stdScaler=StandardScaler()"
      ],
      "execution_count": 12,
      "outputs": []
    },
    {
      "cell_type": "code",
      "metadata": {
        "id": "6XtmKzkgowYI"
      },
      "source": [
        "features=stdScaler.fit_transform(features)"
      ],
      "execution_count": 13,
      "outputs": []
    },
    {
      "cell_type": "code",
      "metadata": {
        "colab": {
          "base_uri": "https://localhost:8080/"
        },
        "id": "o1RnFLoOo6nb",
        "outputId": "26db2ff8-e60c-4135-9062-a78d7a56a13e"
      },
      "source": [
        "features"
      ],
      "execution_count": 14,
      "outputs": [
        {
          "output_type": "execute_result",
          "data": {
            "text/plain": [
              "array([[-0.41771335,  0.28482986, -1.2879095 , ..., -1.45900038,\n",
              "         0.44105193, -1.0755623 ],\n",
              "       [-0.41526932, -0.48772236, -0.59338101, ..., -0.30309415,\n",
              "         0.44105193, -0.49243937],\n",
              "       [-0.41527165, -0.48772236, -0.59338101, ..., -0.30309415,\n",
              "         0.39642699, -1.2087274 ],\n",
              "       ...,\n",
              "       [-0.41137448, -0.48772236,  0.11573841, ...,  1.17646583,\n",
              "         0.44105193, -0.98304761],\n",
              "       [-0.40568883, -0.48772236,  0.11573841, ...,  1.17646583,\n",
              "         0.4032249 , -0.86530163],\n",
              "       [-0.41292893, -0.48772236,  0.11573841, ...,  1.17646583,\n",
              "         0.44105193, -0.66905833]])"
            ]
          },
          "metadata": {
            "tags": []
          },
          "execution_count": 14
        }
      ]
    },
    {
      "cell_type": "code",
      "metadata": {
        "id": "3Ix4ZqsepD-t"
      },
      "source": [
        "#Label Normalization\r\n",
        "from sklearn.preprocessing import MinMaxScaler\r\n",
        "minMaxLabel = MinMaxScaler()\r\n",
        "label = minMaxLabel.fit_transform(label)"
      ],
      "execution_count": 15,
      "outputs": []
    },
    {
      "cell_type": "code",
      "metadata": {
        "id": "jBOACxu5o9hh"
      },
      "source": [
        "from sklearn.model_selection import train_test_split"
      ],
      "execution_count": 16,
      "outputs": []
    },
    {
      "cell_type": "code",
      "metadata": {
        "id": "Ia-VtCRSp5Zp"
      },
      "source": [
        "x_train,x_test,y_train,y_test=train_test_split(features,label,test_size=0.2,random_state=1)"
      ],
      "execution_count": 42,
      "outputs": []
    },
    {
      "cell_type": "code",
      "metadata": {
        "id": "aMbIkQmvoeWQ"
      },
      "source": [
        "import tensorflow as tf\r\n",
        "model=tf.keras.models.Sequential()"
      ],
      "execution_count": 18,
      "outputs": []
    },
    {
      "cell_type": "code",
      "metadata": {
        "id": "-JHcxGRQqfFk"
      },
      "source": [
        "model.add(tf.keras.layers.Dense(units=100,activation='relu',input_shape=(12,)))\r\n",
        "model.add(tf.keras.layers.Dense(units=100,activation='relu'))\r\n",
        "model.add(tf.keras.layers.Dense(units=100,activation='relu'))\r\n",
        "model.add(tf.keras.layers.Dense(units=100,activation='relu'))\r\n",
        "model.add(tf.keras.layers.Dense(units=100,activation='relu'))\r\n",
        "# model.add(tf.keras.layers.Dense(units=70,activation='tanh'))\r\n",
        "model.add(tf.keras.layers.Dense(units=1,activation='linear')) # Output Layer"
      ],
      "execution_count": 43,
      "outputs": []
    },
    {
      "cell_type": "code",
      "metadata": {
        "id": "1vm1-YM6ygoY"
      },
      "source": [
        "# Custom Metric Function ---> r2_keras_custom\r\n",
        "\r\n",
        "def r2_keras_custom(y_true, y_pred):\r\n",
        "    SS_res = tf.keras.backend.sum(tf.keras.backend.square(y_tr10ue - y_pred))\r\n",
        "    SS_total = tf.keras.backend.sum(tf.keras.backend.square(y_true - tf.keras.backend.mean(y_true)))\r\n",
        "    \r\n",
        "    return (1 - SS_res / (SS_total + tf.keras.backend.epsilon()))"
      ],
      "execution_count": 20,
      "outputs": []
    },
    {
      "cell_type": "code",
      "metadata": {
        "id": "Xz7zaGhrzY-9"
      },
      "source": [
        "class MyThresholdCallBack(tf.keras.callbacks.Callback):\r\n",
        "    def __init__(self,cl):\r\n",
        "        super(MyThresholdCallBack, self).__init__()\r\n",
        "        self.cl = cl\r\n",
        "    def on_epoch_end(self,epoch, logs):\r\n",
        "        train_score = logs[\"r2_keras_custom\"]\r\n",
        "        test_score = logs[\"val_r2_keras_custom\"]\r\n",
        "        \r\n",
        "        if tf.keras.backend.abs(test_score - train_score) < 5 and test_score > self.cl:\r\n",
        "            self.model.stop_training = True"
      ],
      "execution_count": 21,
      "outputs": []
    },
    {
      "cell_type": "code",
      "metadata": {
        "id": "tQE5pQp-nh3c"
      },
      "source": [
        "model.compile(optimizer='sgd',loss='mean_squared_error',metrics=[r2_keras_custom])"
      ],
      "execution_count": 44,
      "outputs": []
    },
    {
      "cell_type": "code",
      "metadata": {
        "colab": {
          "base_uri": "https://localhost:8080/"
        },
        "id": "P14NjfOon1o-",
        "outputId": "e92c2dd9-347e-4a27-b863-cc873843b4d3"
      },
      "source": [
        "myThresholdCallBack = MyThresholdCallBack(0.95)\r\n",
        "history=model.fit(x=x_train,y=y_train,epochs=1000,validation_data=(x_test,y_test), callbacks=myThresholdCallBack)"
      ],
      "execution_count": 46,
      "outputs": [
        {
          "output_type": "stream",
          "text": [
            "Epoch 1/1000\n",
            "13/13 [==============================] - 0s 9ms/step - loss: 0.0039 - r2_keras_custom: 0.8992 - val_loss: 0.0051 - val_r2_keras_custom: 0.9057\n",
            "Epoch 2/1000\n",
            "13/13 [==============================] - 0s 7ms/step - loss: 0.0038 - r2_keras_custom: 0.9014 - val_loss: 0.0052 - val_r2_keras_custom: 0.9024\n",
            "Epoch 3/1000\n",
            "13/13 [==============================] - 0s 7ms/step - loss: 0.0038 - r2_keras_custom: 0.8988 - val_loss: 0.0053 - val_r2_keras_custom: 0.8998\n",
            "Epoch 4/1000\n",
            "13/13 [==============================] - 0s 8ms/step - loss: 0.0038 - r2_keras_custom: 0.9035 - val_loss: 0.0048 - val_r2_keras_custom: 0.9116\n",
            "Epoch 5/1000\n",
            "13/13 [==============================] - 0s 7ms/step - loss: 0.0039 - r2_keras_custom: 0.9038 - val_loss: 0.0045 - val_r2_keras_custom: 0.9184\n",
            "Epoch 6/1000\n",
            "13/13 [==============================] - 0s 8ms/step - loss: 0.0035 - r2_keras_custom: 0.9048 - val_loss: 0.0044 - val_r2_keras_custom: 0.9190\n",
            "Epoch 7/1000\n",
            "13/13 [==============================] - 0s 6ms/step - loss: 0.0035 - r2_keras_custom: 0.9093 - val_loss: 0.0043 - val_r2_keras_custom: 0.9225\n",
            "Epoch 8/1000\n",
            "13/13 [==============================] - 0s 7ms/step - loss: 0.0033 - r2_keras_custom: 0.9159 - val_loss: 0.0043 - val_r2_keras_custom: 0.9230\n",
            "Epoch 9/1000\n",
            "13/13 [==============================] - 0s 8ms/step - loss: 0.0035 - r2_keras_custom: 0.9124 - val_loss: 0.0043 - val_r2_keras_custom: 0.9218\n",
            "Epoch 10/1000\n",
            "13/13 [==============================] - 0s 8ms/step - loss: 0.0032 - r2_keras_custom: 0.9210 - val_loss: 0.0040 - val_r2_keras_custom: 0.9286\n",
            "Epoch 11/1000\n",
            "13/13 [==============================] - 0s 8ms/step - loss: 0.0031 - r2_keras_custom: 0.9273 - val_loss: 0.0039 - val_r2_keras_custom: 0.9305\n",
            "Epoch 12/1000\n",
            "13/13 [==============================] - 0s 7ms/step - loss: 0.0031 - r2_keras_custom: 0.9195 - val_loss: 0.0043 - val_r2_keras_custom: 0.9220\n",
            "Epoch 13/1000\n",
            "13/13 [==============================] - 0s 8ms/step - loss: 0.0033 - r2_keras_custom: 0.9171 - val_loss: 0.0037 - val_r2_keras_custom: 0.9334\n",
            "Epoch 14/1000\n",
            "13/13 [==============================] - 0s 8ms/step - loss: 0.0031 - r2_keras_custom: 0.9147 - val_loss: 0.0038 - val_r2_keras_custom: 0.9322\n",
            "Epoch 15/1000\n",
            "13/13 [==============================] - 0s 8ms/step - loss: 0.0031 - r2_keras_custom: 0.9207 - val_loss: 0.0036 - val_r2_keras_custom: 0.9353\n",
            "Epoch 16/1000\n",
            "13/13 [==============================] - 0s 6ms/step - loss: 0.0029 - r2_keras_custom: 0.9216 - val_loss: 0.0040 - val_r2_keras_custom: 0.9269\n",
            "Epoch 17/1000\n",
            "13/13 [==============================] - 0s 8ms/step - loss: 0.0028 - r2_keras_custom: 0.9289 - val_loss: 0.0042 - val_r2_keras_custom: 0.9214\n",
            "Epoch 18/1000\n",
            "13/13 [==============================] - 0s 6ms/step - loss: 0.0035 - r2_keras_custom: 0.9073 - val_loss: 0.0043 - val_r2_keras_custom: 0.9219\n",
            "Epoch 19/1000\n",
            "13/13 [==============================] - 0s 6ms/step - loss: 0.0028 - r2_keras_custom: 0.9317 - val_loss: 0.0034 - val_r2_keras_custom: 0.9395\n",
            "Epoch 20/1000\n",
            "13/13 [==============================] - 0s 6ms/step - loss: 0.0026 - r2_keras_custom: 0.9312 - val_loss: 0.0044 - val_r2_keras_custom: 0.9161\n",
            "Epoch 21/1000\n",
            "13/13 [==============================] - 0s 6ms/step - loss: 0.0027 - r2_keras_custom: 0.9310 - val_loss: 0.0034 - val_r2_keras_custom: 0.9403\n",
            "Epoch 22/1000\n",
            "13/13 [==============================] - 0s 6ms/step - loss: 0.0027 - r2_keras_custom: 0.9261 - val_loss: 0.0045 - val_r2_keras_custom: 0.9170\n",
            "Epoch 23/1000\n",
            "13/13 [==============================] - 0s 6ms/step - loss: 0.0028 - r2_keras_custom: 0.9217 - val_loss: 0.0032 - val_r2_keras_custom: 0.9433\n",
            "Epoch 24/1000\n",
            "13/13 [==============================] - 0s 6ms/step - loss: 0.0028 - r2_keras_custom: 0.9270 - val_loss: 0.0030 - val_r2_keras_custom: 0.9482\n",
            "Epoch 25/1000\n",
            "13/13 [==============================] - 0s 6ms/step - loss: 0.0030 - r2_keras_custom: 0.9210 - val_loss: 0.0030 - val_r2_keras_custom: 0.9476\n",
            "Epoch 26/1000\n",
            "13/13 [==============================] - 0s 6ms/step - loss: 0.0024 - r2_keras_custom: 0.9372 - val_loss: 0.0029 - val_r2_keras_custom: 0.9492\n",
            "Epoch 27/1000\n",
            "13/13 [==============================] - 0s 6ms/step - loss: 0.0024 - r2_keras_custom: 0.9339 - val_loss: 0.0031 - val_r2_keras_custom: 0.9448\n",
            "Epoch 28/1000\n",
            "13/13 [==============================] - 0s 6ms/step - loss: 0.0027 - r2_keras_custom: 0.9310 - val_loss: 0.0030 - val_r2_keras_custom: 0.9460\n",
            "Epoch 29/1000\n",
            "13/13 [==============================] - 0s 6ms/step - loss: 0.0024 - r2_keras_custom: 0.9332 - val_loss: 0.0030 - val_r2_keras_custom: 0.9468\n",
            "Epoch 30/1000\n",
            "13/13 [==============================] - 0s 6ms/step - loss: 0.0027 - r2_keras_custom: 0.9272 - val_loss: 0.0036 - val_r2_keras_custom: 0.9345\n",
            "Epoch 31/1000\n",
            "13/13 [==============================] - 0s 6ms/step - loss: 0.0031 - r2_keras_custom: 0.9178 - val_loss: 0.0037 - val_r2_keras_custom: 0.9323\n",
            "Epoch 32/1000\n",
            "13/13 [==============================] - 0s 6ms/step - loss: 0.0022 - r2_keras_custom: 0.9456 - val_loss: 0.0031 - val_r2_keras_custom: 0.9454\n",
            "Epoch 33/1000\n",
            "13/13 [==============================] - 0s 7ms/step - loss: 0.0022 - r2_keras_custom: 0.9388 - val_loss: 0.0026 - val_r2_keras_custom: 0.9542\n"
          ],
          "name": "stdout"
        }
      ]
    },
    {
      "cell_type": "code",
      "metadata": {
        "id": "sLhc7rK-4eAl"
      },
      "source": [
        "import matplotlib.pyplot as plt"
      ],
      "execution_count": 24,
      "outputs": []
    },
    {
      "cell_type": "code",
      "metadata": {
        "colab": {
          "base_uri": "https://localhost:8080/",
          "height": 282
        },
        "id": "jhrdsGzynwMa",
        "outputId": "99830fd3-6dc3-4af5-f4cb-88bb21f75b7c"
      },
      "source": [
        "plt.plot(history.history['r2_keras_custom'],color='orange')\r\n",
        "plt.plot(history.history['val_r2_keras_custom'], color ='green')\r\n",
        "plt.legend(['Train Error','Test Error'])"
      ],
      "execution_count": 37,
      "outputs": [
        {
          "output_type": "execute_result",
          "data": {
            "text/plain": [
              "<matplotlib.legend.Legend at 0x7f05004cc7b8>"
            ]
          },
          "metadata": {
            "tags": []
          },
          "execution_count": 37
        },
        {
          "output_type": "display_data",
          "data": {
            "image/png": "[encoded data removed]",
            "text/plain": [
              "<Figure size 432x288 with 1 Axes>"
            ]
          },
          "metadata": {
            "tags": [],
            "needs_background": "light"
          }
        }
      ]
    },
    {
      "cell_type": "code",
      "metadata": {
        "id": "6lUM4kysnnjl"
      },
      "source": [
        ""
      ],
      "execution_count": 25,
      "outputs": []
    },
    {
      "cell_type": "code",
      "metadata": {
        "id": "HDXiKzIcndgC"
      },
      "source": [
        ""
      ],
      "execution_count": 25,
      "outputs": []
    },
    {
      "cell_type": "code",
      "metadata": {
        "id": "0betIOksnaPu"
      },
      "source": [
        ""
      ],
      "execution_count": 25,
      "outputs": []
    },
    {
      "cell_type": "code",
      "metadata": {
        "id": "woDmvTitnT_Z"
      },
      "source": [
        ""
      ],
      "execution_count": 25,
      "outputs": []
    },
    {
      "cell_type": "code",
      "metadata": {
        "id": "x1Dxez8wnINt"
      },
      "source": [
        ""
      ],
      "execution_count": 25,
      "outputs": []
    },
    {
      "cell_type": "code",
      "metadata": {
        "id": "XzAV3fgTnAsy"
      },
      "source": [
        ""
      ],
      "execution_count": 25,
      "outputs": []
    },
    {
      "cell_type": "code",
      "metadata": {
        "id": "cichIEMwmwl6"
      },
      "source": [
        ""
      ],
      "execution_count": 25,
      "outputs": []
    },
    {
      "cell_type": "code",
      "metadata": {
        "id": "2_y8DjURlciw"
      },
      "source": [
        ""
      ],
      "execution_count": 25,
      "outputs": []
    },
    {
      "cell_type": "code",
      "metadata": {
        "id": "1cSCkn-YlRAy"
      },
      "source": [
        ""
      ],
      "execution_count": 25,
      "outputs": []
    },
    {
      "cell_type": "code",
      "metadata": {
        "id": "XWn1S7uwk4Vi"
      },
      "source": [
        ""
      ],
      "execution_count": 25,
      "outputs": []
    },
    {
      "cell_type": "code",
      "metadata": {
        "id": "WHqtADn8kr8f"
      },
      "source": [
        ""
      ],
      "execution_count": 25,
      "outputs": []
    },
    {
      "cell_type": "code",
      "metadata": {
        "id": "H6vaiun3kpiN"
      },
      "source": [
        ""
      ],
      "execution_count": 25,
      "outputs": []
    },
    {
      "cell_type": "code",
      "metadata": {
        "id": "ONUGNX1Tkn7g"
      },
      "source": [
        ""
      ],
      "execution_count": 25,
      "outputs": []
    },
    {
      "cell_type": "code",
      "metadata": {
        "id": "pT16jCCUjcjG"
      },
      "source": [
        ""
      ],
      "execution_count": 25,
      "outputs": []
    },
    {
      "cell_type": "code",
      "metadata": {
        "id": "Y3XLEnlEjQ7B"
      },
      "source": [
        ""
      ],
      "execution_count": 25,
      "outputs": []
    },
    {
      "cell_type": "code",
      "metadata": {
        "id": "Gq1re5VphWQp"
      },
      "source": [
        ""
      ],
      "execution_count": 25,
      "outputs": []
    },
    {
      "cell_type": "code",
      "metadata": {
        "id": "QBTqwyLEf7FZ"
      },
      "source": [
        ""
      ],
      "execution_count": 25,
      "outputs": []
    },
    {
      "cell_type": "code",
      "metadata": {
        "id": "i1CaEK1Vf4Mv"
      },
      "source": [
        ""
      ],
      "execution_count": 25,
      "outputs": []
    },
    {
      "cell_type": "code",
      "metadata": {
        "id": "q-PSt60-eoyH"
      },
      "source": [
        ""
      ],
      "execution_count": 25,
      "outputs": []
    }
  ]
}